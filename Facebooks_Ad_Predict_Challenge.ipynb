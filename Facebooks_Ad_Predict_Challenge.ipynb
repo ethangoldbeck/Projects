{
  "nbformat": 4,
  "nbformat_minor": 0,
  "metadata": {
    "colab": {
      "name": "Facebooks Ad Predict Challenge.ipynb",
      "provenance": [],
      "collapsed_sections": [],
      "include_colab_link": true
    },
    "kernelspec": {
      "name": "python3",
      "display_name": "Python 3"
    }
  },
  "cells": [
    {
      "cell_type": "markdown",
      "metadata": {
        "id": "view-in-github",
        "colab_type": "text"
      },
      "source": [
        "<a href=\"https://colab.research.google.com/github/ethangoldbeck/grit-hub/blob/master/Facebooks_Ad_Predict_Challenge.ipynb\" target=\"_parent\"><img src=\"https://colab.research.google.com/assets/colab-badge.svg\" alt=\"Open In Colab\"/></a>"
      ]
    },
    {
      "cell_type": "code",
      "metadata": {
        "id": "YgBGukN2u-aw",
        "colab_type": "code",
        "outputId": "26ffcd71-9798-4abe-cdec-69a993b52d7d",
        "colab": {
          "base_uri": "https://localhost:8080/",
          "height": 34
        }
      },
      "source": [
        "import pandas as pd\n",
        "from sklearn.model_selection import train_test_split\n",
        "from sklearn.linear_model import LassoLarsCV\n",
        "from google.colab import drive\n",
        "drive.mount('/content/drive')\n",
        "from sklearn.metrics import mean_squared_error"
      ],
      "execution_count": 0,
      "outputs": [
        {
          "output_type": "stream",
          "text": [
            "Drive already mounted at /content/drive; to attempt to forcibly remount, call drive.mount(\"/content/drive\", force_remount=True).\n"
          ],
          "name": "stdout"
        }
      ]
    },
    {
      "cell_type": "markdown",
      "metadata": {
        "id": "SMr53xxUkQPU",
        "colab_type": "text"
      },
      "source": [
        "###**Data Cleaning**\n"
      ]
    },
    {
      "cell_type": "code",
      "metadata": {
        "id": "5t3O5GDdv_SL",
        "colab_type": "code",
        "colab": {}
      },
      "source": [
        "fulldata = pd.read_csv('drive/My Drive/Colab Notebooks/rusdata_new_long.csv', encoding='latin1')\n",
        "##Data Loading"
      ],
      "execution_count": 0,
      "outputs": []
    },
    {
      "cell_type": "code",
      "metadata": {
        "id": "aOR0dO9XraEd",
        "colab_type": "code",
        "colab": {}
      },
      "source": [
        "mydata = fulldata.drop(['e_day', 'impress',\t'ctr', 'enddate',\t'clength',\t'campaignlength_old_dontuse'\t], axis=1)\n",
        "##Dropping unused columns"
      ],
      "execution_count": 0,
      "outputs": []
    },
    {
      "cell_type": "code",
      "metadata": {
        "id": "Val-7Gs6s8-b",
        "colab_type": "code",
        "colab": {}
      },
      "source": [
        "mydata = mydata.drop(fulldata.columns[0], axis=1)\n",
        "#Dropping another unused column"
      ],
      "execution_count": 0,
      "outputs": []
    },
    {
      "cell_type": "code",
      "metadata": {
        "id": "rSIDyjylt2uO",
        "colab_type": "code",
        "colab": {}
      },
      "source": [
        "fulldata = mydata[mydata['spend']!= 0]\n",
        "## Deletes rows that have a spend of 0 - These are not the droids (rows) we are looking for"
      ],
      "execution_count": 0,
      "outputs": []
    },
    {
      "cell_type": "markdown",
      "metadata": {
        "id": "r3Z1IHt5k7bW",
        "colab_type": "text"
      },
      "source": [
        "###**Column** **Analysis** \n",
        "Sample of types of code used for coulm analysis - full code/executed code was too long\n",
        "\n",
        "\n"
      ]
    },
    {
      "cell_type": "code",
      "metadata": {
        "id": "JVC53txXbL4Z",
        "colab_type": "code",
        "colab": {}
      },
      "source": [
        "cols = sorted(fulldata.columns.tolist()[::])\n",
        "## Creates list of all columns"
      ],
      "execution_count": 0,
      "outputs": []
    },
    {
      "cell_type": "code",
      "metadata": {
        "id": "ogKftz0H19YY",
        "colab_type": "code",
        "colab": {}
      },
      "source": [
        "topclickrows = []\n",
        "for x in range(49,2602):\n",
        "  if(fulldata['clicks'][x] > 10000):\n",
        "    topclickrows.append(x)\n",
        "\n",
        "#Produces the rows with very high clicks\n",
        "    "
      ],
      "execution_count": 0,
      "outputs": []
    },
    {
      "cell_type": "code",
      "metadata": {
        "id": "Rhuudqk1bc8p",
        "colab_type": "code",
        "colab": {}
      },
      "source": [
        "for x in range(0,1400):\n",
        "  print(cols[x])\n",
        "  print(fulldata[cols].iloc[:,x].sum())\n",
        "\n",
        "#prints each column and the number of times it is a 1 (all are binary)"
      ],
      "execution_count": 0,
      "outputs": []
    },
    {
      "cell_type": "markdown",
      "metadata": {
        "id": "SsJc59QAklXx",
        "colab_type": "text"
      },
      "source": [
        "###**Column** **Grouping**\n"
      ]
    },
    {
      "cell_type": "code",
      "metadata": {
        "id": "p9QGyZPkrgSl",
        "colab_type": "code",
        "colab": {}
      },
      "source": [
        "##All US target location columns\n",
        "ustargetlocations = ['United States:.WilmingtonDelaware',\n",
        " 'United States:.Washington(+50mi)DistrictofColumbiaExclude',\n",
        " 'United States:.Washington(+50mi)DistrictofColumbiaConnections:PeoplewholikeUnitedMuslimsofAmerica',\n",
        " 'United States:.Washington(+50mi)DistrictofColumbia',\n",
        " 'United States:.Washington(+40km)DistrictofColumbia',\n",
        " 'United States:.Washington',\n",
        " 'United States:.Waco(+39mi)TexasConnections:PeoplewholikeHeartofTexas',\n",
        " 'United States:.Virginia;WestVirginia',\n",
        " 'United States:.Tyler(+35mi)',\n",
        " 'United States:.TexasConnections:PeoplewholikeHeartofTexas',\n",
        " 'United States:.TexasCity(+35mi)',\n",
        " 'United States:.Texas',\n",
        " 'United States:.Tennessee',\n",
        " 'United States:.Temple(+35mi)',\n",
        " 'United States:.Tampa(+25mi)Florida',\n",
        " 'United States:.StatenIslandNewYork',\n",
        " 'United States:.St.LouisMissouri;ClevelandOhio',\n",
        " 'United States:.St.LouisMissouri:ClevelandOhio',\n",
        " 'United States:.St.LouisMissouri',\n",
        " 'United States:.St.Louis(+50mi)Missouri;Milwaukee(+25mi)Wisconsin',\n",
        " 'United States:.St.Louis(+25mi)Missouri;Philadelphia(+25mi)Pennsylvania;Milwaukee(+25mi)Wisconsin',\n",
        " 'United States:.St.Louis(+20km)Missouri;Virginia',\n",
        " 'United States:.SouthPlains(+36mi)',\n",
        " 'United States:.SouthCarolina',\n",
        " 'United States:.ScrantonPennsylvania',\n",
        " 'United States:.SanFrancisco(+40km)California',\n",
        " 'United States:.SanFrancisco(+25mi)California;Madison(+25mi)Wisconsin',\n",
        " 'United States:.SanFrancisco(+25mi)California',\n",
        " 'United States:.SanAntonio(+28mi)',\n",
        " 'United States:.SanAngelo(+39mi)',\n",
        " 'United States:.Rochester(+50mi)NewYork',\n",
        " 'United States:.PittsburghPennsylvania',\n",
        " 'United States:.Pittsburgh',\n",
        " 'United States:.Philadelphia',\n",
        " 'United States:.Pennsylvania',\n",
        " 'United States:.PaloAlto(+10mi)California',\n",
        " 'United States:.Orlando(+50mi)Florida',\n",
        " 'United States:.Orlando(+25mi)Florida',\n",
        " 'United States:.Oklahoma;Texas',\n",
        " 'United States:.Ohio;Tennessee;Virginia',\n",
        " 'United States:.Ohio;Pennsylvania:RhodeIsland:Vermont',\n",
        " 'United States:.Odessa(+33mi)',\n",
        " 'United States:.OaklandCalifornia',\n",
        " 'United States:.Oakland(+50mi)Maryland;Ferguson(+50mi)',\n",
        " 'United States:.Oakland(+25mi)California;Atlanta(+25mi)Georgia;NewOrleans(+25mi)Louisiana;Baltimore(+25mi)Maryland;Ferguson(+25mi)',\n",
        " 'United States:.Oakland(+25mi)California;Atlanta(+25mi)Georgia;BatonRouge(+25mi)',\n",
        " 'United States:.Newark(+25mi)NewJersey;Cleveland(+25mi)Ohio;Chester(+25mi)Pennsylvania',\n",
        " 'United States:.NewYorkNewYorkConnections:PeoplewholikeBM',\n",
        " 'United States:.NewYorkNewYork',\n",
        " 'United States:.NewYork(+50mi)NewYorkConnections:PeoplewholikeUnitedMuslimsofAmerica',\n",
        " 'United States:.NewYork(+50mi)NewYorkConnections:PeoplewholikeBeingPatriotic',\n",
        " 'United States:.NewYork(+50mi)NewYorkConnections:PeoplewholikeBM',\n",
        " 'United States:.NewYork(+50mi)NewYork',\n",
        " 'United States:.NewYork(+40km)NewYork',\n",
        " 'United States:.NewYork(+37mi)NewYork',\n",
        " 'United States:.NewYork(+25mi)NewYork',\n",
        " 'United States:.NewYork(+20km)NewYork',\n",
        " 'United States:.NewYork(+10mi)NewYork',\n",
        " 'United States:.NewYork',\n",
        " 'United States:.NewOrleans(+50mi)Louisiana',\n",
        " 'United States:.NewOrleans(+40km)Louisiana',\n",
        " 'United States:.NewOrleans(+25mi)Louisiana;Baltimore(+25mi)Maryland;St.Louis(+25mi)Missouri;Camden(+25mi)',\n",
        " 'United States:.New',\n",
        " 'United States:.Minnesota',\n",
        " 'United States:.Minneapolis(+50mi)Minnesota',\n",
        " 'United States:.Minneapolis(+25mi)Minnesota',\n",
        " 'United States:.Michigan:NewJersey;NewYork;Texas;Virginia',\n",
        " 'United States:.Michigan',\n",
        " 'United States:.Massachusetts',\n",
        " 'United States:.Maryland',\n",
        " 'United States:.Lubbock(+32mi)',\n",
        " 'United States:.Louisiana:Minnesota',\n",
        " 'United States:.Louisiana',\n",
        " 'United States:.LosAngeles(+50mi)California',\n",
        " 'United States:.LosAngeles(+40km)California',\n",
        " 'United States:.LosAngeles(+25mi)California',\n",
        " 'United States:.LongBeach(+25mi)California',\n",
        " 'United States:.Latitude42.01Longitude-87.91DesPlaines(+16km)',\n",
        " 'United States:.Latitude41.88Longitude-88.11Wheaton(+16km)Illinois;Ferguson(+40km)Missouri',\n",
        " 'United States:.Latitude41.88Longitude-87.71Chicago(+16km)',\n",
        " 'United States:.Latitude41.69Longitude-88.19Naperville(+16km)',\n",
        " 'United States:.Latitude40.73Longitude-73.99NewYork(+42km)NewYork',\n",
        " 'United States:.Latitude38.89Longitude-77.03Washington(+16km)DistrictofColumbia;Gallup(+40km)New',\n",
        " 'United States:.Lansing(+25mi)Michigan',\n",
        " 'United States:.Lancaster(+25mi)',\n",
        " 'United States:.Kansas',\n",
        " 'United States:.Jackson(+20km)Mississippi',\n",
        " 'United States:.Jackson(+17km)Mississippi',\n",
        " 'United States:.Illinois',\n",
        " 'United States:.Idaho',\n",
        " 'United States:.Houston(+50mi)Texas',\n",
        " 'United States:.Houston(+40km)Texas;Richmond(+40km)Virginia',\n",
        " 'United States:.Houston(+34mi)',\n",
        " 'United States:.Houston(+10mi)Texas',\n",
        " 'United States:.Harrisburg',\n",
        " 'United States:.Glendale(+10mi)Arizona',\n",
        " 'United States:.Georgia',\n",
        " 'United States:.Gainesville(+25mi)Florida',\n",
        " 'United States:.FortWorth(+33mi)',\n",
        " 'United States:.Florida:Georgia;NewYork',\n",
        " 'United States:.Florida',\n",
        " 'United States:.Ferguson(+40km)Missouri',\n",
        " 'United States:.Erie',\n",
        " 'United States:.DetroitMichigan',\n",
        " 'United States:.Detroit(+70km)Michigan',\n",
        " 'United States:.Detroit(+50mi)Michigan',\n",
        " 'United States:.Detroit(+40km)Michigan',\n",
        " 'United States:.Detroit(+35mi)Michigan',\n",
        " 'United States:.Detroit(+20km)Michigan',\n",
        " 'United States:.Dallas(+33mi)',\n",
        " 'United States:.CorpusChristi(+31mi)',\n",
        " 'United States:.Conroe(+31mi)',\n",
        " 'United States:.Connecticut;Maryland;Massachusetts;NewJersey;NewYork;Pennsylvania;Vermont',\n",
        " 'United States:.Connecticut:Delaware;Maine:Maryland;Massachusetts.Ferguson(+40km)Missouri;VirginiaCity(+40km)Nevada;NewHampshire;NewJersey',\n",
        " 'United States:.ClevelandOhio',\n",
        " 'United States:.Cleveland(+50mi)Ohio',\n",
        " 'United States:.Cleveland(+50km)Ohio',\n",
        " 'United States:.Cleveland(+34mi)Ohio',\n",
        " 'United States:.Cleveland(+25mi)Ohio',\n",
        " 'United States:.ChicagoHeights(+40km)',\n",
        " 'United States:.Chicago(+40km)Illinois;BatonRouge(+40km)Louisiana;Baltimore(+40km)Maryland;Cleveland(+40km)Ohio',\n",
        " 'United States:.Chicago(+40km)Illinois',\n",
        " 'United States:.Chicago(+10mi)Illinois',\n",
        " 'United States:.Chester(+20km)Arkansas;Washington(+20km)DistrictofColumbia;Atlanta(+20km)Georgia;NewOrleans(+20km)Louisiana;Baltimore(+20km)Maryland;St.Louis(+20km)Missouri;Cleveland(+20km)Ohio;Philadelphia(+20km)Pennsylvania;Memphis(+20km)Tennessee;Richmond(+20km)Virginia;Milwaukee(+20km)Wisconsin',\n",
        " 'United States:.Charlotte(+25mi)NorthCarolinaConnections:PeoplewholikeBM',\n",
        " 'United States:.Charlotte(+25mi)NorthCarolina',\n",
        " 'United States:.Charleston(+70km)SouthCarolina',\n",
        " 'United States:.California;Illinois',\n",
        " 'United States:.California;Florida;Illinois;Michigan;NewJersey;NewYork;Texas;Virginia',\n",
        " 'United States:.California;Florida:Illinois',\n",
        " 'United States:.California.Illinois',\n",
        " 'United States:.Buffalo(+50mi)NewYork',\n",
        " 'United States:.Buffalo(+14mi)NewYork',\n",
        " 'United States:.Buffalo(+12mi)NewYork',\n",
        " 'United States:.Buffalo(+10mi)NewYork',\n",
        " 'United States:.Bryan(+33mi)',\n",
        " 'United States:.Brownwood(+32mi)',\n",
        " 'United States:.Beaumont(+31mi)',\n",
        " 'United States:.BaltimoreMaryland;Ferguson',\n",
        " 'United States:.BaltimoreMaryland:Ferguson',\n",
        " 'United States:.Baltimore(+50mi)Maryland',\n",
        " 'United States:.Baltimore(+40km)Maryland',\n",
        " 'United States:.Baltimore(+25mi)Maryland',\n",
        " 'United States:.Baltimore(+20km)Maryland;St.Louis(+20km)Missouri',\n",
        " 'United States:.Baltimore(+17km)Maryland',\n",
        " 'United States:.Austin(+35mi)',\n",
        " 'United States:.Austin(+10mi)Texas',\n",
        " 'United States:.AtlantaGeorgia',\n",
        " 'United States:.Atlanta(+50mi)Georgia',\n",
        " 'United States:.Atlanta(+50km)Georgia',\n",
        " 'United States:.Atlanta(+40km)Georgia;New',\n",
        " 'United States:.Atlanta(+40km)Georgia;BatonRouge(+40km)Louisiana;Austin(+40km)',\n",
        " 'United States:.Atlanta(+25mi)Georgia;NewOrleans(+50mi)Louisiana;Baltimore(+50mi)',\n",
        " 'United States:.Atlanta(+25mi)Georgia;NewOrleans(+25mi)Louisiana;Baltimore(+25mi)Maryland;St.Louis(+25mi)Missouri;Cleveland(+25mi)Ohio',\n",
        " 'United States:.Atlanta(+25mi)Georgia',\n",
        " 'United States:.Atlanta(+20km)Georgia;Maryland;St.Louis(+20km)Missouri;Virginia',\n",
        " 'United States:.Atlanta(+20km)Georgia;Maryland;Ferguson(+20km)',\n",
        " 'United States:.Atlanta(+20km)Georgia;Baltimore(+20km)Maryland;St.Louis(+50km)Missouri;Richmond(+20km)Virginia',\n",
        " 'United States:.Atlanta(+20km)Georgia',\n",
        " 'United States:.Astoria(+50mi)NewYork',\n",
        " 'United States:.Astoria(+25mi)NewYork',\n",
        " 'United States:.Amarillo(+30mi)',\n",
        " 'United States:.Allentown',\n",
        " 'United States:.Alabama;Georgia;New',\n",
        " 'United States:.Alabama;Florida;Georgia;Mississippi;SouthCarolina',\n",
        " 'United States:.Alabama;Florida;Georgia;Illinois;Louisiana;Mississippi;NewYork;SouthCarolina;Virginia',\n",
        " 'United States:.Alabama;Arkansas;Georgia;Illinois;Iowa;Louisiana;Minnesota;Mississippi;Nebraska;Wisconsin',\n",
        " 'United States:.Alabama;Arkansas;Florida;Georgia;Louisiana;Mississippi;NorthCarolina;SouthCarolina;Tennessee;Texas;Virginia',\n",
        " 'United States:.Alabama;Arizona;California;Florida;Mississippi;New',\n",
        " 'United States:.Alabama;Arizona;California;Florida;Georgia;Mississippi;New',\n",
        " 'United States:.Abilene(+30mi)']\n"
      ],
      "execution_count": 0,
      "outputs": []
    },
    {
      "cell_type": "code",
      "metadata": {
        "id": "iogZ3Gv-qQYG",
        "colab_type": "code",
        "colab": {}
      },
      "source": [
        "##All black interest columns\n",
        "blackint = ['Interests:.Black(Color)',\n",
        " 'Interests:.BlackArtsMovement',\n",
        " 'Interests:.BlackArtsMovement.FightthePower',\n",
        " 'Interests:.BlackBusinessBuildersClub',\n",
        " 'Interests:.BlackBusinessWorks',\n",
        " 'Interests:.BlackConsciousnessMovement',\n",
        " 'Interests:.BlackConsciousnessMovement.MartinLutherKingIII',\n",
        " 'Interests:.BlackDresses',\n",
        " 'Interests:.BlackEconomicEmpowerment',\n",
        " 'Interests:.BlackEnterprise',\n",
        " 'Interests:.BlackEnterpriseBusinessReport',\n",
        " 'Interests:.BlackGirlsRock!',\n",
        " 'Interests:.BlackGirlsRock!RedactionsCompletedattheDirectionofRankingMemberoftheUSHousePermanentSelectCommitteeonIntelligenceP(1)0000842\\x0cAdImpressions1',\n",
        " 'Interests:.BlackHistoryMonth',\n",
        " 'Interests:.BlackKnowledge',\n",
        " 'Interests:.BlackNews.com',\n",
        " 'Interests:.BlackOwnedBusinessNetwork',\n",
        " 'Interests:.BlackPantherParty',\n",
        " 'Interests:.BlackPantherParty..SlaverybyAnotherName',\n",
        " 'Interests:.BlackPower',\n",
        " 'Interests:.BlackPower..FightthePower',\n",
        " 'Interests:.BlackPower.Racialequality',\n",
        " 'Interests:.BlackTeaPatriots',\n",
        " 'Interests:.BlackWomenAreBeautiful',\n",
        " 'Interests:.Blackchurch',\n",
        " 'Interests:.Blackhistory',\n",
        " 'Interests:.Blackhistory.AfricanAmericanCivilRightsMovement(1954-68)',\n",
        " 'Interests:.Blackhistory.BlackPantherParty',\n",
        " 'Interests:.Blackisbeautiful',\n",
        " 'Interests:.Blacknationalism',\n",
        " 'Interests:.Blacknationalism;Pan-Africanism.Policemisconduct',\n",
        " 'Interests:.Blackpanther',\n",
        " 'Affinity:.AfricanAmerican(US)','Behaviors:.AfricanAmerican(US)',\n",
        " 'Behaviors:.AfricanAmerican(US)orAsianAmerican(US)', 'Facebook access (mobile):.AfricanAmerican(US)','Field of study:.African-Americanhistory',\n",
        " 'Field of study:.AfricanAmericanhistory', 'Friends of connections:.FriendsofpeoplewhoareconnectedtoBM', 'Friends of connections:.FriendsofpeoplewhoareconnectedtoBlackMatters',\n",
        " 'Friends of connections:.FriendsofpeoplewhoareconnectedtoBlacktivist', 'Interests:..BlackPantherParty', 'Interests:.African-AmericanCivilRightsMovement(1954--68)',\n",
        " 'Interests:.African-AmericanCivilRightsMovement(1954-68)',\n",
        " 'Interests:.African-AmericanCivilRightsMovement(1954-68).African-Americanhistory',\n",
        " 'Interests:.African-AmericanCivilRightsMovement(1954-68).African-Americanhistory.BlackConsciousnessMovement',\n",
        " 'Interests:.African-AmericanCivilRightsMovement(1954-68);African-Americanhistory.PolicebrutalityintheUnitedStates',\n",
        " 'Interests:.African-AmericanCivilRightsMovement(1954-68);African-Americanhistory;BlackConsciousnessMovement',\n",
        " 'Interests:.African-Americanculture',\n",
        " 'Interests:.African-Americanhistory',\n",
        " 'Interests:.African-Americanhistory.AngelaDavis',\n",
        " 'Interests:.African-Americanhistory.MalcolmX',\n",
        " 'Interests:.African-Americanhistory.MalcolmX.Black(Color)',\n",
        " 'Interests:.African-Americanhistory.SyriaNews',\n",
        " 'Interests:.African-Americanliterature',\n",
        " 'Interests:.African-Americanmusic',\n",
        " 'Interests:.AfricanAmerican',\n",
        " 'Interests:.AfricanAmericanCivilRightsMovement(1954-68)',\n",
        " 'Interests:.AfricanAmericanMuseuminPhiladelphia',\n",
        " 'Interests:.AfricanAmericanculture',\n",
        " 'Interests:.AfricanAmericanculture.African-AmericanCivilRightsMovement(1954-68)',\n",
        " 'Interests:.AfricanAmericanhistory',\n",
        " 'Interests:.AfricanAmericanhistory.SayToNoRacism',\n",
        " 'Interests:.AfricanAmericanhistory;BlackConsciousnessMovement;MartinLutherKingIII',\n",
        " 'Interests:.AfricanAmericanhistory;SayToNoRacism',\n",
        " 'Interests:.AfricanMethodistEpiscopalChurch',\n",
        " 'Interests:.AfricanMethodistEpiscopalZionChurch',\n",
        " 'Interests:.AfricanNationalCongress',\n",
        " 'Interests:.Africanculture',\n",
        " 'Interests:.Afro-Americanreligion',\n",
        " 'Interests:.Afrocentriceducation',\n",
        " 'Interests:.Afrocentrism', 'Interests:.AmericanBlackFilmFestival', 'Interests:.BEINGBLACK!!!',\n",
        " 'Interests:.BLACKBUSINESSGLOBAL',\n",
        " 'Interests:.BLACKMODELS&FASHION', 'Interests:.BarackObama', 'Interests:.EndSlaveryNow', 'Interests:.Jr.',\n",
        " 'Interests:.Jr..BlackPower',\n",
        " 'Interests:.Jr..StopRacism!!.AfricanAmericanculture.African-AmericanCivilRightsMovement(1954-68)',\n",
        " 'Interests:.Jr..StopRacism!:.AfricanAmericanculture.African-AmericanCivilRightsMovement(1954-68)',\n",
        " 'Interests:.Jr.;African-AmericanCivilRightsMovement(1954-68)',\n",
        " 'Interests:.Jr.;African-AmericanCivilRightsMovement(1954-68).African-Americanhistory',\n",
        " 'Interests:.Jr.;African-Americanculture',\n",
        " 'Interests:.Jr.;BlackPower',\n",
        " 'Interests:.Jr.;MyBlackisBeautiful.Blackisbeautiful',\n",
        " 'Interests:.Jr.;StopRacism!:.AfricanAmericanculture.African-AmericanCivilRightsMovement(1954-68)', 'Interests:.MalcolmX',\n",
        " 'Interests:.MalcolmX(EI-HajjMalikEI-Shabazz)',\n",
        " 'Interests:.MalcolmX(EI-HajjMalikEI-Shabazz).Afrocentriceducation',\n",
        " 'Interests:.MalcolmX.',\n",
        " 'Interests:.MalcolmXGrassrootsMovement',\n",
        " 'Interests:.MalcolmXMemorialFoundation',\n",
        " 'Interests:.MalcolmXRedactionsCompletedattheDirectionofRankingMemberoftheUSHousePermanentSelectCommitteeonIntelligenceP(1)0005753\\x0c',\n",
        "  'Interests:.MartinLuther',\n",
        " 'Interests:.MartinLutherKing',\n",
        " 'Interests:.MartinLutherKing.Jr.African-AmericanCivilRightsMovement(1954-68).African-Americanhistory',\n",
        " 'Interests:.MartinLutherKing.Jr.African-AmericanCivilRightsMovement(1954-68).African-Americanhistory;MalcolmX',\n",
        " 'Interests:.MartinLutherKing.Jr.Blackhistory.AfricanAmericanCivilRightsMovement(1954-68)',\n",
        " 'Interests:.MartinLutherKing.Jr.StopRacism!!.AfricanAmericanculture',\n",
        " 'Interests:.MartinLutherKing111',\n",
        " 'Interests:.MartinLutherKing;Jr.',\n",
        " 'Interests:.MartinLutherKingIII',\n",
        " 'Interests:.MartinLutherKingIll',\n",
        " 'Interests:.MayaAngelou',\n",
        " 'Interests:.MayaAngelou.MumiaAbu-Jamal', 'Interests:.MyBlackisBeautiful',\n",
        " 'Interests:.MyBlackisBeautiful..African-AmericanCivilRightsMovement(1954-68).Blackisbeautiful',\n",
        " 'Interests:.MyBlackisBeautiful.African-AmericanCivilRightsMovement(1954-68)', 'Interests:.NelsonMandela',\n",
        " 'Interests:.NelsonMandela.Justice',\n",
        " 'Interests:.NewBlackPantherParty', 'Interests:.Policemisconduct;African-Americanculture;African-AmericanCivilRightsMovement(1954-68)', 'Interests:.TrayvonMartin',\n",
        " 'People Who Match:.Blackhistory.AfricanAmericanculture.African-AmericanCivilRightsMovement(1954-68)',\n",
        " 'People Who Match:.Blackhistory.AfricanAmericanCivilRightsMovement(1954-68)',\n",
        " 'People Who Match:.BlackPower',\n",
        " 'People Who Match:.BlackPantherParty',\n",
        " 'People Who Match:.BlackConsciousnessMovement.MartinLutherKingIII',\n",
        " 'People Who Match:.Black(Color)',\n",
        " 'People Who Match:.AfricanAmericanhistory;MalcolmX',\n",
        " 'People Who Match:.AfricanAmericanCivilRightsMovement(1954-68)',\n",
        " 'People Who Match:.African-Americanhistory.MalcolmX',\n",
        " 'People Who Match:.African-Americanhistory.AngelaDavis;MalcolmX',\n",
        " 'People Who Match:.African-Americanhistory',\n",
        " 'People Who Match:.African-AmericanCivilRightsMovement(1954-68).African-Americanhistory',\n",
        " 'People Who Match:.African-AmericanCivilRightsMovement(1954-68)', 'People Who Match:.InterestsBlacknationalism',\n",
        " 'People Who Match:.InterestsBlackPower.Racialequality', 'People Who Match:.InterestsHuffPostBlackVoices', 'People Who Match:.PeoplewholikeBlacktivist',\n",
        " 'People Who Match:.PeoplewholikeBlackMatters.',\n",
        " 'People Who Match:.PeoplewholikeBlackMatters', 'People Who Match:.MalcolmX']"
      ],
      "execution_count": 0,
      "outputs": []
    },
    {
      "cell_type": "code",
      "metadata": {
        "id": "bloMXhGgZ6XJ",
        "colab_type": "code",
        "colab": {}
      },
      "source": [
        "##All age targeting columns\n",
        "\n",
        "ageset = ['Age:.13-27',\n",
        " 'Age:.13-30',\n",
        " 'Age:.13-35',\n",
        " 'Age:.13-40',\n",
        " 'Age:.13-42',\n",
        " 'Age:.13-44',\n",
        " 'Age:.13-45',\n",
        " 'Age:.13-50',\n",
        " 'Age:.13-55',\n",
        " 'Age:.13-60',\n",
        " 'Age:.13-65+',\n",
        " 'Age:.14-17',\n",
        " 'Age:.14-36',\n",
        " 'Age:.14-40',\n",
        " 'Age:.14-50',\n",
        " 'Age:.14-54',\n",
        " 'Age:.14-65+',\n",
        " 'Age:.15-25',\n",
        " 'Age:.15-26',\n",
        " 'Age:.15-30',\n",
        " 'Age:.15-40',\n",
        " 'Age:.15-54',\n",
        " 'Age:.15-65+',\n",
        " 'Age:.16-25',\n",
        " 'Age:.16-25PlacementsNewsFeedondesktopcomputers',\n",
        " 'Age:.16-40',\n",
        " 'Age:.16-45',\n",
        " 'Age:.16-50',\n",
        " 'Age:.16-53',\n",
        " 'Age:.16-54',\n",
        " 'Age:.16-55',\n",
        " 'Age:.16-60',\n",
        " 'Age:.16-65+',\n",
        " 'Age:.17-61',\n",
        " 'Age:.17-65+',\n",
        " 'Age:.18-24',\n",
        " 'Age:.18-39',\n",
        " 'Age:.18-40',\n",
        " 'Age:.18-43',\n",
        " 'Age:.18-45',\n",
        " 'Age:.18-48',\n",
        " 'Age:.18-50',\n",
        " 'Age:.18-50PlacementsNewsFeedondesktopcomputers',\n",
        " 'Age:.18-51',\n",
        " 'Age:.18-53',\n",
        " 'Age:.18-54',\n",
        " 'Age:.18-54PlacementsNewsFeedondesktopcomputers',\n",
        " 'Age:.18-55',\n",
        " 'Age:.18-59',\n",
        " 'Age:.18-60',\n",
        " 'Age:.18-61',\n",
        " 'Age:.18-65+',\n",
        " 'Age:.18-65+PlacementsNewsFeedondesktopcomputers',\n",
        " 'Age:.1865+',\n",
        " 'Age:.19-30',\n",
        " 'Age:.20-35',\n",
        " 'Age:.20-45',\n",
        " 'Age:.20-65+',\n",
        " 'Age:.21-65+',\n",
        " 'Age:.24-45',\n",
        " 'Age:.24-65+',\n",
        " 'Age:.25-65+',\n",
        " 'Age:.30-65+',\n",
        " 'Age:.35-65+',\n",
        " 'Age:.40-65+',\n",
        " 'Age:.45-64',\n",
        " 'Age:.45-65+',\n",
        " 'Age:.NewsFeedonmobiledevices']"
      ],
      "execution_count": 0,
      "outputs": []
    },
    {
      "cell_type": "code",
      "metadata": {
        "id": "Rj-GJG1q5Pmo",
        "colab_type": "code",
        "colab": {}
      },
      "source": [
        "## All columns that relate to mexico and drive clicks (showed up often in rows with high clicks)\n",
        "mexdrivers = ['Mexico..Hispanidad',\n",
        "'Mexico..Latinhiphop.ChicanoMovement',\n",
        "'Mexico.Chicano',\n",
        "'Mexico.ChicanoMovement',\n",
        "'Mexico.Chicanorap',\n",
        "'Mexico.Hispanicculture',\n",
        "'Mexico.Hispanidad',\n",
        "'Mexico.LaRaza',\n",
        "'Mexico.Latinhiphop',\n",
        "'Mexico.Latinoculture',\n",
        "'Mexico.Lowrider',\n",
        "'Mexico.MexicanPride',\n",
        "'Mexico.Mexicanamericanculture']"
      ],
      "execution_count": 0,
      "outputs": []
    },
    {
      "cell_type": "code",
      "metadata": {
        "id": "GPZF4icZqJJG",
        "colab_type": "code",
        "colab": {}
      },
      "source": [
        "## All columns that relate to black interests and drive clicks (showed up often in rows with high clicks)\n",
        "blackdrivers = ['Interests:.African-AmericanCivilRightsMovement(1954-68)',\n",
        "'Interests:.African-Americanculture',\n",
        "'Interests:.African-Americanhistory',\n",
        "'Interests:.Black(Color)',\n",
        "'Interests:.BlackConsciousnessMovement',\n",
        "'Interests:.Blacknationalism',\n",
        "'Interests:.Hispanicandlatinoamericanculture',\n",
        "'Interests:.Jr.',\n",
        "'Interests:.MalcolmX',\n",
        "'Interests:.MartinLutherKing',\n",
        "'Interests:.MartinLutherKingIII',\n",
        "'Interests:.MartinLutherKingIll',\n",
        "'Interests:.Pan-Africanism',\n",
        "'Interests:.Policemisconduct']"
      ],
      "execution_count": 0,
      "outputs": []
    },
    {
      "cell_type": "code",
      "metadata": {
        "id": "nArhtWDZr6bc",
        "colab_type": "code",
        "colab": {}
      },
      "source": [
        "## All columns that relate to age and drive clicks (showed up often in rows with high clicks)\n",
        "agedrivers = ['Age:.16-65+',\n",
        "'Age:.18-65+']"
      ],
      "execution_count": 0,
      "outputs": []
    },
    {
      "cell_type": "code",
      "metadata": {
        "id": "kGg40nSRyJj8",
        "colab_type": "code",
        "colab": {}
      },
      "source": [
        "## All columns that relate to language and drive clicks (showed up often in rows with high clicks)\n",
        "languagedrivers = ['Language:.English(UK)',\n",
        "'Language:.English(UK)orEnglish(US)',\n",
        "'Language:.English(US)']"
      ],
      "execution_count": 0,
      "outputs": []
    },
    {
      "cell_type": "code",
      "metadata": {
        "id": "iSZ8FCuP0sNJ",
        "colab_type": "code",
        "colab": {}
      },
      "source": [
        "## All columns that did not drive clicks (showed up often in rows with low clicks)\n",
        "lowdrivers = ['Age:.18-65+',\n",
        "'Language:.English(UK)orEnglish(US)',\n",
        "'Language:.English(US)',\n",
        "'Location - Living In:.UnitedStates',\n",
        "'Location:.UnitedStates',\n",
        "'Placements:.NewsFeedondesktopcomputers',\n",
        "'Placements:.NewsFeedonmobiledevices']"
      ],
      "execution_count": 0,
      "outputs": []
    },
    {
      "cell_type": "markdown",
      "metadata": {
        "id": "128alynglNF4",
        "colab_type": "text"
      },
      "source": [
        "###**Creating New Columns**\n"
      ]
    },
    {
      "cell_type": "code",
      "metadata": {
        "id": "a-CIxgSewzSK",
        "colab_type": "code",
        "outputId": "78e99335-46a1-4541-f72e-2861fe4ef352",
        "colab": {
          "base_uri": "https://localhost:8080/",
          "height": 119
        }
      },
      "source": [
        "fulldata['blackint'] = fulldata[blackint].sum(axis=1)\n",
        "##Creates column for total black interest targets used in any given row"
      ],
      "execution_count": 0,
      "outputs": [
        {
          "output_type": "stream",
          "text": [
            "/usr/local/lib/python3.6/dist-packages/ipykernel_launcher.py:1: SettingWithCopyWarning: \n",
            "A value is trying to be set on a copy of a slice from a DataFrame.\n",
            "Try using .loc[row_indexer,col_indexer] = value instead\n",
            "\n",
            "See the caveats in the documentation: http://pandas.pydata.org/pandas-docs/stable/user_guide/indexing.html#returning-a-view-versus-a-copy\n",
            "  \"\"\"Entry point for launching an IPython kernel.\n"
          ],
          "name": "stderr"
        }
      ]
    },
    {
      "cell_type": "code",
      "metadata": {
        "id": "AULQxG3Rt759",
        "colab_type": "code",
        "outputId": "3454aa71-a3b0-47d8-d217-2f49f8a8ae94",
        "colab": {
          "base_uri": "https://localhost:8080/",
          "height": 119
        }
      },
      "source": [
        "fulldata['ustargetlocations'] = fulldata[ustargetlocations].sum(axis=1)\n",
        "##Creates column ustargetlocations that has total number of us targeting parameters set to 1 for a given row"
      ],
      "execution_count": 0,
      "outputs": [
        {
          "output_type": "stream",
          "text": [
            "/usr/local/lib/python3.6/dist-packages/ipykernel_launcher.py:1: SettingWithCopyWarning: \n",
            "A value is trying to be set on a copy of a slice from a DataFrame.\n",
            "Try using .loc[row_indexer,col_indexer] = value instead\n",
            "\n",
            "See the caveats in the documentation: http://pandas.pydata.org/pandas-docs/stable/user_guide/indexing.html#returning-a-view-versus-a-copy\n",
            "  \"\"\"Entry point for launching an IPython kernel.\n"
          ],
          "name": "stderr"
        }
      ]
    },
    {
      "cell_type": "code",
      "metadata": {
        "id": "WjxMu5ny4NV3",
        "colab_type": "code",
        "outputId": "9855634a-1462-4c65-e2e8-31a5f6cf1c8c",
        "colab": {
          "base_uri": "https://localhost:8080/",
          "height": 119
        }
      },
      "source": [
        "fulldata['ageset'] = fulldata[ageset].sum(axis=1)\n",
        "##Creates column ageset that has total number of age targeting parameters set to 1 for a given row"
      ],
      "execution_count": 0,
      "outputs": [
        {
          "output_type": "stream",
          "text": [
            "/usr/local/lib/python3.6/dist-packages/ipykernel_launcher.py:1: SettingWithCopyWarning: \n",
            "A value is trying to be set on a copy of a slice from a DataFrame.\n",
            "Try using .loc[row_indexer,col_indexer] = value instead\n",
            "\n",
            "See the caveats in the documentation: http://pandas.pydata.org/pandas-docs/stable/user_guide/indexing.html#returning-a-view-versus-a-copy\n",
            "  \"\"\"Entry point for launching an IPython kernel.\n"
          ],
          "name": "stderr"
        }
      ]
    },
    {
      "cell_type": "code",
      "metadata": {
        "id": "GeAMWF_s4GiC",
        "colab_type": "code",
        "outputId": "8a518967-e8b0-452d-dfc1-765b5649d29e",
        "colab": {
          "base_uri": "https://localhost:8080/",
          "height": 289
        }
      },
      "source": [
        "fulldata['textnumwords'] = 0\n",
        "for x in range(49,2603):\n",
        "  fulldata['textnumwords'][x] = len(str(fulldata['text'][x]))\n",
        "\n",
        "##Creates a new column textnumwords that lists the total number of words used in the text"
      ],
      "execution_count": 0,
      "outputs": [
        {
          "output_type": "stream",
          "text": [
            "/usr/local/lib/python3.6/dist-packages/ipykernel_launcher.py:1: SettingWithCopyWarning: \n",
            "A value is trying to be set on a copy of a slice from a DataFrame.\n",
            "Try using .loc[row_indexer,col_indexer] = value instead\n",
            "\n",
            "See the caveats in the documentation: http://pandas.pydata.org/pandas-docs/stable/user_guide/indexing.html#returning-a-view-versus-a-copy\n",
            "  \"\"\"Entry point for launching an IPython kernel.\n",
            "/usr/local/lib/python3.6/dist-packages/ipykernel_launcher.py:3: SettingWithCopyWarning: \n",
            "A value is trying to be set on a copy of a slice from a DataFrame\n",
            "\n",
            "See the caveats in the documentation: http://pandas.pydata.org/pandas-docs/stable/user_guide/indexing.html#returning-a-view-versus-a-copy\n",
            "  This is separate from the ipykernel package so we can avoid doing imports until\n",
            "/usr/local/lib/python3.6/dist-packages/IPython/core/interactiveshell.py:2882: SettingWithCopyWarning: \n",
            "A value is trying to be set on a copy of a slice from a DataFrame\n",
            "\n",
            "See the caveats in the documentation: http://pandas.pydata.org/pandas-docs/stable/user_guide/indexing.html#returning-a-view-versus-a-copy\n",
            "  exec(code_obj, self.user_global_ns, self.user_ns)\n"
          ],
          "name": "stderr"
        }
      ]
    },
    {
      "cell_type": "code",
      "metadata": {
        "id": "UPRnYxKEsBvC",
        "colab_type": "code",
        "outputId": "41e3d6db-9837-4cea-a784-34483be44cd5",
        "colab": {
          "base_uri": "https://localhost:8080/",
          "height": 119
        }
      },
      "source": [
        "fulldata['agedrivers'] = fulldata[agedrivers].sum(axis=1)\n",
        "##Creates column that has a value for total age driver targets set for that row"
      ],
      "execution_count": 0,
      "outputs": [
        {
          "output_type": "stream",
          "text": [
            "/usr/local/lib/python3.6/dist-packages/ipykernel_launcher.py:1: SettingWithCopyWarning: \n",
            "A value is trying to be set on a copy of a slice from a DataFrame.\n",
            "Try using .loc[row_indexer,col_indexer] = value instead\n",
            "\n",
            "See the caveats in the documentation: http://pandas.pydata.org/pandas-docs/stable/user_guide/indexing.html#returning-a-view-versus-a-copy\n",
            "  \"\"\"Entry point for launching an IPython kernel.\n"
          ],
          "name": "stderr"
        }
      ]
    },
    {
      "cell_type": "code",
      "metadata": {
        "id": "2e8kWqFxyR-w",
        "colab_type": "code",
        "outputId": "a957c5a6-6fd5-4c25-b0cb-0ad5848d538b",
        "colab": {
          "base_uri": "https://localhost:8080/",
          "height": 119
        }
      },
      "source": [
        "fulldata['languagedrivers'] = fulldata[languagedrivers].sum(axis=1)\n",
        "##Creates column that has a value for total language driver targets set for that row"
      ],
      "execution_count": 0,
      "outputs": [
        {
          "output_type": "stream",
          "text": [
            "/usr/local/lib/python3.6/dist-packages/ipykernel_launcher.py:1: SettingWithCopyWarning: \n",
            "A value is trying to be set on a copy of a slice from a DataFrame.\n",
            "Try using .loc[row_indexer,col_indexer] = value instead\n",
            "\n",
            "See the caveats in the documentation: http://pandas.pydata.org/pandas-docs/stable/user_guide/indexing.html#returning-a-view-versus-a-copy\n",
            "  \"\"\"Entry point for launching an IPython kernel.\n"
          ],
          "name": "stderr"
        }
      ]
    },
    {
      "cell_type": "code",
      "metadata": {
        "id": "dRqpZgyesjpc",
        "colab_type": "code",
        "outputId": "fcaa9dd0-b4c3-4bff-ac44-044656d76872",
        "colab": {
          "base_uri": "https://localhost:8080/",
          "height": 119
        }
      },
      "source": [
        "fulldata['lowdrivers'] = fulldata[lowdrivers].sum(axis=1)\n",
        "##Creates column that has a value for total low click driver targets set for that row"
      ],
      "execution_count": 0,
      "outputs": [
        {
          "output_type": "stream",
          "text": [
            "/usr/local/lib/python3.6/dist-packages/ipykernel_launcher.py:1: SettingWithCopyWarning: \n",
            "A value is trying to be set on a copy of a slice from a DataFrame.\n",
            "Try using .loc[row_indexer,col_indexer] = value instead\n",
            "\n",
            "See the caveats in the documentation: http://pandas.pydata.org/pandas-docs/stable/user_guide/indexing.html#returning-a-view-versus-a-copy\n",
            "  \"\"\"Entry point for launching an IPython kernel.\n"
          ],
          "name": "stderr"
        }
      ]
    },
    {
      "cell_type": "code",
      "metadata": {
        "id": "ZdWjttvx24LI",
        "colab_type": "code",
        "outputId": "f17fcfb3-5dc8-4f60-eda4-74d461f989b5",
        "colab": {
          "base_uri": "https://localhost:8080/",
          "height": 119
        }
      },
      "source": [
        "fulldata['mexdrivers'] = fulldata[mexdrivers].sum(axis=1)\n",
        "##Creates column that has a value for total mexico related driver targets set for that row"
      ],
      "execution_count": 0,
      "outputs": [
        {
          "output_type": "stream",
          "text": [
            "/usr/local/lib/python3.6/dist-packages/ipykernel_launcher.py:1: SettingWithCopyWarning: \n",
            "A value is trying to be set on a copy of a slice from a DataFrame.\n",
            "Try using .loc[row_indexer,col_indexer] = value instead\n",
            "\n",
            "See the caveats in the documentation: http://pandas.pydata.org/pandas-docs/stable/user_guide/indexing.html#returning-a-view-versus-a-copy\n",
            "  \"\"\"Entry point for launching an IPython kernel.\n"
          ],
          "name": "stderr"
        }
      ]
    },
    {
      "cell_type": "code",
      "metadata": {
        "id": "7X1Pthwkqhra",
        "colab_type": "code",
        "outputId": "88f67e39-6ac9-4d47-b25a-c6e849368984",
        "colab": {
          "base_uri": "https://localhost:8080/",
          "height": 119
        }
      },
      "source": [
        "fulldata['blackdrivers'] = fulldata[blackdrivers].sum(axis=1)\n",
        "##Creates column that has a value for total black interest driver targets set for that row"
      ],
      "execution_count": 0,
      "outputs": [
        {
          "output_type": "stream",
          "text": [
            "/usr/local/lib/python3.6/dist-packages/ipykernel_launcher.py:1: SettingWithCopyWarning: \n",
            "A value is trying to be set on a copy of a slice from a DataFrame.\n",
            "Try using .loc[row_indexer,col_indexer] = value instead\n",
            "\n",
            "See the caveats in the documentation: http://pandas.pydata.org/pandas-docs/stable/user_guide/indexing.html#returning-a-view-versus-a-copy\n",
            "  \"\"\"Entry point for launching an IPython kernel.\n"
          ],
          "name": "stderr"
        }
      ]
    },
    {
      "cell_type": "code",
      "metadata": {
        "id": "MpYBEpGGBY0e",
        "colab_type": "code",
        "outputId": "7d0917b9-913e-429d-f7c9-fac8b74f7a24",
        "colab": {
          "base_uri": "https://localhost:8080/",
          "height": 119
        }
      },
      "source": [
        "fulldata['landpagecontblack'] = fulldata['landpage'].str.contains('black')\n",
        "## New Column that is 1 if the landing page of that row contains the word black"
      ],
      "execution_count": 0,
      "outputs": [
        {
          "output_type": "stream",
          "text": [
            "/usr/local/lib/python3.6/dist-packages/ipykernel_launcher.py:1: SettingWithCopyWarning: \n",
            "A value is trying to be set on a copy of a slice from a DataFrame.\n",
            "Try using .loc[row_indexer,col_indexer] = value instead\n",
            "\n",
            "See the caveats in the documentation: http://pandas.pydata.org/pandas-docs/stable/user_guide/indexing.html#returning-a-view-versus-a-copy\n",
            "  \"\"\"Entry point for launching an IPython kernel.\n"
          ],
          "name": "stderr"
        }
      ]
    },
    {
      "cell_type": "code",
      "metadata": {
        "id": "VRWZcdC1BvfR",
        "colab_type": "code",
        "outputId": "a752f95c-a700-4d22-df5d-7bb36c1d546f",
        "colab": {
          "base_uri": "https://localhost:8080/",
          "height": 119
        }
      },
      "source": [
        "fulldata['instagram'] = fulldata['landpage'].str.contains('instagram')\n",
        "## New Column that is 1 if the landing page of that row contains the word instagram"
      ],
      "execution_count": 0,
      "outputs": [
        {
          "output_type": "stream",
          "text": [
            "/usr/local/lib/python3.6/dist-packages/ipykernel_launcher.py:1: SettingWithCopyWarning: \n",
            "A value is trying to be set on a copy of a slice from a DataFrame.\n",
            "Try using .loc[row_indexer,col_indexer] = value instead\n",
            "\n",
            "See the caveats in the documentation: http://pandas.pydata.org/pandas-docs/stable/user_guide/indexing.html#returning-a-view-versus-a-copy\n",
            "  \"\"\"Entry point for launching an IPython kernel.\n"
          ],
          "name": "stderr"
        }
      ]
    },
    {
      "cell_type": "code",
      "metadata": {
        "id": "24GUHl1UB78S",
        "colab_type": "code",
        "outputId": "03a9b1d0-053e-421f-de9f-c62f3e39c68b",
        "colab": {
          "base_uri": "https://localhost:8080/",
          "height": 119
        }
      },
      "source": [
        "fulldata['landpagecontbuf'] = fulldata['landpage'].str.contains('brownunitedfront')\n",
        "## New Column that is 1 if the landing page of that row contains the word/phrase brownunitedfront"
      ],
      "execution_count": 0,
      "outputs": [
        {
          "output_type": "stream",
          "text": [
            "/usr/local/lib/python3.6/dist-packages/ipykernel_launcher.py:1: SettingWithCopyWarning: \n",
            "A value is trying to be set on a copy of a slice from a DataFrame.\n",
            "Try using .loc[row_indexer,col_indexer] = value instead\n",
            "\n",
            "See the caveats in the documentation: http://pandas.pydata.org/pandas-docs/stable/user_guide/indexing.html#returning-a-view-versus-a-copy\n",
            "  \"\"\"Entry point for launching an IPython kernel.\n"
          ],
          "name": "stderr"
        }
      ]
    },
    {
      "cell_type": "code",
      "metadata": {
        "id": "X8OHvLkDCN81",
        "colab_type": "code",
        "outputId": "a926925e-07f3-40b1-d9d7-6c1c27fe1df4",
        "colab": {
          "base_uri": "https://localhost:8080/",
          "height": 119
        }
      },
      "source": [
        "fulldata['landpagecontblacktivist'] = fulldata['landpage'].str.contains('blacktivist')\n",
        "## New Column that is 1 if the landing page of that row contains the word blacktivist\n"
      ],
      "execution_count": 0,
      "outputs": [
        {
          "output_type": "stream",
          "text": [
            "/usr/local/lib/python3.6/dist-packages/ipykernel_launcher.py:1: SettingWithCopyWarning: \n",
            "A value is trying to be set on a copy of a slice from a DataFrame.\n",
            "Try using .loc[row_indexer,col_indexer] = value instead\n",
            "\n",
            "See the caveats in the documentation: http://pandas.pydata.org/pandas-docs/stable/user_guide/indexing.html#returning-a-view-versus-a-copy\n",
            "  \"\"\"Entry point for launching an IPython kernel.\n"
          ],
          "name": "stderr"
        }
      ]
    },
    {
      "cell_type": "code",
      "metadata": {
        "id": "WHSJ6uNXCbWU",
        "colab_type": "code",
        "outputId": "17f36757-2884-4fdb-a02f-52bb94512c90",
        "colab": {
          "base_uri": "https://localhost:8080/",
          "height": 119
        }
      },
      "source": [
        "fulldata['landpagecontblackmattersus'] = fulldata['landpage'].str.contains('blackmattersus')\n",
        "## New Column that is 1 if the landing page of that row contains the word/phrase blackmattersus"
      ],
      "execution_count": 0,
      "outputs": [
        {
          "output_type": "stream",
          "text": [
            "/usr/local/lib/python3.6/dist-packages/ipykernel_launcher.py:1: SettingWithCopyWarning: \n",
            "A value is trying to be set on a copy of a slice from a DataFrame.\n",
            "Try using .loc[row_indexer,col_indexer] = value instead\n",
            "\n",
            "See the caveats in the documentation: http://pandas.pydata.org/pandas-docs/stable/user_guide/indexing.html#returning-a-view-versus-a-copy\n",
            "  \"\"\"Entry point for launching an IPython kernel.\n"
          ],
          "name": "stderr"
        }
      ]
    },
    {
      "cell_type": "code",
      "metadata": {
        "id": "xgz3G9-GClyA",
        "colab_type": "code",
        "outputId": "2c413f95-e004-47c2-f3e7-3fe470578e9d",
        "colab": {
          "base_uri": "https://localhost:8080/",
          "height": 119
        }
      },
      "source": [
        "fulldata['goodwordslanding'] = fulldata['landpagecontblackmattersus'] + fulldata['landpagecontblacktivist'] + fulldata['landpagecontbuf']\n",
        "## New Column that is the total number of the previous 5 columns of landing page words that positively drive clicks"
      ],
      "execution_count": 0,
      "outputs": [
        {
          "output_type": "stream",
          "text": [
            "/usr/local/lib/python3.6/dist-packages/ipykernel_launcher.py:1: SettingWithCopyWarning: \n",
            "A value is trying to be set on a copy of a slice from a DataFrame.\n",
            "Try using .loc[row_indexer,col_indexer] = value instead\n",
            "\n",
            "See the caveats in the documentation: http://pandas.pydata.org/pandas-docs/stable/user_guide/indexing.html#returning-a-view-versus-a-copy\n",
            "  \"\"\"Entry point for launching an IPython kernel.\n"
          ],
          "name": "stderr"
        }
      ]
    },
    {
      "cell_type": "code",
      "metadata": {
        "id": "VurLaC5SCw-P",
        "colab_type": "code",
        "outputId": "ccca91ce-bc58-432d-d160-3f1e05331d0a",
        "colab": {
          "base_uri": "https://localhost:8080/",
          "height": 119
        }
      },
      "source": [
        "fulldata['badwordslanding'] = fulldata['landpagecontblack'] + fulldata['instagram']\n",
        "## New Column that is the total number of the previous 5 columns of landing page words that negatively drive clicks"
      ],
      "execution_count": 0,
      "outputs": [
        {
          "output_type": "stream",
          "text": [
            "/usr/local/lib/python3.6/dist-packages/ipykernel_launcher.py:1: SettingWithCopyWarning: \n",
            "A value is trying to be set on a copy of a slice from a DataFrame.\n",
            "Try using .loc[row_indexer,col_indexer] = value instead\n",
            "\n",
            "See the caveats in the documentation: http://pandas.pydata.org/pandas-docs/stable/user_guide/indexing.html#returning-a-view-versus-a-copy\n",
            "  \"\"\"Entry point for launching an IPython kernel.\n"
          ],
          "name": "stderr"
        }
      ]
    },
    {
      "cell_type": "code",
      "metadata": {
        "id": "9zyIMUsRDxcD",
        "colab_type": "code",
        "outputId": "3b0a8871-df8d-48f9-d087-27ad553ea5dc",
        "colab": {
          "base_uri": "https://localhost:8080/",
          "height": 119
        }
      },
      "source": [
        "fulldata['badtextwords'] = fulldata['text'].str.contains('join') + fulldata['text'].str.contains('support') + fulldata['text'].str.contains('government') + fulldata['text'].str.contains('man') + fulldata['text'].str.contains('american')\n",
        "## New Column that is the total number of the previous 5 columns of ad text words that negatively drive clicks\n"
      ],
      "execution_count": 0,
      "outputs": [
        {
          "output_type": "stream",
          "text": [
            "/usr/local/lib/python3.6/dist-packages/ipykernel_launcher.py:1: SettingWithCopyWarning: \n",
            "A value is trying to be set on a copy of a slice from a DataFrame.\n",
            "Try using .loc[row_indexer,col_indexer] = value instead\n",
            "\n",
            "See the caveats in the documentation: http://pandas.pydata.org/pandas-docs/stable/user_guide/indexing.html#returning-a-view-versus-a-copy\n",
            "  \"\"\"Entry point for launching an IPython kernel.\n"
          ],
          "name": "stderr"
        }
      ]
    },
    {
      "cell_type": "code",
      "metadata": {
        "id": "Sp_7n1i9EU7R",
        "colab_type": "code",
        "outputId": "658b8fee-2b8a-47e0-ee09-f56cd03007d4",
        "colab": {
          "base_uri": "https://localhost:8080/",
          "height": 119
        }
      },
      "source": [
        "fulldata['goodtextwords'] = fulldata['text'].str.contains('community') + fulldata['text'].str.contains('communities') +  fulldata['text'].str.contains('video') + fulldata['text'].str.contains('united') + fulldata['text'].str.contains('stand') + fulldata['text'].str.contains('welcome') + fulldata['text'].str.contains('said')\n",
        "## New Column that is the total number of the previous 5 columns of ad text words that positively drive clicks"
      ],
      "execution_count": 0,
      "outputs": [
        {
          "output_type": "stream",
          "text": [
            "/usr/local/lib/python3.6/dist-packages/ipykernel_launcher.py:1: SettingWithCopyWarning: \n",
            "A value is trying to be set on a copy of a slice from a DataFrame.\n",
            "Try using .loc[row_indexer,col_indexer] = value instead\n",
            "\n",
            "See the caveats in the documentation: http://pandas.pydata.org/pandas-docs/stable/user_guide/indexing.html#returning-a-view-versus-a-copy\n",
            "  \"\"\"Entry point for launching an IPython kernel.\n"
          ],
          "name": "stderr"
        }
      ]
    },
    {
      "cell_type": "code",
      "metadata": {
        "id": "9B_lQWwdwXf4",
        "colab_type": "code",
        "outputId": "8f72c342-ac32-4303-8978-3e3ff95d8482",
        "colab": {
          "base_uri": "https://localhost:8080/",
          "height": 102
        }
      },
      "source": [
        "## Replaces NA with mean of column (needed for lasso model not needed for datarobot)\n",
        "fulldata.fillna(fulldata.mean(), inplace=True)"
      ],
      "execution_count": 0,
      "outputs": [
        {
          "output_type": "stream",
          "text": [
            "/usr/local/lib/python3.6/dist-packages/pandas/core/generic.py:6287: SettingWithCopyWarning: \n",
            "A value is trying to be set on a copy of a slice from a DataFrame\n",
            "\n",
            "See the caveats in the documentation: http://pandas.pydata.org/pandas-docs/stable/user_guide/indexing.html#returning-a-view-versus-a-copy\n",
            "  self._update_inplace(new_data)\n"
          ],
          "name": "stderr"
        }
      ]
    },
    {
      "cell_type": "markdown",
      "metadata": {
        "id": "dfQ60Hy2laO_",
        "colab_type": "text"
      },
      "source": [
        "###**Regression Testing**\n",
        "(not final regression used DataRobot for final regression)\n",
        "\n"
      ]
    },
    {
      "cell_type": "code",
      "metadata": {
        "id": "CD9ufMdPvyjy",
        "colab_type": "code",
        "colab": {}
      },
      "source": [
        "## Test set of predictors\n",
        "testpred = fulldata[['Age:.16-65+',\n",
        "'Age:.18-45',\n",
        "'Age:.18-54',\n",
        "'Age:.18-65+',\n",
        "'Behaviors:.AfricanAmerican(US)',\n",
        "'Behaviors:.AsianAmerican(US)',\n",
        "'Behaviors:.Hispanic(US-All)',\n",
        "'Behaviors:.Hispanic(US-Bilingual:EnglishandSpanish)',\n",
        "'Behaviors:.Hispanic(US-Englishdominant)',\n",
        "'Behaviors:.Hispanic(US-Spanishdominant)',\n",
        "'Exclude people who like.BlackMatters',\n",
        "'Exclude people who like.Pan-AfricanrootsMOVE',\n",
        "'Exclude people who like.Williams&Kalvin',\n",
        "'Friends of connections:.FriendsofpeoplewhoareconnectedtoBeingPatriotic',\n",
        "'Friends of connections:.FriendsofpeoplewhoareconnectedtoBlackMatters',\n",
        "'Friends of connections:.FriendsofpeoplewhoareconnectedtoLGBTUnited',\n",
        "'Interests:.9GAG',\n",
        "'Interests:.African-AmericanCivilRightsMovement(1954-68)',\n",
        "'Interests:.African-Americanculture',\n",
        "'Interests:.African-Americanhistory',\n",
        "'Interests:.AfricanAmericanculture',\n",
        "'Interests:.AfricanAmericanhistory',\n",
        "'Interests:.Black(Color)',\n",
        "'Interests:.BlackConsciousnessMovement',\n",
        "'Interests:.BlackNews.com',\n",
        "'Interests:.BlackPantherParty',\n",
        "'Interests:.BlackPower',\n",
        "'Interests:.Blackhistory',\n",
        "'Interests:.Blacknationalism',\n",
        "'Interests:.BuzzFeed',\n",
        "'Interests:.CollegeHumor',\n",
        "'Interests:.CopBlock',\n",
        "'Interests:.Hispanicandlatinoamericanculture',\n",
        "'Interests:.HuffPostBlackVoices',\n",
        "'Interests:.Independence',\n",
        "'Interests:.Jr.',\n",
        "'Interests:.Jr.;African-AmericanCivilRightsMovement(1954-68)',\n",
        "'Interests:.MalcolmX',\n",
        "'Interests:.MartinLutherKing',\n",
        "'Interests:.MartinLutherKingIll',\n",
        "'Interests:.Pan-Africanism',\n",
        "'Interests:.Patriotism',\n",
        "'Interests:.Policemisconduct',\n",
        "'Interests:.StopPoliceBrutality',\n",
        "'Language:.English(UK)',\n",
        "'Language:.English(UK)orEnglish(US)',\n",
        "'Language:.English(US)',\n",
        "'Location - Living In:.UnitedStates',\n",
        "'Location:.UnitedStates',\n",
        "'Mexico..Hispanidad',\n",
        "'Mexico..Latinhiphop.ChicanoMovement',\n",
        "'Mexico.ChicanoMovement',\n",
        "'Mexico.Chicanorap',\n",
        "'Mexico.Hispanicculture',\n",
        "'Mexico.Hispanidad',\n",
        "'Mexico.LaRaza',\n",
        "'Mexico.Latinhiphop',\n",
        "'Mexico.Latinoculture',\n",
        "'Mexico.Lowrider',\n",
        "'Mexico.MexicanPride',\n",
        "'Mexico.Mexicanamericanculture',\n",
        "'People Who Match:.PeoplewholikeBeingPatriotic',\n",
        "'People Who Match:.PeoplewholikeBlackMatters',\n",
        "'People Who Match:.PeoplewholikeBlackMatters.',\n",
        "'People Who Match:.PeoplewholikeLGBTUnited',\n",
        "'Placements:.InstagramFeed',\n",
        "'Placements:.NewsFeedondesktopcomputers',\n",
        "'Placements:.NewsFeedonmobiledevices',\n",
        "'Placements:.Rightcolumnondesktopcomputers',\n",
        "'United States:.BaltimoreMaryland;Ferguson',\n",
        "'United States:.St.LouisMissouri;ClevelandOhio','spend', 'blackdrivers', 'mexdrivers', 'languagedrivers', 'lowdrivers' ,'agedrivers', 'languagedrivers' ,'ageset', 'blackint','days_elec_abs',\t'days_elec_pminus', 'toxic',\t'sevtoxic',\t'idattack',\t'insult',\t'profane',\t'threat',\t'sexexp',\t'flirt',\t'a_author',\t'a_commentor',\t'incoh',\t'inflam',\t'obscene', 'medium_bin', 'facebookcat', 'instacat', 'bin_before']]"
      ],
      "execution_count": 0,
      "outputs": []
    },
    {
      "cell_type": "code",
      "metadata": {
        "id": "i22MNNMNPer_",
        "colab_type": "code",
        "colab": {}
      },
      "source": [
        "predictors = fulldata[['goodwordslanding' , 'badwordslanding' , 'goodtextwords', 'badtextwords', 'spend', 'blackdrivers', 'mexdrivers', 'languagedrivers', 'lowdrivers' ,'agedrivers', 'languagedrivers' ,'ageset', 'blackint' ,'days_elec_abs',\t'days_elec_pminus', 'toxic',\t'sevtoxic',\t'idattack',\t'insult',\t'profane',\t'threat',\t'sexexp',\t'flirt',\t'a_author',\t'a_commentor',\t'incoh',\t'inflam',\t'obscene', 'medium_bin', 'facebookcat', 'instacat', 'bin_before']]\n",
        "##My predictors for lasso model"
      ],
      "execution_count": 0,
      "outputs": []
    },
    {
      "cell_type": "code",
      "metadata": {
        "id": "CVFS4KuRPoHr",
        "colab_type": "code",
        "colab": {}
      },
      "source": [
        "target = fulldata['clicks']\n",
        "##My Target for lasso model"
      ],
      "execution_count": 0,
      "outputs": []
    },
    {
      "cell_type": "code",
      "metadata": {
        "id": "K5DVJsvrPt-l",
        "colab_type": "code",
        "colab": {}
      },
      "source": [
        "pred_train, pred_test, tar_train, tar_test = train_test_split(predictors, target, test_size=.3, random_state=123)   \n",
        "## Used to split data (final R squared from model in data robot not this model)"
      ],
      "execution_count": 0,
      "outputs": []
    },
    {
      "cell_type": "code",
      "metadata": {
        "id": "BLCDpCLDPvjZ",
        "colab_type": "code",
        "outputId": "f193033a-e5a3-4dde-aa6c-8fcccecbe5c5",
        "colab": {
          "base_uri": "https://localhost:8080/",
          "height": 139
        }
      },
      "source": [
        "model = LassoLarsCV(cv=5, precompute = False)\n",
        "lasso = model.fit(predictors,target)\n",
        "## Runs Model"
      ],
      "execution_count": 0,
      "outputs": [
        {
          "output_type": "stream",
          "text": [
            "/usr/local/lib/python3.6/dist-packages/sklearn/linear_model/least_angle.py:578: ConvergenceWarning: Regressors in active set degenerate. Dropping a regressor, after 17 iterations, i.e. alpha=1.720e+00, with an active set of 15 regressors, and the smallest cholesky pivot element being 8.495e-08. Reduce max_iter or increase eps parameters.\n",
            "  ConvergenceWarning)\n",
            "/usr/local/lib/python3.6/dist-packages/sklearn/linear_model/least_angle.py:578: ConvergenceWarning: Regressors in active set degenerate. Dropping a regressor, after 32 iterations, i.e. alpha=2.236e-02, with an active set of 28 regressors, and the smallest cholesky pivot element being 5.576e-08. Reduce max_iter or increase eps parameters.\n",
            "  ConvergenceWarning)\n",
            "/usr/local/lib/python3.6/dist-packages/sklearn/linear_model/least_angle.py:578: ConvergenceWarning: Regressors in active set degenerate. Dropping a regressor, after 33 iterations, i.e. alpha=5.401e-03, with an active set of 29 regressors, and the smallest cholesky pivot element being 8.560e-08. Reduce max_iter or increase eps parameters.\n",
            "  ConvergenceWarning)\n"
          ],
          "name": "stderr"
        }
      ]
    },
    {
      "cell_type": "code",
      "metadata": {
        "id": "ws8nJQsTSKjv",
        "colab_type": "code",
        "outputId": "db493cc4-c6e8-4316-dc50-3d286c94ddb8",
        "colab": {
          "base_uri": "https://localhost:8080/",
          "height": 51
        }
      },
      "source": [
        "train_error = mean_squared_error(tar_train, model.predict(pred_train))\n",
        "print ('training data MSE')\n",
        "print(train_error)\n",
        "##Train MSE"
      ],
      "execution_count": 0,
      "outputs": [
        {
          "output_type": "stream",
          "text": [
            "training data MSE\n",
            "8509658.407770764\n"
          ],
          "name": "stdout"
        }
      ]
    },
    {
      "cell_type": "code",
      "metadata": {
        "id": "0s72ECu2Spht",
        "colab_type": "code",
        "outputId": "11e8c024-92ff-4da8-af6d-4bc6ec319282",
        "colab": {
          "base_uri": "https://localhost:8080/",
          "height": 51
        }
      },
      "source": [
        "test_error = mean_squared_error(tar_test, model.predict(pred_test))\n",
        "print ('test data MSE')\n",
        "print(test_error)\n",
        "##Test MSE"
      ],
      "execution_count": 0,
      "outputs": [
        {
          "output_type": "stream",
          "text": [
            "test data MSE\n",
            "8433973.109490056\n"
          ],
          "name": "stdout"
        }
      ]
    },
    {
      "cell_type": "code",
      "metadata": {
        "id": "3XByvDZNSZM8",
        "colab_type": "code",
        "outputId": "cb139f60-1b6f-4161-a145-e71d2a9e7038",
        "colab": {
          "base_uri": "https://localhost:8080/",
          "height": 51
        }
      },
      "source": [
        "rsquared_train=model.score(pred_train,tar_train)\n",
        "print ('training data R-square')\n",
        "print(rsquared_train)\n",
        "##Train R^2"
      ],
      "execution_count": 0,
      "outputs": [
        {
          "output_type": "stream",
          "text": [
            "training data R-square\n",
            "0.3910734123152629\n"
          ],
          "name": "stdout"
        }
      ]
    },
    {
      "cell_type": "code",
      "metadata": {
        "id": "0wIM0uEhSzFI",
        "colab_type": "code",
        "outputId": "3a22063d-faeb-45b0-e55a-ee7f69b82491",
        "colab": {
          "base_uri": "https://localhost:8080/",
          "height": 51
        }
      },
      "source": [
        "rsquared_test=model.score(pred_test,tar_test)\n",
        "print ('test data R-square')\n",
        "print(rsquared_test)\n",
        "##Test R^2"
      ],
      "execution_count": 0,
      "outputs": [
        {
          "output_type": "stream",
          "text": [
            "test data R-square\n",
            "0.5244795062097862\n"
          ],
          "name": "stdout"
        }
      ]
    },
    {
      "cell_type": "markdown",
      "metadata": {
        "id": "xRxNbvkylx0v",
        "colab_type": "text"
      },
      "source": [
        "###**New CSV Creation**"
      ]
    },
    {
      "cell_type": "code",
      "metadata": {
        "id": "8-b7yVpaqqXd",
        "colab_type": "code",
        "colab": {}
      },
      "source": [
        "from google.colab import files\n",
        "\n",
        "fulldata.to_csv('myrusdata.csv')\n",
        "files.download('myrusdata.csv')\n",
        "\n",
        "## code to download a csv that contained the columns I created so i could upload that data to DataRobot."
      ],
      "execution_count": 0,
      "outputs": []
    }
  ]
}