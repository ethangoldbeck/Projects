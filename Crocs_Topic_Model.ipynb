{
  "nbformat": 4,
  "nbformat_minor": 0,
  "metadata": {
    "colab": {
      "name": "Crocs Topic Model.ipynb",
      "provenance": [],
      "collapsed_sections": [
        "NL2faxfsWFpE",
        "lfTh_dnpWvJ5"
      ],
      "include_colab_link": true
    },
    "kernelspec": {
      "name": "python3",
      "display_name": "Python 3"
    }
  },
  "cells": [
    {
      "cell_type": "markdown",
      "metadata": {
        "id": "view-in-github",
        "colab_type": "text"
      },
      "source": [
        "<a href=\"https://colab.research.google.com/github/ethangoldbeck/grit-hub/blob/master/Crocs_Topic_Model.ipynb\" target=\"_parent\"><img src=\"https://colab.research.google.com/assets/colab-badge.svg\" alt=\"Open In Colab\"/></a>"
      ]
    },
    {
      "cell_type": "markdown",
      "metadata": {
        "id": "NL2faxfsWFpE",
        "colab_type": "text"
      },
      "source": [
        "# Asin Extraction\n"
      ]
    },
    {
      "cell_type": "code",
      "metadata": {
        "colab_type": "code",
        "id": "3TDdBHfiWVIt",
        "outputId": "33466f62-4cd1-41ea-ee0e-8ad690a6a2fe",
        "colab": {
          "base_uri": "https://localhost:8080/",
          "height": 122
        }
      },
      "source": [
        "import pickle\n",
        "import json\n",
        "\n",
        "from google.colab import drive\n",
        "drive.mount('/content/drive')\n",
        "\n",
        "path = 'drive/My Drive/Colab Notebooks/Topic Modeling/meta_Clothing_Shoes_and_Jewelry.json'\n",
        "\n",
        "loadedjson = open(path, 'r')"
      ],
      "execution_count": 0,
      "outputs": [
        {
          "output_type": "stream",
          "text": [
            "Go to this URL in a browser: https://accounts.google.com/o/oauth2/auth?client_id=947318989803-6bn6qk8qdgf4n4g3pfee6491hc0brc4i.apps.googleusercontent.com&redirect_uri=urn%3aietf%3awg%3aoauth%3a2.0%3aoob&response_type=code&scope=email%20https%3a%2f%2fwww.googleapis.com%2fauth%2fdocs.test%20https%3a%2f%2fwww.googleapis.com%2fauth%2fdrive%20https%3a%2f%2fwww.googleapis.com%2fauth%2fdrive.photos.readonly%20https%3a%2f%2fwww.googleapis.com%2fauth%2fpeopleapi.readonly\n",
            "\n",
            "Enter your authorization code:\n",
            "··········\n",
            "Mounted at /content/drive\n"
          ],
          "name": "stdout"
        }
      ]
    },
    {
      "cell_type": "code",
      "metadata": {
        "id": "4AmkVsfOouJc",
        "colab_type": "code",
        "outputId": "00d557a4-4162-49f7-8bf7-006f3420b790",
        "colab": {
          "base_uri": "https://localhost:8080/",
          "height": 272
        }
      },
      "source": [
        "from time import sleep\n",
        "\n",
        "count = 0\n",
        "\n",
        "allproducts = {}\n",
        "\n",
        "for aline in loadedjson:\n",
        "  count += 1\n",
        "  if count % 100000 == 0:\n",
        "    print(count)\n",
        "\n",
        "  aproduct = eval(aline)\n",
        "  allproducts[aproduct['asin']] = aproduct"
      ],
      "execution_count": 0,
      "outputs": [
        {
          "output_type": "stream",
          "text": [
            "100000\n",
            "200000\n",
            "300000\n",
            "400000\n",
            "500000\n",
            "600000\n",
            "700000\n",
            "800000\n",
            "900000\n",
            "1000000\n",
            "1100000\n",
            "1200000\n",
            "1300000\n",
            "1400000\n",
            "1500000\n"
          ],
          "name": "stdout"
        }
      ]
    },
    {
      "cell_type": "code",
      "metadata": {
        "id": "V30ZkIAbtptW",
        "colab_type": "code",
        "outputId": "1c769f92-31d7-4832-9c7a-5ec81486534c",
        "colab": {
          "base_uri": "https://localhost:8080/",
          "height": 34
        }
      },
      "source": [
        "len(allproducts)"
      ],
      "execution_count": 0,
      "outputs": [
        {
          "output_type": "execute_result",
          "data": {
            "text/plain": [
              "1503384"
            ]
          },
          "metadata": {
            "tags": []
          },
          "execution_count": 3
        }
      ]
    },
    {
      "cell_type": "code",
      "metadata": {
        "id": "n1jeDPIZs2TD",
        "colab_type": "code",
        "outputId": "8f70f2d1-bbf9-4c40-e049-a0acd93aabd2",
        "colab": {
          "base_uri": "https://localhost:8080/",
          "height": 272
        }
      },
      "source": [
        "allcategories = {}\n",
        "count = 0\n",
        "\n",
        "for aproduct in allproducts:\n",
        "  count += 1\n",
        "  if count % 100000 == 0:\n",
        "    print(count/len(allproducts))\n",
        "  aproduct = allproducts[aproduct]\n",
        "  if 'categories' in aproduct:\n",
        "    for categories in aproduct['categories']:\n",
        "      for acategory in categories:\n",
        "        if acategory in allcategories:\n",
        "          allcategories[acategory] += 1\n",
        "        if acategory not in allcategories:\n",
        "          allcategories[acategory] = 1"
      ],
      "execution_count": 0,
      "outputs": [
        {
          "output_type": "stream",
          "text": [
            "0.06651660520532346\n",
            "0.13303321041064692\n",
            "0.19954981561597038\n",
            "0.26606642082129384\n",
            "0.33258302602661727\n",
            "0.39909963123194075\n",
            "0.4656162364372642\n",
            "0.5321328416425877\n",
            "0.5986494468479111\n",
            "0.6651660520532345\n",
            "0.7316826572585581\n",
            "0.7981992624638815\n",
            "0.8647158676692049\n",
            "0.9312324728745284\n",
            "0.9977490780798518\n"
          ],
          "name": "stdout"
        }
      ]
    },
    {
      "cell_type": "code",
      "metadata": {
        "id": "fazGFiCIsdds",
        "colab_type": "code",
        "outputId": "8dfdbb62-1d51-47d7-b368-da85498b1546",
        "colab": {
          "base_uri": "https://localhost:8080/",
          "height": 34
        }
      },
      "source": [
        "allcategories['Nike']\n",
        "allcategories['adidas']\n",
        "allcategories['crocs']\n",
        "##min 1500 products"
      ],
      "execution_count": 0,
      "outputs": [
        {
          "output_type": "execute_result",
          "data": {
            "text/plain": [
              "5089"
            ]
          },
          "metadata": {
            "tags": []
          },
          "execution_count": 5
        }
      ]
    },
    {
      "cell_type": "code",
      "metadata": {
        "id": "BUCs1IaYwg9X",
        "colab_type": "code",
        "colab": {}
      },
      "source": [
        "sortedlist = []\n",
        "\n",
        "for acategory in allcategories:\n",
        "  sortedlist.append((allcategories[acategory], acategory))"
      ],
      "execution_count": 0,
      "outputs": []
    },
    {
      "cell_type": "code",
      "metadata": {
        "id": "afgIEyIww3Bs",
        "colab_type": "code",
        "outputId": "3c6f8bfe-4f5f-400d-c3cf-65f3655e6478",
        "colab": {
          "base_uri": "https://localhost:8080/",
          "height": 1000
        }
      },
      "source": [
        "sorted(sortedlist, reverse = True)"
      ],
      "execution_count": 0,
      "outputs": [
        {
          "output_type": "execute_result",
          "data": {
            "text/plain": [
              "[(3429257, 'Clothing, Shoes & Jewelry'),\n",
              " (1086181, 'Women'),\n",
              " (617092, 'Clothing'),\n",
              " (541681, 'Men'),\n",
              " (537761, 'Novelty, Costumes & More'),\n",
              " (432653, 'Shoes'),\n",
              " (339900, 'Novelty'),\n",
              " (268065, 'Shoes & Accessories: International Shipping Available'),\n",
              " (255454, 'Jewelry'),\n",
              " (174962, 'Accessories'),\n",
              " (97095, 'Girls'),\n",
              " (93596, 'Tops & Tees'),\n",
              " (87688, 'Dresses'),\n",
              " (84549, 'T-Shirts'),\n",
              " (82063, 'Boots'),\n",
              " (80302, 'Shirts'),\n",
              " (79897, 'Sandals'),\n",
              " (79545, 'Watches'),\n",
              " (77684, 'Boys'),\n",
              " (73507, 'Jewelry: International Shipping Available'),\n",
              " (72372, 'Athletic'),\n",
              " (71414, 'Wrist Watches'),\n",
              " (70335, 'Sports & Outdoors'),\n",
              " (59763, 'Petite'),\n",
              " (58350, 'Fashion'),\n",
              " (53826, 'Costumes & Accessories'),\n",
              " (53021, 'Earrings'),\n",
              " (51728, 'Baby'),\n",
              " (50943, 'Comfort Shoes'),\n",
              " (50662, 'Casual'),\n",
              " (50357, 'Boot Shop'),\n",
              " (50124, 'C'),\n",
              " (49599, 'Active'),\n",
              " (49491, 'Band & Music Fan'),\n",
              " (46004, 'New Arrivals'),\n",
              " (43722, 'Necklaces & Pendants'),\n",
              " (43410, 'Intimates'),\n",
              " (43100, 'S'),\n",
              " (41709, 'Lingerie, Sleep & Lounge'),\n",
              " (41542, 'Handbags & Wallets'),\n",
              " (41400, 'Rings'),\n",
              " (40832, \"Women's Luxury Brands\"),\n",
              " (39550, 'N'),\n",
              " (38675, 'Hats & Caps'),\n",
              " (38262, 'Fine'),\n",
              " (35651, 'Luggage & Travel Gear'),\n",
              " (35564, 'Pumps'),\n",
              " (34640, 'Big & Tall'),\n",
              " (34623, 'Available for International Shipping'),\n",
              " (33139, 'Fashion Sneakers'),\n",
              " (31199, 'Jeans'),\n",
              " (30947, 'Baby Girls'),\n",
              " (30065, 'Running'),\n",
              " (29970, 'Surf, Skate & Street'),\n",
              " (28997, 'Fashion Watches'),\n",
              " (28996, 'Exotic Apparel'),\n",
              " (28481, 'Bracelets'),\n",
              " (27374, 'Gemstones'),\n",
              " (26836, 'Necklaces'),\n",
              " (26728, 'Amazon Curated Collection'),\n",
              " (26138, 'Costumes'),\n",
              " (25887, 'D'),\n",
              " (25827, 'R'),\n",
              " (25529, 'B'),\n",
              " (24922, 'Flats'),\n",
              " (23403, 'Sunglasses & Eyewear Accessories'),\n",
              " (23230, 'Juniors'),\n",
              " (23189, 'Knits & Tees'),\n",
              " (23113, 'Plus-Size'),\n",
              " (23096, 'Pants'),\n",
              " (23022, 'Sunglasses'),\n",
              " (22241, 'Baby Boys'),\n",
              " (21718, 'Night Out & Cocktail'),\n",
              " (21569, 'Sweaters'),\n",
              " (21058, 'Bras'),\n",
              " (21023, 'Pendants'),\n",
              " (20978, 'Sleep & Lounge'),\n",
              " (20767, 'Body Jewelry'),\n",
              " (20715, 'Loafers & Slip-Ons'),\n",
              " (20656, 'Sport Watches'),\n",
              " (20534, 'Jackets & Coats'),\n",
              " (20209, 'T'),\n",
              " (19829, 'Work Wear & Uniforms'),\n",
              " (19790, 'Blouses & Button-Down Shirts'),\n",
              " (19734, 'M'),\n",
              " (19466, 'Piercing Jewelry'),\n",
              " (19295, 'Outdoor & Work'),\n",
              " (18595, 'P'),\n",
              " (17594, 'Outdoor'),\n",
              " (17320, 'Shoulder Bags'),\n",
              " (17019, 'K'),\n",
              " (16720, 'Shorts'),\n",
              " (16388, 'Everyday Bras'),\n",
              " (16166, 'Swim'),\n",
              " (15855, 'Special Occasion'),\n",
              " (15680, 'Active Shirts & Tees'),\n",
              " (15533, 'Shop by Designer'),\n",
              " (15384, 'Kids & Baby'),\n",
              " (15359, 'Swimsuits & Cover Ups'),\n",
              " (15139, 'L'),\n",
              " (15032, 'Charms'),\n",
              " (14912, 'Street, Surf & Skate'),\n",
              " (14887, 'F'),\n",
              " (14378, 'Coats & Jackets'),\n",
              " (13852, 'Clothing Sets'),\n",
              " (13296, 'Underwear'),\n",
              " (13096, 'Wallets, Card Cases & Money Organizers'),\n",
              " (12867, 'Tanks & Camis'),\n",
              " (12537, 'Diamonds'),\n",
              " (12483, 'Socks'),\n",
              " (12379, 'Socks & Hosiery'),\n",
              " (12339, 'Casual Button-Down Shirts'),\n",
              " (12326, 'Top-Handle Bags'),\n",
              " (12302, 'E'),\n",
              " (12268, 'Sneakers'),\n",
              " (11828, 'Winter Promo'),\n",
              " (11812, 'Wear to Work'),\n",
              " (11735, 'Oxfords'),\n",
              " (11295, 'Wallets'),\n",
              " (11000, 'Skechers'),\n",
              " (10836, 'J'),\n",
              " (10602, 'Hiking & Trekking'),\n",
              " (10533, 'Slippers'),\n",
              " (10517, 'Clarks'),\n",
              " (10273, 'Skirts'),\n",
              " (10239, 'Designer Shoes & Handbags'),\n",
              " (10203, 'Backpacks'),\n",
              " (9751, 'New Balance'),\n",
              " (9683, 'Luggage'),\n",
              " (9639, 'Scarves & Wraps'),\n",
              " (9581, 'Pullovers'),\n",
              " (9525, 'Panties'),\n",
              " (9435, 'Belts'),\n",
              " (9225, 'Pant Sets'),\n",
              " (9178, 'Bikinis'),\n",
              " (9160, 'Drop & Dangle'),\n",
              " (9113, 'Fashion Hoodies & Sweatshirts'),\n",
              " (9105, 'More Accessories'),\n",
              " (8645, 'adidas'),\n",
              " (8611, 'Baseball Caps'),\n",
              " (8574, 'G'),\n",
              " (8516, 'Religious'),\n",
              " (8460, 'Sleepwear & Robes'),\n",
              " (8449, 'Cardigans'),\n",
              " (8327, 'Nike'),\n",
              " (8291, 'Hoodies'),\n",
              " (8166, 'Calvin Klein'),\n",
              " (8128, 'Mules & Clogs'),\n",
              " (8127, 'Active Pants'),\n",
              " (8089, 'Tees'),\n",
              " (7775, 'Jewelry Outlet'),\n",
              " (7771, 'Nine West'),\n",
              " (7708, 'H'),\n",
              " (7611, 'Puma'),\n",
              " (7283, 'Fashion Scarves'),\n",
              " (7274, 'V'),\n",
              " (7191, 'Leggings'),\n",
              " (7106, 'Jewelry Accessories'),\n",
              " (7101, 'Movie & TV Fan'),\n",
              " (7023, 'Polos'),\n",
              " (6964, 'New Jewelry'),\n",
              " (6798, 'Tops'),\n",
              " (6767, 'Bodysuits'),\n",
              " (6684, 'Playwear'),\n",
              " (6607, 'Snow & Cold Weather'),\n",
              " (6515, 'Casual Socks'),\n",
              " (6393, 'Wedding Rings'),\n",
              " (6165, 'Reebok'),\n",
              " (6130, 'Jewelry Boxes & Organizers'),\n",
              " (6124, 'Walking'),\n",
              " (5963, 'ASICS'),\n",
              " (5959, 'Invicta'),\n",
              " (5927, 'Wedding & Engagement Rings'),\n",
              " (5898, 'Maternity'),\n",
              " (5881, 'Sets'),\n",
              " (5876, 'Stud'),\n",
              " (5859, 'One-Pieces'),\n",
              " (5775, 'Cross-Body Bags'),\n",
              " (5747, 'Pearl Jewelry'),\n",
              " (5745, 'Watch Bands'),\n",
              " (5725, 'Gloves & Mittens'),\n",
              " (5721, 'Plugs'),\n",
              " (5711, 'Active Shorts'),\n",
              " (5605, 'Neckties'),\n",
              " (5521, 'Wool & Blends'),\n",
              " (5519, 'Casual Daypacks'),\n",
              " (5420, 'Skateboarding'),\n",
              " (5346, 'Sweatshirts'),\n",
              " (5335, 'Bottoms'),\n",
              " (5334, 'Shapewear'),\n",
              " (5314, 'Down & Down Alternative'),\n",
              " (5285, 'Board Shorts'),\n",
              " (5180, 'Fan Shop'),\n",
              " (5155, 'Briefs'),\n",
              " (5126, 'Pajama Sets'),\n",
              " (5095, 'Robes'),\n",
              " (5089, 'crocs'),\n",
              " (5080, 'Dress'),\n",
              " (5057, 'Wedding & Engagement'),\n",
              " (5015, 'Athletic Socks'),\n",
              " (4988, 'Columbia'),\n",
              " (4895, 'Nautica'),\n",
              " (4849, 'Boutique Designer Jewelry'),\n",
              " (4705, 'Cold Weather Gloves'),\n",
              " (4701, 'Sports Sunglasses'),\n",
              " (4604, 'O'),\n",
              " (4594, 'Suits & Sport Coats'),\n",
              " (4593, 'Steve Madden'),\n",
              " (4562, 'Military'),\n",
              " (4468, 'Rain'),\n",
              " (4462, 'Watch Accessories'),\n",
              " (4457, 'Work & Safety'),\n",
              " (4398, 'Wedding Party Gifts'),\n",
              " (4385, 'W'),\n",
              " (4243, 'Snow Boots'),\n",
              " (4237, 'Nightgowns & Sleepshirts'),\n",
              " (4185, 'Brooches & Pins'),\n",
              " (4181, 'Lucky Brand'),\n",
              " (4171, 'Engagement Rings'),\n",
              " (4100, 'Barbells'),\n",
              " (4072, 'Boxer Briefs'),\n",
              " (4037, 'Vests'),\n",
              " (4036, 'Kenneth Cole REACTION'),\n",
              " (4027, 'Fitness & Cross-Training'),\n",
              " (4014, 'Heart-Shaped Jewelry'),\n",
              " (3980, 'Exercise & Fitness'),\n",
              " (3974, 'Charms & Charm Bracelets'),\n",
              " (3965, 'Motorcycle'),\n",
              " (3955, 'I'),\n",
              " (3953, 'Statement'),\n",
              " (3904, 'Kenneth Cole New York'),\n",
              " (3899, 'Timberland'),\n",
              " (3848, 'Merrell'),\n",
              " (3812, \"Kids' Backpacks\"),\n",
              " (3790, 'Travel Accessories'),\n",
              " (3760, 'Hiking Shoes'),\n",
              " (3725, 'Messenger Bags'),\n",
              " (3678, 'Western'),\n",
              " (3657, 'FOSSIL'),\n",
              " (3633, 'Tommy Hilfiger'),\n",
              " (3633, 'Footies & Rompers'),\n",
              " (3604, 'Medical'),\n",
              " (3598, 'Jessica Simpson'),\n",
              " (3597, 'Work Utility & Safety'),\n",
              " (3586, 'Roxy'),\n",
              " (3575, 'Masks'),\n",
              " (3569, 'Industrial & Construction'),\n",
              " (3533, 'Wigs'),\n",
              " (3520, 'Sport Sandals'),\n",
              " (3515, 'Lingerie'),\n",
              " (3513, 'U'),\n",
              " (3502, 'Dickies'),\n",
              " (3500, 'Rockport'),\n",
              " (3488, 'Tights'),\n",
              " (3473, 'Rain Footwear'),\n",
              " (3452, 'Contemporary Designer Jewelry'),\n",
              " (3435, 'Lightweight Jackets'),\n",
              " (3419, 'Jewelry Boxes'),\n",
              " (3419, 'Hoop'),\n",
              " (3407, 'Outerwear & Coats'),\n",
              " (3389, 'Trail Running'),\n",
              " (3355, 'Carhartt'),\n",
              " (3350, 'Night Out & Special Occasion'),\n",
              " (3346, 'Tunics'),\n",
              " (3319, 'Hiking Boots'),\n",
              " (3272, 'Bustiers & Corsets'),\n",
              " (3263, 'Suits & Blazers'),\n",
              " (3258, 'Tank Tops'),\n",
              " (3253, 'Pants & Capris'),\n",
              " (3181, 'Soccer'),\n",
              " (3145, 'Basketball'),\n",
              " (3135, 'Link'),\n",
              " (3116, 'Shoe Care & Accessories'),\n",
              " (3109, 'Chains'),\n",
              " (3105, 'Riding'),\n",
              " (3102, 'Shearling'),\n",
              " (3054, 'Keen'),\n",
              " (3010, 'Leather & Faux Leather'),\n",
              " (2988, 'Dockers'),\n",
              " (2975, 'Stride Rite'),\n",
              " (2969, 'Cover-Ups'),\n",
              " (2966, 'Seiko Watches'),\n",
              " (2936, 'Dress Shirts'),\n",
              " (2921, 'Active Hoodies'),\n",
              " (2917, 'Skullies & Beanies'),\n",
              " (2914, 'Naturalizer'),\n",
              " (2914, 'Luxury Watches'),\n",
              " (2908, 'Denim'),\n",
              " (2907, 'Golf'),\n",
              " (2870, 'COACH'),\n",
              " (2867, 'GUESS'),\n",
              " (2851, 'Button-Down Shirts'),\n",
              " (2851, 'Betsey Johnson'),\n",
              " (2829, 'Quiksilver'),\n",
              " (2829, 'Q'),\n",
              " (2827, 'Sports Bras'),\n",
              " (2825, 'Blazers'),\n",
              " (2732, 'Hosiery'),\n",
              " (2720, 'Sun Hats'),\n",
              " (2698, 'Lingerie Sets'),\n",
              " (2688, 'Infants & Toddlers'),\n",
              " (2686, 'Tankinis'),\n",
              " (2640, 'Short Sets'),\n",
              " (2634, 'Fleece'),\n",
              " (2633, 'Trench & Rain'),\n",
              " (2587, 'Diesel'),\n",
              " (2542, 'Antique & Estate Jewelry'),\n",
              " (2522, 'Cuff Links'),\n",
              " (2489, 'Contemporary'),\n",
              " (2467, 'Teva'),\n",
              " (2463, 'Travel Duffels'),\n",
              " (2431, 'Saucony'),\n",
              " (2416, 'Combat'),\n",
              " (2405, 'DC'),\n",
              " (2374, 'Fossil Watches'),\n",
              " (2368, 'Active & Performance'),\n",
              " (2338, 'Timex'),\n",
              " (2314, 'Jackets'),\n",
              " (2302, 'Cargo'),\n",
              " (2295, 'Snow Sports'),\n",
              " (2248, 'Skiing'),\n",
              " (2241, 'World Apparel'),\n",
              " (2227, 'Southpole'),\n",
              " (2210, 'Clutches'),\n",
              " (2209, \"Men's Athletic Watches\"),\n",
              " (2206, 'Vegetarian'),\n",
              " (2205, 'FRYE'),\n",
              " (2194, 'Fine Jewelry'),\n",
              " (2186, 'ECCO'),\n",
              " (2182, 'Rompers'),\n",
              " (2165, 'Gifts for the Bride'),\n",
              " (2160, 'Yoga'),\n",
              " (2120, 'Flat Front'),\n",
              " (2101, 'Racquet Sports'),\n",
              " (2055, 'Leg Avenue'),\n",
              " (2012, 'Umbrellas'),\n",
              " (1999, 'Travel Totes'),\n",
              " (1990, 'Oakley'),\n",
              " (1983, 'Active Sweatshirts'),\n",
              " (1971, 'Bangle'),\n",
              " (1952, 'Suits'),\n",
              " (1945, 'Aerosoles'),\n",
              " (1940, 'Hats'),\n",
              " (1932, 'Belt Buckles'),\n",
              " (1928, 'Blouses'),\n",
              " (1912, 'Briefcases'),\n",
              " (1909, 'Vince Camuto'),\n",
              " (1890, 'Water Shoes'),\n",
              " (1885, 'Track & Active Jackets'),\n",
              " (1848, 'Wedding'),\n",
              " (1838, 'Cole Haan'),\n",
              " (1828, 'Jumpsuits, Rompers & Overalls'),\n",
              " (1826, 'Henleys'),\n",
              " (1803, 'Polo Ralph Lauren'),\n",
              " (1788, 'Pleaser'),\n",
              " (1774, 'Sleep Bottoms'),\n",
              " (1765, 'Ballet & Dance'),\n",
              " (1758, 'Boxers'),\n",
              " (1755, 'Evening Bags'),\n",
              " (1744, 'Headbands'),\n",
              " (1731, 'Jewelry & Watches'),\n",
              " (1715, 'Clogs & Mules'),\n",
              " (1713, 'Sperry Top-Sider'),\n",
              " (1712, 'Swimwear'),\n",
              " (1707, 'BCBGeneration'),\n",
              " (1695, 'Leg Warmers'),\n",
              " (1690, 'Bow Ties'),\n",
              " (1689, 'Trunks'),\n",
              " (1673, 'Motorcycle & ATV Casual Footwear'),\n",
              " (1670, 'Dansko'),\n",
              " (1663, 'Bandolino'),\n",
              " (1653, 'Madden Girl'),\n",
              " (1653, 'IZOD'),\n",
              " (1648, 'Active Base Layers'),\n",
              " (1645, 'Buttons & Pins'),\n",
              " (1643, 'Harley-Davidson'),\n",
              " (1638, 'Tennis'),\n",
              " (1625, 'Speedo'),\n",
              " (1620, 'Bow Ties & Cummerbunds'),\n",
              " (1617, 'Fall Event'),\n",
              " (1608, 'Fedoras'),\n",
              " (1607, 'Sanuk'),\n",
              " (1606, 'Timeless Designer Jewelry'),\n",
              " (1600, 'Scarves'),\n",
              " (1594, 'Dress & Trouser Socks'),\n",
              " (1581, 'Rampage'),\n",
              " (1577, 'Michael Antonio'),\n",
              " (1551, 'G-Strings, Thongs & Tangas'),\n",
              " (1544, 'Wraps & Pashminas'),\n",
              " (1534, 'UGG'),\n",
              " (1534, 'Bands'),\n",
              " (1531, 'Newsboy Caps'),\n",
              " (1530, 'Prescription Eyewear Frames'),\n",
              " (1528, 'School Uniforms'),\n",
              " (1522, 'Boating & Water Sports'),\n",
              " (1516, 'Dr. Martens'),\n",
              " (1503, 'Cold Weather Scarves & Wraps'),\n",
              " (1500, 'Footies'),\n",
              " (1496, 'LifeStride'),\n",
              " (1493, 'Chukka'),\n",
              " (1488, 'Cuff'),\n",
              " (1485, 'Plain Silver Jewelry'),\n",
              " (1477, 'Vera Bradley'),\n",
              " (1477, 'Rain Boots'),\n",
              " (1477, 'Mizuno'),\n",
              " (1473, 'Carry-Ons'),\n",
              " (1465, 'Swimming'),\n",
              " (1450, 'XOXO'),\n",
              " (1450, 'X'),\n",
              " (1447, 'Cold Weather'),\n",
              " (1440, 'Thermal Underwear'),\n",
              " (1436, 'Converse'),\n",
              " (1435, 'Suitcases'),\n",
              " (1433, 'Skagen Watches'),\n",
              " (1425, 'Screws'),\n",
              " (1412, 'Gym Bags'),\n",
              " (1405, 'Soda'),\n",
              " (1398, 'Easy Spirit'),\n",
              " (1382, 'Socks & Tights'),\n",
              " (1366, 'Scrub Tops'),\n",
              " (1365, 'Ed Hardy'),\n",
              " (1362, 'Undershirts'),\n",
              " (1360, 'Kenneth Cole'),\n",
              " (1354, \"Kids' Watches\"),\n",
              " (1346, 'Tunnels'),\n",
              " (1340, 'Brooks'),\n",
              " (1328, 'Rash Guards'),\n",
              " (1320, 'Cycling'),\n",
              " (1319, 'Boy Shorts'),\n",
              " (1311, 'Outerwear'),\n",
              " (1304, 'Two-Pieces'),\n",
              " (1302, 'Hush Puppies'),\n",
              " (1301, 'Born'),\n",
              " (1286, 'Kamik'),\n",
              " (1278, 'Track Jackets'),\n",
              " (1267, 'Shoelaces'),\n",
              " (1264, 'Calvin Klein Test Store'),\n",
              " (1258, 'Birkenstock'),\n",
              " (1254, '0-9'),\n",
              " (1251, 'Loafers'),\n",
              " (1236, 'Bridal Sets'),\n",
              " (1230, 'Miz Mooz'),\n",
              " (1224, 'Keds'),\n",
              " (1221, 'Bearpaw'),\n",
              " (1214, 'Active Leggings'),\n",
              " (1212, 'Beauty'),\n",
              " (1203, 'FitFlop'),\n",
              " (1201, 'Gifts for the Bridesmaids'),\n",
              " (1200, 'Fila'),\n",
              " (1200, 'Bead'),\n",
              " (1199, 'Citizen'),\n",
              " (1198, 'Toe Rings'),\n",
              " (1198, 'Dance'),\n",
              " (1188, 'Easy Street'),\n",
              " (1183, 'Juicy Couture'),\n",
              " (1182, 'Sunglasses & Eyewear'),\n",
              " (1177, 'Franco Sarto'),\n",
              " (1167, 'Sport Coats & Blazers'),\n",
              " (1165, 'Blanket Sleepers'),\n",
              " (1149, 'Capezio'),\n",
              " (1136, 'Hipsters'),\n",
              " (1135, 'Full Price'),\n",
              " (1127, 'dollhouse'),\n",
              " (1120, '7 For All Mankind'),\n",
              " (1119, 'Robeez'),\n",
              " (1118, 'BCBGMAXAZRIA'),\n",
              " (1117, 'Y'),\n",
              " (1114, 'Reef'),\n",
              " (1111, 'Shells'),\n",
              " (1111, 'Jewelry Sets'),\n",
              " (1110, 'Nursing & Maternity Bras'),\n",
              " (1098, 'Volatile'),\n",
              " (1094, 'Chinese Laundry'),\n",
              " (1087, 'Button-Down & Dress Shirts'),\n",
              " (1076, 'Minimizers'),\n",
              " (1075, 'Eternity Rings'),\n",
              " (1073, 'Z'),\n",
              " (1060, 'Insulated'),\n",
              " (1060, 'Enzo Angiolini'),\n",
              " (1056, 'DV by Dolce Vita'),\n",
              " (1053, 'Slips'),\n",
              " (1052, 'Geox'),\n",
              " (1049, 'Sweatpants'),\n",
              " (1048, 'Ray-Ban'),\n",
              " (1046, 'Yellow Box'),\n",
              " (1039, 'London Fog'),\n",
              " (1014, 'Hatley'),\n",
              " (1004, 'Suspenders'),\n",
              " (1001, 'Clasp'),\n",
              " (999, 'Seychelles'),\n",
              " (997, 'Keychains'),\n",
              " (986, 'Bridesmaid Dresses'),\n",
              " (983, 'SOREL'),\n",
              " (981, 'G-Strings & Thongs'),\n",
              " (975, 'Woolrich'),\n",
              " (972, 'Scrub Bottoms'),\n",
              " (969, 'Sports Duffels'),\n",
              " (968, 'Tights & Leggings'),\n",
              " (961, 'Tapers'),\n",
              " (958, 'Ariat'),\n",
              " (954, 'Wristlets'),\n",
              " (944, 'Sam Edelman'),\n",
              " (943, 'Naughty Monkey'),\n",
              " (939, 'Cotton'),\n",
              " (933, 'Stacy Adams'),\n",
              " (931, 'Layette Sets'),\n",
              " (926, 'Salomon'),\n",
              " (925, 'Minnetonka'),\n",
              " (923, 'Sleep Sets'),\n",
              " (922, 'ACORN'),\n",
              " (919, 'Miss Me'),\n",
              " (914, 'Stacking'),\n",
              " (914, 'Gloves'),\n",
              " (914, 'DKNY'),\n",
              " (908, 'Nightgowns'),\n",
              " (908, 'Dearfoams'),\n",
              " (907, \"WF Inheritance Test Women's CK Custom Store\"),\n",
              " (906, 'GUESS? Watches'),\n",
              " (904, 'Skirts, Scooters & Skorts'),\n",
              " (903, 'Control Panties'),\n",
              " (898, 'French Connection'),\n",
              " (897, 'UNIONBAY'),\n",
              " (889, 'Gifts'),\n",
              " (889, 'Caterpillar'),\n",
              " (887, 'Handbag Accessories'),\n",
              " (880, 'Wolverine'),\n",
              " (872, 'Strand'),\n",
              " (872, 'Last Chance Savings'),\n",
              " (870, 'Bogs'),\n",
              " (869, 'Hair Care'),\n",
              " (868, 'Hunting'),\n",
              " (864, 'Team Sports'),\n",
              " (864, 'Shrugs'),\n",
              " (863, 'Ralph Lauren'),\n",
              " (859, 'Packing Organizers'),\n",
              " (857, 'Snow Wear'),\n",
              " (851, 'Windbreakers'),\n",
              " (847, 'Jewelry Towers'),\n",
              " (842, 'J.Renee'),\n",
              " (841, 'Cowboy Hats'),\n",
              " (840, 'Anne Klein'),\n",
              " (839, 'MIA'),\n",
              " (838, 'Thigh Slimmers'),\n",
              " (835, 'Annie'),\n",
              " (832, 'Military & Tactical'),\n",
              " (829, 'Not Rated'),\n",
              " (820, 'Styling Tools'),\n",
              " (816, 'Styling Accessories'),\n",
              " (814, 'Blazers & Jackets'),\n",
              " (813, 'Michael Kors Watches'),\n",
              " (812, 'adidas Originals'),\n",
              " (807, 'Bass'),\n",
              " (802, 'Rain Wear'),\n",
              " (798, 'Plain Bands'),\n",
              " (795, 'Jambu'),\n",
              " (788, 'Babydolls, Chemises & Negligees'),\n",
              " (787, 'Timberland PRO'),\n",
              " (783, 'Florsheim'),\n",
              " (779, 'Health Care & Food Service'),\n",
              " (779, 'Armitron'),\n",
              " (778, 'Hi-Tec'),\n",
              " (771, 'Hair Accessories'),\n",
              " (767, 'Coin Purses & Pouches'),\n",
              " (763, 'Stretch'),\n",
              " (761, 'Polo Shirts'),\n",
              " (761, 'Luggage Sets'),\n",
              " (761, 'Beanies & Knit Hats'),\n",
              " (757, 'Spring Step'),\n",
              " (750, 'BIG BUDDHA'),\n",
              " (748, 'Health & Personal Care'),\n",
              " (742, 'Swatch Watches'),\n",
              " (741, 'VANELi'),\n",
              " (741, 'Slipper Socks'),\n",
              " (740, 'Active Underwear'),\n",
              " (738, 'Outdoor Gear'),\n",
              " (737, 'pediped'),\n",
              " (737, 'Original Penguin'),\n",
              " (733, 'Card & ID Cases'),\n",
              " (727, 'Skirt Sets'),\n",
              " (727, 'Camper'),\n",
              " (726, 'Tommy Bahama'),\n",
              " (724, 'Primigi'),\n",
              " (721, 'K-Swiss'),\n",
              " (720, 'Rash Guard Shirts'),\n",
              " (719, 'Waist Cinchers'),\n",
              " (716, 'Fox'),\n",
              " (715, 'Rocket Dog'),\n",
              " (715, 'Camping & Hiking'),\n",
              " (711, 'Ecko Unltd.'),\n",
              " (710, 'Camisoles & Tanks'),\n",
              " (706, 'Ryka'),\n",
              " (704, 'Nina'),\n",
              " (698, 'Strands'),\n",
              " (698, 'STEVEN by Steve Madden'),\n",
              " (697, 'Clothing Accessories'),\n",
              " (689, 'Pocket Watches'),\n",
              " (684, 'Tracksuits & Sweatsuits'),\n",
              " (682, 'Casual & Dress Socks'),\n",
              " (680, 'FLY London'),\n",
              " (679, 'Eyeglass Cases'),\n",
              " (678, 'Free One-Day Shipping on Jewelry'),\n",
              " (670, 'Baby Dolls'),\n",
              " (667, 'Balaclavas'),\n",
              " (666, 'Donald J Pliner'),\n",
              " (665, 'Summer Event'),\n",
              " (665, 'Marc by Marc Jacobs'),\n",
              " (664, 'Luggage Tags'),\n",
              " (663, 'Travel Wallets'),\n",
              " (662, 'Charm Bracelets'),\n",
              " (662, 'Breda'),\n",
              " (659, 'Earmuffs'),\n",
              " (654, 'Repair Tools & Kits'),\n",
              " (654, 'Baseball & Softball'),\n",
              " (653, 'Hobo'),\n",
              " (652, 'Western Chief'),\n",
              " (652, 'Other Sports'),\n",
              " (632, 'Cabinets & Cases'),\n",
              " (630, 'Replacement Sunglass Lenses'),\n",
              " (627, 'MICHAEL Michael Kors'),\n",
              " (626, 'Three, Five & Seven Stone Jewelry'),\n",
              " (626, 'Pearl Strands'),\n",
              " (626, 'Half Slips'),\n",
              " (625, 'See Kai Run'),\n",
              " (619, 'Active Skirts'),\n",
              " (618, 'Overalls & Coveralls'),\n",
              " (608, 'Dolce Vita'),\n",
              " (607, 'LEGO'),\n",
              " (599, \"Women's Athletic Watches\"),\n",
              " (598, 'Report'),\n",
              " (596, 'Chemises & Negligees'),\n",
              " (595, 'Promise Rings'),\n",
              " (595, 'Etnies'),\n",
              " (590, 'Food Service'),\n",
              " (589, 'Rip Curl'),\n",
              " (589, 'Made in USA'),\n",
              " (589, 'Bella'),\n",
              " (585, 'Luichiny'),\n",
              " (585, 'Equestrian Sports'),\n",
              " (576, 'Jewelry Trays'),\n",
              " (573, 'The SAK'),\n",
              " (573, 'Baby Phat'),\n",
              " (567, 'Hoodies & Active'),\n",
              " (565, 'Gucci'),\n",
              " (565, 'Active Top & Bottom Sets'),\n",
              " (564, 'Toys & Games'),\n",
              " (564, 'One-Piece Suits'),\n",
              " (558, 'Patagonia'),\n",
              " (558, 'Chelsea'),\n",
              " (553, 'Ted Baker'),\n",
              " (552, 'Tag Heuer'),\n",
              " (550, 'Trotters'),\n",
              " (546, 'Nixon Watches'),\n",
              " (544, 'Aquatalia by Marvin K.'),\n",
              " (541, 'Plain Gold Jewelry'),\n",
              " (539, 'Visors'),\n",
              " (536, 'Via Spiga'),\n",
              " (535, 'Bucket Hats'),\n",
              " (532, 'Handbag Hangers'),\n",
              " (532, 'Diesel Watches'),\n",
              " (529, 'Sag Harbor'),\n",
              " (529, 'Lockets'),\n",
              " (529, 'Ivanka Trump'),\n",
              " (527, 'Three-Stone Jewelry'),\n",
              " (527, 'B. MAKOWSKY'),\n",
              " (525, 'ZOO YORK'),\n",
              " (525, 'Sugar'),\n",
              " (525, 'Nursing'),\n",
              " (521, 'Riding Boots'),\n",
              " (520, 'TUMI'),\n",
              " (520, 'Johnston & Murphy'),\n",
              " (520, 'Avia'),\n",
              " (519, 'bebe'),\n",
              " (519, 'BC Footwear'),\n",
              " (519, 'Anniversary Rings'),\n",
              " (518, 'Bowling'),\n",
              " (516, 'Pour La Victoire'),\n",
              " (515, 'Money Clips'),\n",
              " (509, 'Ben Sherman'),\n",
              " (508, 'LeSportsac'),\n",
              " (508, 'John Deere'),\n",
              " (507, 'Danner'),\n",
              " (506, 'Chemises'),\n",
              " (506, 'Anoraks'),\n",
              " (505, 'No Show & Liner Socks'),\n",
              " (498, 'Tracksuits'),\n",
              " (496, 'Berets'),\n",
              " (492, 'Mittens'),\n",
              " (491, 'TapouT'),\n",
              " (491, 'Pads & Enhancers'),\n",
              " (491, 'Naturino'),\n",
              " (488, 'Ros Hommerson'),\n",
              " (486, 'T.U.K.'),\n",
              " (485, 'Wedding Dresses'),\n",
              " (485, 'Carlos by Carlos Santana'),\n",
              " (485, 'Caps & Hats'),\n",
              " (484, 'Garment Bags'),\n",
              " (483, 'Watch Winders'),\n",
              " (483, 'Track & Field & Cross Country'),\n",
              " (482, 'EMU Australia'),\n",
              " (482, 'BCBGirls'),\n",
              " (481, 'N.Y.L.A.'),\n",
              " (480, 'Fur & Faux Fur'),\n",
              " (479, 'Cold Weather Scarves'),\n",
              " (478, 'KATHY Van Zeeland'),\n",
              " (477, 'Dolce & Gabbana'),\n",
              " (468, 'Boutique 9'),\n",
              " (466, 'Havaianas'),\n",
              " (465, 'Fashion Hoodies'),\n",
              " (464, 'TSUBO'),\n",
              " (463, 'Spring Promo'),\n",
              " (463, 'BLOCH'),\n",
              " (462, 'Bostonian'),\n",
              " (461, 'Prada'),\n",
              " (460, 'Football'),\n",
              " (460, 'Bella Vita'),\n",
              " (460, 'Bags & Cases'),\n",
              " (457, 'SoftWalk'),\n",
              " (456, 'Sleepwear & Robes Sets'),\n",
              " (450, 'Watch Gifts'),\n",
              " (449, 'Stuart Weitzman'),\n",
              " (449, 'Akribos Watches'),\n",
              " (448, 'Gifts for the Groomsmen'),\n",
              " (448, 'Cleaning & Care'),\n",
              " (448, 'Badgley Mischka'),\n",
              " (446, 'Teddies & Bodysuits'),\n",
              " (446, 'Northside'),\n",
              " (445, 'Etienne Aigner'),\n",
              " (444, 'Pearl iZUMi'),\n",
              " (442, 'Wild Diva'),\n",
              " (438, 'Dreams'),\n",
              " (437, 'Sebago'),\n",
              " (434, 'Unlisted'),\n",
              " (430, 'CL by Chinese Laundry'),\n",
              " (426, 'Isaac Mizrahi'),\n",
              " (426, 'Element'),\n",
              " (425, 'Charles David'),\n",
              " (424, 'Walking Cradles'),\n",
              " (423, 'Liliana'),\n",
              " (422, 'Jumpsuits & Rompers'),\n",
              " (420, 'Handkerchiefs'),\n",
              " (419, 'MBT'),\n",
              " (419, 'G by GUESS'),\n",
              " (418, 'Circa Joan & David'),\n",
              " (416, 'Biviel'),\n",
              " (415, 'umi'),\n",
              " (414, 'Christening'),\n",
              " (412, 'Volleyball'),\n",
              " (412, 'Track Pants'),\n",
              " (412, 'Charles by Charles David'),\n",
              " (410, 'Keyrings & Keychains'),\n",
              " (409, 'Scrub Sets'),\n",
              " (407, 'John Fluevog'),\n",
              " (406, 'DKNY Watches'),\n",
              " (404, 'Vasque'),\n",
              " (403, 'Dress Coats'),\n",
              " (403, 'Bandanas'),\n",
              " (403, 'Applique Patches'),\n",
              " (402, 'Electronics'),\n",
              " (401, 'Gloves, Mittens & Liners'),\n",
              " (400, 'Card Cases'),\n",
              " (399, 'Cardigan'),\n",
              " (397, 'Sbicca'),\n",
              " (395, 'Tuxedos'),\n",
              " (394, 'MUK LUKS'),\n",
              " (393, 'Fashion Waist Packs'),\n",
              " (393, 'Baby Products'),\n",
              " (389, 'Bomber Hats'),\n",
              " (388, 'Party Supplies'),\n",
              " (387, 'Boating'),\n",
              " (385, 'Kelsi Dagger'),\n",
              " (382, 'Footwear'),\n",
              " (380, 'Denim Jackets'),\n",
              " (379, 'Orient'),\n",
              " (379, 'Dunham'),\n",
              " (378, 'Corso Como'),\n",
              " (377, 'ALL BLACK'),\n",
              " (376, 'Bodystockings'),\n",
              " (375, 'Timex test'),\n",
              " (375, 'Hamilton Watches'),\n",
              " (374, 'OTBT'),\n",
              " (374, 'Mother of the Bride Dresses'),\n",
              " (372, 'Nike Watches'),\n",
              " (372, 'Anklets'),\n",
              " (370, 'Jumping Jacks'),\n",
              " (369, 'Tignanello'),\n",
              " (369, 'Bates'),\n",
              " (369, 'Athletic Supporters'),\n",
              " (367, 'DKNYC'),\n",
              " (363, 'Baffin'),\n",
              " (362, 'Nunn Bush'),\n",
              " (361, 'Polishes & Dyes'),\n",
              " (361, 'Latico'),\n",
              " (361, 'JUMP'),\n",
              " (360, 'Chaco'),\n",
              " (359, 'Special Occasion Accessories'),\n",
              " (359, 'Jewelry Armoires'),\n",
              " (355, 'Fred Perry'),\n",
              " (354, 'Haflinger'),\n",
              " (354, 'Giorgio Brutini'),\n",
              " (353, 'Wenger'),\n",
              " (353, 'Maui Jim'),\n",
              " (353, 'Handbag Organizers'),\n",
              " (353, 'Gentle Souls'),\n",
              " (352, 'One Pieces'),\n",
              " (352, 'Control Slips'),\n",
              " (352, 'Collectible Watches'),\n",
              " (351, 'Vibram'),\n",
              " (350, 'XOXO Watches'),\n",
              " (350, 'Touch Ups'),\n",
              " (346, 'Health Care'),\n",
              " (345, 'Drawstring Bags'),\n",
              " (344, 'Heelys'),\n",
              " (341, 'Chooka'),\n",
              " (340, 'Tom Ford'),\n",
              " (340, 'Blowfish'),\n",
              " (339, 'Pullover'),\n",
              " (337, 'Versace'),\n",
              " (336, 'Foot Care'),\n",
              " (334, 'Summer Promo'),\n",
              " (334, 'Justin Boots'),\n",
              " (332, 'Suit Jackets'),\n",
              " (331, 'Shoe Decoration Charms'),\n",
              " (331, 'Naot'),\n",
              " (327, 'adidas Watches'),\n",
              " (327, 'Overalls'),\n",
              " (327, 'Irish Setter'),\n",
              " (326, 'Allen Edmonds'),\n",
              " (324, 'Poetic Licence'),\n",
              " (324, 'Movado'),\n",
              " (324, 'Grasshoppers'),\n",
              " (323, 'Y-Necklaces'),\n",
              " (323, 'DVS'),\n",
              " (323, 'Bloomers, Diaper Covers & Underwear'),\n",
              " (323, 'Aetrex'),\n",
              " (322, 'Active Skorts'),\n",
              " (321, 'Inov-8'),\n",
              " (320, 'Diamond Bands'),\n",
              " (319, 'Red Line/a_line'),\n",
              " (317, 'El Naturalista'),\n",
              " (313, 'Osiris'),\n",
              " (312, 'Leotards'),\n",
              " (311, 'Tretorn'),\n",
              " (310, 'Tools & Home Improvement'),\n",
              " (310, 'Me Too'),\n",
              " (308, 'Inserts & Insoles'),\n",
              " (305, 'Diamond Accented'),\n",
              " (302, 'Muck Boot'),\n",
              " (301, 'Rocawear'),\n",
              " (301, 'Gifts for Women'),\n",
              " (301, 'Blondo'),\n",
              " (300, 'Tools & Accessories'),\n",
              " (300, 'Sesto Meucci'),\n",
              " (300, 'Computers & Accessories'),\n",
              " (300, 'CDs & Vinyl'),\n",
              " (297, 'Unisex'),\n",
              " (297, 'Mary Jane'),\n",
              " (296, 'Fahrenheit'),\n",
              " (295, 'Passport Wallets'),\n",
              " (294, 'Climbing'),\n",
              " (294, 'Checkbook Covers'),\n",
              " (292, 'Tie Clips'),\n",
              " (291, 'Full Slips'),\n",
              " (291, 'Arche'),\n",
              " (287, 'Simple'),\n",
              " (287, 'Fergie'),\n",
              " (284, 'ZiGiny'),\n",
              " (284, 'Palladium'),\n",
              " (282, 'Ball'),\n",
              " (280, 'Down & Parkas'),\n",
              " (279, 'Daniel Green'),\n",
              " (277, 'Active Tracksuits'),\n",
              " (276, 'Dress Socks'),\n",
              " (275, 'Diba'),\n",
              " (274, 'Penny Loves Kenny'),\n",
              " (273, 'One-Piece Pajamas'),\n",
              " (273, 'Matisse'),\n",
              " (272, 'Babydolls'),\n",
              " (271, 'Taos'),\n",
              " (270, 'Sleep Tops'),\n",
              " (270, 'Ellen Tracy'),\n",
              " (270, 'Business Card Cases'),\n",
              " (269, 'Wrap'),\n",
              " (268, 'Deer Stags'),\n",
              " (267, 'Momentum'),\n",
              " (266, 'Rider'),\n",
              " (265, 'Thorogood'),\n",
              " (265, 'Old Gringo'),\n",
              " (261, 'Racing'),\n",
              " (261, 'Butter'),\n",
              " (261, 'Automotive'),\n",
              " (260, 'Everybody'),\n",
              " (260, 'C1RCA'),\n",
              " (258, 'Straps'),\n",
              " (258, 'Rieker'),\n",
              " (257, 'Chippewa'),\n",
              " (256, 'Protective Gear'),\n",
              " (255, 'Thongs'),\n",
              " (254, 'Two Lips'),\n",
              " (253, 'cobian'),\n",
              " (253, 'Vestal'),\n",
              " (253, 'Jewelry Chests'),\n",
              " (252, 'Skull Caps'),\n",
              " (251, 'Spring Event'),\n",
              " (250, 'Insoles'),\n",
              " (250, 'Dyeables'),\n",
              " (250, 'Bruno Magli'),\n",
              " (249, 'L.B. Evans'),\n",
              " (248, 'Roper'),\n",
              " (247, 'Rash Guard Sets'),\n",
              " (247, 'Drew Shoe'),\n",
              " (245, 'Tanks Tops'),\n",
              " (245, 'Onex'),\n",
              " (244, 'Equestrian Sport Boots'),\n",
              " (244, 'Eastland'),\n",
              " (244, 'Bronx'),\n",
              " (243, 'Skirt Suits'),\n",
              " (243, 'Joie'),\n",
              " (242, 'LaCrosse'),\n",
              " (242, 'Durango'),\n",
              " (242, 'Body Glove'),\n",
              " (241, 'Wrestling'),\n",
              " (240, 'Giorgio Armani'),\n",
              " (238, 'Clip-Ons'),\n",
              " (237, 'Kickers'),\n",
              " (236, 'Sale Price'),\n",
              " (236, 'Coloriffics'),\n",
              " (235, 'Cold Weather Hats'),\n",
              " (234, 'Magnum'),\n",
              " (233, 'Fergalicious'),\n",
              " (232, 'Softball & Baseball'),\n",
              " (232, 'David Tate'),\n",
              " (232, 'Arm Warmers'),\n",
              " (231, 'nicole'),\n",
              " (231, 'Nevados'),\n",
              " (231, 'Creative Recreation'),\n",
              " (230, 'SPY'),\n",
              " (230, 'Garters'),\n",
              " (229, 'Carrera'),\n",
              " (228, 'Workout Shorts'),\n",
              " (228, 'Report Signature'),\n",
              " (228, 'Lucchese'),\n",
              " (227, 'Pajar'),\n",
              " (227, 'Bibs & Burp Cloths'),\n",
              " (226, 'Gucci Watches'),\n",
              " (224, 'Red Wing Shoes'),\n",
              " (223, 'L.A.M.B.'),\n",
              " (223, 'Irregular Choice'),\n",
              " (223, 'ALDO'),\n",
              " (222, 'Emporio Armani'),\n",
              " (221, 'MIA 2'),\n",
              " (219, 'Pajama Bottoms'),\n",
              " (219, 'Affliction'),\n",
              " (217, 'La Canadienne'),\n",
              " (216, 'Melie Bianco'),\n",
              " (216, 'Luxury Rebel'),\n",
              " (215, 'Omega Watches'),\n",
              " (215, 'Dirty Laundry'),\n",
              " (214, 'Lugz'),\n",
              " (212, 'Playboy'),\n",
              " (211, 'Giuseppe Zanotti'),\n",
              " (210, 'Miss Sixty'),\n",
              " (210, 'Anuschka'),\n",
              " (209, 'To Boot New York'),\n",
              " (209, 'Shoe & Boot Trees'),\n",
              " (209, 'Motorcycle & Powersports'),\n",
              " (209, 'Khombu'),\n",
              " (208, 'Jack Rogers'),\n",
              " (207, 'ARA'),\n",
              " (206, 'Grazie'),\n",
              " (206, 'Bedding'),\n",
              " (205, 'Mootsies Tootsies'),\n",
              " (205, 'Michele Watches'),\n",
              " (205, 'Luggage Locks'),\n",
              " (205, 'Compression Shorts'),\n",
              " (203, 'Coconuts by Matisse'),\n",
              " (201, 'Laptop & Netbook Computer Accessories'),\n",
              " (201, 'Five Ten'),\n",
              " (200, 'Menbur'),\n",
              " (200, 'Identification'),\n",
              " (199, 'Klogs'),\n",
              " (199, 'ESPRIT'),\n",
              " (198, 'Restricted'),\n",
              " (197, 'Lab Coats'),\n",
              " (197, 'Eco-Friendly'),\n",
              " (197, 'Caparros'),\n",
              " (197, 'Belly Bands'),\n",
              " (196, 'Varsity Jackets'),\n",
              " (196, 'Stone Mountain'),\n",
              " (196, \"Men's Designer Jewelry\"),\n",
              " (196, 'Costa Del Mar'),\n",
              " (195, 'Swimwear Sets'),\n",
              " (193, 'Akademiks'),\n",
              " (192, 'Power & Hand Tools'),\n",
              " (192, 'Magid'),\n",
              " (192, 'J-41'),\n",
              " (190, 'Two-Piece Suits'),\n",
              " (190, 'Cold Weather Headbands'),\n",
              " (189, 'Trunks & Shorts'),\n",
              " (189, 'Passport Covers'),\n",
              " (189, 'Adhesive Bras'),\n",
              " ...]"
            ]
          },
          "metadata": {
            "tags": []
          },
          "execution_count": 7
        }
      ]
    },
    {
      "cell_type": "code",
      "metadata": {
        "id": "2qnD1FVKTDKF",
        "colab_type": "code",
        "outputId": "a90c786a-0951-478e-8bc3-5f5595170660",
        "colab": {
          "base_uri": "https://localhost:8080/",
          "height": 289
        }
      },
      "source": [
        "allcrocsasins = set()\n",
        "count = 0\n",
        "\n",
        "for areview in allproducts:\n",
        "  theproduct = allproducts[areview]\n",
        "  count += 1\n",
        "  if count % 100000 == 0:\n",
        "    print(count/1503384)\n",
        "  for categories in theproduct['categories']:\n",
        "    for acategory in categories:\n",
        "      if 'crocs' in acategory.lower():\n",
        "        allcrocsasins.add(theproduct['asin'])\n",
        "\n",
        "print(len(allcrocsasins))"
      ],
      "execution_count": 0,
      "outputs": [
        {
          "output_type": "stream",
          "text": [
            "0.06651660520532346\n",
            "0.13303321041064692\n",
            "0.19954981561597038\n",
            "0.26606642082129384\n",
            "0.33258302602661727\n",
            "0.39909963123194075\n",
            "0.4656162364372642\n",
            "0.5321328416425877\n",
            "0.5986494468479111\n",
            "0.6651660520532345\n",
            "0.7316826572585581\n",
            "0.7981992624638815\n",
            "0.8647158676692049\n",
            "0.9312324728745284\n",
            "0.9977490780798518\n",
            "5089\n"
          ],
          "name": "stdout"
        }
      ]
    },
    {
      "cell_type": "code",
      "metadata": {
        "id": "CaGdHsfBUTYx",
        "colab_type": "code",
        "colab": {}
      },
      "source": [
        "#outputfile = open('drive/My Drive/Colab Notebooks/Topic Modeling/crocsasins.txt', 'w')\n",
        "\n",
        "#outputfile.write(','.join(allcrocsasins))\n",
        "#outputfile.close()"
      ],
      "execution_count": 0,
      "outputs": []
    },
    {
      "cell_type": "markdown",
      "metadata": {
        "id": "lfTh_dnpWvJ5",
        "colab_type": "text"
      },
      "source": [
        "# Review Extraction"
      ]
    },
    {
      "cell_type": "code",
      "metadata": {
        "id": "eWje_ufQNoj0",
        "colab_type": "code",
        "outputId": "3affe5c3-34b7-4a65-d6d8-33fd781c21a7",
        "colab": {
          "base_uri": "https://localhost:8080/"
        }
      },
      "source": [
        "import pickle\n",
        "import json\n",
        "\n",
        "from google.colab import drive\n",
        "drive.mount('/content/drive')\n",
        "\n",
        "path = 'drive/My Drive/Colab Notebooks/Topic Modeling/Goldbeck reviews_Clothing_Shoes_and_Jewelry.json'\n",
        "\n",
        "loadedjson = open(path, 'r')"
      ],
      "execution_count": 0,
      "outputs": [
        {
          "output_type": "stream",
          "text": [
            "Drive already mounted at /content/drive; to attempt to forcibly remount, call drive.mount(\"/content/drive\", force_remount=True).\n"
          ],
          "name": "stdout"
        }
      ]
    },
    {
      "cell_type": "code",
      "metadata": {
        "id": "rC5ESGu6W2SO",
        "colab_type": "code",
        "outputId": "144b819c-0fd2-49f5-e562-94b9be0a419d",
        "colab": {
          "base_uri": "https://localhost:8080/"
        }
      },
      "source": [
        "count = 0 \n",
        "allreviews = {}\n",
        "for aline in loadedjson:\n",
        "  count += 1\n",
        "  if count % 100000 == 0:\n",
        "    print(count)\n",
        "  areview = eval(aline)\n",
        "  allreviews[count] = areview\n",
        "\n",
        "print(len(allreviews))"
      ],
      "execution_count": 0,
      "outputs": [
        {
          "output_type": "stream",
          "text": [
            "100000\n",
            "200000\n",
            "300000\n",
            "400000\n",
            "500000\n",
            "600000\n",
            "700000\n",
            "800000\n",
            "900000\n",
            "1000000\n",
            "1100000\n",
            "1200000\n",
            "1300000\n",
            "1400000\n",
            "1500000\n",
            "1600000\n",
            "1700000\n",
            "1800000\n",
            "1900000\n",
            "2000000\n",
            "2100000\n",
            "2200000\n",
            "2300000\n",
            "2400000\n",
            "2500000\n",
            "2600000\n",
            "2700000\n",
            "2800000\n",
            "2900000\n",
            "3000000\n",
            "3100000\n",
            "3200000\n",
            "3300000\n",
            "3400000\n",
            "3500000\n",
            "3600000\n",
            "3700000\n",
            "3800000\n",
            "3900000\n",
            "4000000\n",
            "4100000\n",
            "4200000\n",
            "4300000\n",
            "4400000\n",
            "4500000\n",
            "4600000\n",
            "4700000\n",
            "4800000\n",
            "4900000\n",
            "5000000\n",
            "5100000\n",
            "5200000\n",
            "5300000\n",
            "5400000\n",
            "5500000\n",
            "5600000\n",
            "5700000\n",
            "5748920\n"
          ],
          "name": "stdout"
        }
      ]
    },
    {
      "cell_type": "code",
      "metadata": {
        "id": "lzQAuOiqYWvQ",
        "colab_type": "code",
        "outputId": "e8a6158e-3a4d-403e-a35f-c764a1c43031",
        "colab": {
          "base_uri": "https://localhost:8080/"
        }
      },
      "source": [
        "from time import sleep\n",
        "\n",
        "\n",
        "allcrocsasins = []\n",
        "\n",
        "for data in open('drive/My Drive/Colab Notebooks/Topic Modeling/crocsasins.txt', 'r'):\n",
        "  asins = data.split(',')\n",
        "  for anasin in asins:\n",
        "    allcrocsasins.append(anasin)\n",
        "print(allcrocsasins)\n",
        "len(allcrocsasins)"
      ],
      "execution_count": 0,
      "outputs": [
        {
          "output_type": "stream",
          "text": [
            "['B0076SP84W', 'B005HTPGSU', 'B006YFVMHU', 'B00B4BDACO', 'B00E59C0CI', 'B006Y4QDVQ', 'B007YBMJ7A', 'B008KYWLFA', 'B0036FU40W', 'B00E9C83HW', 'B006TQMIB8', 'B006Z6OPC2', 'B008EH6154', 'B000ZKA8HA', 'B008M3HFDW', 'B005CMHXOC', 'B006Z18UKU', 'B006VB6QHI', 'B0058RRE54', 'B00133C6WI', 'B005EU60UK', 'B00AQDLDHU', 'B005D6SBDO', 'B004IZ56GQ', 'B00DU9DUKA', 'B001U88EZE', 'B003Y3D9AS', 'B0076SP3CO', 'B0076SNZC4', 'B004S5VDWM', 'B008M0W8FU', 'B00AQDKCI6', 'B0017ZKYDA', 'B0036OSH66', 'B0017ZHEXS', 'B003YBWTGA', 'B00DURHR24', 'B006TAJHK4', 'B00AR7TZG6', 'B008J0Y91Y', 'B001U88STQ', 'B002JIO81I', 'B005ESFDEQ', 'B008MIVIIK', 'B002JIO8W2', 'B003NX73NS', 'B003YBWNCK', 'B00CN7VTQW', 'B001U887TC', 'B0036FU2GS', 'B007YBMII0', 'B002JCSQ3K', 'B004J25SDY', 'B002JVX9X8', 'B0019ZFC4E', 'B001U889RC', 'B00406X3JA', 'B005D6QW3A', 'B008M3HE0Q', 'B006WW51KO', 'B007RG8FUM', 'B001IV5BYK', 'B005CG0476', 'B00CM2MXNQ', 'B008OQUW3W', 'B002KAOG9E', 'B004022DMM', 'B004J2JPMO', 'B0070CF0ME', 'B00B4QKMT8', 'B00DY9TA2S', 'B00CN7VO1C', 'B005CMHXS8', 'B005CTCTTO', 'B006Z6OLLC', 'B002KAOGBW', 'B0071IM0MK', 'B0071QIXLO', 'B008JEKKK4', 'B008KYWXP8', 'B004J27MCE', 'B008P4643A', 'B00B7NHC8C', 'B003ARTTIY', 'B001AME152', 'B00B4R1D5E', 'B00E1LOGFO', 'B006VA2UNI', 'B00B4BCSU4', 'B001U887WE', 'B00CN7VNTK', 'B008OQUQ10', 'B0071QVZ3W', 'B008M3HKUA', 'B005DCBOLO', 'B0036OS3I8', 'B008BOU3GS', 'B008OQT74W', 'B001A5RMWS', 'B005CDF69U', 'B0036FU4NE', 'B00B4EXHJW', 'B00B4R0XDW', 'B0014GZ3A6', 'B004J2LP68', 'B001IV5B72', 'B0073VYK3C', 'B00B5S2NOM', 'B0071QK4XO', 'B00E57NQ5A', 'B004O0TE3G', 'B007ZIBQVC', 'B0036FU2BI', 'B008M3HML2', 'B005D6BL8G', 'B0036OS3JW', 'B00DURHH3I', 'B001AME18O', 'B004LL6HS8', 'B00B2YOJR8', 'B002JCSRAC', 'B007ZIBQDA', 'B008JEKNS8', 'B0036OS1U8', 'B008RQ0M98', 'B005ES4I7O', 'B00COELAGS', 'B003ARTSDA', 'B00CM2OKRI', 'B008ORA4YI', 'B001AZJS98', 'B00AJRZYXM', 'B008P460QQ', 'B00B4EWA4U', 'B005CDV4N2', 'B00AQE780A', 'B00B4ETYB2', 'B0017ZM7U8', 'B003Y3921S', 'B00CM2OC4Y', 'B00401V9LY', 'B005ES11VK', 'B008J0YOLO', 'B008KZEQ3O', 'B004022FAW', 'B0076SOWI0', 'B006Y7EUVS', 'B00B4BD3EE', 'B004IS0S6G', 'B00E4MPMVW', 'B00E57O050', 'B00AR8MZ1C', 'B00DY7VP9Q', 'B008ONJUP6', 'B00ANJJP2W', 'B00AR8NYLM', 'B007RG8GGU', 'B00B4BCSUY', 'B007ZI7WHO', 'B008PE3D2K', 'B005ESAAU8', 'B0071QVYME', 'B00ANJKULM', 'B00AR7U5VK', 'B005D6BIHU', 'B008B2WQ7E', 'B006V9492E', 'B001U889UE', 'B00B4EWCZC', 'B008JEJI9S', 'B00BG2MEXW', 'B006TQMJUS', 'B0071M6QR6', 'B005ESF2VK', 'B004JKLW7W', 'B005D6BB18', 'B003ARTTU2', 'B00B4BCX72', 'B005D6FWKY', 'B00590U93E', 'B002JIO75A', 'B001IV5BW2', 'B004O0TDY6', 'B00ASKF0FM', 'B00BG2MI4M', 'B0071QVXPW', 'B00B4R1K0W', 'B002JCSVHG', 'B006TQN5V0', 'B006Y7F04Y', 'B001875806', 'B006GW47FU', 'B00B4R0E0O', 'B005M1ANCW', 'B00B57OQS4', 'B005D6BIWA', 'B007263AXY', 'B0037KMTAO', 'B005CG01CE', 'B008OQSYM8', 'B00AQDLD2A', 'B0014GTZRS', 'B006WW4WHW', 'B00B4BCW46', 'B003Y390TW', 'B006YFTJQG', 'B00B4F0GZ4', 'B0014GZ3B0', 'B007PY0SNS', 'B0058RR8LY', 'B006WW4WY0', 'B001U88U2G', 'B006Z19CY8', 'B004M8IAY4', 'B008JEJHM6', 'B0058RRDZ0', 'B005ESF6OS', 'B008ORCIBK', 'B00DURHSBE', 'B00E1IUNOA', 'B008MVJEFQ', 'B002JCSQTO', 'B004J2NMHS', 'B0036FU2BS', 'B004M8HPGI', 'B00E1JRY6Y', 'B006VB4OPO', 'B0036FU4DY', 'B0076SPC66', 'B0016JAQU8', 'B0046HADY6', 'B002N5N2JG', 'B006TAID4U', 'B0071QWMSO', 'B005CG0LZ6', 'B0071MJJZ2', 'B004IYZE28', 'B005ESYPMW', 'B0036ORZXM', 'B00CN7VRHI', 'B00B4S1KNI', 'B002JIO91C', 'B004IZ1CLY', 'B002JIO61U', 'B0029RGH3Q', 'B002JIO76Y', 'B005CMHX6K', 'B005CI4TTI', 'B0036OS3G0', 'B005ESAB5M', 'B006Z6OEDW', 'B00DU96PYS', 'B00ANJKW1U', 'B0036OS42S', 'B005CMR6R6', 'B00B4V8CDG', 'B000ZHGNRM', 'B000ZP6N7O', 'B001AZJMNK', 'B003Y38YEO', 'B006VB5I8Q', 'B002JCSRPM', 'B006Y4RBSU', 'B006TQMIA4', 'B003BLPSN4', 'B0036FU3CQ', 'B005D6BMVM', 'B003YUSFZA', 'B005D6O0IO', 'B006TQMPOI', 'B002DUDHB4', 'B003LBMPJE', 'B005HV2U3M', 'B008ORC4VE', 'B00401RBW0', 'B00E1JSPEE', 'B0010T1POK', 'B008J0YOP0', 'B008P45X3M', 'B00C3N9YZO', 'B007RG8EDU', 'B000VJRCQK', 'B003XE1CBG', 'B003ARTX4O', 'B006TQN83A', 'B0076SQXTG', 'B001KZI434', 'B006GW3RUG', 'B003YUS2SK', 'B004IS0QCW', 'B003ARTWWC', 'B008J9YLDQ', 'B008KYXIXE', 'B00B4EUZ56', 'B002JCSRA2', 'B00B4EWOZ0', 'B0076SNSSA', 'B00E59BJ3O', 'B00EVI70KK', 'B001VH6OT2', 'B001AZLIVO', 'B0029RGBQ4', 'B0017ZMA5U', 'B008OQVS4O', 'B008HDYG1G', 'B008M3HMJY', 'B001IV59MY', 'B0071QVWSU', 'B008OQVCMC', 'B003BLPT60', 'B001HEN9ME', 'B005CJZJ2S', 'B001U88E3Q', 'B008KY8SVG', 'B00B4BCR3M', 'B00B4S0FHK', 'B003Y390KQ', 'B0036FU36C', 'B00ANJJZ8Q', 'B00B4ETYAI', 'B005ES61D8', 'B003YBQ3M6', 'B005D6QTWY', 'B0071QIVPM', 'B00EZ0JMKA', 'B004JN08CE', 'B002JVX9SS', 'B009ZSMNCG', 'B00DNNZJYI', 'B008KX6F30', 'B00EVI70E6', 'B003TJ9CNU', 'B00B4EV0FA', 'B00AQE79PY', 'B003BLPSPW', 'B0076SOX48', 'B0071QK4J8', 'B003XDXMQ0', 'B005CK124G', 'B006VA2W0E', 'B007RG8G92', 'B008OQV0RY', 'B00CPYI5XI', 'B001U887R4', 'B003Y3F7MG', 'B005CMR4QY', 'B008J0Y0U4', 'B005D6EJ9E', 'B004LL4IW0', 'B001RCSARA', 'B0036FU4VG', 'B002JCSZ1S', 'B002JIO67E', 'B003BLPPM8', 'B004IZ3726', 'B005D6BDQ6', 'B008BOU0UM', 'B0036FU2M2', 'B002JCSSQA', 'B00401XPAM', 'B006VA2VDM', 'B008KYWI12', 'B0046HADUU', 'B008KYX1DQ', 'B008PE01OI', 'B00IY63XGK', 'B008KZGV32', 'B002JCSRD4', 'B005CMR07W', 'B005D6R5LI', 'B00401X5I4', 'B008OQVOC0', 'B002KCOD5Y', 'B00B56IKPU', 'B0036OS44Q', 'B008M3HQE0', 'B0017ZHD66', 'B001FPBZCQ', 'B000Q3AFXS', 'B008OQT82S', 'B006TAJLVY', 'B000PW74B6', 'B008ORC72U', 'B0071QVOFQ', 'B003YUQIEA', 'B003YUNH94', 'B00COEL0U4', 'B00B4EXMTC', 'B004LKZUUA', 'B005HV2NAM', 'B00E4MPO5G', 'B005DZSG6M', 'B001KZI5LU', 'B00B4BDDK8', 'B002JCSXJW', 'B002KCODRC', 'B00DURHSDC', 'B000P4AWP4', 'B006TAJ0JW', 'B006Y4RUAY', 'B0019SSJPU', 'B005CMQZBO', 'B008KZCGQ8', 'B002JCSPIQ', 'B008N6YWQQ', 'B008P465CA', 'B00DYABE9E', 'B004JKLV8M', 'B006WW52WG', 'B005ESYSD8', 'B001IV5BPE', 'B0071QVIPC', 'B0071QWM4S', 'B004O0TE4U', 'B0036FU4JI', 'B005D6B6LI', 'B000ZP8174', 'B008JEJ9FG', 'B00AT8EFKY', 'B00BMLQTLA', 'B001PEZV36', 'B0036OS3ME', 'B00401VNAG', 'B00401WH3S', 'B003ARTW72', 'B00DURHTNQ', 'B003YUND7U', 'B005OUM1AS', 'B002JCSTWI', 'B004JKLVLO', 'B003YUS3JS', 'B005EU61NQ', 'B004LL22Y6', 'B00B4F0NPW', 'B005CMB2F8', 'B001U88E6S', 'B002JVX8AW', 'B003YUUE1S', 'B00B4F0GYU', 'B008M3HA64', 'B003Y390PQ', 'B00AR8NM1Y', 'B005NKVBPA', 'B00E1LFQXU', 'B003YUOH3Y', 'B005D6B9QA', 'B002JVX8KW', 'B0071QK6XW', 'B008N6YTE6', 'B00DY8SPKC', 'B003YBYMTC', 'B0070CEXDG', 'B002JCSRZM', 'B003BLPSSY', 'B008KYX8PM', 'B008OQT2YC', 'B008JEKOJQ', 'B00E1JSQK2', 'B004S60HYG', 'B00B56JZIG', 'B003YBPKR0', 'B006U9QYJ6', 'B002JCSXKG', 'B006D5WVEE', 'B0070CEYC6', 'B004JN07JS', 'B008KYWT98', 'B003QXLHFK', 'B003XDVUEQ', 'B003Y3928G', 'B008VJH75S', 'B00B4F1702', 'B00DY77WLG', 'B00B4L5GOO', 'B00E1JTDXG', 'B008OQTCE2', 'B00DY8ZXIY', 'B005CMHX1K', 'B007RG8DKE', 'B003ARTUVK', 'B004023ZYW', 'B001MS7EPS', 'B0070CQJDI', 'B005CMRFFE', 'B00B7NHF8Y', 'B00DU9FSMI', 'B008KY8UBY', 'B005KGCAHA', 'B00E59B312', 'B003Y3D73M', 'B004JKLRMC', 'B003NX73Q0', 'B004020GUS', 'B0076SPKUO', 'B004IZ38D4', 'B006TQMOQM', 'B001IV54P6', 'B00401YDSU', 'B0071QVOLU', 'B008ODIWVE', 'B00E9C0CLC', 'B006GW3SVO', 'B005ESYT9Q', 'B002JIO7F0', 'B006Y4VZTQ', 'B000ZHBTBW', 'B0036ORZZ0', 'B002JCSTX2', 'B00EVI70DM', 'B004O0TE0Y', 'B006VA2JN4', 'B0070CF0RY', 'B003Y38YNK', 'B008OOKKTK', 'B00COEL4TG', 'B003INRDI8', 'B003XDZLXC', 'B004LL22KA', 'B003Y3D7X2', 'B001U88URG', 'B004IZ17A0', 'B005DCARWQ', 'B008KZD64Y', 'B002KAOG58', 'B005CFX8EI', 'B005D6BA00', 'B005DTTZS6', 'B00BG2MGLM', 'B002KCODOA', 'B00DYA921G', 'B00B4BDBA0', 'B0017ZHCHG', 'B006VB5WK0', 'B006VA2VY6', 'B00B4QKJ9G', 'B001QDR5YO', 'B0071ILATY', 'B005448K6S', 'B006VB65AQ', 'B005G1QYMG', 'B00401YQAU', 'B005D6FVVE', 'B005HV2OCE', 'B008KYXFNC', 'B00B4BDBXW', 'B003ARTRWM', 'B005D6BHZI', 'B00CN7W2ZY', 'B00B4BDGF0', 'B0071IM8RW', 'B0036FU2PO', 'B003XDXMDS', 'B0058RR8KK', 'B005D6BIXO', 'B004RACFE8', 'B00BG2MGYO', 'B002BG6F46', 'B003YUOULI', 'B0036OS1ZS', 'B002JCSW66', 'B005CFXA8W', 'B005D6FSOY', 'B008KX6QSY', 'B008M0WBUC', 'B008KZGY02', 'B00AQDLFM8', 'B0071QVXSO', 'B001XCXGPA', 'B008KYWIYE', 'B00B4F0K32', 'B003YUOI88', 'B00B4RZA4E', 'B008HDZ4XU', 'B001KZI4GG', 'B0070CF0H4', 'B004IS0NKW', 'B005D6G18G', 'B00CN7VNM2', 'B008J9YKKU', 'B004JN0874', 'B00DU9OTN2', 'B00DY8R1A2', 'B00B4R0TCC', 'B008KYX66I', 'B003YF06M0', 'B00AQE7C0G', 'B004J2NMMI', 'B001U889HM', 'B008KZFO12', 'B00DURK0AU', 'B005D6FU7E', 'B001AZJSEI', 'B002JCSPMW', 'B0036OS478', 'B0058RRBP2', 'B002JCSZ3G', 'B005D6B9CY', 'B008KYXFLY', 'B001A5T6AY', 'B00B4EXFZI', 'B005CDF7MG', 'B001AME0IA', 'B0071MJK3I', 'B00ANJJY9G', 'B004IYZKCM', 'B00B4BCR4G', 'B00DURHNAK', 'B006Y4RUVS', 'B009CCXB6C', 'B00E57O8R0', 'B0076SOWD0', 'B004IS0QN6', 'B008J9YGRM', 'B000VB9S7O', 'B004IZ2XJ4', 'B001N8BM3W', 'B006TQLUVW', 'B002JCSZM2', 'B00AR8NGQA', 'B00DY7PJXY', 'B002WN1NHW', 'B0046HABMK', 'B005CMHXTC', 'B005ESF66Q', 'B001V7X6DO', 'B003XDXMLU', 'B002JCST9G', 'B005OUNMTC', 'B001IV5BI6', 'B00DU9KPJE', 'B00DYCOBME', 'B003XDZNNU', 'B005CG0FTS', 'B005DCBNCO', 'B006VA2RRM', 'B003BLPSS4', 'B007PY5T5U', 'B0076SP446', 'B0071ILUZI', 'B008KYWI2Q', 'B00DURJLG4', 'B002JCSR7U', 'B00B4EUZ4C', 'B008VJMDA2', 'B003ARTR7W', 'B008OQUN0E', 'B002JCSYDM', 'B004IZ6Q9C', 'B001U888WS', 'B00591US16', 'B001U887LU', 'B006WW52S0', 'B008OQSZ0O', 'B008M3HZC8', 'B003ARTTUW', 'B001U88Q7U', 'B001VH6ORY', 'B003ARTSBC', 'B003XE1CU2', 'B0071IL9Q8', 'B00ARCOBJ2', 'B002JCSQZ8', 'B002JCSW2U', 'B00B5NW7PM', 'B005ESAASU', 'B004JKLR4A', 'B00401T5AG', 'B005D6G2M6', 'B008B2WR4Q', 'B002BW68Q0', 'B00CBVQIMU', 'B00B4BCTDK', 'B005HV2W9E', 'B0078ZJTB6', 'B00DNO1NPG', 'B001KR0C32', 'B004IYZJEQ', 'B006VA2IZS', 'B003YBWXF2', 'B00B4BD5C4', 'B0019ZDDJU', 'B002JCSSVK', 'B004IZ1FHA', 'B004JN0856', 'B0058RQY96', 'B008KYWZII', 'B003ARTTBQ', 'B008KZD658', 'B00ANJK472', 'B001U887MO', 'B00B4QKL44', 'B006Z6O0X6', 'B00FFL37DQ', 'B00805D24S', 'B003YUSIU2', 'B0058SNI5S', 'B005D6B8SO', 'B0014C44RS', 'B006VB67J0', 'B002JCSQUI', 'B008OQVC0O', 'B00B4BDCOA', 'B00B4EWSR4', 'B004S616H8', 'B00DU96FWA', 'B003XDVU6E', 'B0076SQXQ4', 'B008J0Y91E', 'B008JAQZEI', 'B0036OS02W', 'B008KYW9CA', 'B003ARTPZQ', 'B006Z6OPEA', 'B001V7Z2HW', 'B004IYZK54', 'B001AZQK5S', 'B006Y4T2KA', 'B0071IL9Y0', 'B00770RHKM', 'B00DY9VQO8', 'B004IZ1DFE', 'B007263CHI', 'B006Z1908Q', 'B005DTEO1E', 'B0058RRDYG', 'B008KX7F7A', 'B008M3HMMG', 'B008OQV1IC', 'B003LBQC48', 'B00770RH2U', 'B006VA2QBO', 'B0071QJZAM', 'B004LKXMKA', 'B008J0Y5QS', 'B008VJJXJQ', 'B005CD39EY', 'B001KR0BYC', 'B001V83B2Y', 'B005D6BB1I', 'B008KZDEKA', 'B005D6B8H0', 'B003WT3IG4', 'B0071IMRW8', 'B008EH60WI', 'B004JKLQLO', 'B0058RR66G', 'B0081NW4SE', 'B00AQDK2DQ', 'B00COEL2FC', 'B00DY7PD58', 'B0076SPGYE', 'B004LKZSZM', 'B001U3XZBC', 'B005D6FV9G', 'B008J0YGM6', 'B008KYWXNK', 'B008MVJEE2', 'B005D6G2J4', 'B001U889FO', 'B005CEKZWM', 'B003Y3D39K', 'B0081NMHR2', 'B008OQUT0I', 'B004JKLXP8', 'B005D6BBYK', 'B006Y4RUMC', 'B004LKXGBK', 'B008ORDHRO', 'B003Y3F92Y', 'B005D6QSVQ', 'B006WW58HU', 'B0036OS0B8', 'B003QXLHIW', 'B005ESYS5Q', 'B00805D3ME', 'B005C6BALA', 'B00401XG1U', 'B006VB4OXQ', 'B0071F2IFW', 'B0071QVZW8', 'B008HDYG2U', 'B00AR7U55Q', 'B00DU969SA', 'B003BLPT7O', 'B008KYXD2U', 'B008M3HZEQ', 'B005CTCUPM', 'B008LQY452', 'B003YBSA2C', 'B00B4BCQO2', 'B003Y3GTZK', 'B0046HAEC2', 'B001IZA07E', 'B005ES1EH6', 'B001AZJVUO', 'B005CJZT8M', 'B006V9483E', 'B001U88PTO', 'B0071IL64I', 'B007PY0P7W', 'B008JEKNRO', 'B0036FU2EU', 'B005ESF41S', 'B007708RH4', 'B005CEB19I', 'B002JCSPUO', 'B005DTEMO8', 'B001IV5BGI', 'B007PY5RD4', 'B005DZSH2K', 'B00ANJK0EE', 'B008BOU110', 'B001U88MI8', 'B002JCSR2K', 'B008J0Y5U4', 'B001U88EIG', 'B001IV59KG', 'B003YUWME0', 'B006TQML2Y', 'B006VB6GPU', 'B008J9YDGG', 'B005ESF4D6', 'B002JCSQT4', 'B0036OSHOS', 'B001U88V34', 'B00CN7VR8C', 'B006VB5ZQ6', 'B00DURHIV4', 'B001IV56D6', 'B008KYWV5K', 'B00DJR7F4K', 'B000ZPBQM6', 'B005CD3D0E', 'B006VA2U1K', 'B005D6G2GM', 'B002JCSQ44', 'B0071QK1D2', 'B00B4QKHKW', 'B005HTPJ3M', 'B0071QWLYO', 'B001AZQJE0', 'B001U88US0', 'B008KZFPE8', 'B001AZMLJC', 'B0029U1846', 'B003ARTUK6', 'B00DV66M8E', 'B00B4F171G', 'B00DURHKNA', 'B005ESAB7U', 'B007TVTDL0', 'B003YBQ8XU', 'B005D6R324', 'B008OOM6VA', 'B001DA4THQ', 'B003ARTS2Q', 'B004021CEM', 'B004JKLUI8', 'B005ES0ZDU', 'B0071ILA0S', 'B0036OS2IO', 'B008ODJI76', 'B002JCSSPG', 'B00B4S7ONS', 'B008DXHB30', 'B005OUMB5S', 'B00EDEYLK4', 'B003ARTT7A', 'B006TAIG56', 'B0070CQJJM', 'B003XDZLXM', 'B00ETI1LIO', 'B008M3HFMS', 'B005CEKX24', 'B005CFVZM0', 'B00B4F0UFK', 'B008OQTBA2', 'B005CJYR76', 'B008J9YCU8', 'B007ECBKRE', 'B005CFWO0C', 'B00B4F0UKK', 'B00B4QKHT8', 'B00DURHM42', 'B00B4EV38E', 'B002KCOD1S', 'B00B8SQ89K', 'B0071QIWLA', 'B00DV66MU2', 'B008M3HZLE', 'B006Z19MPW', 'B005CFVY80', 'B007ZI7XFK', 'B008RQ0PAY', 'B00ANJKQ1Q', 'B001HL27CK', 'B00590UCA4', 'B00CM2NLZU', 'B0036OS2LG', 'B0076SM8JU', 'B004IZ58AA', 'B007ECBLIW', 'B00DY9VW56', 'B006VB6A24', 'B008KZFWL4', 'B0071QVZLE', 'B005CFVYAS', 'B002JM0BLU', 'B005DTEO4Q', 'B005ESFF1M', 'B006VA2SL2', 'B007ADGSLU', 'B008MVJ9U6', 'B00DURID04', 'B002JCSSV0', 'B00E4MPOQU', 'B005HTPGS0', 'B004IS0O2Y', 'B00AQDM0FO', 'B006WW4XYY', 'B00B4BDB78', 'B00B57OJ5O', 'B00B5NW3RO', 'B002JIO958', 'B0070CF25E', 'B008HDYD4Q', 'B0071QVYUQ', 'B00AR7U5CO', 'B009CCXBOE', 'B00AQDLLGI', 'B0058RR8HS', 'B0071IMRO6', 'B0081NV4IU', 'B0073VYKOG', 'B00401Z4DS', 'B003Y3D5R0', 'B00ANJJZ7C', 'B008J0YQPS', 'B005D6BAOQ', 'B004IZ8668', 'B006GW3MCE', 'B0036FU43E', 'B00ANJKQ0C', 'B004J2LPOA', 'B0071IL62K', 'B002N5NFQ6', 'B0036OSHNO', 'B003BLPT4C', 'B00401VJ32', 'B001U88SJ6', 'B008J0YRR0', 'B0036ORZUU', 'B0077CLB9I', 'B001U8891I', 'B002JIO94O', 'B003YUNEYM', 'B00B4S0VJ2', 'B00B56JZLI', 'B00E59CW76', 'B00EEZUZ1G', 'B008JAQXZY', 'B008ORC9RI', 'B002KANYU6', 'B005DCBNWO', 'B008OQT3EG', 'B002N5NGAG', 'B009RPFYVE', 'B00AQDLBOA', 'B003ARTTZW', 'B005D6BJUG', 'B008ORCAYA', 'B003XDVV3Q', 'B001AZLIB4', 'B005D6BA28', 'B003ARTT0C', 'B004O0TDXW', 'B0071QWN5G', 'B00401XOOO', 'B0058RRE8G', 'B006WW573K', 'B005D6QQTA', 'B005CFVVKQ', 'B005ESF0SU', 'B006Y7F3OQ', 'B0081NMKCE', 'B008KYW9XE', 'B001U88A26', 'B005CMR5W2', 'B00B4QJVVI', 'B00B4R13QI', 'B008KYWMY0', 'B008OQT8HI', 'B00DY7P9U2', 'B008MIVJCU', 'B003XE1DR4', 'B001IV5A0U', 'B003YUS50A', 'B001IV54BK', 'B004O0TE40', 'B00B57OIWI', 'B0036FU4UC', 'B00B4BDIZ8', 'B003ARTTK2', 'B002JIO56Q', 'B003Y3D70U', 'B0058SNIC6', 'B005D6BKX2', 'B0076SPERI', 'B00770TZKW', 'B004JKLXSU', 'B00DY8RBTI', 'B002JCST0A', 'B004M6HRPE', 'B00E57NR4U', 'B008P45ZXA', 'B006VA2T9I', 'B0040241B8', 'B004LKXGBU', 'B001IV5BAE', 'B0058RRMJ2', 'B004M8IE2W', 'B006TQLQX4', 'B004022CZK', 'B002JIO9LC', 'B0071QK4RA', 'B008JAQVG0', 'B005LCR7JO', 'B00B4QJVQI', 'B0076SPNHY', 'B003YUOPPE', 'B004LL3QBE', 'B000TV5BJK', 'B004JKLXJY', 'B008AMWQDY', 'B003YUQHP0', 'B008JEKI7Y', 'B005ESF38M', 'B002JCSSSS', 'B008KZGTQG', 'B008OQUOT4', 'B006TAJCY0', 'B004O0TE4A', 'B005CD399Y', 'B00805D4VO', 'B003YBPVTM', 'B004IZ38DE', 'B005ESAB70', 'B00401ZEA6', 'B004IRYKVQ', 'B0071ILWPG', 'B004022FBG', 'B001V7WW98', 'B008YDRFAI', 'B006TQLRL0', 'B00B5NW83S', 'B0076SPF54', 'B004IZ1DQS', 'B0036OS0H2', 'B00E59BG3C', 'B004J2NMKK', 'B0036OS2NE', 'B00E59LK6U', 'B00B4EWQ8A', 'B008OQUSLI', 'B003XDVVJU', 'B005CTD63M', 'B003YBWKYQ', 'B0071IL6T8', 'B0071QWMKM', 'B008JEKD88', 'B003YUQ926', 'B008KYX6SG', 'B008VJKXZ4', 'B0058RRBSO', 'B001KR0C5A', 'B008KYXGJU', 'B008KZGV9Q', 'B00ASKESAK', 'B005D6O1VK', 'B008M3HL2C', 'B00AQE7B84', 'B003BLPTB0', 'B004IYZFJ0', 'B008ORCEFU', 'B006V94F8W', 'B006TAIURA', 'B004IYZEQ4', 'B006VB5ZOS', 'B007JX0DVC', 'B00CPY1I3M', 'B006Z19FHC', 'B006VB6CCW', 'B003ARTYRA', 'B002HC3AT2', 'B006Y4RCEI', 'B008J0YGLW', 'B008JEJIDO', 'B005D6BJYM', 'B001IV5B7M', 'B00B4R0UIA', 'B006YFTZXS', 'B001U887O2', 'B001HEHL6E', 'B002JIO5M0', 'B004LL20D4', 'B00B5NW5C2', 'B005DTENLU', 'B008KYWAPQ', 'B008EH60JQ', 'B008OQTAYO', 'B00CM2MY1M', 'B005DTEO9Q', 'B001HEFCZG', 'B005ES1EN0', 'B0036OS07W', 'B001A5RN22', 'B005ESAAXK', 'B008OQUNEA', 'B00BMLQW1W', 'B00DYASSDO', 'B001U88V0W', 'B002JCST8C', 'B002JVX8D4', 'B005CFWID0', 'B00AT8EOY6', 'B001KR0BW4', 'B0017ZIV1W', 'B003YUOU68', 'B0040ZNCO2', 'B005HV2NRA', 'B001AYLMPW', 'B003Y39092', 'B005D6B5K0', 'B005I6ZD6W', 'B001KZI4W0', 'B0071IL8BY', 'B00DY7R89W', 'B005CMHXTW', 'B001U887WY', 'B0078ZJTFC', 'B001A5RLP6', 'B0076SOKRS', 'B00CPXZ5UU', 'B0036OS49G', 'B00591UYIS', 'B00DY9SVDC', 'B00BG2MHGQ', 'B004IZ6EI0', 'B006Z6P2LA', 'B006VA2U24', 'B005CFX8DE', 'B005CD39ZS', 'B001IV59OC', 'B00DY8R0SU', 'B00DY77W16', 'B00B56IKNC', 'B00E1IUMBY', 'B001AZJVX6', 'B001XZBG86', 'B003ARTTFC', 'B0017ZM7MG', 'B0071QIU44', 'B001U88UPS', 'B0015U1V3O', 'B004JKLO48', 'B004S616CS', 'B005EU64SI', 'B008J0Y4WI', 'B00E1JSEJU', 'B004JN08BA', 'B006Y7ESVU', 'B005D6B690', 'B003BLPOK6', 'B0070CEXTK', 'B0037KMTCC', 'B0071IM8ZY', 'B00CM2NJ16', 'B00DU9EK0E', 'B003Y3F76C', 'B005CMR08Q', 'B005ESF9V8', 'B004J2OU92', 'B00DJR7F5O', 'B007ZI7PIU', 'B005CMQZBY', 'B003ARTVPA', 'B0022BQ3QK', 'B004IZ300U', 'B005CMR0DG', 'B005CMR1JO', 'B0073VYL04', 'B000P4AWJK', 'B008HDYG20', 'B004J25T24', 'B008KYWZ4C', 'B008ODIP8E', 'B00B57OHZQ', 'B004IZ6FYS', 'B007PY0SOC', 'B006VA2WFO', 'B001U887OW', 'B002JCSQYY', 'B0058SNNOE', 'B005DCBQJE', 'B0071ILC9M', 'B005CFVY9Y', 'B005ES0YKO', 'B00B4EUZ2Y', 'B00B7NHHF0', 'B005D6R65S', 'B002JCSRKC', 'B005P0SZEI', 'B00B4EV4IS', 'B0071IMN18', 'B00CN7VNOU', 'B005D6FWJA', 'B00DU9EXTM', 'B001U88C24', 'B00ARCOBGA', 'B000ZPBQEE', 'B002KCODSG', 'B004DSPRJO', 'B001U88TFO', 'B0058SNMIG', 'B005DZS7U2', 'B0076SLYWC', 'B00AT8EMJS', 'B00EVI708M', 'B008M3HWO4', 'B005CEKXPG', 'B002KCOAWA', 'B00B56IMVW', 'B004IZ5918', 'B005D6R31U', 'B006Z19J28', 'B001U889F4', 'B006Z19BVM', 'B008OR9YLM', 'B002KAOIVK', 'B003QXLH1E', 'B003XE1CWK', 'B006GW3M0Q', 'B006TQMSIQ', 'B005EU63F2', 'B005CFWH4A', 'B006VB4LRU', 'B00CM2ODUC', 'B000KJ6GKE', 'B0036FU4NY', 'B008KZEH4M', 'B004020J3M', 'B005CMR2KW', 'B00AR8NWP0', 'B00B4EV1UO', 'B003XE1E82', 'B004JKLXW6', 'B000VA88SK', 'B005LCT9CC', 'B007PY5RXE', 'B00B4EV4II', 'B001U88GHA', 'B00ANJK2VK', 'B008KYXEW4', 'B007ZI7JSQ', 'B001AZLIBE', 'B005ESFD14', 'B002N5N250', 'B0073VYGP4', 'B004J20LN6', 'B003YUOBTO', 'B004S5VDRW', 'B007ECBJFW', 'B00401WIWI', 'B002JCSR3E', 'B005CHZUQK', 'B00DZLLKFA', 'B00ANJK3AA', 'B005HV2QMM', 'B00AR8NAQQ', 'B008KYWKD8', 'B001XZY0Y8', 'B007B9M7M2', 'B002JIO96C', 'B005ES11M4', 'B00B4QKG3U', 'B00ANJKXV4', 'B004JN08NI', 'B00DURHUVW', 'B0081NMKRO', 'B0040255UO', 'B00B4RSTQA', 'B008JEKPKY', 'B006Y4QN2A', 'B001U88VJS', 'B006U9R198', 'B007YBMKSI', 'B00CPY1TLI', 'B0071QJMSW', 'B002JIO994', 'B004IZ58YQ', 'B004IZ1EL2', 'B001ULBP3Y', 'B002JCSSMO', 'B001U88GSE', 'B004O0TDZK', 'B009ZSMZRY', 'B005CFVVO2', 'B0071QW0EA', 'B00AQE7HGA', 'B005D6FRIG', 'B008ODIOJE', 'B001KR0D1I', 'B008ORCCJI', 'B006VA33IE', 'B0071QVD98', 'B008M0WA58', 'B003XDXNHS', 'B008060LX2', 'B00770U07O', 'B00598NDUC', 'B008KX6VNE', 'B004IZ1278', 'B003YBSFOK', 'B00ANJK1SY', 'B00B4EUZ3S', 'B00ASI287W', 'B003YBPUK2', 'B005D6FSOO', 'B0046HADP0', 'B006VA32QM', 'B0058SNMHC', 'B004020IAG', 'B008KYWYGQ', 'B00DNNWC34', 'B006Z19D06', 'B00B7NHJTO', 'B000ZPDDW2', 'B007YBMGSM', 'B0070CEZKW', 'B005CJZ9L4', 'B005HV2V0E', 'B00AQDKIVC', 'B006Z6OI42', 'B00DURHUZI', 'B004JKLUFG', 'B008J9YHW6', 'B001V7T5MK', 'B0077CK306', 'B005KGCAWA', 'B005CMHX4M', 'B004IZ36TU', 'B003Y38YQ2', 'B008OQUWXM', 'B00274VCKO', 'B0071QVP0K', 'B008LQY196', 'B00CN7VV4C', 'B005HV2UZA', 'B001AZJSRK', 'B0058RR63Y', 'B005D6R43M', 'B0058SNKM4', 'B006U9QX8I', 'B00AR8N1XS', 'B002JVX8LG', 'B005ES0Z9O', 'B00B5NBYD8', 'B001U887SI', 'B00B4BCR1Y', 'B0015BLM7S', 'B002JVX9N8', 'B002JCSPJU', 'B004IZ1F34', 'B00770RLCQ', 'B008HDYD1O', 'B00401WHWY', 'B00B4BCWN2', 'B006VA33J8', 'B0071QJZPW', 'B0073VYFOG', 'B00AQDK0SI', 'B008LQY18C', 'B002JCSUJK', 'B006Y7F2TM', 'B006GW3N6Y', 'B00B4S1KOM', 'B0036FU2NQ', 'B001U88H2E', 'B005EU7J64', 'B0036FU4SO', 'B006V921B0', 'B00DU9RPKQ', 'B005ES12CS', 'B003ARTQIW', 'B004O0TDZU', 'B00ANJKPYE', 'B003TJ9CMQ', 'B008VJR122', 'B0019SQN30', 'B008KYW9WA', 'B006TQLU4Y', 'B0036FU4K2', 'B008HDYEP4', 'B00ANJJZCM', 'B003Y3D340', 'B00BG2MEPU', 'B00B57ORZG', 'B0035PC6HM', 'B005ES1D40', 'B005DCBQK8', 'B005CMR3LU', 'B005EU5RJA', 'B00B4F0GY0', 'B005D6BE0G', 'B005D6O124', 'B001AZMM96', 'B007PY0OCI', 'B005D6BLKY', 'B008M0WHEW', 'B006TQN0FQ', 'B00E59B3R6', 'B001AZHURU', 'B00B4BDGAK', 'B0077CK3RE', 'B008KX6SZK', 'B00B4BDIYE', 'B000LRBGH8', 'B008060LNW', 'B00ANJK1YI', 'B00B56IMNU', 'B001AMGNNK', 'B002JCSQXU', 'B001U888PU', 'B002JCSZDQ', 'B005D6B92E', 'B006Y7EUZO', 'B0081NW1Z0', 'B00DURHTPE', 'B0071M6X1K', 'B001U88814', 'B001AMT0AS', 'B003BLPPPK', 'B001IV5BOA', 'B001IV5BEU', 'B0036OS1OE', 'B001U888QY', 'B0036OS3MY', 'B005CFW19G', 'B005CFXD6G', 'B005D6B5O6', 'B006Z19LPI', 'B004LL46E0', 'B00119LI5U', 'B008OQT2EC', 'B003XDXNDW', 'B008J0YA86', 'B005ESFBDE', 'B00B4RZD1E', 'B001XCXGQO', 'B008P45XPA', 'B00402327M', 'B005D6BN8Y', 'B005CD3CRS', 'B001IV56CC', 'B004029IX4', 'B001AZLIEG', 'B004O0TE5E', 'B004IS2DP0', 'B00B4QK694', 'B005OUL6E0', 'B0036FU4U2', 'B004J25SAM', 'B00DY7PH1S', 'B0078ZT0NI', 'B005CG0F5M', 'B006VA2QUU', 'B00B4BCR1O', 'B0058SNLO6', 'B004JKLRG8', 'B008OQV146', 'B006VA2QV4', 'B006WW5A8C', 'B002JCSRBQ', 'B006Y7EVV2', 'B0071QWN3S', 'B002JCSSZ6', 'B0046GCCCI', 'B005CFWH36', 'B005DTU38W', 'B001KZI470', 'B008J0YQP8', 'B008KYWNVC', 'B00B4BCQPQ', 'B00EDEVTCW', 'B000ZHFPWQ', 'B00E9C4TRK', 'B006GW46LA', 'B0071QK1WS', 'B007B9MFHO', 'B00EDF5MIS', 'B005ESAARQ', 'B00DURIBSI', 'B0036OS3X8', 'B008ONJVMS', 'B003ARTQIC', 'B003YUQC78', 'B005HV2Y2E', 'B004LL6YTU', 'B006VA2U0Q', 'B0071QJYVM', 'B005D6B94C', 'B0037KMT5O', 'B005ES12S2', 'B00CM2NMCM', 'B00DT0B2D2', 'B0034G60UG', 'B006TQN1P0', 'B001U88USU', 'B0037KMTCM', 'B0019SSHSY', 'B004JKLXZS', 'B003XDXMI8', 'B004J2NN2M', 'B00GJ9EBLK', 'B005D6B92O', 'B008VJLLAA', 'B009ZSMLB4', 'B008KY8UA0', 'B00AQDLIRA', 'B0037KMTAY', 'B00CN7S2JE', 'B0058RRHR4', 'B008KYWZ8I', 'B0017ZHE7O', 'B0058RRFG2', 'B006GW3ID2', 'B005CMHX3I', 'B005D6EILS', 'B005DZS7DE', 'B008LQY4P2', 'B008KZGY20', 'B00DY7VOZ6', 'B0081NW1ZU', 'B008AMW9IG', 'B007YBMKGA', 'B00ANJKQ0W', 'B002JIO97G', 'B0076SM8T0', 'B003XDVU7S', 'B0036OS3O2', 'B005DTEPPO', 'B005DCBNC4', 'B001U889YK', 'B005CJYRAI', 'B0076SM0JI', 'B005ESFIIM', 'B00DV66MHK', 'B003BLPSNY', 'B005CDV59K', 'B00B4S1KO2', 'B0071IMVK6', 'B008J9YM5S', 'B00B2YOZIG', 'B00DURHKLM', 'B00BNPL3UC', 'B0040278D6', 'B005CFYOBO', 'B00B4BCWNW', 'B00E59B7F4', 'B00ANJLGA6', 'B004020G2G', 'B008OQSZOK', 'B002JCSRB6', 'B008YDRGWU', 'B00ANJLO4Y', 'B002JVX8PM', 'B006TQMONK', 'B003YBUNJK', 'B008060U1A', 'B008KYX7P8', 'B001AZHUH0', 'B003XDVVKO', 'B003XDXNOQ', 'B003YBSQZI', 'B00B4F0UFU', 'B002JCSU18', 'B002JIO9OO', 'B0071QVXN4', 'B003ARTQ4G', 'B008M0W3CS', 'B00B4EWRAW', 'B005CFYO8M', 'B005DZS7Q6', 'B007JX0DDK', 'B003YBUTM6', 'B005CJZ9I2', 'B008KYWWZE', 'B0077CK3D8', 'B003BLPT88', 'B00DY8STKI', 'B00DU9EU22', 'B00331LLJ2', 'B003YUOJD2', 'B005D6B68Q', 'B0040289DY', 'B009ZSMV5U', 'B005EU60MI', 'B005D6B93I', 'B00DU969R6', 'B001KZI5OM', 'B001KR0C3W', 'B005ESAC4M', 'B006GW3LNO', 'B005ESABFC', 'B007263BK6', 'B001IV588E', 'B00E57O9QA', 'B0036FU2LS', 'B001IV535C', 'B006WW4VM8', 'B0036OS3Q0', 'B008KZEH38', 'B003QXLH6O', 'B0071IMJJY', 'B003BLPPRI', 'B001NPBTE2', 'B008HDYERC', 'B008ORDML0', 'B00B4EXG1Q', 'B00DXF5XY2', 'B00DY7PBKU', 'B00B4S0P5W', 'B003YBSPA4', 'B002JVX9NI', 'B006VB5070', 'B007TVT8D8', 'B008OQV8US', 'B008ORCC1Q', 'B008KYWNW6', 'B006Y7F3OG', 'B001KR0C5U', 'B001U888JG', 'B00401VMF2', 'B005CJZ9DC', 'B006GW4214', 'B005CMR6OE', 'B0036OSH3O', 'B000NCGG30', 'B008ONJTMA', 'B008VJL33A', 'B00CM2NIPI', 'B00770RMHA', 'B00DURI0N4', 'B0036OS2OS', 'B005CTCSV8', 'B00AQE7G52', 'B003XE1DN8', 'B0077077IO', 'B005HV2OVA', 'B008J0Y7C0', 'B00AR7V1WC', 'B008P47PCO', 'B001IV53CK', 'B008KZEREC', 'B003U2S5P2', 'B005GC6V46', 'B005ES0XVO', 'B004JN06N0', 'B008P4664W', 'B003Y38Z52', 'B002JCSZL8', 'B008KYW98O', 'B00B4BDE70', 'B008J0YJ5U', 'B00B4S10DI', 'B00805D2DO', 'B00B4QKL6M', 'B00B4QKCXY', 'B001KZHRPA', 'B005D6BIIY', 'B005CMR8JC', 'B008J0YHCK', 'B005KGCAYS', 'B00E9C2TOU', 'B006Z19AP4', 'B002JCSUP4', 'B008KYWOQG', 'B0046HACWY', 'B003Y391PA', 'B008P8KVQW', 'B008OQUZ02', 'B002JCSSSI', 'B004IZ150C', 'B008KZGZ4M', 'B004IZ6OC6', 'B00E1IUN0Y', 'B006TQLR42', 'B00B4R0EJK', 'B00B5NW77K', 'B004021BWK', 'B0089FE21G', 'B001U88ER2', 'B004JKLR2M', 'B006TQN87G', 'B006VA2QYG', 'B008J0Y8C4', 'B00ANJKT3Q', 'B008M3HOJW', 'B001IV5BMW', 'B002JCSQ3U', 'B007JX0DH6', 'B0071QIY4A', 'B005D67ZOA', 'B00E9C6S9C', 'B006TQLU58', 'B001U88QMA', 'B00E57NZCE', 'B0058RRFEO', 'B000ZPBQKI', 'B004JKLVKA', 'B002JCSPKE', 'B004JKLOFW', 'B0014GTZQY', 'B0071MJJSO', 'B00CN7W2PO', 'B001U88GY8', 'B00DURHCOC', 'B002JCSUPO', 'B00402DBM8', 'B007BX8FE2', 'B007PY0QZI', 'B008ORRLE4', 'B001HKH89I', 'B0036OSHRA', 'B003XDZMMM', 'B00BURGQWI', 'B00E9C4646', 'B006VB6EDY', 'B0036OS0KE', 'B005CG0MC8', 'B008BOU1RO', 'B003YUNL6I', 'B0071QK73Q', 'B008HDYD1Y', 'B006TQN2UO', 'B000S12PXG', 'B006Y4SMLA', 'B009ZSMWVS', 'B005LCTCVK', 'B008EH60X2', 'B004LL4T6U', 'B008KX6MV0', 'B00DURVBTO', 'B001KR0DG8', 'B001U88T18', 'B002JCSQAS', 'B00401ZGX6', 'B005D6B9QU', 'B002JCSTDW', 'B002JCSW5C', 'B00ANJKUJ4', 'B004IS2BF2', 'B00B4EV1U4', 'B007ZI7RRY', 'B00F2O71MO', 'B006Z6O6K8', 'B00401UQJK', 'B000ZPDEJO', 'B005D6BKBO', 'B008J0YMYS', 'B00B4BDCQI', 'B00B4RZGPM', 'B008KZECVA', 'B0076SO186', 'B00DT0BUA2', 'B001AZJUDM', 'B0036OS1T4', 'B005CFW3HQ', 'B002JCSVIA', 'B001V83B24', 'B00DY9VOEK', 'B008OOKJTG', 'B006Y7ESSS', 'B008J9YE3S', 'B00DURHUYE', 'B00B4QKENW', 'B001ULBP02', 'B00DURICZU', 'B00E9C06EU', 'B0081NW4Q6', 'B0058SNJGG', 'B006GW3PK8', 'B00B4BCRMS', 'B006Z19LBC', 'B008KZEE90', 'B006VB62OK', 'B0070CQKDC', 'B002KAOIXI', 'B002JIO5Z2', 'B006YFSN5E', 'B00E1LOI1Q', 'B00401UOY2', 'B005D6FVAK', 'B004IZ1F02', 'B004O0TE18', 'B003Y728N8', 'B005D6R5DQ', 'B000MPR740', 'B005DCBVX0', 'B0071M7FQ2', 'B00401P6AO', 'B004JKLQX2', 'B005CMR2TI', 'B005EU64H4', 'B00CM2ODF2', 'B003Y392R2', 'B003ARTQ9Q', 'B00DY9S84Y', 'B001BAJFAE', 'B0073VYFAA', 'B00B4BDBE6', 'B006Z18Y6U', 'B003Y728IS', 'B004029J0Q', 'B008KZCF9Q', 'B00DURHWZQ', 'B001IV5B8G', 'B006TQMGTM', 'B0076SPKNG', 'B0071QIWPG', 'B008J0YA9K', 'B005D6BAA0', 'B004LL3OG6', 'B001INGWE6', 'B001IV54DI', 'B002JCSXN8', 'B004LL45ZA', 'B008KYWM6S', 'B00B4S0QLU', 'B0036OS0NQ', 'B00B56IHDA', 'B005CG015Q', 'B0076SQ6QQ', 'B002JCSYOQ', 'B008M3QCYU', 'B003YUWJO8', 'B0071QVWNU', 'B008KYWPYC', 'B000LRFBI8', 'B0010T1PPE', 'B005ES0Y0Y', 'B008J0Y5UO', 'B0058RRKN0', 'B007RG8G2O', 'B004JKLXS0', 'B001V83B5G', 'B004J24U06', 'B005CJZ99G', 'B00COELAG8', 'B005CG07XC', 'B005CDCOLS', 'B0071IMI1I', 'B00DURHE4K', 'B00E9C6RWK', 'B004J25SG6', 'B003Y3F6R2', 'B00B4F0DQQ', 'B002JM0BJC', 'B006VA2TCU', 'B008060O20', 'B000TQWB0W', 'B008060U6U', 'B004JKLNEY', 'B00AR7U5UG', 'B006GW3HK6', 'B004JKLVG4', 'B00AR8NK52', 'B00B56JZL8', 'B00133AR2O', 'B0071M6XMO', 'B005EU7J00', 'B002JIO9M6', 'B004JKLO9I', 'B006VA2T7U', 'B0070CEZQ6', 'B008J0Y0AO', 'B002JCSUQ8', 'B008M0TMXQ', 'B008ONJU8I', 'B00ANJKT5O', 'B0071M7936', 'B005D6B5NW', 'B003Y3GXK6', 'B00805HPUA', 'B005D6G4XI', 'B00B4BDGAU', 'B006TAIAU2', 'B008JAQZIO', 'B0036OS2PC', 'B006Z19HTI', 'B006GW42DW', 'B001U88BC0', 'B00AQE7ESQ', 'B00DURHM56', 'B00AQDJ9LM', 'B00B4F0XGQ', 'B005CG01BK', 'B0081NW39Y', 'B003YUNKUU', 'B004JKLR8G', 'B008KYXJ3I', 'B004JKLXQM', 'B005HV2OB0', 'B008M3HWVC', 'B0058SNKRY', 'B001AZJMSA', 'B005ES0ZKS', 'B0070CQK5U', 'B008ODKD52', 'B007PY0P68', 'B008KY8TPG', 'B00E57NQL4', 'B004LKZQB8', 'B001U888K0', 'B00ANJKQ2U', 'B0071QITP4', 'B004IZ6Q38', 'B008KZFNZY', 'B00ANJJYEG', 'B001IV56AE', 'B006V950H2', 'B005CTD038', 'B002JVX9OM', 'B00B4L0CGG', 'B003YUUEP4', 'B005CMR9ZU', 'B004JN083I', 'B004VO6HTY', 'B004M8IDUK', 'B008KX72F0', 'B000S12PYA', 'B00AIZM7XA', 'B0070CEY6C', 'B007ZI7M9W', 'B0017ZHBNQ', 'B0071IL8CS', 'B00ANJKUHQ', 'B00DNO1DA6', 'B0036FU36W', 'B00B4BDGDM', 'B006Y4RYSW', 'B006Z18Y56', 'B003BLPSM0', 'B00B4BCQNI', 'B004LL1LB6', 'B006Z6P63Y', 'B002JIO8DG', 'B002JCSVQC', 'B004J24TD4', 'B00DY7PF6U', 'B003YBSD0Q', 'B005HV2OBU', 'B006TQLUW6', 'B0070CQJHO', 'B004JN04R8', 'B0071ILC88', 'B002N5N25U', 'B00B66A0RU', 'B005HV2T6A', 'B0071IL9M2', 'B003YUOG1W', 'B004JKLSWQ', 'B00B56IMUS', 'B001KR0DBI', 'B00BG2MFBI', 'B006U9R9MW', 'B00B4BCWPA', 'B0036OS3LA', 'B000ZPDEIU', 'B00ANJJP40', 'B00ANJK0G2', 'B00CM2OMLC', 'B00DT0B1TM', 'B00E57NRKY', 'B002JCST5U', 'B000OIA3NC', 'B002JCSQG2', 'B00COEL4AU', 'B003YUNKVY', 'B001U889K4', 'B008ORDKBW', 'B008KZECVK', 'B0076SOKQ4', 'B00B56IFAK', 'B006VA2UO2', 'B0036OS29I', 'B008M0WA5I', 'B001A5RLWO', 'B002JCSQ0S', 'B006GW3NJG', 'B002JIO56G', 'B005KGCAVQ', 'B003Y38YLC', 'B005ESFFQ2', 'B00B4R1HCS', 'B008M3HUFA', 'B003YBQGCI', 'B00ANJKSYQ', 'B00DY7PAKG', 'B00B4S7PWI', 'B005DCBT2S', 'B008VJM9ZG', 'B00CN7W2WC', 'B00EVI70GE', 'B004JN06LM', 'B00DNO2JWW', 'B004DSOB1E', 'B002JCSPVI', 'B008M0WA8K', 'B005CFZXZ0', 'B0046HAD82', 'B001IV5BFY', 'B00B4BDFSI', 'B00BG2MGRG', 'B005CJOE6A', 'B001MX8OSE', 'B003WT00R4', 'B005D6BAPK', 'B0036OS2SO', 'B004IZ868G', 'B005CEL152', 'B0071QIVCA', 'B002JCSR8Y', 'B008KZEH3S', 'B008OQVMZE', 'B00B4RZET0', 'B008ORCBHQ', 'B004JKLQ0U', 'B005C6BAM4', 'B00B4BD91G', 'B008KYWOPW', 'B001AZJMBM', 'B008KYWJ1Q', 'B005CFW13W', 'B00BG2MHM0', 'B004JKLVUA', 'B0070CF1Q4', 'B006V94OG0', 'B006VCRC48', 'B008JAQFZM', 'B008KX6PTE', 'B002JIO8ZO', 'B0058SNNK8', 'B002MATP8E', 'B008M3HOC4', 'B003ARTUIS', 'B0076SQSIC', 'B008KY8U96', 'B00B4EUXQW', 'B005DTEOZ0', 'B002JCSZK4', 'B003XDXNLY', 'B005D6O1FQ', 'B0070CF2XG', 'B0076ZTFEE', 'B002BW0LZO', 'B007YBMJVQ', 'B008PE3956', 'B00ANJLSS6', 'B004LKVLC6', 'B006VA2W0O', 'B0076SOW80', 'B008JAQZDO', 'B00B4QKEDC', 'B00590U95C', 'B0017ZHEFQ', 'B001G1ZQ0Q', 'B0036OS0AY', 'B003ARTSG2', 'B003XDZMRW', 'B0071QVZZ0', 'B001IV5BL8', 'B005ESACCE', 'B003YEUS42', 'B007YBML46', 'B0081NNICA', 'B004JN06T4', 'B00DZLLGRC', 'B005ES1232', 'B005ESYR20', 'B000NYLTHG', 'B002N5N25K', 'B007BX8G1O', 'B00DY8RB6Q', 'B00EWJLE6Y', 'B004M8JN9U', 'B006WW54LK', 'B008EH60W8', 'B008JEKENW', 'B008KYWLCI', 'B002JCSQO4', 'B005D6BKB4', 'B007ZIBRQ6', 'B00ANJJXD8', 'B00B4BCRNC', 'B008YDRFB2', 'B006TQN3US', 'B0036OS4AA', 'B008OOMEGC', 'B008KYX3RA', 'B00B57OQU2', 'B001IV568Q', 'B005HV2NQG', 'B006VA2PBU', 'B0076SNZJC', 'B008060PQA', 'B001U88GS4', 'B002JCSPK4', 'B002JCSQQM', 'B003ARTWTA', 'B00DURHPJY', 'B005CJYR0S', 'B005CMR6N0', 'B005D6BHLC', 'B005DCBPYK', 'B006Y4RL62', 'B008M3HWOE', 'B00B4RZGBG', 'B00DNO1KWM', 'B003BLPT2Y', 'B00DU9RA4W', 'B00DYA98M4', 'B002JIO908', 'B003XDXNXW', 'B006TQLUVC', 'B001AZQK6W', 'B006VA2ATW', 'B00B4QK9ZA', 'B00B4S7NKM', 'B003QXLH64', 'B003X5BPRQ', 'B002JCSPM2', 'B00B66A1RE', 'B000TVR1KC', 'B004O0TE3Q', 'B005HV2YVU', 'B005D6BJTC', 'B00ANJJ9LE', 'B00B4R0GYI', 'B002JIO7CS', 'B005D6B8RK', 'B004J2LPPO', 'B006GW4EQW', 'B00DY9VQB6', 'B008J0YFYA', 'B006Z6OUTA', 'B005D6BJBU', 'B001AZQK94', 'B008M0TLEG', 'B000TT7VT0', 'B002JM0BCO', 'B006VA2PCE', 'B006VB4RN8', 'B006Z1907C', 'B0077CLC6U', 'B003Y393TE', 'B002EX5RXG', 'B006WW54PG', 'B007ZI80RU', 'B001VH6OIS', 'B006TQN0JW', 'B008KYWU5Q', 'B00AQDKHWM', 'B003YUQ1QU', 'B006TAJ2R2', 'B00805HQ2M', 'B003Y394LG', 'B006VB6EJS', 'B008JAQZF2', 'B008ORCH1G', 'B0081NW4UC', 'B00DURHPJE', 'B001HP5ZF2', 'B001V7WWJ8', 'B003XE1CR0', 'B0071QVP5A', 'B008KYXD1Q', 'B007RG8EJE', 'B0036FU4C0', 'B003ARTRTU', 'B002JM0BII', 'B0045U9ZQ6', 'B00805D5T0', 'B00ANJKVWU', 'B005D6B62C', 'B005ESABDO', 'B008B2WUFW', 'B008KX7BZ6', 'B00B4F13T2', 'B00BG2ME7I', 'B000OZ3NVE', 'B00BG2MIMO', 'B008J0YNVA', 'B004IYZL2Q', 'B00401UY4W', 'B00COEL95U', 'B00CPY1LBG', 'B00B5NC2DE', 'B003BLPPNM', 'B00AR7UWYK', 'B00DYABG56', 'B008KX6VMA', 'B00DURH3J6', 'B0058SNHE0', 'B004IYZJ9Q', 'B00B4EWHFC', 'B003ARTT66', 'B003KMM5BW', 'B004IRYKJS', 'B0071IL65W', 'B005DZSGUS', 'B0076SLYS6', 'B008OQV41G', 'B003YUNKXW', 'B00B4BCWMS', 'B004LKZQBS', 'B001IV5BB8', 'B005D6BE24', 'B006GW3U5I', 'B006Z19TQE', 'B00E59CPRI', 'B003XDVVPE', 'B00DURHPI0', 'B0036FU2KY', 'B001U88GFC', 'B002JVXA0A', 'B004J27M42', 'B004O0TE2C', 'B005CFVZRU', 'B005DZS7HA', 'B006TQN0IS', 'B007ZI7Q3E', 'B00E1JSTCC', 'B006Y4RG3U', 'B00401ZD6G', 'B00CN7VZNE', 'B005D6BJBK', 'B003Y3D60G', 'B005ES0XQY', 'B002JIO7Y6', 'B00B66A2JQ', 'B005CG0AKW', 'B000ZP6MIY', 'B005HV2T5Q', 'B009ZSMKE2', 'B00DY7PCQ8', 'B004J22RUQ', 'B007A9YZDW', 'B008OQT4O0', 'B00B4QKJ9Q', 'B006VB62BS', 'B00B4QK2OS', 'B005D6B7IU', 'B002N5N2KK', 'B008VJM7W6', 'B003Y3D3S6', 'B004JN05U4', 'B005ESYRNE', 'B00DY8RA2G', 'B001U889EA', 'B008KYWLBO', 'B00E5B6ZVS', 'B005D6FYCA', 'B0071ILWT2', 'B006TQMZRA', 'B004024LP4', 'B002N5NFSE', 'B0036FU4LG', 'B005D6BMTE', 'B0071QW01I', 'B00DURID2M', 'B001U88EQ8', 'B004M8I576', 'B002JIO8UO', 'B003Y76GPY', 'B005CDFGHC', 'B008ODIVZG', 'B005CDF7T4', 'B008OOMWM8', 'B008OSD3CC', 'B003YBHE5Q', 'B00E1IULM4', 'B000Z1Q648', 'B006Y7EZD6', 'B00B4QKG6C', 'B006WW5AAU', 'B00B4S7UDM', 'B005CK12V4', 'B008MVJCRQ', 'B003XDXMGK', 'B00COEL4AK', 'B004LL3PA6', 'B008OQTAIK', 'B00ANJK0FS', 'B003YBQKII', 'B005CEBGXY', 'B00B4S7ZDM', 'B001U8892C', 'B0036FU2E0', 'B0071QK6RI', 'B005CJZJFA', 'B00B4BCS5E', 'B005OULO8S', 'B0071QJT2Q', 'B008J0YM0W', 'B006Y4RLBW', 'B003Y3GVW6', 'B00401US16', 'B002JCSRES', 'B005ES11YW', 'B008KYWSE4', 'B00ANJJYA0', 'B00CM2OECO', 'B008OQUUM0', 'B00B4BD4G6', 'B00B4RZCJ2', 'B002KCODG8', 'B003XDXMFG', 'B0036OSHMU', 'B004M8I5XA', 'B004M8K93E', 'B00CM2OP14', 'B003ARTRWC', 'B001AZMLPG', 'B008J0Y3AQ', 'B002JVX8UM', 'B002WN1NKE', 'B00ANJK40Y', 'B002JVX91A', 'B00B4F0K50', 'B003YUOMD4', 'B005D6BM30', 'B006Z6OREI', 'B00E98WJ62', 'B004J2QNFQ', 'B004LKXIYU', 'B002SNA6Y2', 'B003YUQIEK', 'B001KZI4DY', 'B00CPXWBOS', 'B00DY7VPRI', 'B008B2WPAM', 'B002JIO75K', 'B005D6FVBE', 'B007YBMCOK', 'B00DU9PFVW', 'B00E1LOBPE', 'B00401VNGK', 'B005EU62E4', 'B001V83AVQ', 'B006VA2YT8', 'B0089FE3NI', 'B007RG8FFW', 'B006VB67HC', 'B008J0YHIE', 'B00BNPKS26', 'B003YUSH5S', 'B00401V8WO', 'B00401YO3Y', 'B006GW3JZ4', 'B002JCSPMM', 'B0015MLFUG', 'B005D6QTL0', 'B007263BZG', 'B0036FU2CM', 'B005EU62XU', 'B008J0YRVG', 'B005CD38X6', 'B008KZEOQ8', 'B00AQE7XLO', 'B003XDXMB0', 'B005JIPIYG', 'B006TQN6YG', 'B005ESF0YE', 'B0073VYH0S', 'B008ORDNLY', 'B00B4F0K9Q', 'B003BLPT1U', 'B00DU9L9MG', 'B0036OS1RQ', 'B001IV5BNQ', 'B006TQN4UM', 'B004IYZKWW', 'B002JCSWHU', 'B006TQMXQI', 'B004JKLP24', 'B005LCOIDM', 'B003ARTS80', 'B008KX6G8Y', 'B008KX7AXE', 'B00402403C', 'B005ESABS4', 'B003P2UQZ4', 'B004M8HUNG', 'B005CJZTGO', 'B005CFW43Y', 'B008P45WOW', 'B002JCSRUM', 'B0036FU2FY', 'B009ZSN1DG', 'B004TM62NO', 'B008ORC5IG', 'B002JIO5HK', 'B001IV5B04', 'B004020HWA', 'B004LL4IVG', 'B002JIO96W', 'B003Y3913C', 'B008OQV6EQ', 'B005ESGVWY', 'B006Y4QTP6', 'B006VA2OKM', 'B0071QK6JG', 'B008ORDO4A', 'B0015TYXQW', 'B00B4R0GCA', 'B0071QIWVA', 'B005CTCUX4', 'B007B9MKJM', 'B0071IMLJC', 'B0050C75UG', 'B0036OS0AO', 'B001HEF6E8', 'B005D6BAB4', 'B006TQLVXY', 'B008KZEBJ8', 'B00AQDLKCS', 'B006VB4RUQ', 'B0070CEZ9I', 'B002JCSUAY', 'B00EVI733O', 'B00401YLI2', 'B008KX6HA6', 'B001U88T5E', 'B001U88MVK', 'B007ADH166', 'B005ESAB1Q', 'B001AMGOFC', 'B0036OS3DS', 'B008VJLMHM', 'B00DURHIUK', 'B005CHYOAS', 'B00DY8R3VY', 'B00E59CS7K', 'B002JCSX4M', 'B005D6BIPM', 'B008VJKYIA', 'B006D5VINY', 'B00B7NHGDS', 'B001KR0C28', 'B003Y3D6UQ', 'B005CD3DHM', 'B003YBPSVI', 'B0081NMI0I', 'B005CFWH22', 'B005CG0IHW', 'B003Y391V4', 'B008LQY18W', 'B00B4RZDMI', 'B008J9YLE0', 'B00279EGEI', 'B007263B2O', 'B0076SPK6S', 'B00E9C0ABE', 'B007263CP0', 'B006GW40ZW', 'B006VB6IPI', 'B006TQLX96', 'B006YFVJSC', 'B00AQDJABQ', 'B005CMR1CQ', 'B005OUMOLY', 'B00CM2NID0', 'B001V7V0LE', 'B005CFW45M', 'B00DURHKO4', 'B002JCSR9S', 'B007YBMIO4', 'B00CPXYNT4', 'B006GW40FM', 'B003YBQBE6', 'B004J2JPDI', 'B0076SNHAY', 'B00B4F0DRA', 'B004LL21YM', 'B007263ARU', 'B006WW4Y1Q', 'B0073VYKBY', 'B00DYA91BC', 'B008KYX2EY', 'B00B4F13U6', 'B00590U88K', 'B008KX7G4M', 'B0058RRKKS', 'B007263AHK', 'B0071IL68O', 'B006GW3PBW', 'B0076SNW04', 'B00EDEXJV6', 'B005D6O1G0', 'B008MVJCMG', 'B002N5N2JQ', 'B005CTCV92', 'B005DZSGR6', 'B001IV5AUU', 'B00E57OGZ4', 'B006Y4QQMM', 'B008M3HFEG', 'B00ANJKRKQ', 'B005ESFH7Y', 'B0071QIWAG', 'B005CMHXRY', 'B001KR0C2S', 'B001U88TUO', 'B005D6SBLG', 'B008KYXE3I', 'B008M3HZIW', 'B00DY8SSR2', 'B006Z6N4CY', 'B00ANJJB0S', 'B005EU637A', 'B00B4BCWOG', 'B00E59AWE6', 'B008KYWI4O', 'B005D6BLU4', 'B00DZLLGU4', 'B002KAOGG2', 'B001KZHSDG', 'B001AZJVPO', 'B001U88GXY', 'B003BLPSUC', 'B00B4F0DR0', 'B0071QVZ1E', 'B0070CEXJA', 'B002JCSZJ0', 'B005OUMRXY', 'B006Z19ZOU', 'B00B56IF50', 'B006VA2VBE', 'B002JCSYCS', 'B00DURI2AK', 'B006WW59HY', 'B00BMLQVLI', 'B00B4QJU5K', 'B004JKLP88', 'B00402314G', 'B00ANJJZCC', 'B0071ILEH2', 'B008J0YGLM', 'B005CMR2KC', 'B00B57OS28', 'B0058SNKNS', 'B001KZI4YS', 'B003YUOHUC', 'B005CG0ILI', 'B001KZI5GU', 'B001U88GSO', 'B008060MX6', 'B002N5NFRA', 'B0076SNMF4', 'B0046HADIM', 'B005ESFIBY', 'B008MUU7M6', 'B00ANJK0Y4', 'B003YUNFKU', 'B001IV5CY4', 'B0058SN2C2', 'B002JCSZMC', 'B00AQDLDYS', 'B00B7NHCIC', 'B0036OS3N8', 'B00AQDJBII', 'B004O0TE36', 'B005DTU238', 'B008PE5NBO', 'B008OQV9PC', 'B0019RJK9A', 'B0037KMTC2', 'B005LCPHWI', 'B008J0YF1S', 'B008JELEZY', 'B002JCSRDY', 'B008AMWE5Y', 'B0017ZIVSU', 'B004LL213I', 'B008ORC7Z2', 'B0014CF12A', 'B0036ORZVE', 'B006Y7F3SW', 'B008J0Y6LC', 'B008KYW78Q', 'B005OUMGFI', 'B00AR7V3Y8', 'B00DY8ZR30', 'B000ZP9QXC', 'B0071QVXL6', 'B001KZHPCA', 'B00590UNSK', 'B001U88AB2', 'B003XE1CO8', 'B00EDF42IO', 'B004J22RME', 'B002798BBW', 'B004J24V6Y', 'B003Y3D4AI', 'B005ESABN4', 'B001U887P6', 'B004V3TOAO', 'B0071QIUBC', 'B008KYWLGE', 'B008LQY0MO', 'B00DY7PIWQ', 'B008J0YQKS', 'B0036OSH3Y', 'B00401ZJAG', 'B004SG4WTC', 'B006VB62NQ', 'B008M3H03C', 'B001A5RM4Q', 'B005D6BKFA', 'B003WT98W2', 'B004M8I5JO', 'B005CJZTBO', 'B005D6FSEO', 'B006GW3L0M', 'B007ZI7LTS', 'B00EEZV2LS', 'B00DYA8YE2', 'B001V83AZC', 'B004M8PLLO', 'B005DCBQLC', 'B00CM3JJV4', 'B00DU9ETQE', 'B006D5XH0G', 'B005D6R64O', 'B0044WVTP0', 'B001V7WWK2', 'B008P461I8', 'B004J2JPSS', 'B0071M7FJO', 'B003YUSPFK', 'B008KZEBGQ', 'B00AR8N4YO', 'B00B4EWQ80', 'B00AR7U45W', 'B00CM2MYU8', 'B00B7NHG1A', 'B004JN06SK', 'B007ZI7IXW', 'B006Z1975W', 'B003ARTT48', 'B008060NU8', 'B008J0YAAY', 'B0071QK8M6', 'B003BLPSP2', 'B003BLPT10', 'B0029RPD4A', 'B008ORCDQU', 'B00E1LFUXG', 'B005CFVVPQ', 'B003YUNKFK', 'B00B4S7NK2', 'B00E57OL4K', 'B008JEKGUI', 'B005NL0TIE', 'B00AQDK07E', 'B004LKZSAW', 'B001U8895E', 'B005D6B9RY', 'B00805D4IC', 'B005DTU31E', 'B0037KMTD6', 'B003ARTWR2', 'B005KGCBEM', 'B008KYW6JQ', 'B00B4EWQ5S', 'B00B4F0XDY', 'B003YBQK60', 'B003YBPZO8', 'B001V7Z27W', 'B005F3PZKC', 'B005OB2OPY', 'B005OSDFTG', 'B0071QIWF6', 'B008KZECWE', 'B0014C7BLY', 'B001KLVRAK', 'B0036FU4M0', 'B003Y3D4Y4', 'B00CM2OGEK', 'B002JIO58E', 'B006WW54OW', 'B001KZI3YE', 'B000ZP9QUK', 'B00DY9RYRG', 'B003YUQO4Y', 'B0040216XO', 'B0071QW07M', 'B00CM2OBDG', 'B00DJR7F7C', 'B00B4QKJAA', 'B002JCSQ4O', 'B00DURHIUA', 'B0071QK7VI', 'B00B4R0IX2', 'B00156TJO6', 'B005D6QQTK', 'B003Y3F32U', 'B0058RRHOW', 'B00DURHYBI', 'B00805D39M', 'B005EU624O', 'B0036OS2MA', 'B001AYLMG6', 'B00B4QKMQG', 'B0071M6XDS', 'B001AMFZIO', 'B0058SNI58', 'B008KYWYHA', 'B004LL4H08', 'B005CFWL6Y', 'B00DY9S5DI', 'B007ZI7LCA', 'B00DYA984C', 'B004TMF69A', 'B005ES12H8', 'B008M0W8FA', 'B005CFWKW4', 'B00B4S1PIS', 'B006V942TE', 'B004IYZK4K', 'B004JN0586', 'B0070CQJAQ', 'B0071ILAWG', 'B001U889GS', 'B008M0WC1A', 'B00COELAJA', 'B001AZLSLY', 'B007V4J4SW', 'B004JN08LU', 'B0076SNHJK', 'B008VJLKRO', 'B004IZ1232', 'B00770RM4S', 'B003XDZMSG', 'B00E1LORE4', 'B005CI1TJG', 'B008MVJCKI', 'B0071QIYPO', 'B008KZGJV6', 'B008ODJ3XK', 'B00AQDLG3G', 'B001U889JK', 'B0058RRKJY', 'B006Z192HA', 'B008J9YE7E', 'B008KYXDY8', 'B0036OS2IY', 'B0036OS4B4', 'B008KZELG6', 'B00EDF5YDQ', 'B005D6B8PW', 'B00AQE7OZ4', 'B005D6B8G6', 'B005448ITM', 'B008KZEFQ2', 'B00401VD38', 'B002JCSQDA', 'B0073VYIX4', 'B008JAQU3O', 'B008VJUXH2', 'B00CM2NL3W', 'B0078ID8WE', 'B001AMGO3Y', 'B00B4BCSX6', 'B001IV59RY', 'B00DY8REFO', 'B0036FU4PW', 'B006V94TQU', 'B001AZMM0A', 'B005CFVU9S', 'B001VH6OHO', 'B006Z6NDWA', 'B002JIO95I', 'B002JCSXZQ', 'B006VB67FY', 'B0071QK7OA', 'B006Z19BR6', 'B0029RGBX2', 'B003YBQ2E0', 'B005CMR8LK', 'B00BMLQUR8', 'B0070CF0AG', 'B00E9C8ACU', 'B005EU62N0', 'B006TQN6X2', 'B004J20N1G', 'B005ES6D0Y', 'B004J2LP4K', 'B005HV2W8A', 'B00B4S0WIW', 'B004IS2C1U', 'B00E59CNRA', 'B004JKLR9U', 'B005D6B7Q2', 'B00401WIT6', 'B00CM2OBVI', 'B005HV2U4G', 'B005KGCBGU', 'B0036OS0JA', 'B0071IM49E', 'B007263BSI', 'B008M3I17G', 'B002KAOGT4', 'B001U88TRM', 'B005CEKXFG', 'B00EF01ZRS', 'B001U887WO', 'B005CFYRX4', 'B002JIO8VS', 'B005ESACBA', 'B008J0Y09A', 'B0036ORZY6', 'B008M3Q9KC', 'B004M8KAAQ', 'B004IS41LE', 'B005CFW48Y', 'B00AR8NOQ2', 'B005CFVYIA', 'B005CEL2DI', 'B0081NV200', 'B00401V9DM', 'B0046GJEAQ', 'B001AZMLGA', 'B004JKLVAA', 'B005D6O12O', 'B005HTPGRQ', 'B008M3GY9I', 'B0071ILUU8', 'B006U9QYHS', 'B00ANJKT2W', 'B008KZEH42', 'B004021H60', 'B005ES0YA4', 'B005ES619M', 'B0071QVYRO', 'B001KR0DE0', 'B001KR0BWO', 'B001U88EJU', 'B0019ZWL4S', 'B0036FU2DQ', 'B003WT0506', 'B003XDXNGE', 'B00B5NBYO2', 'B003BVK71C', 'B004IYZIKQ', 'B005ESFHBA', 'B001IV52YY', 'B001KR0C4Q', 'B005CEKYEQ', 'B006TQN63M', 'B006TQN1SW', 'B008KX6KK8', 'B008KX6CWY', 'B009ZSMIDK', 'B00B4L5GLM', 'B00DURIPF2', 'B005CFWNPI', 'B005D6B8I4', 'B008KYWW72', 'B007YBMDHG', 'B001U88TY0', 'B003ARTP88', 'B0076SQ6KC', 'B003YUNLHM', 'B0071IMVQ0', 'B008JEKKLS', 'B008KZGFDS', 'B00B4R12NW', 'B008KY8UFA', 'B000ZHBRHI', 'B0081NW33K', 'B006WW4VJG', 'B00DY77WCK', 'B002JIO9JE', 'B008MHXFCI', 'B008J0YAAE', 'B0081NW31W', 'B009NNLCCK', 'B004LL44K6', 'B00ANJK51C', 'B00B4F0XDE', 'B008YDRDW8', 'B006Y4QXRK', 'B003Y3IF66', 'B00DY7PB9G', 'B002KCOD22', 'B002KANYOW', 'B007PY0OBO', 'B005CFXD8Y', 'B006VA2CYA', 'B00DY7SGUW', 'B006V9501I', 'B006V94TYC', 'B00B5NW7WU', 'B0070CEXOU', 'B00B4S7T10', 'B005HTPGSA', 'B002JCSQDK', 'B007ZI7VKM', 'B00401YQU0', 'B002JIO9RQ', 'B003Y7BM62', 'B008OQTBOI', 'B00CM2OF7S', 'B008DNOQT2', 'B002JCSRCA', 'B003XDZLXW', 'B00770RL1W', 'B008M3H04G', 'B005ESFAIA', 'B005D6BN7A', 'B008VJNPC2', 'B004M8IJ36', 'B005ESAB3O', 'B006VA32OY', 'B001ISKW92', 'B00401Z5VE', 'B006GW3RJW', 'B0036FU2Q8', 'B0017ZM9TC', 'B008YDRHGK', 'B004JN06H6', 'B006Y4VZSM', 'B0071QJZ34', 'B00DURHR4M', 'B0036OS2NO', 'B00CM2OMWQ', 'B003YUOCVG', 'B003QXLH3M', 'B0036FU4QG', 'B008J0YRRU', 'B00EWJLN2O', 'B004J2OUP6', 'B005D6G122', 'B005EU64OM', 'B0071ILAW6', 'B008RQ0LOO', 'B0014CBIE0', 'B005ESABWU', 'B0071QK38U', 'B00B4BD91Q', 'B0015HL5VA', 'B001U88TN6', 'B008HDYHII', 'B00ANJJAC2', 'B00DURHKMG', 'B00COEL2EI', 'B0017ZKZXE', 'B005D6B9CO', 'B008YDRCOC', 'B00B4EWRBG', 'B006Y4QY06', 'B003ARTQR8', 'B004JKLSXU', 'B005D6QRJE', 'B006Y4QMPS', 'B008KZEQ2K', 'B00B56II3Y', 'B00DURHX00', 'B001AZMVXI', 'B003Y3F9RY', 'B00E59LM18', 'B006VB6EBQ', 'B003YBSBLC', 'B002SP1BLM', 'B005HV2U46', 'B00B7NHD68', 'B003WT082G', 'B00E9C2RPG', 'B001IV59TW', 'B004JKLO0C', 'B00B56ICYO', 'B004LL6HSI', 'B008KY8UY6', 'B005CEL09O', 'B008OR9Z9I', 'B001IV5AXC', 'B00B4R0SSW', 'B0081NMK9C', 'B006VA31WW', 'B008JEKEK0', 'B00B1UCZ60', 'B005CEBJ3G', 'B00B4BDHP4', 'B00DY8R0DK', 'B008MUU7HQ', 'B003YBPR5U', 'B006Z190BS', 'B004IZ58U0', 'B008J0YNW4', 'B00AQE7ZEE', 'B006VB653I', 'B0036OS22K', 'B0076SL00I', 'B003Y3F2YY', 'B008OOM2J6', 'B005D6QRR6', 'B0058RRFFI', 'B005DTEOS2', 'B006TAID7C', 'B008JAQSPE', 'B00B4RZ9SG', 'B00E57NXJ4', 'B004JKLODE', 'B00B4R0KXK', 'B004JKLV5U', 'B008KYWPZG', 'B00B4F0DQG', 'B005CFVU66', 'B0081NNI7U', 'B008ORDL8Y', 'B005CJZGJ4', 'B006VA2RV8', 'B00DU9DV72', 'B001U88E5O', 'B0071QWLN0', 'B006VA2UNS', 'B001IV5B90', 'B0071QVZ6E', 'B00CN7VZPW', 'B00DY8SMLO', 'B002JCSZQS', 'B004J2JPT2', 'B002RNQVV0', 'B005D6FTXE', 'B001KR0C4G', 'B0071ILX0K', 'B000PD02XC', 'B004JKLXHQ', 'B00DU96FRA', 'B0036FU33U', 'B007ZI7TY0', 'B006Y4QDMU', 'B005CFVWQY', 'B00770U0HY', 'B008LQXZD4', 'B00B4RSZFK', 'B005CG0PAM', 'B008LQXXYK', 'B00B4S0WJ6', 'B004JN060I', 'B005CMHX4C', 'B005GC6WR2', 'B00B4RSVDQ', 'B00DU9L692', 'B001KR0C46', 'B0071IL6WA', 'B00B7NHCUU', 'B00DY8RDUU', 'B006VCRDFG', 'B006GW3TY0', 'B00B4F0DPW', 'B001IV5A1O', 'B004J2LPKY', 'B003XE1D1A', 'B0015MI644', 'B00B4BCSUO', 'B004IS2FLW', 'B00B4ETX0E', 'B004P1HPFS', 'B003YUQ74G', 'B004IZ570G', 'B004IZ1CLO', 'B0014C3XNY', 'B005D6O1GK', 'B006Z6N95Q', 'B001A5RN1S', 'B00AJRZYVE', 'B001U88U94', 'B005CMR06S', 'B004021API', 'B005D6BJTW', 'B003YUOK9K', 'B005CG042G', 'B005CMHX3S', 'B006VB6GIW', 'B00DY9VUNU', 'B005ESAAYO', 'B004IYZC3O', 'B005D6FRI6', 'B005D6O1YC', 'B005ESABUC', 'B006V931HS', 'B008KZGY3E', 'B00AQE7Y04', 'B00DYA90XQ', 'B003Y3GZV8', 'B0037KMT36', 'B005CMR2IY', 'B005HTPK9U', 'B008J0YHC0', 'B008OQT0IK', 'B002JVXC80', 'B006Y7ES4C', 'B00ANJKVT8', 'B008LQXXYU', 'B00401V88I', 'B008JEKJ2S', 'B006GW3S32', 'B006Z6O4VO', 'B00E59B4DE', 'B0071MJIOY', 'B00B4F0XG6', 'B002JCSY14', 'B005DTEPKY', 'B004J25S48', 'B00DYAB8VS', 'B002KAOGEO', 'B0073VYGAE', 'B008KX7CWS', 'B002JIO5EI', 'B008KZERD8', 'B001VH6OI8', 'B005CFVSZY', 'B001KZI3SA', 'B006VA2UOM', 'B00B4R1GL0', 'B0058RRDXW', 'B001IV54L0', 'B008JEKD7E', 'B008ODIVYM', 'B008KY8TQA', 'B008KZGWOU', 'B001IV58RK', 'B008ORC9B4', 'B00B4F0NNE', 'B0022BMX0A', 'B003BLPTA6', 'B006VA2RQS', 'B005CFW3IK', 'B004M8K9HK', 'B00AQDLIAC', 'B00CM2OM6W', 'B004JKLOZ2', 'B00ANJKIMI', 'B005CFW13C', 'B005CG017E', 'B00BG2MHS4', 'B008HDYEOU', 'B00DJLQ39E', 'B0071QVZT6', 'B004VO6HBM', 'B008J0YF04', 'B00B4QKL2G', 'B0036FU2LI', 'B001U88RCO', 'B00B4BDAB0', 'B00DY8RBIE', 'B00B4BDDMQ', 'B005P49RIC', 'B004IZ6QJM', 'B0071QWMO8', 'B00FCE9MMG', 'B008KYW7TK', 'B004IYZL12', 'B00ANJK42W', 'B005D6O0LQ', 'B008ORRODC', 'B008VJQZ9M', 'B00591U8AC', 'B001KZI5FG', 'B008ODIRLE', 'B00AQDLMDK', 'B005CDFB9K', 'B00ELC2BKU', 'B006VA2PB0', 'B00B4V88M6', 'B003ARTYSE', 'B0017ZIVSA', 'B00B56IAV4', 'B003XDZMG8', 'B003Y3F3HA', 'B003XDVVKE', 'B0028RZ0RG', 'B005ESAB2U', 'B009G4DG1G', 'B008P4636I', 'B001KR0BVA', 'B009ZSMIEO', 'B003ARTT7K', 'B00B4QKJAK', 'B00EDF44W8', 'B005P0SRYG', 'B008ORDLX4', 'B0037KMTCW', 'B0071ILCHY', 'B003YBUQAG', 'B005DTU3MS', 'B005ESF12U', 'B008ORDRUQ', 'B006TQLYF4', 'B00J51Q0RW', 'B008J0YF22', 'B008M3HKWI', 'B00DY8R4UO', 'B004B2D29E', 'B00DY7PHEU', 'B005CEKYXC', 'B005CJZ96Y', 'B006Y4QTQU', 'B0071MJJGQ', 'B002JIO8V8', 'B006YFTSY4', 'B003YEY2IA', 'B0010T1PPO', 'B004JKLUKQ', 'B008ONJV50', 'B00B4BDG9G', 'B00B4BDJYI', 'B00590U5Q0', 'B00AQDLKS2', 'B005D6BANW', 'B002JIO8ZY', 'B00EWJN1OW', 'B006TQML38', 'B0058SNI94', 'B006Y4RL44', 'B006V9491K', 'B0076SM08Y', 'B004JKLR6S', 'B0046HAECC', 'B00DY7PI6M', 'B001UO472M', 'B008KZEQ34', 'B003YUUFN0', 'B00FCEA5TK', 'B0028RZ0R6', 'B004O0TE2M', 'B0071ILTF4', 'B00CM3JG3U', 'B002N5NGD8', 'B003YUOEUU', 'B005D6FTQ6', 'B001AZJRLC', 'B005D6FUPG', 'B003Y3GYH8', 'B001IV566S', 'B004RAB1AM', 'B0071IMTPI', 'B005ESABL6', 'B002JCSQ0I', 'B001U88T86', 'B002N5N2YG', 'B008JEJGTK', 'B003ARTTG6', 'B008ONJWJ0', 'B001KZI5ME', 'B0058SNI9O', 'B0076SNWK4', 'B006TAIDAO', 'B0046S67UE', 'B008KZGWXQ', 'B00DURHNCS', 'B0078ID7WA', 'B00B4QK4HS', 'B001AMFZNE', 'B00401Z7XA', 'B001V816VC', 'B005CK12KA', 'B002686YPE', 'B006WW4YNE', 'B006Z18Z32', 'B005D6FVAU', 'B00AQDLLWC', 'B00E9C733M', 'B00CN7VR8M', 'B002JCSRH0', 'B000ZPDDZE', 'B005D6G15E', 'B006Z6O518', 'B0076SP83I', 'B00A0HQJXU', 'B0076SP3JW', 'B00B5S2MDY', 'B001KR0C50', 'B002JCSUEU', 'B0036OS3EM', 'B007ZI7MQ0', 'B00DY9VSVO', 'B00133AR3I', 'B001U887QK', 'B00770RKGI', 'B007YBMIE4', 'B003YBPTZI', 'B00805CVRM', 'B001KZI5PQ', 'B00B4QKHNY', 'B008KZEY0E', 'B002JVX8H0', 'B001XZ6T4W', 'B0076ZTEK4', 'B008JEKEOQ', 'B008M3HSKM', 'B00B4L5GRG', 'B0036FU330', 'B005ESABO8', 'B004IZ1D6S', 'B00B4QKG1W', 'B001XFTRYG', 'B0081NV6DS', 'B00B5NW5W2', 'B00DU9H0B0', 'B001KZI5MY', 'B003BLPSW0', 'B00401UPFK', 'B00DU9C2BS', 'B00DY7PAVU', 'B004IS0QNG', 'B008KYWXMG', 'B008ODIQKG', 'B00BG2MJGY', 'B006VA2X7Q', 'B008M3HUFK', 'B0012F7TCY', 'B005D6O13S', 'B003YBPN22', 'B008P8KWS4', 'B005ESAB02', 'B004LL4K3W', 'B006VB6GK0', 'B001KR0CDM', 'B003YUQC7I', 'B008KZENB4', 'B008OQTA5I', 'B00B2YOUCW', 'B006VB659C', 'B001U889EK', 'B008RQ0P4A', 'B00AQDJEB2', 'B0070CEY0I', 'B001U888VO', 'B008KYWYJS', 'B00B4R0JOU', 'B008HDYD3M', 'B006YFU7HQ', 'B007BX8FO2', 'B00DURHM3I', 'B00DY7PEE8', 'B005CM29HS', 'B00590U76I', 'B0071QWMQ6', 'B00B4QKOIW', 'B006Z6O4UK', 'B00B4QKG3K', 'B005CJYRYY', 'B005DZS7AW', 'B004M8K7SQ', 'B005FUI32W', 'B00DURVBVW', 'B003Y728KG', 'B005LCSNHE', 'B008VJK03O', 'B003YUU7II', 'B001AZJMA8', 'B004JKLVHI', 'B00591UMXK', 'B008KYWU8I', 'B005D6G3SY', 'B00DY8SN90', 'B001U88V02', 'B00FFL36XC', 'B00B2YOGUI', 'B005D6E0NE', 'B008KX6ECW', 'B003BLPSTS', 'B008OQUZV6', 'B00DNO1IQK', 'B00CPXY26S', 'B00E9C8CZU', 'B00EWJN570', 'B0070CF1JQ', 'B005448K4A', 'B006VA33F2', 'B002N5NG8S', 'B004JKLXO4', 'B003NX73G0', 'B003YBQ4G6', 'B000O32MLI', 'B002JIO6V0', 'B004IZ1D7M', 'B0036FU2CW', 'B00EHLUV98', 'B00DNO1XAG', 'B00E9C48K8', 'B004JKLRMM', 'B00AR8NTAS', 'B005CD3CGO', 'B006VA2Y6Q', 'B00B4QKOIM', 'B001IV5A2S', 'B00DY7P95W', 'B0036OS1PI', 'B00CM2OL7W', 'B00DY8SP52', 'B00B5S2N92', 'B00B7NHGLA', 'B00DY6APHA', 'B008KYW7QI', 'B001XCXGS2', 'B006UAGTJU', 'B00AQE78ZU', 'B002JCSUD6', 'B005D6FYYS', 'B00AQDLJD8', 'B00AR7V3RU', 'B0076SNO9I', 'B005CMAX3A', 'B007YBMABK', 'B0036FU2CC', 'B00B4QKMPW', 'B0058M4ON4', 'B00DU9F3XM', 'B00B4852XW', 'B003YUOJ5K', 'B004LL3PAG', 'B00AR7U3IK', 'B003YUQ9KS', 'B001AZLLKM', 'B003Y38YN0', 'B0071QIXRS', 'B008KYWZAQ', 'B003Y3F86G', 'B004LL4G4U', 'B002JIO7BE', 'B004S5VDRM', 'B0036OSHQQ', 'B002WN1NHC', 'B005D6FZ24', 'B003XDVUEG', 'B008VJLDP8', 'B001U88TUE', 'B003YUQ8P4', 'B00DT0B1RE', 'B002JVX9TC', 'B00CPY1QYI', 'B00DURH3JG', 'B005D6B618', 'B005CDFA32', 'B000ZHIILG', 'B00E4MPMFI', 'B008J0YSLK', 'B00AR7V3QG', 'B005D6R7Q6', 'B0014C2VV4', 'B0070CQKYQ', 'B00B4EWD1K', 'B005CMR8LU', 'B001U88S9Q', 'B000OICEA2', 'B002JIO9MQ', 'B003XE3GZQ', 'B00ANJJ9SM', 'B00DY7PKKQ', 'B00401YDE4', 'B008BOU1P6', 'B008KX6QW0', 'B005GC6X76', 'B004IS2BQQ', 'B006VB5I3Q', 'B001U887LK', 'B004IZ36Z4', 'B005CMR07C', 'B005DZS77K', 'B001BAFFOE', 'B004JN06LC', 'B006VB6A6U', 'B008JAR0WE', 'B002KCOD3G', 'B0071MJJM0', 'B005D6BAPA', 'B008ODISDQ', 'B003BLPT3I', 'B006UD3EX6', 'B00DU96FP2', 'B008JAQEPI', 'B00401YNUS', 'B006WW4VGY', 'B003TJ9C3K', 'B0071IL8F0', 'B008J0YF0E', 'B008JEJ8JI', 'B002JCST14', 'B0036OS3H4', 'B005DCBTQY', 'B00AQE77CE', 'B00B4BDBVY', 'B00DV66P3G', 'B00ANJKRGK', 'B008KX7ASO', 'B005DTTZ6I', 'B00B4BDBXM', 'B006VA2U2E', 'B0089FE3VA', 'B003ARTSLC', 'B006TAIM14', 'B001KR0BUG', 'B001AZLSPU', 'B0071QITXQ', 'B008J9YC4E', 'B005DTEN2E', 'B005CMR6OY', 'B006D5WZFE', 'B007YBMK9M', 'B008KX7FZ2', 'B008KYWPVK', 'B00ELC2FLK', 'B00AQDLEG0', 'B00B5NC496', 'B00AQDK17I', 'B001A5RLL0', 'B00B4EWRCK', 'B00AR7U47U', 'B0071QJSVI', 'B008KX7BPG', 'B00CN7W614', 'B003YUOBFS', 'B0037KMT18', 'B00DYA91K8', 'B0010T1PPY', 'B00BG2MHZM', 'B008ORC6IU', 'B005CEBMV0', 'B005CDNU0C', 'B008KZCF7S', 'B008VJL9XO', 'B008JEKLK8', 'B008KY8TPQ', 'B00DY7SIPK', 'B008060MEU', 'B0076SPFMM', 'B00CM3JFRM', 'B004LLAX2Y', 'B004M8JNA4', 'B0017ZIV3K', 'B005D6QWSA', 'B006Y4QYK6', 'B008JEKNTM', 'B00B4QK11W', 'B008M3HQX6', 'B0071M77D8', 'B002JIO90S', 'B00B5NW7CK', 'B00B4BD7YK', 'B006TQMID6', 'B007PY5T5K', 'B005EU6154', 'B008ODIV24', 'B008JEJGUE', 'B002JCSZTU', 'B002JCSQTY', 'B008OQUUCA', 'B005CJZJ6Y', 'B001F6E0TU', 'B002JCSW7U', 'B006VA33PM', 'B0040217XI', 'B00ANJK43G', 'B006Y4QGCM', 'B008KYWWT0', 'B00B4F0XES', 'B001AZJUF0', 'B001V7Z2A4', 'B0058SNNO4', 'B001IV5BRW', 'B0071ILB4I', 'B005EU7IWE', 'B0071QK80I', 'B008KYWXOY', 'B005CMHX42', 'B00B56JZIQ', 'B0073VYHEE', 'B005ESF6GG', 'B005EU62G2', 'B00AR8NAT8', 'B00B4S1KOC', 'B00E9C46DW', 'B001VA96PI', 'B008ODIOIA', 'B00ANJK0DA', 'B004IZ1CIC', 'B008KYWRHC', 'B00B4S7T0G', 'B00B4F16ZS', 'B003XDZMPY', 'B004M8GAMI', 'B006TQMI9U', 'B00EVI733Y', 'B001U887PQ', 'B00E4MPLWC', 'B008JAQZHU', 'B005HV2OC4', 'B005GC6X7Q', 'B005OUNQL6', 'B00DU9EFE0', 'B008ODIQLK', 'B005CMHWXO', 'B002KAOGS0', 'B0076SQ73S', 'B003XE1CUM', 'B0081NNGMC', 'B00DYCOB56', 'B003Y3F2YE', 'B00B4EWWI4', 'B001AZJSBG', 'B005CMHX2O', 'B004JN06TE', 'B001VH6OG0', 'B004M8IA9O', 'B0071QVWJO', 'B005D6FSXU', 'B00AR8N6LK', 'B004LKZQVS', 'B001IV59QK', 'B00GTC29IE', 'B0040241LI', 'B005CMHXR4', 'B001KR0C0U', 'B00DT0AY68', 'B006Z19CZC', 'B006VB4RKG', 'B008YDRCKG', 'B003YUNE1A', 'B002N5NFPC', 'B005D6BI66', 'B0076SLYR2', 'B006VB6CDQ', 'B008KYWI1M', 'B001KR0DFO', 'B0036OS43W', 'B005D6B8PC', 'B003Y76GPO', 'B00590U86M', 'B008ODIV4M', 'B003YBUMY6', 'B008M3HL0Y', 'B001AZMLL0', 'B005CMI26U', 'B001U88PY4', 'B001U88USK', 'B005EU649C', 'B0036FU4LQ', 'B008LQXZCU', 'B00805D64Y', 'B0058RRBN4', 'B006GW3GLQ', 'B001U888S2', 'B001U88V1G', 'B001VH6O0Q', 'B00B4R14KS', 'B004LL4IAW', 'B008KYWV3C', 'B00E9C734G', 'B008KYXEWY', 'B00B7NHHTG', 'B001IV5BFE', 'B004JKLO34', 'B008KX6LVG', 'B008KZEORC', 'B00401ZA5U', 'B004O0TE0O', 'B007RG8DX6', 'B00B4S7R1M', 'B00DY7R9TQ', 'B005LCNFQ8', 'B008OOKLH6', 'B006V94EX8', 'B0036OS28Y', 'B0076SN5WO', 'B001AZJM7G', 'B006Z6P2V0', 'B0089FE2ZM', 'B008KYWKCY', 'B008ODIKF2', 'B00DURHNEQ', 'B004VO2AMM', 'B008KX72HS', 'B00COEL94Q', 'B00187F9HS', 'B002KAOGQ2', 'B002JCSX8S', 'B008HDYD28', 'B0058SNLIC', 'B00B4BDFU6', 'B006TAI78W', 'B004LL4JUQ', 'B005CMHWY8', 'B004JKLRXG', 'B00AQDKJFC', 'B00AQDKKJ2', 'B002JCSR20', 'B004IYZLEO', 'B005D6QRQM', 'B007PY0P86', 'B00805D6EE', 'B0014C7BGY', 'B008HDYEPY', 'B008YDRF76', 'B00AR8O01A', 'B0058RRHQ0', 'B005CMR2HK', 'B006WW53Z2', 'B0071QVYYW', 'B00B4QKMPM', 'B00DY7PHPE', 'B008KYX7QC', 'B001U88PYO', 'B003XDVVO0', 'B0036OS004', 'B008OQVCBI', 'B005D6R7L6', 'B0071ILYCM', 'B0036OS3OC', 'B001ULBP16', 'B005C6BAKQ', 'B005CFW1A0', 'B003YUQ0BQ', 'B0071QK43E', 'B006U9QVM6', 'B008HDYENQ', 'B00DT0BB9C', 'B005ESF1Z2', 'B006Y4QQCW', 'B005EU7J7I', 'B00402DZGU', 'B008LQY19Q', 'B004JKLW9K', 'B008P8KXB0', 'B00CPYI5F6', 'B00B56IH7G', 'B00AR7U59C', 'B005ES617E', 'B008M0WFDK', 'B001KZI4SY', 'B003P2US1G', 'B0036OS0DG', 'B008M3QO52', 'B00B4QKHLG', 'B00E5B8FNY', 'B000VAC48U', 'B001KZI43O', 'B003BLPT6U', 'B002JIO76E', 'B004JKLQGO', 'B0058RRFEY', 'B005CMR5OK', 'B007ECBKHE', 'B005CG082M', 'B008M0W4WC', 'B008KYWN0S', 'B00E1JRTU0', 'B007B857F2', 'B006WW59ME', 'B007YBMITY', 'B009ZSMSDA', 'B005ESF1TI', 'B004JKLOVQ', 'B003BLPT56', 'B004LL44PG', 'B006VB5ZO8', 'B005EU7J8C', 'B00ANJJUGI', 'B00B4S7NIY', 'B007BX8GA0', 'B00133C6V4', 'B007YBMJFC', 'B008KYWM90', 'B003YUUTRC', 'B0036OS0MW', 'B0071QK0PG', 'B007ECBJ4I', 'B008OQT7LK', 'B008KZGWNQ', 'B002JCSPPO', 'B001KR0C1Y', 'B005LCTCMO', 'B005D6QQF4', 'B007ZI7Z1C', 'B002N5NDHW', 'B004O0TE4K', 'B008J9YC2G', 'B000NCQ73Y', 'B000NYK5TO', 'B004IZ6QFQ', 'B005CD3AP2', 'B003Y3GZDQ', 'B005CFVSYK', 'B0076SM73C', 'B0076SM6YW', 'B005OUNJ7M', 'B005D6EIKO', 'B00BG2MGGW', 'B001BAHLPK', 'B007ZI7V6G', 'B004IZ6QCE', 'B00BG2MKAO', 'B00DNO1QYO', 'B004021XLE', 'B003Y392YK', 'B0070CF02E', 'B006WW57Q2', 'B00ANJJZAO', 'B003ARTTHU', 'B0040295VE', 'B006VB4RII', 'B004P1HPJ4', 'B001IV59PG', 'B005HV2U5K', 'B001U887VU', 'B001U887Q0', 'B002JIO7QO', 'B006VA2DI0', 'B001UHN37Y', 'B00ANJJI4M', 'B006Z6O13U', 'B0078ZJT70', 'B00590UDXA', 'B006Y4QTVA', 'B008ODIU6G', 'B00B4RZAOE', 'B0040287EA', 'B0071QVYOW', 'B007ZI81TC', 'B001U887NS', 'B003Y76GO0', 'B0037KMT0E', 'B0071QK7A4', 'B008JEKDBU', 'B006VB6C90', 'B00AQDLY7O', 'B00B4QKJC8', 'B00402BM7E', 'B00EPABIBG', 'B006VA2QXC', 'B008KYWU4M', 'B003XDXMCY', 'B002JCSQLM', 'B003Y78FQM', 'B008KYWA7O', 'B003Y38YFS', 'B00401VBO4', 'B00DURHIWI', 'B004IZ372G', 'B00591VBIK', 'B002JCSQIA', 'B001AZHUMK', 'B002N5NFTI', 'B00401X6RE', 'B0037KMTBI', 'B003YESVCS', 'B0036OS0I6', 'B008ORCJ0U', 'B0036OS2BQ', 'B0081NW4OS', 'B005HV2PJG', 'B00CM2N7X6', 'B001HEL6TM', 'B00133C6W8', 'B002JCSPJA', 'B006Y7ERLQ', 'B001KZI4KC', 'B0046HA9OK', 'B00E59BLN2', 'B002DUDH8C', 'B002KAOGDK', 'B004026WYM', 'B002JIO8ZE', 'B00DV66Q8U', 'B0071QIVK2', 'B000FVVXG4', 'B001IV5B2M', 'B007ZI82G4', 'B001UI7TVY', 'B008ORCHPW', 'B00DL3TKKO', 'B00DURIE3A', 'B00B4F0NMU', 'B00AR8O21S', 'B004IZ39NI', 'B006TAIO3K', 'B00805D46Y', 'B0036OSH7A', 'B003YUWGF0', 'B005ESF33C', 'B000OYLVI2', 'B002JCSVSK', 'B002N5N282', 'B00401ZLIG', 'B004M8JU3O', 'B004O0TE22', 'B000G1JM02', 'B005CMRGFI', 'B001IV558M', 'B001AZQK6C', 'B002JCSQCQ', 'B0071QJLZ6', 'B007M4ZVUQ', 'B007263AMA', 'B008KYWM6I', 'B008RQ0OO6', 'B008YDRCN8', 'B00DURI3IG', 'B005ESFDHI', 'B006WW4ZGK', 'B005C6BAJW', 'B006VA30ZK', 'B0071QVOQK', 'B003ARTTNY', 'B006VB6CHW', 'B00402963Q', 'B000S16ATQ', 'B002JIO9IK', 'B0058SNJCA', 'B0025ZNGPE', 'B006GW3H3I', 'B00AR7U59W', 'B004S5VDXG', 'B008M3HUQ4', 'B00401XH50', 'B00CPXVXJC', 'B006TQLX8C', 'B00E98U1F8', 'B008KX6N32', 'B001IV5BHC', 'B006Z191C6', 'B002N5N25A', 'B002PW3BS4', 'B0036OS3EW', 'B003YUQ0FM', 'B0071QWMTI', 'B002JCSUBS', 'B001VH6OFQ', 'B004IYZBYY', 'B005EU7J1E', 'B007263A02', 'B007A9YZEQ', 'B0036ORZWI', 'B004O0TE54', 'B002KCODIG', 'B004LKZUI2', 'B006GW3LDO', 'B00AQDLGPE', 'B003ARTP7Y', 'B003YUS7M6', 'B002JIO54I', 'B003YBHGWM', 'B006Y7ERJ8', 'B005HV2UZK', 'B008J0YGQM', 'B008ODIV4C', 'B00B4S7UFK', 'B003YBUDRW', 'B005D6BB9U', 'B002N5NFOI', 'B00E1LOKYG', 'B00ELC0ZCG', 'B0007UQFW0', 'B008ORDRCY', 'B0036FU2KE', 'B004IS422C', 'B008J0YPNG', 'B008M3HH9Y', 'B00BG2MF2M', 'B005D6FTL6', 'B0036FU4EI', 'B002JCSV1W', 'B001U88GR0', 'B005D6B8HK', 'B002BG6CK8', 'B006TAIAR0', 'B0058RRFEE', 'B004LKVLBC', 'B004IYZJHS', 'B00590UB6E', 'B00DY8SZ8Y', 'B005D6O1EW', 'B001IV567W', 'B002JCSSHY', 'B0070CF394', 'B0070CEZ2A', 'B0071QWLTE', 'B0071QVZG4', 'B0071QWKYK', 'B00AQDKE34', 'B00A0HQJX0', 'B006Z6OGEO', 'B00B4QKEFA', 'B00B4RZEFE', 'B005D6BAAU', 'B00B4EXKXU', 'B00CN7VTY4', 'B001ASKBLY', 'B001U88T7W', 'B004LL447E', 'B005CDF77G', 'B006Z6OUSG', 'B002JIO7D2', 'B0036OS3FG', 'B005CK0X0K', 'B0071QVZAU', 'B0071QIYUE', 'B002JIO6WO', 'B003YBHF82', 'B00DY9S4M0', 'B0036OSH5W', 'B0052WSCR4', 'B0076SN5TC', 'B008YDRB7U', 'B005EU61Z4', 'B005CMRB80', 'B003BLPSWU', 'B003Y392KE', 'B004LL3LOG', 'B006VB6EVG', 'B008OQVQTG', 'B007263CTQ', 'B007ECBKZQ', 'B003BLPT92', 'B001AZJM80', 'B003BLPSZ2', 'B004JKLRRM', 'B005CTCTSK', 'B006Z6OWOI', 'B001U88BAM', 'B0017U5CX2', 'B00DY9S23G', 'B008KZETYK', 'B000ZP81L0', 'B007PY0Q6M', 'B008J0Y0TU', 'B006TQN5S8', 'B005KGCBF6', 'B006TQMGV0', 'B002JIO5RU', 'B006Y4QQHW', 'B008J0Y2B6', 'B00AQDJCYG', 'B000REQFV2', 'B0071QIX1Y', 'B00805D2V6', 'B000OP6U2I', 'B00B5NW464', 'B00DNO216G', 'B005D6R428', 'B001AZJSHA', 'B0076SPT32', 'B00B5NW6LC', 'B006Z6OPF4', 'B002JT32IC', 'B008KX7E58', 'B003WT91N8', 'B002DUDHAK', 'B003YUNFDW', 'B00B4QKMV6', 'B001U887RO', 'B00401V392', 'B0040237E0', 'B004J2OUM4', 'B006U9R6J8', 'B006Z6OZVI', 'B008J0Y946', 'B0081NNJKQ', 'B00402DBHS', 'B007YBMKLU', 'B00B4R0HXI', 'B00B5NC1F8', 'B002JIO76O', 'B00591UOCY', 'B008YDRCO2', 'B009ZSMJHA', 'B00CPXYUTM', 'B006VB67JK', 'B00DURHTSQ', 'B00DY77V1W', 'B003YEVY6S', 'B00DY9TE0Q', 'B00BMLQV7M', 'B008B2WVOC', 'B005DCBQZS', 'B00HN0OV8W', 'B001IV5E5Q', 'B0071ILUSU', 'B00ANJJY8W', 'B008KY8S0W', 'B003YBQ3RQ', 'B004IYZJ6O', 'B005CD398A', 'B005CTD4RA', 'B002JIO94Y', 'B002LWL4ZA', 'B0071QVWGM', 'B00DU9QVYW', 'B00DY8R1S4', 'B00BG2MEJQ', 'B00E9C70EO', 'B005I71D9C', 'B00B4EWXMO', 'B0070CQIWK', 'B006TQML4C', 'B008KX6OKY', 'B004JKLVZA', 'B006TAIDBI', 'B001HKN4K0', 'B008KZEOPO', 'B00DU9FDIM', 'B008VJPRD2', 'B00401YCUE', 'B002N5NFWA', 'B0086UY5AW', 'B0071QVOR4', 'B006TQLVRK', 'B001BAFFV2', 'B005CMR1M6', 'B002JCSQBC', 'B008KX7Q92', 'B00B4L0CMA', 'B005ES1F4S', 'B001U88ELI', 'B00AR8NK7U', 'B00DY8SQG0', 'B008J0YMZW', 'B001KR0D18', 'B004LL4G54', 'B0036FU2NG', 'B008P45W1A', 'B0086UY5AC', 'B004IS2BES', 'B0070CEYXA', 'B00BXBBIGK', 'B006TQMJ7Q', 'B00DURHSEG', 'B005CHYCMI', 'B006TAISGI', 'B0073W1MVE', 'B00EHLV58Y', 'B003YUU8TG', 'B0036OS0KO', 'B008ODITAI', 'B00CM3JFA4', 'B0017ZMBKO', 'B003XE1E6E', 'B004IS0S9I', 'B004M8HZAE', 'B00AR7U48Y', 'B00DU9FDQO', 'B005D6BL7W', 'B005CD3D9A', 'B000ZP8200', 'B002JCSQA8', 'B006TQLT1S', 'B001FPBZE4', 'B001IV5BOU', 'B006VA2T98', 'B0076SOWLM', 'B006VA31VI', 'B00B4R0WHY', 'B00DY7VOKQ', 'B00DURHKMQ', 'B0076SLYQS', 'B008MHXFB4', 'B0045U9XO0', 'B001UO66BC', 'B008KYWBSW', 'B008ORDN3M', 'B008LQY0N8', 'B008HDYG48', 'B003XDZN8A', 'B00401RCO2', 'B006VCRBFS', 'B00B4L0CD4', 'B00AR8N1Z6', 'B0071QVZNC', 'B008KZENBE', 'B001AZJRLM', 'B006Z19E9G', 'B0071IMVOM', 'B00AQDLF4Q', 'B0081NMHO0', 'B00DURIE30', 'B001AZLJ5E', 'B00DU9OY00', 'B007YBMFS8', 'B0076MH83C', 'B00DZLM31A', 'B00B4F0NKW', 'B0071QVZI2', 'B008J0Y7BQ', 'B00DNNVXFM', 'B005D6R63K', 'B001U887QA', 'B005CFWJNO', 'B008KY8S2K', 'B00805CV86', 'B008OQVD12', 'B001U889CW', 'B006TQMA8O', 'B00401WGFM', 'B00ASI2AD4', 'B00DURHFRG', 'B0076SPT0A', 'B002KAOG76', 'B004JN066M', 'B008KZEFS0', 'B004IZ38IO', 'B002JVX8YI', 'B0076SMBQA', 'B0071IL6VG', 'B00B5NC6VW', 'B008P47NSA', 'B000PY8AH6', 'B006TAID18', 'B004LKVLLC', 'B002JCSUKE', 'B001U88GNY', 'B005CMHXTM', 'B007ZI7IEQ', 'B001U887M4', 'B005DTTXOW', 'B005LCT9MM', 'B008ORDQ1Q', 'B004LL3KZQ', 'B006TQN1OG', 'B008VJM9JC', 'B0017ZMAA0', 'B002DUDH5K', 'B004LL6JNQ', 'B008RQ0OTQ', 'B00CM2OD3E', 'B005CFW45C', 'B003XDZNLW', 'B00CM2OFSW', 'B00AQE7D64', 'B005EU6424', 'B002N5NG9M', 'B00401T67S', 'B008KYWZ92', 'B00B4BD4J8', 'B004IZ386G', 'B008J9YJTW', 'B005EU62HG', 'B00401XF5C', 'B0071IM4D0', 'B0071QIUYE', 'B0071QWLPI', 'B00B4EXHGK', 'B008OQUOGC', 'B003WSZXPO', 'B006VA2QYQ', 'B006VB4OP4', 'B005LHJ95E', 'B005CMAW8G', 'B0071M78FA', 'B00EDF5MKG', 'B00B4R0VTI', 'B00E1LOCHQ', 'B0071QIXGY', 'B008VJL4KW', 'B006YFVHRA', 'B00CN7W64Q', 'B004IZ1B2Y', 'B001XCXGTQ', 'B006U9R15C', 'B0071ILB02', 'B0071QIYIG', 'B0071QIX8W', 'B008J0YE64', 'B006Y4RURM', 'B008J0YPUE', 'B008KZGV1E', 'B00AQDLH80', 'B005CG0IVI', 'B006Y4QTZG', 'B00AR7U61E', 'B002JCSQCG', 'B002SNA6Z6', 'B004JN06OO', 'B006Z19CX4', 'B006TQMTOE', 'B00E9C2RM4', 'B00B4V800Q', 'B003XDXNQY', 'B005CEKWNE', 'B008OQUPBG', 'B005CFWJHK', 'B00B4L5CRU', 'B004LL4J9M', 'B003BLPTGU', 'B006WW55LO', 'B001AZJUD2', 'B006Y4SR24', 'B00264ERUW', 'B005D6B5OG', 'B006U9QX1K', 'B0015U3ESY', 'B0071ILY2W', 'B00B4F0GZY', 'B0058RR40O', 'B005CMRA3G', 'B0036OS0C2', 'B003YUNJ3I', 'B004J22RK6', 'B006VB4RJC', 'B0071QK48O', 'B00COEL4SM', 'B005D6BAP0', 'B006Y7F01M', 'B008KYWYJI', 'B004LL1ZVC', 'B008OQVOQ6', 'B00CM2OG4A', 'B006VB62QI', 'B008KYX7YY', 'B00B4EXKYO', 'B00B4S11LY', 'B008M3HE10', 'B006Z18Z3C', 'B005CMR6NU', 'B00B4R0FSU', 'B007263CC8', 'B008KZEOSG', 'B005CFXD7K', 'B003BLPSV6', 'B008KZEY1I', 'B008J0YGKS', 'B0081NMKII', 'B008J0YNX8', 'B0071QK0VK', 'B008M3GX58', 'B000ZHIK50', 'B00ANJKUP8', 'B00AR8NQE2', 'B00BG2MG9Y', 'B003Y38YR6', 'B004IYZK86', 'B005DZS7JI', 'B008LQY2S6', 'B008RQ0OGY', 'B00805HOTW', 'B003YBQ8E4', 'B001IV5BSG', 'B003YEY29O', 'B00COEL108', 'B001U88T36', 'B001KR0C3C', 'B008KZEUD0', 'B003YBPU0C', 'B006VB6CB8', 'B008KYWWUO', 'B005DCBVU8', 'B00402206Q', 'B00AR8NFA2', 'B005ESAB66', 'B001KZHSFO', 'B003YBQ5DS', 'B001KR0BYW', 'B003YUNEUQ', 'B00AQE7DXW', 'B003YUNEYC', 'B005D6BJU6', 'B0071IM4DK', 'B008P45Z7G', 'B00AR7U5YM', 'B00B5NC54A', 'B00B669Z6C', 'B001KR0BYM', 'B001U888N2', 'B003XE1C8E', 'B004JKLS7G', 'B004JKLVQO', 'B0058RR3IM', 'B001KR0D9K', 'B006VA2YVQ', 'B006WW4YL6', 'B001KZI3SU', 'B006Y4RBOY', 'B005448K3Q', 'B008M0W3C8', 'B003YBHH1W', 'B008M3HOJ2', 'B004IYZL0I', 'B002EDH7HU', 'B00COEL4A0', 'B00B4F0UGY', 'B00E57OITI', 'B005ES126Y', 'B005448K68', 'B005D6B92Y', 'B00B4BDB5K', 'B0036OS3KG', 'B000NCQ6V2', 'B001AZJSIY', 'B001XCXGO6', 'B002JCSXEW', 'B004O0TDYQ', 'B005CEBL8O', 'B005P0STA8', 'B0073VYJR4', 'B005CFX8JI', 'B006VB4ORW', 'B0078ID89C', 'B005HV2U2S', 'B007ZI7T5O', 'B0029RLIJ4', 'B008OQSZ8G', 'B00E57OJLU', 'B003ARTP3S', 'B004LL4LP4', 'B00DURHTOU', 'B00B4EUZ42', 'B008JAR0VK', 'B003YBSKLI', 'B00B4RZE04', 'B00CM2NLLO', 'B00B4F0K2S', 'B003YBQLBE', 'B0058SNKME', 'B005CDCQAW', 'B00AR8N1YC', 'B0089FE1P8', 'B002MVMTD6', 'B008OQUTZ8', 'B005P0SWF0', 'B00AR7U484', 'B001AZMLK6', 'B006VB5ZPW', 'B00EDF44T6', 'B00I1H88JO', 'B0076SNZDI', 'B002JCSU54', 'B008KX6RZG', 'B006TAIG7O', 'B002JCSZUE', 'B003Y3D37M', 'B008KYW9WU', 'B003YUQ0PW', 'B005OULR4E', 'B003ARTT3O', 'B002KAOJ4Q', 'B008KZCF6E', 'B002JCSU4K', 'B005448MBG', 'B003XDZMFE', 'B001TOD3PA', 'B004IZ57E2', 'B003YBHE60', 'B008M3GW40', 'B00B4EXHLK', 'B0040234UM', 'B00B4F0NQ6', 'B0034G60WE', 'B00DU9EFIG', 'B00B4BDDJE', 'B0040244QK', 'B007BX8DIU', 'B00DY8RAH6', 'B0036OS3WE', 'B00401VJMI', 'B003WT3G8O', 'B001DD0RQA', 'B008HDYG3Y', 'B0037KMTAE', 'B0010T1PP4', 'B00B4S0Z66', 'B005CG0728', 'B006Z19C1Q', 'B003BLPSQQ', 'B003Y393JY', 'B00CM2OCHG', 'B001IV56BI', 'B008KYWI0S', 'B00B4EXJ3Q', 'B001L6SD7E', 'B008YDRGZW', 'B002JCSQH6', 'B0081NMP88', 'B005CMHXVU', 'B004025XU6', 'B0070CQJLK', 'B003NU0900', 'B003YBPMVE', 'B003YBSBRG', 'B0081NV228', 'B001AZJS5C', 'B0083HN26Q', 'B0036OSHS4', 'B001878IY4', 'B004JKLUS8', 'B00AR8N85E', 'B005ESABTI', 'B00AR8NK9S', 'B005CEL3HI', 'B004VO79JG', 'B0071QJMG4', 'B0076ZTFBW', 'B008M3HDX4', 'B009CCXBEY', 'B00B66A16U', 'B00DY8ZQCC', 'B006VB62CM', 'B00ANJKXQE', 'B00ANJK43Q', 'B008ONJW1S', 'B005CDMKEY', 'B001AZJMUI', 'B004J2NMZ0', 'B005CEB2BU', 'B006TQM0RA', 'B00EVI6YCA', 'B00ANJJI5Q', 'B001KZHPD4', 'B001NPA27M', 'B0070CEYKS', 'B002KCODEK', 'B003YUW7P4', 'B005ES1DW2', 'B00AQDLCJ4', 'B003Y3D8AE', 'B005D6BJDI', 'B006TQLUWG', 'B00DURHX0U', 'B0071M6WMA', 'B00401X5NE', 'B006U9R1G6', 'B006UAHA4S', 'B006V94F96', 'B007YBM858', 'B002JCSSYW', 'B008PE5MRY', 'B00B4RZFT4', 'B00BVW2W0W', 'B004JKLNPS', 'B001V7UZJM', 'B0014C62T6', 'B002KAOJ64', 'B005CM2BU8', 'B004IZ86E0', 'B006VB65GK', 'B005CEBGNE', 'B006VB65BA', 'B001U88EM2', 'B008VJL2LI', 'B00DURHPKI', 'B0036FU2C2', 'B001V816XK', 'B003YBPTGC', 'B006TAJSUI', 'B0058SNJG6', 'B00COEL2F2', 'B005D6BMFS', 'B00CM2N0N8', 'B004IZ1BS8', 'B002JCSR1G', 'B000ZP6MMU', 'B005ES0YEK', 'B006TQMOVM', 'B003YBHG36', 'B0071QW054', 'B00770TV0G', 'B008ORA63W', 'B002KCOD54', 'B008PE3E2E', 'B004021D2S', 'B00B4S7UFA', 'B005ESAAVW', 'B002KH3MY2', 'B0076SPL4E', 'B001IV5BT0', 'B0040235NS', 'B008ORCGHG', 'B0058SNKRO', 'B00ANJKXPK', 'B00DURK0CI', 'B004LL4KIM', 'B002JCSR2U', 'B0029RNVBM', 'B0036OS0EU', 'B003BLPR3A', 'B006VA2AT2', 'B0070CQJ74', 'B0071M7F3A', 'B009ZSMQ0K', 'B005DCBVT4', 'B005ESABIE', 'B004JN04BO', 'B005CG019C', 'B00DNO1PAY', 'B005ESF2Q0', 'B000ZP813S', 'B001BAL62O', 'B0081NW3B2', 'B005CK0WP6', 'B008M0WFD0', 'B008MVJCH6', 'B0010T2KE4', 'B0036FU2H2', 'B005G1QLZG', 'B005M1B9ZM', 'B0029RI57W', 'B006Z191F8', 'B005ES60ZM', 'B00B2YP4A4', 'B006U9R9EK', 'B005DCBNXI', 'B0081NV6I8', 'B004IYZKZO', 'B0071QVZE6', 'B002JIO8VI', 'B008VJL8HQ', 'B00B4S1QY6', 'B007RG8FMA', 'B008J0Y6N0', 'B00DY8SI6S', 'B001UIFAR4', 'B00AQDLJW4', 'B008LQY44I', 'B008OQT02G', 'B00B4S1PJ2', 'B00HFPCIVC', 'B004IZ86DG', 'B001VH6OE2', 'B004S5VDP4', 'B004LKZUAU', 'B00401X6BA', 'B007ZI7RBK', 'B005D6BKWS', 'B006GW3GXY', 'B001AME17A', 'B003Y3IFP2', 'B003XDXMJM', 'B003XDZM22', 'B003YBQLJG', 'B0058RRKB2', 'B00591V4P0', 'B001IV5BC2', 'B005DCBNY2', 'B006VB67BI', 'B00ANJKVWA', 'B006Y7F3PU', 'B004IS2FLM', 'B00DU9PMH4', 'B005CM2B7Q', 'B00DZLM306', 'B003YUOVKI', 'B008OQV632', 'B005CFVY7G', 'B004JN05R2', 'B005D6R720', 'B006VA2H5Y', 'B008J0YNVU', 'B00B5S2ORI', 'B004IMY6QA', 'B001DD2AF6', 'B003YUQ41M', 'B005D6B9D8', 'B005D6R64Y', 'B00AQE7GW0', 'B005448JOG', 'B000ZPDEJY', 'B00402BMN8', 'B006VA2LO6', 'B008OQVNCG', 'B00B4S7MDU', 'B0029RGB0K', 'B002DMJTDM', 'B008JAQG5Q', 'B00B4EV4I8', 'B001KR0C8C', 'B001U888KA', 'B001U88U30', 'B005CJUFFO', 'B002JIO74Q', 'B003XDZLTG', 'B006VA2HTA', 'B00B56ICWG', 'B004JKLULU', 'B004M8JVB0', 'B008KZENDM', 'B001KR0C5K', 'B004JN06M6', 'B003YUUB98', 'B003YUNJ3S', 'B005ESFES6', 'B006Y4VVLI', 'B003Y392EU', 'B006Z6ORM0', 'B00770TYJO', 'B001U88QEI', 'B004M8HPIG', 'B005CMHX6U', 'B008ORRLOE', 'B008YDRF7G', 'B001G6Z11K', 'B006TQN3WQ', 'B006WW4YIO', 'B00805CUW8', 'B008VJM01O', 'B005CMR1AS', 'B001U88EVI', 'B001IV52XU', 'B002JIO7L4', 'B008J0YFRW', 'B00AQDJF2K', 'B0070CQKJ6', 'B00AT8EO9G', 'B00B4BCSXG', 'B002BW68QU', 'B003YUOHPW', 'B006TQMRT6', 'B008KZECX8', 'B00401RBSY', 'B0071QVX5M', 'B004TAWMQW', 'B0076SQCCO', 'B005DTU4ZE', 'B0071QIYBI', 'B004JKLR18', 'B00AR7UXXK', 'B00B4QKEGE', 'B002JIO912', 'B004IZ6POI', 'B00422QUK6', 'B0070CQK0U', 'B00B4QKEHS', 'B004IZ86AO', 'B009F0K678', 'B001U88F3A', 'B0071IMX54', 'B005CMR8NI', 'B006TQMRU0', 'B008P47N80', 'B008RQ0MGG', 'B0058RRMS8', 'B0018ZE8H2', 'B004JKLQK0', 'B00401YFLA', 'B00AR7U5XI', 'B00E1IUKV6', 'B005CFYO6O', 'B008PE01DE', 'B001AZQZXU', 'B00103OFS4', 'B008VJNWRK', 'B00DU96MPK', 'B001U88SW8', 'B002JIO73W', 'B0036FU4KW', 'B008VJKXD6', 'B003ARTPRY', 'B001AZMMF0', 'B006VB5ZSE', 'B00COEL93C', 'B005CMHX0G', 'B003XDXNNC', 'B008OQV3OE', 'B003Y3F6WW', 'B005CMR5NQ', 'B0036OS3F6', 'B008OQUTO4', 'B008MHXFTQ', 'B008KYXIWK', 'B008ORDPEO', 'B00E57OJ42', 'B005CMR9UU', 'B00AQDJDQS', 'B0076SPF8G', 'B005DTTZH2', 'B006V94TXI', 'B00EWCQGKU', 'B001AYPJ42', 'B008OSD2QO', 'B001IV5AVY', 'B008JEL24W', 'B008OQV8M6', 'B005ESF8AU', 'B006TAIG8S', 'B003Y3D6HY', 'B001AZJRCG', 'B00B4BCS5Y', 'B002JCSQZS', 'B005DCBOOG', 'B00B4BD3BW', 'B002JCSZ7M', 'B0036OS4AU', 'B006Y4RBPI', 'B00AQDKL2S', 'B002JCSY28', 'B003Y392KO', 'B005OULHFS', 'B006Y7EZ9U', 'B007YBMH5Y', 'B00805HPMS', 'B002JIO90I', 'B00AT8EADQ', 'B0036FU35S', 'B005LCPH8M', 'B008JAQG4M', 'B00DNO1UCC', 'B008P47O5C', 'B00B4BDE8O', 'B0071IMJQW', 'B008J9YGPY', 'B0037KMT0O', 'B002JCSYI2', 'B008J0YLZI', 'B008MUU7HG', 'B003YBS8BK', 'B00CM3JEO6', 'B00COEL2AC', 'B003YUQ5IY', 'B001TNS7WU', 'B0036OS0FE', 'B005CFVTLW', 'B005CFZHC4', 'B002N5NFUW', 'B0071QWM34', 'B00591V42I', 'B005OUM62Q', 'B005P0SSCC', 'B003Y38YK8', 'B005ESYTSM', 'B004IZ57MY', 'B00ANJKT1S', 'B001U887ME', 'B00AQDLWHQ', 'B0036FU4OS', 'B008J0YHGG', 'B008J0YPJU', 'B008J9YM9E', 'B007PY0SMY', 'B002JCSSZQ', 'B00591UEZ6', 'B001V7X6GG', 'B004M8IDNW', 'B005D6BIX4', 'B005D6SB2U', 'B0036OS3HY', 'B005DCBVV2', 'B006TQMN8G', 'B008OOLXXW', 'B004IS3YGC', 'B006Z19J0A', 'B006Z6N2DK', 'B002SNA6XS', 'B008KYWMA4', 'B002N5N26Y', 'B008ON5EVU', 'B00DY9RZRA', 'B0010T1PQI', 'B005ESABZC', 'B005HV2W6C', 'B008KX7NNG', 'B00AIZM7T4', 'B004IZ2XMQ', 'B004JKLQEG', 'B00402DZW4', 'B008OOKM66', 'B00AQE7QCK', 'B002CZPW90', 'B005D6BC5S', 'B003Y390YW', 'B005CD38Z4', 'B005EU6FU0', 'B005LCPIN6', 'B00CM2OCR6', 'B003YUNFOG', 'B008EH615O', 'B00AR8NQF6', 'B0071QIUPS', 'B006VA2RS6', 'B0076SL1OS', 'B004O0TE1S', 'B008VJMCDK', 'B000ZP81FQ', 'B0017ZHFAA', 'B004LKZPXM', 'B005D6R4OQ', 'B0086UXIHI', 'B00805CVKO', 'B0076SQXHS', 'B005DTU10C', 'B001AZQKCG', 'B002N5N2FU', 'B004JKLVW8', 'B008J0YQMG', 'B008KZGWZ4', 'B004JKLOHA', 'B0058RRBTI', 'B005EU62BM', 'B00E1IUPEI', 'B003BLPSRK', 'B008KZFAHA', 'B005D6G5R8', 'B005D6B9QK', 'B0071QWKSQ', 'B001U88S5A', 'B005CD3BK6', 'B0014CKDUA', 'B005HV2QMW', 'B0076SQQ52', 'B004J2LPJ0', 'B008J0YN1K', 'B00AQDKBD2', 'B0036OS2P2', 'B005ESABC0', 'B00B4QKOJQ', 'B00274TPYY', 'B00DURHYA4', 'B00DY7PILC', 'B00AQDKG14', 'B00E59B8U8', 'B001U88EA4', 'B008KYWWUE', 'B006WW4WYA', 'B004IZ36H2', 'B008J0Y0TK', 'B004IZ38AW', 'B004J2QNRE', 'B006VA2WHM', 'B005CG044E', 'B0076SN8ZI', 'B00B4S1PJC', 'B0014CF06M', 'B000SCNSEU', 'B0081NNI5W', 'B002JIO598', 'B005HV2NR0', 'B0036FU2L8', 'B004M8HRQQ', 'B00E57NUNI', 'B006TQN3UI', 'B008KYX3OS', 'B00AQE7FJE', 'B0081NW65U', 'B009ZSMG64', 'B0076ZT9V8', 'B003ARTSXU', 'B005D6FZQU', 'B0014C9FOK', 'B004LL3M7W', 'B005CMB0MI', 'B006Y4QMT4', 'B00401P4O2', 'B008M3GZW4', 'B006TAIBYM', 'B003XE3GRE', 'B0036OS2M0', 'B004JKLRQ8', 'B0071M7FBW', 'B00B4BD6I2', 'B006TQNGVY', 'B005CMR5KO', 'B00ANJKRM4', 'B00A0HQJYO', 'B008J0YOKU', 'B0076SQ7A6', 'B00CM3JE50', 'B006Z19BV2', 'B00B4BDEZW', 'B00ANJLO5I', 'B001AYPJ60', 'B00B4QKG4O', 'B008OQT3ZA', 'B004027V8I', 'B008KYX2JO', 'B002JM0BBK', 'B005CFW3HG', 'B0071IL8D2', 'B0071QVP9G', 'B0081NW4S4', 'B001U88E6I', 'B008KX6LXE', 'B00E9C3ONK', 'B00ELC2F42', 'B00B75XA36', 'B005CFWHCC', 'B008EH60K0', 'B003ARTYY8', 'B005HV2Y1U', 'B001280Y5U', 'B009ZSMXX0', 'B008OQUTAI', 'B005CMR3OC', 'B005M1BBW8', 'B008KZGWPY', 'B00DURHR3I', 'B005DTU2EM', 'B001U88F30', 'B00ANJKIE6', 'B002JCSSZG', 'B003ARTQHS', 'B004LL3OH0', 'B001IV569K', 'B005HV2PIM', 'B004JKLV0K', 'B0081NV6HO', 'B002JIO9NA', 'B003ARTWDQ', 'B001U887XS', 'B00401YFHE', 'B00DY8RRQU', 'B006GW3JGI', 'B002JIO566', 'B0071IMTOO', 'B005ESFCQ0', 'B005CMAX6C', 'B005CMR5M2', 'B008KYWRJU', 'B00DY7TF70', 'B007PY0OEQ', 'B00B5NW3YW', 'B005G1SMLC', 'B002JCSSTC', 'B00DY77VDU', 'B001IV5BM2', 'B006Z6OL3A', 'B001U88TRW', 'B00805D572', 'B008KYWK88', 'B008KYWV1Y', 'B008ORCD3S', 'B008ORC61W', 'B006WW56FE', 'B002KAOIWE', 'B002JCSSXI', 'B001IV5B9U', 'B003KMPCOE', 'B001U888QO', 'B004J2LP1S', 'B005D6B9ZQ', 'B007263A5W', 'B0070CEZWK', 'B00CN7VZGQ', 'B008M3HBU4', 'B002JIO7RS', 'B005ES4IOM', 'B007B9MFJC', 'B008OQUZIE', 'B00DU9E18U', 'B00DY7P9J8', 'B002JCSQD0', 'B0036OS0JU', 'B001U888KU', 'B00B4S0FGQ', 'B00DY7PEXE', 'B006WW53WK', 'B008OQUQI8', 'B008KX7E3K', 'B005D6G2JE', 'B00B4R1EZ8', 'B00B7NHGV0', 'B008ODKGK4', 'B00401RA4Y', 'B006VCR81U', 'B0089FE2J8', 'B00ANJK52Q', 'B008KZEFRG', 'B00DU99KAY', 'B001V83B2O', 'B005ES1CZ0', 'B00DURHM4M', 'B004LKXG9W', 'B00DURHUZ8', 'B008ORC8HE', 'B00B5NW4CS', 'B006GW46WE', 'B008ORRO50', 'B006Z19C4S', 'B003YBQ9UM', 'B002JCSSRE']\n"
          ],
          "name": "stdout"
        },
        {
          "output_type": "execute_result",
          "data": {
            "text/plain": [
              "5089"
            ]
          },
          "metadata": {
            "tags": []
          },
          "execution_count": 12
        }
      ]
    },
    {
      "cell_type": "code",
      "metadata": {
        "id": "GpduHY39ZvuO",
        "colab_type": "code",
        "outputId": "b339dea8-123b-48a6-842e-9dcc25127361",
        "colab": {
          "base_uri": "https://localhost:8080/"
        }
      },
      "source": [
        "crocsreviews = {}\n",
        "count = 0\n",
        "for areview in allreviews:\n",
        "  count += 1\n",
        "  if count % 100000 == 0:\n",
        "    print(count/5748920)\n",
        "  \n",
        "  thereview = allreviews[areview]\n",
        "  theasin = thereview['asin']\n",
        "  reviewworld = thereview['reviewerID']\n",
        "  if theasin in allcrocsasins:\n",
        "    thekey = '%s.%s' % (theasin, reviewworld)\n",
        "    crocsreviews[thekey] = thereview"
      ],
      "execution_count": 0,
      "outputs": [
        {
          "output_type": "stream",
          "text": [
            "0.017394571502125616\n",
            "0.03478914300425123\n",
            "0.05218371450637685\n",
            "0.06957828600850247\n",
            "0.08697285751062808\n",
            "0.1043674290127537\n",
            "0.12176200051487931\n",
            "0.13915657201700493\n",
            "0.15655114351913055\n",
            "0.17394571502125616\n",
            "0.19134028652338178\n",
            "0.2087348580255074\n",
            "0.226129429527633\n",
            "0.24352400102975863\n",
            "0.2609185725318843\n",
            "0.27831314403400986\n",
            "0.2957077155361355\n",
            "0.3131022870382611\n",
            "0.33049685854038674\n",
            "0.34789143004251233\n",
            "0.365286001544638\n",
            "0.38268057304676356\n",
            "0.4000751445488892\n",
            "0.4174697160510148\n",
            "0.43486428755314044\n",
            "0.452258859055266\n",
            "0.46965343055739167\n",
            "0.48704800205951726\n",
            "0.5044425735616429\n",
            "0.5218371450637685\n",
            "0.5392317165658941\n",
            "0.5566262880680197\n",
            "0.5740208595701454\n",
            "0.591415431072271\n",
            "0.6088100025743965\n",
            "0.6262045740765222\n",
            "0.6435991455786478\n",
            "0.6609937170807735\n",
            "0.678388288582899\n",
            "0.6957828600850247\n",
            "0.7131774315871503\n",
            "0.730572003089276\n",
            "0.7479665745914015\n",
            "0.7653611460935271\n",
            "0.7827557175956528\n",
            "0.8001502890977784\n",
            "0.8175448605999039\n",
            "0.8349394321020296\n",
            "0.8523340036041552\n",
            "0.8697285751062809\n",
            "0.8871231466084064\n",
            "0.904517718110532\n",
            "0.9219122896126577\n",
            "0.9393068611147833\n",
            "0.9567014326169089\n",
            "0.9740960041190345\n",
            "0.9914905756211602\n"
          ],
          "name": "stdout"
        }
      ]
    },
    {
      "cell_type": "code",
      "metadata": {
        "id": "ZSD9B5OAcgkt",
        "colab_type": "code",
        "colab": {}
      },
      "source": [
        "import json\n",
        "\n",
        "#json.dump(crocsreviews, open('drive/My Drive/Colab Notebooks/Topic Modeling/allcrocsreviews.json', 'w'))"
      ],
      "execution_count": 0,
      "outputs": []
    },
    {
      "cell_type": "markdown",
      "metadata": {
        "id": "9B2Ks3hWW5vI",
        "colab_type": "text"
      },
      "source": [
        "# Crocs Topic Modeling"
      ]
    },
    {
      "cell_type": "code",
      "metadata": {
        "id": "WcqqACBtKKBi",
        "colab_type": "code",
        "outputId": "30322c45-3ad1-4738-fc7d-52aed832d8e5",
        "colab": {
          "base_uri": "https://localhost:8080/",
          "height": 34
        }
      },
      "source": [
        "import pickle\n",
        "import json\n",
        "\n",
        "\n",
        "from google.colab import drive\n",
        "drive.mount('/content/drive')\n",
        "\n",
        "path = 'drive/My Drive/Colab Notebooks/Topic Modeling/allcrocsreviews.json'\n",
        "\n",
        "loadedjson = open(path, 'r')\n",
        "\n",
        "crocsdata = json.load(loadedjson)"
      ],
      "execution_count": 0,
      "outputs": [
        {
          "output_type": "stream",
          "text": [
            "Drive already mounted at /content/drive; to attempt to forcibly remount, call drive.mount(\"/content/drive\", force_remount=True).\n"
          ],
          "name": "stdout"
        }
      ]
    },
    {
      "cell_type": "code",
      "metadata": {
        "id": "6F4lh5DXgi2m",
        "colab_type": "code",
        "colab": {}
      },
      "source": [
        "ids = []\n",
        "for identifier in crocsdata:\n",
        "  ids.append(identifier)"
      ],
      "execution_count": 0,
      "outputs": []
    },
    {
      "cell_type": "code",
      "metadata": {
        "id": "Q7SfeWkxKIyn",
        "colab_type": "code",
        "outputId": "ebaaa766-556b-42cc-b40d-b5cba2867b83",
        "colab": {
          "base_uri": "https://localhost:8080/",
          "height": 34
        }
      },
      "source": [
        "crocsdata['B0007UQFW0.A2QDBJ7WTY854J']['overall'] "
      ],
      "execution_count": 0,
      "outputs": [
        {
          "output_type": "execute_result",
          "data": {
            "text/plain": [
              "2.0"
            ]
          },
          "metadata": {
            "tags": []
          },
          "execution_count": 5
        }
      ]
    },
    {
      "cell_type": "code",
      "metadata": {
        "id": "XE6DHa57mXrY",
        "colab_type": "code",
        "colab": {}
      },
      "source": [
        "reviews1 = []\n",
        "reviews2 = []\n",
        "reviews3 = []\n",
        "reviews4 = []\n",
        "reviews5 = []\n",
        "for i in ids:\n",
        "  if crocsdata[i]['overall'] == 1:\n",
        "    reviews1.append(crocsdata[i]['reviewText'])\n",
        "  if crocsdata[i]['overall'] == 2:\n",
        "    reviews2.append(crocsdata[i]['reviewText'])\n",
        "  if crocsdata[i]['overall'] == 3:\n",
        "    reviews3.append(crocsdata[i]['reviewText'])\n",
        "  if crocsdata[i]['overall'] == 4:\n",
        "    reviews4.append(crocsdata[i]['reviewText'])\n",
        "  if crocsdata[i]['overall'] == 5:\n",
        "    reviews5.append(crocsdata[i]['reviewText'])"
      ],
      "execution_count": 0,
      "outputs": []
    },
    {
      "cell_type": "code",
      "metadata": {
        "id": "XcEbteJfonO9",
        "colab_type": "code",
        "outputId": "20533644-00d0-40f4-88d0-c95136837312",
        "colab": {
          "base_uri": "https://localhost:8080/",
          "height": 34
        }
      },
      "source": [
        "len(reviews5)"
      ],
      "execution_count": 0,
      "outputs": [
        {
          "output_type": "execute_result",
          "data": {
            "text/plain": [
              "30370"
            ]
          },
          "metadata": {
            "tags": []
          },
          "execution_count": 7
        }
      ]
    },
    {
      "cell_type": "code",
      "metadata": {
        "id": "SSPgYGKVlLcU",
        "colab_type": "code",
        "outputId": "15362feb-1be1-40c1-e60c-ac9bbfa22cb7",
        "colab": {
          "base_uri": "https://localhost:8080/",
          "height": 1000
        }
      },
      "source": [
        "!pip install tmtoolkit\n",
        "\n",
        "import nltk\n",
        "nltk.download('stopwords')\n",
        "nltk.download('punkt')\n",
        "nltk.download('averaged_perceptron_tagger')\n",
        "nltk.download('wordnet')"
      ],
      "execution_count": 0,
      "outputs": [
        {
          "output_type": "stream",
          "text": [
            "Collecting tmtoolkit\n",
            "\u001b[?25l  Downloading https://files.pythonhosted.org/packages/78/4b/03d1620dc30f99bb03bbcebcb93795f88a49e5875756ebc3871092f04e82/tmtoolkit-0.9.0-py3-none-any.whl (19.9MB)\n",
            "\u001b[K     |████████████████████████████████| 19.9MB 1.3MB/s \n",
            "\u001b[?25hRequirement already satisfied: matplotlib>=3.1.0 in /usr/local/lib/python3.6/dist-packages (from tmtoolkit) (3.1.3)\n",
            "Requirement already satisfied: numpy>=1.17.0 in /usr/local/lib/python3.6/dist-packages (from tmtoolkit) (1.17.5)\n",
            "Requirement already satisfied: scipy>=1.3.0 in /usr/local/lib/python3.6/dist-packages (from tmtoolkit) (1.4.1)\n",
            "Collecting xlrd>=1.2.0\n",
            "\u001b[?25l  Downloading https://files.pythonhosted.org/packages/b0/16/63576a1a001752e34bf8ea62e367997530dc553b689356b9879339cf45a4/xlrd-1.2.0-py2.py3-none-any.whl (103kB)\n",
            "\u001b[K     |████████████████████████████████| 112kB 47.7MB/s \n",
            "\u001b[?25hCollecting deprecation>=2.0.0\n",
            "  Downloading https://files.pythonhosted.org/packages/b9/2a/d5084a8781398cea745c01237b95d9762c382697c63760a95cc6a814ad3a/deprecation-2.0.7-py2.py3-none-any.whl\n",
            "Collecting globre>=0.1.5\n",
            "  Downloading https://files.pythonhosted.org/packages/5a/ce/a9e2f3317a458f8c591a1f95d4061d4e241f529ba678292acdcf2d804783/globre-0.1.5.tar.gz\n",
            "Collecting germalemma>=0.1.3\n",
            "\u001b[?25l  Downloading https://files.pythonhosted.org/packages/c1/94/b335fa67ec8dd6fca977769c17f657526f66e0bcb3a10f44f890ea16555a/germalemma-0.1.3-py3-none-any.whl (2.3MB)\n",
            "\u001b[K     |████████████████████████████████| 2.3MB 42.7MB/s \n",
            "\u001b[?25hCollecting nltk>=3.4.0\n",
            "\u001b[?25l  Downloading https://files.pythonhosted.org/packages/f6/1d/d925cfb4f324ede997f6d47bea4d9babba51b49e87a767c170b77005889d/nltk-3.4.5.zip (1.5MB)\n",
            "\u001b[K     |████████████████████████████████| 1.5MB 32.5MB/s \n",
            "\u001b[?25hRequirement already satisfied: pandas>=0.25.0 in /usr/local/lib/python3.6/dist-packages (from tmtoolkit) (0.25.3)\n",
            "Requirement already satisfied: kiwisolver>=1.0.1 in /usr/local/lib/python3.6/dist-packages (from matplotlib>=3.1.0->tmtoolkit) (1.1.0)\n",
            "Requirement already satisfied: pyparsing!=2.0.4,!=2.1.2,!=2.1.6,>=2.0.1 in /usr/local/lib/python3.6/dist-packages (from matplotlib>=3.1.0->tmtoolkit) (2.4.6)\n",
            "Requirement already satisfied: python-dateutil>=2.1 in /usr/local/lib/python3.6/dist-packages (from matplotlib>=3.1.0->tmtoolkit) (2.6.1)\n",
            "Requirement already satisfied: cycler>=0.10 in /usr/local/lib/python3.6/dist-packages (from matplotlib>=3.1.0->tmtoolkit) (0.10.0)\n",
            "Requirement already satisfied: packaging in /usr/local/lib/python3.6/dist-packages (from deprecation>=2.0.0->tmtoolkit) (20.1)\n",
            "Collecting PatternLite>=3.6\n",
            "\u001b[?25l  Downloading https://files.pythonhosted.org/packages/50/f5/1894eb24102cae0e433c18366ec2a8d945b42cbf128303b67454db8587d8/PatternLite-3.6-py3-none-any.whl (22.1MB)\n",
            "\u001b[K     |████████████████████████████████| 22.1MB 186kB/s \n",
            "\u001b[?25hCollecting Pyphen>=0.9.5\n",
            "\u001b[?25l  Downloading https://files.pythonhosted.org/packages/15/82/08a3629dce8d1f3d91db843bb36d4d7db6b6269d5067259613a0d5c8a9db/Pyphen-0.9.5-py2.py3-none-any.whl (3.0MB)\n",
            "\u001b[K     |████████████████████████████████| 3.0MB 59.7MB/s \n",
            "\u001b[?25hRequirement already satisfied: six in /usr/local/lib/python3.6/dist-packages (from nltk>=3.4.0->tmtoolkit) (1.12.0)\n",
            "Requirement already satisfied: pytz>=2017.2 in /usr/local/lib/python3.6/dist-packages (from pandas>=0.25.0->tmtoolkit) (2018.9)\n",
            "Requirement already satisfied: setuptools in /usr/local/lib/python3.6/dist-packages (from kiwisolver>=1.0.1->matplotlib>=3.1.0->tmtoolkit) (45.1.0)\n",
            "Building wheels for collected packages: globre, nltk\n",
            "  Building wheel for globre (setup.py) ... \u001b[?25l\u001b[?25hdone\n",
            "  Created wheel for globre: filename=globre-0.1.5-cp36-none-any.whl size=19528 sha256=3bf7ec969d5a38e2a9c1125f1b7757ea97a8f5fe02ee13056700fa2af4bca3e8\n",
            "  Stored in directory: /root/.cache/pip/wheels/c4/3f/7f/be546f6d880521a8a7a1fe84cbe135fa859be63084682d3292\n",
            "  Building wheel for nltk (setup.py) ... \u001b[?25l\u001b[?25hdone\n",
            "  Created wheel for nltk: filename=nltk-3.4.5-cp36-none-any.whl size=1449906 sha256=6355bfc1b0127710127c01c01841c08617c5b8520c05fa7e135b462a1f3e7312\n",
            "  Stored in directory: /root/.cache/pip/wheels/96/86/f6/68ab24c23f207c0077381a5e3904b2815136b879538a24b483\n",
            "Successfully built globre nltk\n",
            "Installing collected packages: xlrd, deprecation, globre, nltk, PatternLite, Pyphen, germalemma, tmtoolkit\n",
            "  Found existing installation: xlrd 1.1.0\n",
            "    Uninstalling xlrd-1.1.0:\n",
            "      Successfully uninstalled xlrd-1.1.0\n",
            "  Found existing installation: nltk 3.2.5\n",
            "    Uninstalling nltk-3.2.5:\n",
            "      Successfully uninstalled nltk-3.2.5\n",
            "Successfully installed PatternLite-3.6 Pyphen-0.9.5 deprecation-2.0.7 germalemma-0.1.3 globre-0.1.5 nltk-3.4.5 tmtoolkit-0.9.0 xlrd-1.2.0\n"
          ],
          "name": "stdout"
        },
        {
          "output_type": "stream",
          "text": [
            "[nltk_data] Downloading package stopwords to /root/nltk_data...\n",
            "[nltk_data]   Unzipping corpora/stopwords.zip.\n",
            "[nltk_data] Downloading package punkt to /root/nltk_data...\n",
            "[nltk_data]   Unzipping tokenizers/punkt.zip.\n",
            "[nltk_data] Downloading package averaged_perceptron_tagger to\n",
            "[nltk_data]     /root/nltk_data...\n",
            "[nltk_data]   Unzipping taggers/averaged_perceptron_tagger.zip.\n",
            "[nltk_data] Downloading package wordnet to /root/nltk_data...\n",
            "[nltk_data]   Unzipping corpora/wordnet.zip.\n"
          ],
          "name": "stderr"
        },
        {
          "output_type": "execute_result",
          "data": {
            "text/plain": [
              "True"
            ]
          },
          "metadata": {
            "tags": []
          },
          "execution_count": 8
        }
      ]
    },
    {
      "cell_type": "code",
      "metadata": {
        "id": "jn1A1txQk4kQ",
        "colab_type": "code",
        "colab": {}
      },
      "source": [
        "import random\n",
        "random.seed(20191120)\n",
        "\n",
        "import numpy as np\n",
        "np.set_printoptions(precision=5)\n",
        "\n",
        "from tmtoolkit.corpus import Corpus\n",
        "import codecs\n",
        "import csv\n",
        "import urllib\n",
        "\n",
        "corpus1 = Corpus()\n",
        "corpus2 = Corpus()\n",
        "corpus3 = Corpus()\n",
        "corpus4 = Corpus()\n",
        "corpus5 = Corpus()\n",
        "\n",
        "\n",
        "for i, line in enumerate(reviews1):\n",
        "    corpus1.add_doc(str(i), line)\n",
        "for i, line in enumerate(reviews2):\n",
        "    corpus2.add_doc(str(i), line)\n",
        "for i, line in enumerate(reviews3):\n",
        "    corpus3.add_doc(str(i), line)\n",
        "for i, line in enumerate(reviews4):\n",
        "    corpus4.add_doc(str(i), line)\n",
        "for i, line in enumerate(reviews5):\n",
        "    corpus5.add_doc(str(i), line)"
      ],
      "execution_count": 0,
      "outputs": []
    },
    {
      "cell_type": "code",
      "metadata": {
        "id": "48SJQaX3lT08",
        "colab_type": "code",
        "outputId": "aaff399a-9030-4a6d-9eea-a83598aa86ee",
        "colab": {
          "base_uri": "https://localhost:8080/",
          "height": 34
        }
      },
      "source": [
        "corpus5"
      ],
      "execution_count": 0,
      "outputs": [
        {
          "output_type": "execute_result",
          "data": {
            "text/plain": [
              "<Corpus [30370 documents]>"
            ]
          },
          "metadata": {
            "tags": []
          },
          "execution_count": 10
        }
      ]
    },
    {
      "cell_type": "code",
      "metadata": {
        "id": "r1pn9ckIY_sT",
        "colab_type": "code",
        "outputId": "7118f092-b45a-44bf-fe51-47ba7374ae9c",
        "colab": {
          "base_uri": "https://localhost:8080/",
          "height": 350
        }
      },
      "source": [
        "import matplotlib\n",
        "\n",
        "matplotlib.pyplot.hist(corpus1.doc_lengths.values())"
      ],
      "execution_count": 0,
      "outputs": [
        {
          "output_type": "execute_result",
          "data": {
            "text/plain": [
              "(array([1.279e+03, 5.340e+02, 1.390e+02, 5.300e+01, 2.300e+01, 1.100e+01,\n",
              "        4.000e+00, 2.000e+00, 1.000e+00, 2.000e+00]),\n",
              " array([   0. ,  298.6,  597.2,  895.8, 1194.4, 1493. , 1791.6, 2090.2,\n",
              "        2388.8, 2687.4, 2986. ]),\n",
              " <a list of 10 Patch objects>)"
            ]
          },
          "metadata": {
            "tags": []
          },
          "execution_count": 11
        },
        {
          "output_type": "display_data",
          "data": {
            "image/png": "[encoded data removed]",
            "text/plain": [
              "<Figure size 432x288 with 1 Axes>"
            ]
          },
          "metadata": {
            "tags": []
          }
        }
      ]
    },
    {
      "cell_type": "code",
      "metadata": {
        "id": "HDan663YZCKK",
        "colab_type": "code",
        "outputId": "b319bb38-4a5b-4495-c51c-3cf0f0ab70a2",
        "colab": {
          "base_uri": "https://localhost:8080/",
          "height": 350
        }
      },
      "source": [
        "import matplotlib\n",
        "\n",
        "matplotlib.pyplot.hist(corpus2.doc_lengths.values())"
      ],
      "execution_count": 0,
      "outputs": [
        {
          "output_type": "execute_result",
          "data": {
            "text/plain": [
              "(array([1286.,  853.,  338.,  131.,   57.,   36.,   17.,    9.,    7.,\n",
              "           3.]),\n",
              " array([   9. ,  215.1,  421.2,  627.3,  833.4, 1039.5, 1245.6, 1451.7,\n",
              "        1657.8, 1863.9, 2070. ]),\n",
              " <a list of 10 Patch objects>)"
            ]
          },
          "metadata": {
            "tags": []
          },
          "execution_count": 12
        },
        {
          "output_type": "display_data",
          "data": {
            "image/png": "[encoded data removed]",
            "text/plain": [
              "<Figure size 432x288 with 1 Axes>"
            ]
          },
          "metadata": {
            "tags": []
          }
        }
      ]
    },
    {
      "cell_type": "code",
      "metadata": {
        "id": "eJhXsgG0ZGnj",
        "colab_type": "code",
        "outputId": "8a8b7ffc-788c-4cc7-bfc3-c42f46bea1d5",
        "colab": {
          "base_uri": "https://localhost:8080/",
          "height": 34
        }
      },
      "source": [
        "# \\https://tmtoolkit.readthedocs.io/en/latest/preprocessing.html\n",
        "from tmtoolkit.preprocess import TMPreproc\n",
        "\n",
        "preproc = TMPreproc(corpus1) #creating the preprocess data structure, then tagging parts of speech\n",
        "preproc.pos_tag()\n",
        "preproc.lemmatize()\n",
        "preproc.tokens_to_lowercase()\n",
        "preproc.remove_special_chars_in_tokens()\n",
        "preproc.add_stopwords(['http', 'nt'])"
      ],
      "execution_count": 0,
      "outputs": [
        {
          "output_type": "execute_result",
          "data": {
            "text/plain": [
              "<TMPreproc [2048 documents]>"
            ]
          },
          "metadata": {
            "tags": []
          },
          "execution_count": 13
        }
      ]
    },
    {
      "cell_type": "code",
      "metadata": {
        "id": "j-88IUkYZKxv",
        "colab_type": "code",
        "outputId": "8f8edf40-17c3-48a7-96a0-d8a4dce6209a",
        "colab": {
          "base_uri": "https://localhost:8080/",
          "height": 34
        }
      },
      "source": [
        "preproc.vocabulary_size"
      ],
      "execution_count": 0,
      "outputs": [
        {
          "output_type": "execute_result",
          "data": {
            "text/plain": [
              "6028"
            ]
          },
          "metadata": {
            "tags": []
          },
          "execution_count": 14
        }
      ]
    },
    {
      "cell_type": "code",
      "metadata": {
        "id": "MhUo2QszZL9k",
        "colab_type": "code",
        "colab": {}
      },
      "source": [
        "#preproc.stem()"
      ],
      "execution_count": 0,
      "outputs": []
    },
    {
      "cell_type": "code",
      "metadata": {
        "id": "rr-YbI5uZNIh",
        "colab_type": "code",
        "outputId": "ddf072ce-d5f5-45ed-ff5f-0716db3e1b1b",
        "colab": {
          "base_uri": "https://localhost:8080/",
          "height": 419
        }
      },
      "source": [
        "preproc.tokens_datatable"
      ],
      "execution_count": 0,
      "outputs": [
        {
          "output_type": "execute_result",
          "data": {
            "text/html": [
              "<div>\n",
              "<style scoped>\n",
              "    .dataframe tbody tr th:only-of-type {\n",
              "        vertical-align: middle;\n",
              "    }\n",
              "\n",
              "    .dataframe tbody tr th {\n",
              "        vertical-align: top;\n",
              "    }\n",
              "\n",
              "    .dataframe thead th {\n",
              "        text-align: right;\n",
              "    }\n",
              "</style>\n",
              "<table border=\"1\" class=\"dataframe\">\n",
              "  <thead>\n",
              "    <tr style=\"text-align: right;\">\n",
              "      <th></th>\n",
              "      <th>doc</th>\n",
              "      <th>position</th>\n",
              "      <th>token</th>\n",
              "      <th>meta_pos</th>\n",
              "    </tr>\n",
              "  </thead>\n",
              "  <tbody>\n",
              "    <tr>\n",
              "      <th>0</th>\n",
              "      <td>0</td>\n",
              "      <td>0</td>\n",
              "      <td>i</td>\n",
              "      <td>PRP</td>\n",
              "    </tr>\n",
              "    <tr>\n",
              "      <th>1</th>\n",
              "      <td>0</td>\n",
              "      <td>1</td>\n",
              "      <td>go</td>\n",
              "      <td>VBD</td>\n",
              "    </tr>\n",
              "    <tr>\n",
              "      <th>2</th>\n",
              "      <td>0</td>\n",
              "      <td>2</td>\n",
              "      <td>to</td>\n",
              "      <td>TO</td>\n",
              "    </tr>\n",
              "    <tr>\n",
              "      <th>3</th>\n",
              "      <td>0</td>\n",
              "      <td>3</td>\n",
              "      <td>put</td>\n",
              "      <td>VB</td>\n",
              "    </tr>\n",
              "    <tr>\n",
              "      <th>4</th>\n",
              "      <td>0</td>\n",
              "      <td>4</td>\n",
              "      <td>my</td>\n",
              "      <td>PRP$</td>\n",
              "    </tr>\n",
              "    <tr>\n",
              "      <th>...</th>\n",
              "      <td>...</td>\n",
              "      <td>...</td>\n",
              "      <td>...</td>\n",
              "      <td>...</td>\n",
              "    </tr>\n",
              "    <tr>\n",
              "      <th>21</th>\n",
              "      <td>999</td>\n",
              "      <td>21</td>\n",
              "      <td>happen</td>\n",
              "      <td>VB</td>\n",
              "    </tr>\n",
              "    <tr>\n",
              "      <th>22</th>\n",
              "      <td>999</td>\n",
              "      <td>22</td>\n",
              "      <td>to</td>\n",
              "      <td>TO</td>\n",
              "    </tr>\n",
              "    <tr>\n",
              "      <th>23</th>\n",
              "      <td>999</td>\n",
              "      <td>23</td>\n",
              "      <td>anyone</td>\n",
              "      <td>NN</td>\n",
              "    </tr>\n",
              "    <tr>\n",
              "      <th>24</th>\n",
              "      <td>999</td>\n",
              "      <td>24</td>\n",
              "      <td>else</td>\n",
              "      <td>RB</td>\n",
              "    </tr>\n",
              "    <tr>\n",
              "      <th>25</th>\n",
              "      <td>999</td>\n",
              "      <td>25</td>\n",
              "      <td></td>\n",
              "      <td>.</td>\n",
              "    </tr>\n",
              "  </tbody>\n",
              "</table>\n",
              "<p>143601 rows × 4 columns</p>\n",
              "</div>"
            ],
            "text/plain": [
              "    doc  position   token meta_pos\n",
              "0     0         0       i      PRP\n",
              "1     0         1      go      VBD\n",
              "2     0         2      to       TO\n",
              "3     0         3     put       VB\n",
              "4     0         4      my     PRP$\n",
              "..  ...       ...     ...      ...\n",
              "21  999        21  happen       VB\n",
              "22  999        22      to       TO\n",
              "23  999        23  anyone       NN\n",
              "24  999        24    else       RB\n",
              "25  999        25                .\n",
              "\n",
              "[143601 rows x 4 columns]"
            ]
          },
          "metadata": {
            "tags": []
          },
          "execution_count": 16
        }
      ]
    },
    {
      "cell_type": "code",
      "metadata": {
        "id": "NXaM1MiPZQwc",
        "colab_type": "code",
        "outputId": "6e8b2c60-5245-4249-bd55-559bb55b499b",
        "colab": {
          "base_uri": "https://localhost:8080/",
          "height": 102
        }
      },
      "source": [
        "preproc_smallerN = preproc.copy()\n",
        "preproc_smallerN.filter_for_pos(list(['N']))\n",
        "preproc_smallerN.clean_tokens(remove_numbers=True, remove_shorter_than=1)\n",
        "preproc_smallerN.remove_common_tokens(df_threshold=.8)\n",
        "preproc_smallerN.remove_uncommon_tokens(df_threshold=.0005)\n",
        "\n",
        "preproc_smallerNadj = preproc.copy()\n",
        "preproc_smallerNadj.filter_for_pos(list(['N','ADJ']))\n",
        "preproc_smallerNadj.clean_tokens(remove_numbers=True, remove_shorter_than=1)\n",
        "preproc_smallerNadj.remove_common_tokens(df_threshold=.8)\n",
        "preproc_smallerNadj.remove_uncommon_tokens(df_threshold=.0005)\n",
        "\n",
        "\n",
        "preproc_smaller = preproc.copy()\n",
        "#preproc_smaller.filter_for_pos(list(['N']))\n",
        "preproc_smaller.clean_tokens(remove_numbers=True, remove_shorter_than=1)\n",
        "preproc_smaller.remove_common_tokens(df_threshold=.8)\n",
        "preproc_smaller.remove_uncommon_tokens(df_threshold=.0005)\n",
        "\n",
        "\n",
        "preproc_smallerNadjV = preproc.copy()\n",
        "preproc_smallerNadjV.filter_for_pos(list(['N', 'ADJ', 'V']))\n",
        "preproc_smallerNadjV.clean_tokens(remove_numbers=True, remove_shorter_than=1)\n",
        "preproc_smallerNadjV.remove_common_tokens(df_threshold=.5)\n",
        "preproc_smallerNadjV.remove_uncommon_tokens(df_threshold=.0005)\n",
        "\n",
        "print(preproc.vocabulary_size)\n",
        "print(preproc_smallerN.vocabulary_size)\n",
        "print(preproc_smallerNadj.vocabulary_size)\n",
        "print(preproc_smaller.vocabulary_size)\n",
        "print(preproc_smallerNadjV.vocabulary_size)"
      ],
      "execution_count": 0,
      "outputs": [
        {
          "output_type": "stream",
          "text": [
            "6028\n",
            "1406\n",
            "1805\n",
            "2451\n",
            "2208\n"
          ],
          "name": "stdout"
        }
      ]
    },
    {
      "cell_type": "code",
      "metadata": {
        "id": "G_9IbAm2WV86",
        "colab_type": "code",
        "outputId": "d47f5eea-2fef-4d19-a245-ff93a4e7e6b1",
        "colab": {
          "base_uri": "https://localhost:8080/",
          "height": 34
        }
      },
      "source": [
        "preproc_smallerNadj = preproc.copy()\n",
        "preproc_smallerNadj.filter_for_pos(list(['N','ADJ']))\n",
        "preproc_smallerNadj.clean_tokens(remove_numbers=True, remove_shorter_than=2)\n",
        "preproc_smallerNadj.remove_common_tokens(df_threshold=.5)\n",
        "preproc_smallerNadj.remove_uncommon_tokens(df_threshold=.0005)\n",
        "print(preproc_smallerNadj.vocabulary_size)"
      ],
      "execution_count": 0,
      "outputs": [
        {
          "output_type": "stream",
          "text": [
            "1797\n"
          ],
          "name": "stdout"
        }
      ]
    },
    {
      "cell_type": "code",
      "metadata": {
        "id": "Kri1VjXoZU3H",
        "colab_type": "code",
        "colab": {}
      },
      "source": [
        "#preproc_smaller.tokens_datatable"
      ],
      "execution_count": 0,
      "outputs": []
    },
    {
      "cell_type": "code",
      "metadata": {
        "id": "bTy_QfngZYRM",
        "colab_type": "code",
        "colab": {}
      },
      "source": [
        "\n",
        "vocab_N = np.array(preproc_smallerN.vocabulary)\n",
        "vocab_Nadj = np.array(preproc_smallerNadj.vocabulary)\n",
        "vocab_small = np.array(preproc_smaller.vocabulary)\n",
        "vocab_all = np.array(preproc.vocabulary)\n",
        "vocab_NadjV = np.array(preproc_smallerNadjV.vocabulary)"
      ],
      "execution_count": 0,
      "outputs": []
    },
    {
      "cell_type": "code",
      "metadata": {
        "id": "LayeBuDKZhdE",
        "colab_type": "code",
        "outputId": "e2fd65fa-81b1-4a34-eb08-e2f50fa6df13",
        "colab": {
          "base_uri": "https://localhost:8080/",
          "height": 51
        }
      },
      "source": [
        "\n",
        "#dtm_smN = preproc_smallerN.dtm\n",
        "dtm_smNadj = preproc_smallerNadj.dtm\n",
        "#dtm_small = preproc_smaller.dtm\n",
        "#dtm_all = preproc.dtm\n",
        "#dtm_NadjV = preproc_smallerNadjV.dtm\n",
        "#dtm_smN, dtm_smNadj, dtm_small, dtm_all\n",
        "dtm_smNadj"
      ],
      "execution_count": 0,
      "outputs": [
        {
          "output_type": "execute_result",
          "data": {
            "text/plain": [
              "<2048x1797 sparse matrix of type '<class 'numpy.int32'>'\n",
              "\twith 26520 stored elements in Compressed Sparse Row format>"
            ]
          },
          "metadata": {
            "tags": []
          },
          "execution_count": 21
        }
      ]
    },
    {
      "cell_type": "code",
      "metadata": {
        "id": "V33t86I2Zjkr",
        "colab_type": "code",
        "outputId": "d8e45dba-0080-4c3d-84c3-da727be26a9a",
        "colab": {
          "base_uri": "https://localhost:8080/",
          "height": 513
        }
      },
      "source": [
        "!pip install tmtoolkit['lda'] # latent dialectic al\n",
        "\n",
        "import logging\n",
        "import warnings\n",
        "from tmtoolkit.topicmod.tm_lda import compute_models_parallel\n",
        "\n",
        "\n",
        "logger = logging.getLogger('lda')\n",
        "logger.addHandler(logging.NullHandler())\n",
        "logger.propagate = False\n",
        "warnings.filterwarnings('ignore')\n",
        "\n",
        "dtms = {\n",
        "    #'nouns': dtm_smN,\n",
        "    'nounsadj': dtm_smNadj,\n",
        "    #'small': dtm_small,\n",
        "    #'NadjV' : dtm_NadjV,\n",
        "    #'all': dtm_all\n",
        "}\n",
        "\n",
        "lda_params = {\n",
        "    'n_topics': 12,\n",
        "    'eta': 0.65,\n",
        "    'n_iter': 1000,\n",
        "    'random_state': 20191122\n",
        "}\n",
        "\n",
        "models = compute_models_parallel(dtms, constant_parameters=lda_params)"
      ],
      "execution_count": 0,
      "outputs": [
        {
          "output_type": "stream",
          "text": [
            "Requirement already satisfied: tmtoolkit[lda] in /usr/local/lib/python3.6/dist-packages (0.9.0)\n",
            "Requirement already satisfied: matplotlib>=3.1.0 in /usr/local/lib/python3.6/dist-packages (from tmtoolkit[lda]) (3.1.3)\n",
            "Requirement already satisfied: deprecation>=2.0.0 in /usr/local/lib/python3.6/dist-packages (from tmtoolkit[lda]) (2.0.7)\n",
            "Requirement already satisfied: pandas>=0.25.0 in /usr/local/lib/python3.6/dist-packages (from tmtoolkit[lda]) (0.25.3)\n",
            "Requirement already satisfied: numpy>=1.17.0 in /usr/local/lib/python3.6/dist-packages (from tmtoolkit[lda]) (1.17.5)\n",
            "Requirement already satisfied: scipy>=1.3.0 in /usr/local/lib/python3.6/dist-packages (from tmtoolkit[lda]) (1.4.1)\n",
            "Requirement already satisfied: xlrd>=1.2.0 in /usr/local/lib/python3.6/dist-packages (from tmtoolkit[lda]) (1.2.0)\n",
            "Requirement already satisfied: globre>=0.1.5 in /usr/local/lib/python3.6/dist-packages (from tmtoolkit[lda]) (0.1.5)\n",
            "Requirement already satisfied: germalemma>=0.1.3 in /usr/local/lib/python3.6/dist-packages (from tmtoolkit[lda]) (0.1.3)\n",
            "Requirement already satisfied: nltk>=3.4.0 in /usr/local/lib/python3.6/dist-packages (from tmtoolkit[lda]) (3.4.5)\n",
            "Collecting lda>=1.1.0; extra == \"lda\"\n",
            "\u001b[?25l  Downloading https://files.pythonhosted.org/packages/fd/27/d62628d914bff7f048e2b433c3adea9e7072fa20028f1d4194999051cd9d/lda-1.1.0-cp36-cp36m-manylinux1_x86_64.whl (348kB)\n",
            "\r\u001b[K     |█                               | 10kB 19.4MB/s eta 0:00:01\r\u001b[K     |█▉                              | 20kB 1.8MB/s eta 0:00:01\r\u001b[K     |██▉                             | 30kB 2.6MB/s eta 0:00:01\r\u001b[K     |███▊                            | 40kB 1.7MB/s eta 0:00:01\r\u001b[K     |████▊                           | 51kB 2.1MB/s eta 0:00:01\r\u001b[K     |█████▋                          | 61kB 2.5MB/s eta 0:00:01\r\u001b[K     |██████▋                         | 71kB 2.9MB/s eta 0:00:01\r\u001b[K     |███████▌                        | 81kB 3.3MB/s eta 0:00:01\r\u001b[K     |████████▌                       | 92kB 3.7MB/s eta 0:00:01\r\u001b[K     |█████████▍                      | 102kB 2.8MB/s eta 0:00:01\r\u001b[K     |██████████▍                     | 112kB 2.8MB/s eta 0:00:01\r\u001b[K     |███████████▎                    | 122kB 2.8MB/s eta 0:00:01\r\u001b[K     |████████████▎                   | 133kB 2.8MB/s eta 0:00:01\r\u001b[K     |█████████████▏                  | 143kB 2.8MB/s eta 0:00:01\r\u001b[K     |██████████████▏                 | 153kB 2.8MB/s eta 0:00:01\r\u001b[K     |███████████████                 | 163kB 2.8MB/s eta 0:00:01\r\u001b[K     |████████████████                | 174kB 2.8MB/s eta 0:00:01\r\u001b[K     |█████████████████               | 184kB 2.8MB/s eta 0:00:01\r\u001b[K     |█████████████████▉              | 194kB 2.8MB/s eta 0:00:01\r\u001b[K     |██████████████████▉             | 204kB 2.8MB/s eta 0:00:01\r\u001b[K     |███████████████████▊            | 215kB 2.8MB/s eta 0:00:01\r\u001b[K     |████████████████████▊           | 225kB 2.8MB/s eta 0:00:01\r\u001b[K     |█████████████████████▋          | 235kB 2.8MB/s eta 0:00:01\r\u001b[K     |██████████████████████▋         | 245kB 2.8MB/s eta 0:00:01\r\u001b[K     |███████████████████████▌        | 256kB 2.8MB/s eta 0:00:01\r\u001b[K     |████████████████████████▌       | 266kB 2.8MB/s eta 0:00:01\r\u001b[K     |█████████████████████████▍      | 276kB 2.8MB/s eta 0:00:01\r\u001b[K     |██████████████████████████▍     | 286kB 2.8MB/s eta 0:00:01\r\u001b[K     |███████████████████████████▎    | 296kB 2.8MB/s eta 0:00:01\r\u001b[K     |████████████████████████████▎   | 307kB 2.8MB/s eta 0:00:01\r\u001b[K     |█████████████████████████████▏  | 317kB 2.8MB/s eta 0:00:01\r\u001b[K     |██████████████████████████████▏ | 327kB 2.8MB/s eta 0:00:01\r\u001b[K     |███████████████████████████████ | 337kB 2.8MB/s eta 0:00:01\r\u001b[K     |████████████████████████████████| 348kB 2.8MB/s eta 0:00:01\r\u001b[K     |████████████████████████████████| 358kB 2.8MB/s \n",
            "\u001b[?25hRequirement already satisfied: kiwisolver>=1.0.1 in /usr/local/lib/python3.6/dist-packages (from matplotlib>=3.1.0->tmtoolkit[lda]) (1.1.0)\n",
            "Requirement already satisfied: cycler>=0.10 in /usr/local/lib/python3.6/dist-packages (from matplotlib>=3.1.0->tmtoolkit[lda]) (0.10.0)\n",
            "Requirement already satisfied: pyparsing!=2.0.4,!=2.1.2,!=2.1.6,>=2.0.1 in /usr/local/lib/python3.6/dist-packages (from matplotlib>=3.1.0->tmtoolkit[lda]) (2.4.6)\n",
            "Requirement already satisfied: python-dateutil>=2.1 in /usr/local/lib/python3.6/dist-packages (from matplotlib>=3.1.0->tmtoolkit[lda]) (2.6.1)\n",
            "Requirement already satisfied: packaging in /usr/local/lib/python3.6/dist-packages (from deprecation>=2.0.0->tmtoolkit[lda]) (20.1)\n",
            "Requirement already satisfied: pytz>=2017.2 in /usr/local/lib/python3.6/dist-packages (from pandas>=0.25.0->tmtoolkit[lda]) (2018.9)\n",
            "Requirement already satisfied: Pyphen>=0.9.5 in /usr/local/lib/python3.6/dist-packages (from germalemma>=0.1.3->tmtoolkit[lda]) (0.9.5)\n",
            "Requirement already satisfied: PatternLite>=3.6 in /usr/local/lib/python3.6/dist-packages (from germalemma>=0.1.3->tmtoolkit[lda]) (3.6)\n",
            "Requirement already satisfied: six in /usr/local/lib/python3.6/dist-packages (from nltk>=3.4.0->tmtoolkit[lda]) (1.12.0)\n",
            "Collecting pbr<4,>=0.6\n",
            "\u001b[?25l  Downloading https://files.pythonhosted.org/packages/0c/5d/b077dbf309993d52c1d71e6bf6fe443a8029ea215135ebbe0b1b10e7aefc/pbr-3.1.1-py2.py3-none-any.whl (99kB)\n",
            "\r\u001b[K     |███▎                            | 10kB 22.6MB/s eta 0:00:01\r\u001b[K     |██████▋                         | 20kB 30.6MB/s eta 0:00:01\r\u001b[K     |█████████▉                      | 30kB 37.9MB/s eta 0:00:01\r\u001b[K     |█████████████▏                  | 40kB 43.7MB/s eta 0:00:01\r\u001b[K     |████████████████▍               | 51kB 46.9MB/s eta 0:00:01\r\u001b[K     |███████████████████▊            | 61kB 51.0MB/s eta 0:00:01\r\u001b[K     |███████████████████████         | 71kB 53.0MB/s eta 0:00:01\r\u001b[K     |██████████████████████████▎     | 81kB 54.5MB/s eta 0:00:01\r\u001b[K     |█████████████████████████████▋  | 92kB 57.3MB/s eta 0:00:01\r\u001b[K     |████████████████████████████████| 102kB 10.9MB/s \n",
            "\u001b[?25hRequirement already satisfied: setuptools in /usr/local/lib/python3.6/dist-packages (from kiwisolver>=1.0.1->matplotlib>=3.1.0->tmtoolkit[lda]) (45.1.0)\n",
            "Installing collected packages: pbr, lda\n",
            "Successfully installed lda-1.1.0 pbr-3.1.1\n"
          ],
          "name": "stdout"
        }
      ]
    },
    {
      "cell_type": "code",
      "metadata": {
        "id": "xuNTQyxrhPYn",
        "colab_type": "code",
        "outputId": "04ab3088-7671-4be7-bcda-3057743178c2",
        "colab": {
          "base_uri": "https://localhost:8080/",
          "height": 1000
        }
      },
      "source": [
        "from tmtoolkit.topicmod.model_io import print_ldamodel_topic_words\n",
        "\n",
        "model_Nadj = models['nounsadj'][0][1]\n",
        "print_ldamodel_topic_words(model_Nadj.topic_word_, vocab_Nadj, top_n=8)"
      ],
      "execution_count": 0,
      "outputs": [
        {
          "output_type": "stream",
          "text": [
            "topic_1\n",
            "> #1. boot (0.054777)\n",
            "> #2. foot (0.016077)\n",
            "> #3. ankle (0.012255)\n",
            "> #4. sock (0.009388)\n",
            "> #5. opening (0.006999)\n",
            "> #6. son (0.006522)\n",
            "> #7. snow (0.005566)\n",
            "> #8. warm (0.005566)\n",
            "topic_2\n",
            "> #1. horrible (0.007103)\n",
            "> #2. smell (0.006494)\n",
            "> #3. chemical (0.004055)\n",
            "> #4. black (0.004055)\n",
            "> #5. ankle (0.003445)\n",
            "> #6. thin (0.003445)\n",
            "> #7. fee (0.003445)\n",
            "> #8. summer (0.003445)\n",
            "topic_3\n",
            "> #1. crocs (0.068297)\n",
            "> #2. pair (0.063282)\n",
            "> #3. shoe (0.036918)\n",
            "> #4. year (0.021873)\n",
            "> #5. old (0.015998)\n",
            "> #6. time (0.014135)\n",
            "> #7. first (0.013419)\n",
            "> #8. croc (0.013275)\n",
            "topic_4\n",
            "> #1. size (0.162015)\n",
            "> #2. shoe (0.052400)\n",
            "> #3. crocs (0.043104)\n",
            "> #4. small (0.035888)\n",
            "> #5. pair (0.027425)\n",
            "> #6. big (0.025204)\n",
            "> #7. order (0.020903)\n",
            "> #8. large (0.013410)\n",
            "topic_5\n",
            "> #1. color (0.034433)\n",
            "> #2. clog (0.014861)\n",
            "> #3. black (0.014861)\n",
            "> #4. crocs (0.013951)\n",
            "> #5. white (0.009399)\n",
            "> #6. men (0.009399)\n",
            "> #7. thing (0.008033)\n",
            "> #8. blue (0.008033)\n",
            "topic_6\n",
            "> #1. shoe (0.080147)\n",
            "> #2. foot (0.043256)\n",
            "> #3. crocs (0.030424)\n",
            "> #4. comfortable (0.021529)\n",
            "> #5. day (0.016863)\n",
            "> #6. hour (0.012926)\n",
            "> #7. time (0.012781)\n",
            "> #8. bad (0.011031)\n",
            "topic_7\n",
            "> #1. shoe (0.034614)\n",
            "> #2. return (0.027451)\n",
            "> #3. amazon (0.021115)\n",
            "> #4. product (0.017534)\n",
            "> #5. item (0.016983)\n",
            "> #6. customer (0.015330)\n",
            "> #7. seller (0.012300)\n",
            "> #8. order (0.012025)\n",
            "topic_8\n",
            "> #1. sandal (0.029437)\n",
            "> #2. crocs (0.027068)\n",
            "> #3. toe (0.022113)\n",
            "> #4. pair (0.021467)\n",
            "> #5. foot (0.020821)\n",
            "> #6. flip (0.019743)\n",
            "> #7. strap (0.018666)\n",
            "> #8. flop (0.018666)\n",
            "topic_9\n",
            "> #1. knee (0.003657)\n",
            "> #2. sole (0.003010)\n",
            "> #3. part (0.002362)\n",
            "> #4. wet (0.002362)\n",
            "> #5. hot (0.002362)\n",
            "> #6. air (0.002362)\n",
            "> #7. sun (0.002362)\n",
            "> #8. several (0.002362)\n",
            "topic_10\n",
            "> #1. que (0.009595)\n",
            "> #2. la (0.008369)\n",
            "> #3. el (0.007756)\n",
            "> #4. son (0.005303)\n",
            "> #5. por (0.005303)\n",
            "> #6. crocs (0.005303)\n",
            "> #7. lo (0.004077)\n",
            "> #8. iacute (0.004077)\n",
            "topic_11\n",
            "> #1. shoe (0.065105)\n",
            "> #2. foot (0.060428)\n",
            "> #3. wide (0.031902)\n",
            "> #4. size (0.031122)\n",
            "> #5. crocs (0.022237)\n",
            "> #6. strap (0.020678)\n",
            "> #7. big (0.019743)\n",
            "> #8. toe (0.018807)\n",
            "topic_12\n",
            "> #1. tag (0.010232)\n",
            "> #2. relief (0.008493)\n",
            "> #3. clog (0.007913)\n",
            "> #4. bag (0.007333)\n",
            "> #5. liner (0.006753)\n",
            "> #6. rx (0.004435)\n",
            "> #7. time (0.003855)\n",
            "> #8. roomy (0.003275)\n"
          ],
          "name": "stdout"
        }
      ]
    },
    {
      "cell_type": "code",
      "metadata": {
        "id": "8_dL5mCfmt1M",
        "colab_type": "code",
        "colab": {}
      },
      "source": [
        "#from tmtoolkit.topicmod.model_io import print_ldamodel_topic_words\n",
        "\n",
        "#model_sm = models['small'][0][1]\n",
        "#print_ldamodel_topic_words(model_sm.topic_word_, vocab_small, top_n=8)"
      ],
      "execution_count": 0,
      "outputs": []
    },
    {
      "cell_type": "code",
      "metadata": {
        "id": "WMUXHCuJZlUh",
        "colab_type": "code",
        "colab": {}
      },
      "source": [
        "#from tmtoolkit.topicmod.model_io import print_ldamodel_topic_words\n",
        "\n",
        "#model_N = models['nouns'][0][1]\n",
        "#print_ldamodel_topic_words(model_N.topic_word_, vocab_N, top_n=8)"
      ],
      "execution_count": 0,
      "outputs": []
    },
    {
      "cell_type": "code",
      "metadata": {
        "id": "2_Svemibmupm",
        "colab_type": "code",
        "colab": {}
      },
      "source": [
        "#from tmtoolkit.topicmod.model_io import print_ldamodel_topic_words\n",
        "\n",
        "#model_all = models['all'][0][1]\n",
        "#print_ldamodel_topic_words(model_all.topic_word_, vocab_all, top_n=8)"
      ],
      "execution_count": 0,
      "outputs": []
    },
    {
      "cell_type": "code",
      "metadata": {
        "id": "ydgtgoY-4IAu",
        "colab_type": "code",
        "colab": {}
      },
      "source": [
        "#from tmtoolkit.topicmod.model_io import print_ldamodel_topic_words\n",
        "\n",
        "#model_NadjV = models['NadjV'][0][1]\n",
        "#print_ldamodel_topic_words(model_NadjV.topic_word_, vocab_all, top_n=8)"
      ],
      "execution_count": 0,
      "outputs": []
    },
    {
      "cell_type": "code",
      "metadata": {
        "id": "d8FZWhStZnPP",
        "colab_type": "code",
        "outputId": "b27b6c33-a745-43f7-a9a2-7d49896f87a1",
        "colab": {
          "base_uri": "https://localhost:8080/",
          "height": 71
        }
      },
      "source": [
        "const_params = {'n_iter' : 1000, 'eta' : 0.65, 'random_state': 20191122}\n",
        "ks = list(range(1,100,10))\n",
        "print(ks)\n",
        "varying_params = [dict(n_topics = k, alpha = 1/k) for k in ks]\n",
        "print(varying_params)"
      ],
      "execution_count": 0,
      "outputs": [
        {
          "output_type": "stream",
          "text": [
            "[1, 11, 21, 31, 41, 51, 61, 71, 81, 91]\n",
            "[{'n_topics': 1, 'alpha': 1.0}, {'n_topics': 11, 'alpha': 0.09090909090909091}, {'n_topics': 21, 'alpha': 0.047619047619047616}, {'n_topics': 31, 'alpha': 0.03225806451612903}, {'n_topics': 41, 'alpha': 0.024390243902439025}, {'n_topics': 51, 'alpha': 0.0196078431372549}, {'n_topics': 61, 'alpha': 0.01639344262295082}, {'n_topics': 71, 'alpha': 0.014084507042253521}, {'n_topics': 81, 'alpha': 0.012345679012345678}, {'n_topics': 91, 'alpha': 0.01098901098901099}]\n"
          ],
          "name": "stdout"
        }
      ]
    },
    {
      "cell_type": "code",
      "metadata": {
        "id": "3E9xTtU6tuIO",
        "colab_type": "code",
        "colab": {}
      },
      "source": [
        "#model_bg = models['bigger'][0][1]\n",
        "#print_ldamodel_topic_words(model_bg.topic_word_, vocab_bg, top_n=3)"
      ],
      "execution_count": 0,
      "outputs": []
    },
    {
      "cell_type": "code",
      "metadata": {
        "id": "o1okkOEA2joS",
        "colab_type": "code",
        "colab": {}
      },
      "source": [
        "from tmtoolkit.topicmod import tm_lda\n",
        "eval_results = tm_lda.evaluate_topic_models(dtm_smNadj, varying_params, const_params)"
      ],
      "execution_count": 0,
      "outputs": []
    },
    {
      "cell_type": "code",
      "metadata": {
        "id": "4vlp93HP0nKr",
        "colab_type": "code",
        "outputId": "18393c63-b27c-40ae-d2bf-c3b63fcbe7d4",
        "colab": {
          "base_uri": "https://localhost:8080/",
          "height": 54
        }
      },
      "source": [
        "from tmtoolkit.topicmod.evaluate import results_by_parameter\n",
        "from tmtoolkit.topicmod.visualize import plot_eval_results\n",
        "\n",
        "results_by_n_topics = results_by_parameter(eval_results, 'n_topics')\n",
        "print(results_by_n_topics)\n"
      ],
      "execution_count": 0,
      "outputs": [
        {
          "output_type": "stream",
          "text": [
            "[(1, {'cao_juan_2009': nan, 'arun_2010': 198.70576087828985, 'coherence_mimno_2011': -2.0450478005369295}), (11, {'cao_juan_2009': 0.28929038462050205, 'arun_2010': 143.37270616348763, 'coherence_mimno_2011': -6.647278378088647}), (21, {'cao_juan_2009': 0.5152799810446599, 'arun_2010': 171.4366222296811, 'coherence_mimno_2011': -14.753028935844554}), (31, {'cao_juan_2009': 0.6559842676184274, 'arun_2010': 186.93813945483643, 'coherence_mimno_2011': -17.95434806968347}), (41, {'cao_juan_2009': 0.7054278355368035, 'arun_2010': 196.53141264878272, 'coherence_mimno_2011': -19.11260560860897}), (51, {'cao_juan_2009': 0.7468669105269801, 'arun_2010': 190.19812451249055, 'coherence_mimno_2011': -20.283268041457458}), (61, {'cao_juan_2009': 0.7698116068341315, 'arun_2010': 195.2685970542068, 'coherence_mimno_2011': -20.24691771919548}), (71, {'cao_juan_2009': 0.8112364773703927, 'arun_2010': 203.56739841064106, 'coherence_mimno_2011': -20.41224601248961}), (81, {'cao_juan_2009': 0.8423949404241455, 'arun_2010': 182.794801695095, 'coherence_mimno_2011': -21.303052752772114}), (91, {'cao_juan_2009': 0.8453740011470509, 'arun_2010': 191.17960276162336, 'coherence_mimno_2011': -21.457877436782915})]\n"
          ],
          "name": "stdout"
        }
      ]
    },
    {
      "cell_type": "code",
      "metadata": {
        "id": "Qj08kGpD2mV7",
        "colab_type": "code",
        "outputId": "2f42b14f-4691-4324-c79c-9dbd85d4231a",
        "colab": {
          "base_uri": "https://localhost:8080/",
          "height": 475
        }
      },
      "source": [
        "plot_eval_results(results_by_n_topics)"
      ],
      "execution_count": 0,
      "outputs": [
        {
          "output_type": "execute_result",
          "data": {
            "text/plain": [
              "(<Figure size 576x432 with 3 Axes>,\n",
              " array([<matplotlib.axes._subplots.AxesSubplot object at 0x7f4b0a45e2b0>,\n",
              "        <matplotlib.axes._subplots.AxesSubplot object at 0x7f4b0ad62e10>,\n",
              "        <matplotlib.axes._subplots.AxesSubplot object at 0x7f4b0ad43b70>],\n",
              "       dtype=object))"
            ]
          },
          "metadata": {
            "tags": []
          },
          "execution_count": 32
        },
        {
          "output_type": "display_data",
          "data": {
            "image/png": "[encoded data removed]",
            "text/plain": [
              "<Figure size 576x432 with 3 Axes>"
            ]
          },
          "metadata": {
            "tags": []
          }
        }
      ]
    },
    {
      "cell_type": "code",
      "metadata": {
        "colab_type": "code",
        "id": "LGn8TVGiKTam",
        "outputId": "aa02466c-c459-453d-e82f-983b04e1d856",
        "colab": {
          "base_uri": "https://localhost:8080/",
          "height": 34
        }
      },
      "source": [
        "# \\https://tmtoolkit.readthedocs.io/en/latest/preprocessing.html\n",
        "from tmtoolkit.preprocess import TMPreproc\n",
        "\n",
        "preproc2 = TMPreproc(corpus2) #creating the preprocess data structure, then tagging parts of speech\n",
        "preproc2.pos_tag()\n",
        "preproc2.lemmatize()\n",
        "preproc2.tokens_to_lowercase()\n",
        "preproc2.remove_special_chars_in_tokens()\n",
        "preproc2.add_stopwords(['http', 'nt'])"
      ],
      "execution_count": 0,
      "outputs": [
        {
          "output_type": "execute_result",
          "data": {
            "text/plain": [
              "<TMPreproc [2737 documents]>"
            ]
          },
          "metadata": {
            "tags": []
          },
          "execution_count": 33
        }
      ]
    },
    {
      "cell_type": "code",
      "metadata": {
        "colab_type": "code",
        "id": "5M022BPeKTa5",
        "outputId": "545cb03c-446e-4ae1-e50d-8069bb0284c9",
        "colab": {
          "base_uri": "https://localhost:8080/",
          "height": 34
        }
      },
      "source": [
        "preproc2.vocabulary_size"
      ],
      "execution_count": 0,
      "outputs": [
        {
          "output_type": "execute_result",
          "data": {
            "text/plain": [
              "6113"
            ]
          },
          "metadata": {
            "tags": []
          },
          "execution_count": 34
        }
      ]
    },
    {
      "cell_type": "code",
      "metadata": {
        "colab_type": "code",
        "id": "qjGWDeg-KTa-",
        "colab": {}
      },
      "source": [
        "#preproc.stem()"
      ],
      "execution_count": 0,
      "outputs": []
    },
    {
      "cell_type": "code",
      "metadata": {
        "colab_type": "code",
        "id": "gG6upw-HKTbF",
        "outputId": "5ca598f6-fccd-4e2f-8f9e-a94a4eb04689",
        "colab": {
          "base_uri": "https://localhost:8080/",
          "height": 34
        }
      },
      "source": [
        "preproc2_smallerNadj = preproc2.copy()\n",
        "preproc2_smallerNadj.filter_for_pos(list(['N','ADJ']))\n",
        "preproc2_smallerNadj.clean_tokens(remove_numbers=True, remove_shorter_than=1)\n",
        "preproc2_smallerNadj.remove_common_tokens(df_threshold=.1)\n",
        "preproc2_smallerNadj.remove_uncommon_tokens(df_threshold=.0004)\n",
        "\n",
        "print(preproc2_smallerNadj.vocabulary_size)\n"
      ],
      "execution_count": 0,
      "outputs": [
        {
          "output_type": "stream",
          "text": [
            "1873\n"
          ],
          "name": "stdout"
        }
      ]
    },
    {
      "cell_type": "code",
      "metadata": {
        "colab_type": "code",
        "id": "WUpP8yilKTbL",
        "colab": {}
      },
      "source": [
        ""
      ],
      "execution_count": 0,
      "outputs": []
    },
    {
      "cell_type": "code",
      "metadata": {
        "colab_type": "code",
        "id": "H85DRyW9KTbi",
        "colab": {}
      },
      "source": [
        "#preproc_smaller.tokens_datatable"
      ],
      "execution_count": 0,
      "outputs": []
    },
    {
      "cell_type": "code",
      "metadata": {
        "colab_type": "code",
        "id": "leAfAO6XKTbq",
        "colab": {}
      },
      "source": [
        "vocab_Nadj2 = np.array(preproc2_smallerNadj.vocabulary)\n"
      ],
      "execution_count": 0,
      "outputs": []
    },
    {
      "cell_type": "code",
      "metadata": {
        "colab_type": "code",
        "id": "0vrCrpUQKTbt",
        "outputId": "dceea3fd-4295-48d9-817e-bfd00f4efa66",
        "colab": {
          "base_uri": "https://localhost:8080/",
          "height": 51
        }
      },
      "source": [
        "dtm_smNadj2 = preproc2_smallerNadj.dtm\n",
        "\n",
        "dtm_smNadj2"
      ],
      "execution_count": 0,
      "outputs": [
        {
          "output_type": "execute_result",
          "data": {
            "text/plain": [
              "<2737x1873 sparse matrix of type '<class 'numpy.int32'>'\n",
              "\twith 25752 stored elements in Compressed Sparse Row format>"
            ]
          },
          "metadata": {
            "tags": []
          },
          "execution_count": 39
        }
      ]
    },
    {
      "cell_type": "code",
      "metadata": {
        "colab_type": "code",
        "id": "TkeTlY6EKTbx",
        "colab": {}
      },
      "source": [
        "import logging\n",
        "import warnings\n",
        "from tmtoolkit.topicmod.tm_lda import compute_models_parallel\n",
        "\n",
        "\n",
        "logger = logging.getLogger('lda')\n",
        "logger.addHandler(logging.NullHandler())\n",
        "logger.propagate = False\n",
        "warnings.filterwarnings('ignore')\n",
        "\n",
        "dtms2 = {\n",
        "    'nounsadj': dtm_smNadj2\n",
        "}\n",
        "\n",
        "lda_params = {\n",
        "    'n_topics': 15,\n",
        "    'eta': 0.35,\n",
        "    'n_iter': 1000,\n",
        "    'random_state': 20191122\n",
        "}\n",
        "\n",
        "models2 = compute_models_parallel(dtms2, constant_parameters=lda_params)"
      ],
      "execution_count": 0,
      "outputs": []
    },
    {
      "cell_type": "code",
      "metadata": {
        "colab_type": "code",
        "id": "Y0IYmT96La5T",
        "outputId": "070ca340-a3c9-4e2b-b42a-e2b2bcf18835",
        "colab": {
          "base_uri": "https://localhost:8080/",
          "height": 1000
        }
      },
      "source": [
        "from tmtoolkit.topicmod.model_io import print_ldamodel_topic_words\n",
        "\n",
        "model_Nadj2 = models2['nounsadj'][0][1]\n",
        "print_ldamodel_topic_words(model_Nadj2.topic_word_, vocab_Nadj2, top_n=8)"
      ],
      "execution_count": 0,
      "outputs": [
        {
          "output_type": "stream",
          "text": [
            "topic_1\n",
            "> #1. material (0.028265)\n",
            "> #2. plastic (0.020893)\n",
            "> #3. slipper (0.016747)\n",
            "> #4. hard (0.016286)\n",
            "> #5. sole (0.014904)\n",
            "> #6. uncomfortable (0.013983)\n",
            "> #7. rubber (0.013061)\n",
            "> #8. house (0.010758)\n",
            "topic_2\n",
            "> #1. tight (0.034718)\n",
            "> #2. little (0.033843)\n",
            "> #3. front (0.027280)\n",
            "> #4. look (0.020280)\n",
            "> #5. nice (0.019842)\n",
            "> #6. narrow (0.018529)\n",
            "> #7. top (0.013279)\n",
            "> #8. uncomfortable (0.012842)\n",
            "topic_3\n",
            "> #1. different (0.036159)\n",
            "> #2. one (0.028880)\n",
            "> #3. store (0.024877)\n",
            "> #4. product (0.017961)\n",
            "> #5. quality (0.017234)\n",
            "> #6. amazon (0.017234)\n",
            "> #7. problem (0.015050)\n",
            "> #8. china (0.014322)\n",
            "topic_4\n",
            "> #1. amazon (0.041863)\n",
            "> #2. order (0.027160)\n",
            "> #3. return (0.026763)\n",
            "> #4. croc (0.014842)\n",
            "> #5. store (0.014047)\n",
            "> #6. product (0.013252)\n",
            "> #7. day (0.012458)\n",
            "> #8. great (0.011663)\n",
            "topic_5\n",
            "> #1. flip (0.052888)\n",
            "> #2. flop (0.047251)\n",
            "> #3. great (0.015442)\n",
            "> #4. disappointed (0.014234)\n",
            "> #5. croc (0.013831)\n",
            "> #6. thong (0.013428)\n",
            "> #7. uncomfortable (0.012220)\n",
            "> #8. bottom (0.009805)\n",
            "topic_6\n",
            "> #1. boot (0.071164)\n",
            "> #2. top (0.015978)\n",
            "> #3. sock (0.015978)\n",
            "> #4. ankle (0.012556)\n",
            "> #5. easy (0.011272)\n",
            "> #6. daughter (0.010417)\n",
            "> #7. cute (0.009989)\n",
            "> #8. wet (0.009989)\n",
            "topic_7\n",
            "> #1. flat (0.032354)\n",
            "> #2. heel (0.029987)\n",
            "> #3. croc (0.016260)\n",
            "> #4. problem (0.012000)\n",
            "> #5. black (0.011526)\n",
            "> #6. perfect (0.010580)\n",
            "> #7. day (0.010580)\n",
            "> #8. material (0.010106)\n",
            "topic_8\n",
            "> #1. blister (0.041562)\n",
            "> #2. cute (0.036342)\n",
            "> #3. bad (0.022217)\n",
            "> #4. hour (0.020374)\n",
            "> #5. day (0.020067)\n",
            "> #6. heel (0.019453)\n",
            "> #7. back (0.015768)\n",
            "> #8. sock (0.014233)\n",
            "topic_9\n",
            "> #1. right (0.045355)\n",
            "> #2. left (0.027041)\n",
            "> #3. heel (0.024051)\n",
            "> #4. cute (0.018071)\n",
            "> #5. croc (0.017697)\n",
            "> #6. back (0.016202)\n",
            "> #7. little (0.013960)\n",
            "> #8. order (0.012838)\n",
            "topic_10\n",
            "> #1. width (0.034268)\n",
            "> #2. woman (0.031677)\n",
            "> #3. order (0.029086)\n",
            "> #4. narrow (0.021744)\n",
            "> #5. men (0.021312)\n",
            "> #6. half (0.019585)\n",
            "> #7. sizing (0.018721)\n",
            "> #8. length (0.016562)\n",
            "topic_11\n",
            "> #1. sandal (0.099556)\n",
            "> #2. top (0.022935)\n",
            "> #3. narrow (0.018168)\n",
            "> #4. tight (0.017827)\n",
            "> #5. cute (0.016805)\n",
            "> #6. short (0.015103)\n",
            "> #7. much (0.013400)\n",
            "> #8. uncomfortable (0.012378)\n",
            "topic_12\n",
            "> #1. color (0.066257)\n",
            "> #2. light (0.020499)\n",
            "> #3. black (0.016801)\n",
            "> #4. picture (0.015877)\n",
            "> #5. white (0.014490)\n",
            "> #6. great (0.013566)\n",
            "> #7. photo (0.011255)\n",
            "> #8. one (0.010792)\n",
            "topic_13\n",
            "> #1. support (0.040739)\n",
            "> #2. arch (0.040392)\n",
            "> #3. clog (0.032060)\n",
            "> #4. heel (0.031713)\n",
            "> #5. high (0.021645)\n",
            "> #6. much (0.019215)\n",
            "> #7. sock (0.013661)\n",
            "> #8. little (0.012966)\n",
            "topic_14\n",
            "> #1. year (0.043907)\n",
            "> #2. old (0.039601)\n",
            "> #3. son (0.029912)\n",
            "> #4. daughter (0.021299)\n",
            "> #5. croc (0.017351)\n",
            "> #6. kid (0.016992)\n",
            "> #7. little (0.016275)\n",
            "> #8. last (0.014480)\n",
            "topic_15\n",
            "> #1. day (0.035629)\n",
            "> #2. work (0.025332)\n",
            "> #3. hour (0.020717)\n",
            "> #4. week (0.016811)\n",
            "> #5. month (0.015391)\n",
            "> #6. first (0.012196)\n",
            "> #7. hot (0.012196)\n",
            "> #8. slip (0.011841)\n"
          ],
          "name": "stdout"
        }
      ]
    },
    {
      "cell_type": "code",
      "metadata": {
        "colab_type": "code",
        "id": "_BEO2RmrNnuq",
        "outputId": "8f8e0472-c06d-43f8-f798-7a18ff161d3e",
        "colab": {
          "base_uri": "https://localhost:8080/",
          "height": 71
        }
      },
      "source": [
        "const_params = {'n_iter' : 1000, 'eta' : 0.35, 'random_state': 20191122}\n",
        "ks = list(range(1,100,10))\n",
        "print(ks)\n",
        "varying_params = [dict(n_topics = k, alpha = 1/k) for k in ks]\n",
        "print(varying_params)"
      ],
      "execution_count": 0,
      "outputs": [
        {
          "output_type": "stream",
          "text": [
            "[1, 11, 21, 31, 41, 51, 61, 71, 81, 91]\n",
            "[{'n_topics': 1, 'alpha': 1.0}, {'n_topics': 11, 'alpha': 0.09090909090909091}, {'n_topics': 21, 'alpha': 0.047619047619047616}, {'n_topics': 31, 'alpha': 0.03225806451612903}, {'n_topics': 41, 'alpha': 0.024390243902439025}, {'n_topics': 51, 'alpha': 0.0196078431372549}, {'n_topics': 61, 'alpha': 0.01639344262295082}, {'n_topics': 71, 'alpha': 0.014084507042253521}, {'n_topics': 81, 'alpha': 0.012345679012345678}, {'n_topics': 91, 'alpha': 0.01098901098901099}]\n"
          ],
          "name": "stdout"
        }
      ]
    },
    {
      "cell_type": "code",
      "metadata": {
        "colab_type": "code",
        "id": "pzESNbjoM6dj",
        "colab": {}
      },
      "source": [
        "#eval_results2 = tm_lda.evaluate_topic_models(dtm_smNadj2, varying_params, const_params)"
      ],
      "execution_count": 0,
      "outputs": []
    },
    {
      "cell_type": "code",
      "metadata": {
        "colab_type": "code",
        "id": "wzKXyveVM6dq",
        "colab": {}
      },
      "source": [
        "\n",
        "\n",
        "#results_by_n_topics2 = results_by_parameter(eval_results2, 'n_topics')\n",
        "#print(results_by_n_topics2)\n"
      ],
      "execution_count": 0,
      "outputs": []
    },
    {
      "cell_type": "code",
      "metadata": {
        "colab_type": "code",
        "id": "0GyiuwN4M6dt",
        "colab": {}
      },
      "source": [
        "#plot_eval_results(results_by_n_topics2)"
      ],
      "execution_count": 0,
      "outputs": []
    },
    {
      "cell_type": "code",
      "metadata": {
        "colab_type": "code",
        "outputId": "6f88e8b6-aff8-447a-c3d1-865a9b81f19a",
        "id": "8scJktU41GAn",
        "colab": {
          "base_uri": "https://localhost:8080/",
          "height": 34
        }
      },
      "source": [
        "# \\https://tmtoolkit.readthedocs.io/en/latest/preprocessing.html\n",
        "from tmtoolkit.preprocess import TMPreproc\n",
        "\n",
        "preproc3 = TMPreproc(corpus3) #creating the preprocess data structure, then tagging parts of speech\n",
        "preproc3.pos_tag()\n",
        "preproc3.lemmatize()\n",
        "preproc3.tokens_to_lowercase()\n",
        "preproc3.remove_special_chars_in_tokens()\n",
        "preproc3.add_stopwords(['crocs', 'shoe'])"
      ],
      "execution_count": 0,
      "outputs": [
        {
          "output_type": "execute_result",
          "data": {
            "text/plain": [
              "<TMPreproc [4437 documents]>"
            ]
          },
          "metadata": {
            "tags": []
          },
          "execution_count": 45
        }
      ]
    },
    {
      "cell_type": "code",
      "metadata": {
        "colab_type": "code",
        "outputId": "fa12a64e-0aad-4d53-9c14-baf7c526ba29",
        "id": "hLVq_T1q1GAv",
        "colab": {
          "base_uri": "https://localhost:8080/",
          "height": 34
        }
      },
      "source": [
        "preproc3.vocabulary_size"
      ],
      "execution_count": 0,
      "outputs": [
        {
          "output_type": "execute_result",
          "data": {
            "text/plain": [
              "7973"
            ]
          },
          "metadata": {
            "tags": []
          },
          "execution_count": 46
        }
      ]
    },
    {
      "cell_type": "code",
      "metadata": {
        "colab_type": "code",
        "id": "BBx4X7D31GAy",
        "colab": {}
      },
      "source": [
        "#preproc.stem()"
      ],
      "execution_count": 0,
      "outputs": []
    },
    {
      "cell_type": "code",
      "metadata": {
        "colab_type": "code",
        "outputId": "2ece5b84-1af4-4e5e-9b6b-fa45be179280",
        "id": "Tq5PHHbL1GA2",
        "colab": {
          "base_uri": "https://localhost:8080/",
          "height": 34
        }
      },
      "source": [
        "preproc3_smallerNadj = preproc3.copy()\n",
        "preproc3_smallerNadj.filter_for_pos(list(['N','ADJ']))\n",
        "preproc3_smallerNadj.clean_tokens(remove_numbers=True, remove_shorter_than=4)\n",
        "preproc3_smallerNadj.remove_common_tokens(df_threshold=.1)\n",
        "preproc3_smallerNadj.remove_uncommon_tokens(df_threshold=.0003)\n",
        "\n",
        "print(preproc3_smallerNadj.vocabulary_size)\n"
      ],
      "execution_count": 0,
      "outputs": [
        {
          "output_type": "stream",
          "text": [
            "2206\n"
          ],
          "name": "stdout"
        }
      ]
    },
    {
      "cell_type": "code",
      "metadata": {
        "colab_type": "code",
        "id": "Mc-HWtZ31GA6",
        "colab": {}
      },
      "source": [
        ""
      ],
      "execution_count": 0,
      "outputs": []
    },
    {
      "cell_type": "code",
      "metadata": {
        "colab_type": "code",
        "id": "7Ut8sfz31GA8",
        "colab": {}
      },
      "source": [
        "#preproc_smaller.tokens_datatable"
      ],
      "execution_count": 0,
      "outputs": []
    },
    {
      "cell_type": "code",
      "metadata": {
        "colab_type": "code",
        "id": "5puXV8zk1GBA",
        "colab": {}
      },
      "source": [
        "vocab_Nadj3 = np.array(preproc3_smallerNadj.vocabulary)\n"
      ],
      "execution_count": 0,
      "outputs": []
    },
    {
      "cell_type": "code",
      "metadata": {
        "colab_type": "code",
        "outputId": "863ed375-9ee3-4e05-9409-26f9e84dda04",
        "id": "1Q-V0fbh1GBD",
        "colab": {
          "base_uri": "https://localhost:8080/",
          "height": 51
        }
      },
      "source": [
        "dtm_smNadj3 = preproc3_smallerNadj.dtm\n",
        "\n",
        "dtm_smNadj3"
      ],
      "execution_count": 0,
      "outputs": [
        {
          "output_type": "execute_result",
          "data": {
            "text/plain": [
              "<4437x2206 sparse matrix of type '<class 'numpy.int32'>'\n",
              "\twith 34882 stored elements in Compressed Sparse Row format>"
            ]
          },
          "metadata": {
            "tags": []
          },
          "execution_count": 51
        }
      ]
    },
    {
      "cell_type": "code",
      "metadata": {
        "colab_type": "code",
        "id": "7SYXkwcZ1GBG",
        "colab": {}
      },
      "source": [
        "import logging\n",
        "import warnings\n",
        "from tmtoolkit.topicmod.tm_lda import compute_models_parallel\n",
        "\n",
        "\n",
        "logger = logging.getLogger('lda')\n",
        "logger.addHandler(logging.NullHandler())\n",
        "logger.propagate = False\n",
        "warnings.filterwarnings('ignore')\n",
        "\n",
        "dtms3 = {\n",
        "    'nounsadj': dtm_smNadj3\n",
        "}\n",
        "\n",
        "lda_params = {\n",
        "    'n_topics': 10,\n",
        "    'eta': 0.12,\n",
        "    'n_iter': 1000,\n",
        "    'random_state': 20191122\n",
        "}\n",
        "\n",
        "models3 = compute_models_parallel(dtms3, constant_parameters=lda_params)"
      ],
      "execution_count": 0,
      "outputs": []
    },
    {
      "cell_type": "code",
      "metadata": {
        "colab_type": "code",
        "outputId": "1501b581-dba9-4201-b40a-395ce7d41a8e",
        "id": "bc8oeV9B1GBI",
        "colab": {
          "base_uri": "https://localhost:8080/",
          "height": 1000
        }
      },
      "source": [
        "\n",
        "model_Nadj3 = models3['nounsadj'][0][1]\n",
        "print_ldamodel_topic_words(model_Nadj3.topic_word_, vocab_Nadj3, top_n=8)"
      ],
      "execution_count": 0,
      "outputs": [
        {
          "output_type": "stream",
          "text": [
            "topic_1\n",
            "> #1. heel (0.046323)\n",
            "> #2. back (0.035455)\n",
            "> #3. blister (0.028283)\n",
            "> #4. ankle (0.019588)\n",
            "> #5. sandal (0.017197)\n",
            "> #6. short (0.016545)\n",
            "> #7. front (0.015893)\n",
            "> #8. first (0.015458)\n",
            "topic_2\n",
            "> #1. amazon (0.042166)\n",
            "> #2. store (0.033152)\n",
            "> #3. order (0.031124)\n",
            "> #4. return (0.022110)\n",
            "> #5. product (0.017604)\n",
            "> #6. sizing (0.016026)\n",
            "> #7. problem (0.014674)\n",
            "> #8. different (0.014224)\n",
            "topic_3\n",
            "> #1. work (0.029783)\n",
            "> #2. month (0.020610)\n",
            "> #3. hour (0.019267)\n",
            "> #4. week (0.016135)\n",
            "> #5. year (0.013674)\n",
            "> #6. first (0.012779)\n",
            "> #7. beach (0.012779)\n",
            "> #8. long (0.012108)\n",
            "topic_4\n",
            "> #1. style (0.078768)\n",
            "> #2. narrow (0.027523)\n",
            "> #3. tight (0.022185)\n",
            "> #4. flat (0.022185)\n",
            "> #5. short (0.019516)\n",
            "> #6. croc (0.019249)\n",
            "> #7. perfect (0.014178)\n",
            "> #8. woman (0.013644)\n",
            "topic_5\n",
            "> #1. boot (0.068351)\n",
            "> #2. sock (0.042858)\n",
            "> #3. warm (0.026798)\n",
            "> #4. lining (0.022209)\n",
            "> #5. winter (0.018130)\n",
            "> #6. liner (0.017366)\n",
            "> #7. nice (0.015071)\n",
            "> #8. tight (0.014306)\n",
            "topic_6\n",
            "> #1. order (0.032988)\n",
            "> #2. tight (0.028417)\n",
            "> #3. width (0.026251)\n",
            "> #4. normal (0.025049)\n",
            "> #5. half (0.024808)\n",
            "> #6. review (0.023846)\n",
            "> #7. narrow (0.023365)\n",
            "> #8. daughter (0.022402)\n",
            "topic_7\n",
            "> #1. flip (0.042949)\n",
            "> #2. flop (0.037340)\n",
            "> #3. croc (0.035877)\n",
            "> #4. year (0.034901)\n",
            "> #5. style (0.026122)\n",
            "> #6. last (0.024171)\n",
            "> #7. sandal (0.015880)\n",
            "> #8. different (0.014905)\n",
            "topic_8\n",
            "> #1. color (0.091426)\n",
            "> #2. black (0.034271)\n",
            "> #3. blue (0.016876)\n",
            "> #4. nice (0.016876)\n",
            "> #5. white (0.016324)\n",
            "> #6. different (0.014943)\n",
            "> #7. pink (0.014115)\n",
            "> #8. light (0.013839)\n",
            "topic_9\n",
            "> #1. clog (0.030047)\n",
            "> #2. sock (0.026545)\n",
            "> #3. house (0.017290)\n",
            "> #4. hole (0.015539)\n",
            "> #5. price (0.014288)\n",
            "> #6. comfy (0.013538)\n",
            "> #7. review (0.013037)\n",
            "> #8. feel (0.011036)\n",
            "topic_10\n",
            "> #1. sandal (0.052223)\n",
            "> #2. arch (0.048744)\n",
            "> #3. support (0.043872)\n",
            "> #4. high (0.026706)\n",
            "> #5. heel (0.021370)\n",
            "> #6. soft (0.017658)\n",
            "> #7. loose (0.016266)\n",
            "> #8. narrow (0.015570)\n"
          ],
          "name": "stdout"
        }
      ]
    },
    {
      "cell_type": "code",
      "metadata": {
        "colab_type": "code",
        "outputId": "38f755b6-30ec-4178-d8f9-ce7d3d57c981",
        "id": "bw25S4d-1GBL",
        "colab": {
          "base_uri": "https://localhost:8080/",
          "height": 71
        }
      },
      "source": [
        "const_params = {'n_iter' : 1000, 'eta' : 0.12, 'random_state': 20191122}\n",
        "ks = list(range(1,50,10))\n",
        "print(ks)\n",
        "varying_params = [dict(n_topics = k, alpha = 1/k) for k in ks]\n",
        "print(varying_params)"
      ],
      "execution_count": 0,
      "outputs": [
        {
          "output_type": "stream",
          "text": [
            "[1, 11, 21, 31, 41]\n",
            "[{'n_topics': 1, 'alpha': 1.0}, {'n_topics': 11, 'alpha': 0.09090909090909091}, {'n_topics': 21, 'alpha': 0.047619047619047616}, {'n_topics': 31, 'alpha': 0.03225806451612903}, {'n_topics': 41, 'alpha': 0.024390243902439025}]\n"
          ],
          "name": "stdout"
        }
      ]
    },
    {
      "cell_type": "code",
      "metadata": {
        "colab_type": "code",
        "id": "tKapJj611GBP",
        "colab": {}
      },
      "source": [
        "#eval_results3 = tm_lda.evaluate_topic_models(dtm_smNadj3, varying_params, const_params)"
      ],
      "execution_count": 0,
      "outputs": []
    },
    {
      "cell_type": "code",
      "metadata": {
        "colab_type": "code",
        "id": "8n6cfQuE1GBR",
        "colab": {}
      },
      "source": [
        "from tmtoolkit.topicmod.evaluate import results_by_parameter\n",
        "from tmtoolkit.topicmod.visualize import plot_eval_results\n",
        "\n",
        "#results_by_n_topics3 = results_by_parameter(eval_results3, 'n_topics')\n",
        "#print(results_by_n_topics3)\n"
      ],
      "execution_count": 0,
      "outputs": []
    },
    {
      "cell_type": "code",
      "metadata": {
        "colab_type": "code",
        "id": "HalWkKPx1GBU",
        "colab": {}
      },
      "source": [
        "#plot_eval_results(results_by_n_topics3)"
      ],
      "execution_count": 0,
      "outputs": []
    },
    {
      "cell_type": "code",
      "metadata": {
        "colab_type": "code",
        "outputId": "3611b854-3008-4a79-921c-abe30bb677ae",
        "id": "GpMZtryrNtnG",
        "colab": {
          "base_uri": "https://localhost:8080/",
          "height": 34
        }
      },
      "source": [
        "preproc4 = TMPreproc(corpus4) #creating the preprocess data structure, then tagging parts of speech\n",
        "preproc4.pos_tag()\n",
        "preproc4.lemmatize()\n",
        "preproc4.tokens_to_lowercase()\n",
        "preproc4.remove_special_chars_in_tokens()\n",
        "preproc4.add_stopwords(['shoe'])"
      ],
      "execution_count": 0,
      "outputs": [
        {
          "output_type": "execute_result",
          "data": {
            "text/plain": [
              "<TMPreproc [9506 documents]>"
            ]
          },
          "metadata": {
            "tags": []
          },
          "execution_count": 58
        }
      ]
    },
    {
      "cell_type": "code",
      "metadata": {
        "colab_type": "code",
        "outputId": "fd939c00-fe9c-4816-cf58-3835127047bb",
        "id": "vfb7FAEnNtnN",
        "colab": {
          "base_uri": "https://localhost:8080/",
          "height": 34
        }
      },
      "source": [
        "preproc4.vocabulary_size"
      ],
      "execution_count": 0,
      "outputs": [
        {
          "output_type": "execute_result",
          "data": {
            "text/plain": [
              "12405"
            ]
          },
          "metadata": {
            "tags": []
          },
          "execution_count": 59
        }
      ]
    },
    {
      "cell_type": "code",
      "metadata": {
        "colab_type": "code",
        "id": "BJTR5pLyNtnQ",
        "colab": {}
      },
      "source": [
        "#preproc.stem()"
      ],
      "execution_count": 0,
      "outputs": []
    },
    {
      "cell_type": "code",
      "metadata": {
        "colab_type": "code",
        "id": "PqIAcvkhNtnT",
        "outputId": "604573e5-faf1-4fd6-bd92-bb7f408df7b9",
        "colab": {
          "base_uri": "https://localhost:8080/",
          "height": 34
        }
      },
      "source": [
        "preproc4_smallerNadj = preproc4.copy()\n",
        "preproc4_smallerNadj.filter_for_pos(list(['N','ADJ']))\n",
        "preproc4_smallerNadj.clean_tokens(remove_numbers=True, remove_shorter_than=4)\n",
        "preproc4_smallerNadj.remove_common_tokens(df_threshold=.1)\n",
        "preproc4_smallerNadj.remove_uncommon_tokens(df_threshold=.0002)\n",
        "\n",
        "print(preproc4_smallerNadj.vocabulary_size)\n"
      ],
      "execution_count": 0,
      "outputs": [
        {
          "output_type": "stream",
          "text": [
            "3508\n"
          ],
          "name": "stdout"
        }
      ]
    },
    {
      "cell_type": "code",
      "metadata": {
        "colab_type": "code",
        "id": "tnwVUcFiNtnb",
        "colab": {}
      },
      "source": [
        "vocab_Nadj4 = np.array(preproc4_smallerNadj.vocabulary)\n"
      ],
      "execution_count": 0,
      "outputs": []
    },
    {
      "cell_type": "code",
      "metadata": {
        "colab_type": "code",
        "outputId": "2f0eb3c2-9870-40fe-d375-ae86ad5ff3db",
        "id": "X7lW8s9fNtne",
        "colab": {
          "base_uri": "https://localhost:8080/",
          "height": 51
        }
      },
      "source": [
        "dtm_smNadj4 = preproc4_smallerNadj.dtm\n",
        "\n",
        "dtm_smNadj4"
      ],
      "execution_count": 0,
      "outputs": [
        {
          "output_type": "execute_result",
          "data": {
            "text/plain": [
              "<9506x3508 sparse matrix of type '<class 'numpy.int32'>'\n",
              "\twith 82553 stored elements in Compressed Sparse Row format>"
            ]
          },
          "metadata": {
            "tags": []
          },
          "execution_count": 63
        }
      ]
    },
    {
      "cell_type": "code",
      "metadata": {
        "colab_type": "code",
        "id": "_pVZIrsvNtng",
        "colab": {}
      },
      "source": [
        "import logging\n",
        "import warnings\n",
        "from tmtoolkit.topicmod.tm_lda import compute_models_parallel\n",
        "\n",
        "\n",
        "logger = logging.getLogger('lda')\n",
        "logger.addHandler(logging.NullHandler())\n",
        "logger.propagate = False\n",
        "warnings.filterwarnings('ignore')\n",
        "\n",
        "dtms4 = {\n",
        "    'nounsadj': dtm_smNadj4\n",
        "}\n",
        "\n",
        "lda_params = {\n",
        "    'n_topics': 11,\n",
        "    'eta': 0.05,\n",
        "    'n_iter': 1000,\n",
        "    'random_state': 20191122\n",
        "}\n",
        "\n",
        "models4 = compute_models_parallel(dtms4, constant_parameters=lda_params)"
      ],
      "execution_count": 0,
      "outputs": []
    },
    {
      "cell_type": "code",
      "metadata": {
        "colab_type": "code",
        "outputId": "4e65b6fc-4386-4b42-b777-ca4e0805a61c",
        "id": "341SB4oaNtnj",
        "colab": {
          "base_uri": "https://localhost:8080/",
          "height": 1000
        }
      },
      "source": [
        "\n",
        "model_Nadj4 = models4['nounsadj'][0][1]\n",
        "print_ldamodel_topic_words(model_Nadj4.topic_word_, vocab_Nadj4, top_n=8)"
      ],
      "execution_count": 0,
      "outputs": [
        {
          "output_type": "stream",
          "text": [
            "topic_1\n",
            "> #1. flip (0.059841)\n",
            "> #2. flop (0.053772)\n",
            "> #3. sandal (0.050617)\n",
            "> #4. support (0.019304)\n",
            "> #5. comfort (0.018454)\n",
            "> #6. nice (0.016269)\n",
            "> #7. style (0.015420)\n",
            "> #8. year (0.015177)\n",
            "topic_2\n",
            "> #1. heel (0.037582)\n",
            "> #2. support (0.036830)\n",
            "> #3. arch (0.031784)\n",
            "> #4. sock (0.024376)\n",
            "> #5. work (0.022336)\n",
            "> #6. pain (0.019008)\n",
            "> #7. hour (0.016861)\n",
            "> #8. flat (0.013318)\n",
            "topic_3\n",
            "> #1. wide (0.085832)\n",
            "> #2. narrow (0.038526)\n",
            "> #3. tight (0.027601)\n",
            "> #4. width (0.027375)\n",
            "> #5. large (0.024109)\n",
            "> #6. sandal (0.020280)\n",
            "> #7. style (0.018590)\n",
            "> #8. strap (0.015662)\n",
            "topic_4\n",
            "> #1. easy (0.031993)\n",
            "> #2. house (0.027423)\n",
            "> #3. light (0.025392)\n",
            "> #4. perfect (0.023742)\n",
            "> #5. water (0.020315)\n",
            "> #6. summer (0.018665)\n",
            "> #7. nice (0.017269)\n",
            "> #8. beach (0.015746)\n",
            "topic_5\n",
            "> #1. price (0.047491)\n",
            "> #2. product (0.035474)\n",
            "> #3. amazon (0.033861)\n",
            "> #4. store (0.023603)\n",
            "> #5. order (0.019792)\n",
            "> #6. happy (0.019206)\n",
            "> #7. quality (0.015249)\n",
            "> #8. purchase (0.014370)\n",
            "topic_6\n",
            "> #1. sole (0.020358)\n",
            "> #2. work (0.018014)\n",
            "> #3. year (0.017268)\n",
            "> #4. clog (0.016735)\n",
            "> #5. floor (0.016096)\n",
            "> #6. hole (0.014817)\n",
            "> #7. last (0.012793)\n",
            "> #8. thing (0.012047)\n",
            "topic_7\n",
            "> #1. large (0.064692)\n",
            "> #2. order (0.048841)\n",
            "> #3. half (0.038869)\n",
            "> #4. style (0.033883)\n",
            "> #5. next (0.023656)\n",
            "> #6. croc (0.023017)\n",
            "> #7. sizing (0.018671)\n",
            "> #8. review (0.018287)\n",
            "topic_8\n",
            "> #1. daughter (0.055615)\n",
            "> #2. year (0.042287)\n",
            "> #3. easy (0.040853)\n",
            "> #4. cute (0.035837)\n",
            "> #5. summer (0.020215)\n",
            "> #6. toddler (0.014912)\n",
            "> #7. month (0.014482)\n",
            "> #8. super (0.013623)\n",
            "topic_9\n",
            "> #1. strap (0.095813)\n",
            "> #2. heel (0.034534)\n",
            "> #3. sandal (0.032936)\n",
            "> #4. back (0.025582)\n",
            "> #5. loose (0.015884)\n",
            "> #6. cute (0.015352)\n",
            "> #7. right (0.015352)\n",
            "> #8. blister (0.015138)\n",
            "topic_10\n",
            "> #1. boot (0.065629)\n",
            "> #2. sock (0.051400)\n",
            "> #3. warm (0.045028)\n",
            "> #4. winter (0.026870)\n",
            "> #5. lining (0.021349)\n",
            "> #6. weather (0.017314)\n",
            "> #7. liner (0.016358)\n",
            "> #8. rain (0.013703)\n",
            "topic_11\n",
            "> #1. black (0.036559)\n",
            "> #2. cute (0.024978)\n",
            "> #3. comfy (0.021721)\n",
            "> #4. flat (0.021359)\n",
            "> #5. style (0.020876)\n",
            "> #6. casual (0.017740)\n",
            "> #7. brown (0.014000)\n",
            "> #8. blue (0.013276)\n"
          ],
          "name": "stdout"
        }
      ]
    },
    {
      "cell_type": "code",
      "metadata": {
        "colab_type": "code",
        "outputId": "d743858a-490a-4704-f40c-5b9e1b9e07ab",
        "id": "mmzaSwFUNtnm",
        "colab": {
          "base_uri": "https://localhost:8080/",
          "height": 71
        }
      },
      "source": [
        "const_params = {'n_iter' : 1000, 'eta' : 0.05, 'random_state': 20191122}\n",
        "ks = list(range(1,42,5))\n",
        "print(ks)\n",
        "varying_params = [dict(n_topics = k, alpha = 1/k) for k in ks]\n",
        "print(varying_params)"
      ],
      "execution_count": 0,
      "outputs": [
        {
          "output_type": "stream",
          "text": [
            "[1, 6, 11, 16, 21, 26, 31, 36, 41]\n",
            "[{'n_topics': 1, 'alpha': 1.0}, {'n_topics': 6, 'alpha': 0.16666666666666666}, {'n_topics': 11, 'alpha': 0.09090909090909091}, {'n_topics': 16, 'alpha': 0.0625}, {'n_topics': 21, 'alpha': 0.047619047619047616}, {'n_topics': 26, 'alpha': 0.038461538461538464}, {'n_topics': 31, 'alpha': 0.03225806451612903}, {'n_topics': 36, 'alpha': 0.027777777777777776}, {'n_topics': 41, 'alpha': 0.024390243902439025}]\n"
          ],
          "name": "stdout"
        }
      ]
    },
    {
      "cell_type": "code",
      "metadata": {
        "colab_type": "code",
        "id": "7E_YpJvcNtnq",
        "colab": {}
      },
      "source": [
        "eval_results4 = tm_lda.evaluate_topic_models(dtm_smNadj4, varying_params, const_params)"
      ],
      "execution_count": 0,
      "outputs": []
    },
    {
      "cell_type": "code",
      "metadata": {
        "colab_type": "code",
        "outputId": "77790b30-eaba-4e45-b297-9b572c56f159",
        "id": "9FU1_NI5Ntnt",
        "colab": {
          "base_uri": "https://localhost:8080/",
          "height": 54
        }
      },
      "source": [
        "\n",
        "\n",
        "results_by_n_topics4 = results_by_parameter(eval_results4, 'n_topics')\n",
        "print(results_by_n_topics4)\n"
      ],
      "execution_count": 0,
      "outputs": [
        {
          "output_type": "stream",
          "text": [
            "[(1, {'cao_juan_2009': nan, 'arun_2010': 487.0719939492384, 'coherence_mimno_2011': -2.5460215713302627}), (6, {'cao_juan_2009': 0.2915783673129496, 'arun_2010': 337.46683640047206, 'coherence_mimno_2011': -2.8847022138075906}), (11, {'cao_juan_2009': 0.22549468702589007, 'arun_2010': 286.15215532985314, 'coherence_mimno_2011': -2.937168609267249}), (16, {'cao_juan_2009': 0.17145715576931012, 'arun_2010': 247.9293481815552, 'coherence_mimno_2011': -3.324106284372478}), (21, {'cao_juan_2009': 0.16527221199379014, 'arun_2010': 227.8551948892966, 'coherence_mimno_2011': -3.2854625849466004}), (26, {'cao_juan_2009': 0.14720401963445978, 'arun_2010': 207.00928243951088, 'coherence_mimno_2011': -3.6295089353695116}), (31, {'cao_juan_2009': 0.14383227914335125, 'arun_2010': 195.0313169564608, 'coherence_mimno_2011': -3.502737776153921}), (36, {'cao_juan_2009': 0.13904909231227786, 'arun_2010': 186.40451955315373, 'coherence_mimno_2011': -3.8204032058044177}), (41, {'cao_juan_2009': 0.13516012976398237, 'arun_2010': 174.687848412235, 'coherence_mimno_2011': -3.901157028987735})]\n"
          ],
          "name": "stdout"
        }
      ]
    },
    {
      "cell_type": "code",
      "metadata": {
        "colab_type": "code",
        "outputId": "2e33fdfa-6e6c-45e8-9a7b-1c11ea744f27",
        "id": "i5kNtY1sNtnv",
        "colab": {
          "base_uri": "https://localhost:8080/",
          "height": 475
        }
      },
      "source": [
        "plot_eval_results(results_by_n_topics4)"
      ],
      "execution_count": 0,
      "outputs": [
        {
          "output_type": "execute_result",
          "data": {
            "text/plain": [
              "(<Figure size 576x432 with 3 Axes>,\n",
              " array([<matplotlib.axes._subplots.AxesSubplot object at 0x7f4b0a278048>,\n",
              "        <matplotlib.axes._subplots.AxesSubplot object at 0x7f4b0a2919e8>,\n",
              "        <matplotlib.axes._subplots.AxesSubplot object at 0x7f4b0a255550>],\n",
              "       dtype=object))"
            ]
          },
          "metadata": {
            "tags": []
          },
          "execution_count": 69
        },
        {
          "output_type": "display_data",
          "data": {
            "image/png": "[encoded data removed]",
            "text/plain": [
              "<Figure size 576x432 with 3 Axes>"
            ]
          },
          "metadata": {
            "tags": []
          }
        }
      ]
    },
    {
      "cell_type": "code",
      "metadata": {
        "colab_type": "code",
        "outputId": "92bbc4e0-935d-45b4-d135-472b9cab6e43",
        "id": "XqvSLrVWHp9x",
        "colab": {
          "base_uri": "https://localhost:8080/",
          "height": 34
        }
      },
      "source": [
        "preproc5 = TMPreproc(corpus5) #creating the preprocess data structure, then tagging parts of speech\n",
        "preproc5.pos_tag()\n",
        "preproc5.lemmatize()\n",
        "preproc5.tokens_to_lowercase()\n",
        "preproc5.remove_special_chars_in_tokens()\n",
        "preproc5.add_stopwords(['shoe'])"
      ],
      "execution_count": 0,
      "outputs": [
        {
          "output_type": "execute_result",
          "data": {
            "text/plain": [
              "<TMPreproc [30370 documents]>"
            ]
          },
          "metadata": {
            "tags": []
          },
          "execution_count": 70
        }
      ]
    },
    {
      "cell_type": "code",
      "metadata": {
        "colab_type": "code",
        "outputId": "64b234fb-798a-42ff-cb72-65ddd4aba09d",
        "id": "ucOdeTRoHp9_",
        "colab": {
          "base_uri": "https://localhost:8080/",
          "height": 34
        }
      },
      "source": [
        "preproc5.vocabulary_size"
      ],
      "execution_count": 0,
      "outputs": [
        {
          "output_type": "execute_result",
          "data": {
            "text/plain": [
              "22886"
            ]
          },
          "metadata": {
            "tags": []
          },
          "execution_count": 71
        }
      ]
    },
    {
      "cell_type": "code",
      "metadata": {
        "colab_type": "code",
        "id": "E-ht-TozHp-C",
        "colab": {}
      },
      "source": [
        "#preproc.stem()"
      ],
      "execution_count": 0,
      "outputs": []
    },
    {
      "cell_type": "code",
      "metadata": {
        "colab_type": "code",
        "id": "ilpDMRfiHp-E",
        "outputId": "a1ca5f67-8d8e-41bc-86f2-4a1bf620c222",
        "colab": {
          "base_uri": "https://localhost:8080/",
          "height": 34
        }
      },
      "source": [
        "preproc5_smallerNadj = preproc5.copy()\n",
        "preproc5_smallerNadj.filter_for_pos(list(['N','ADJ']))\n",
        "preproc5_smallerNadj.clean_tokens(remove_numbers=True, remove_shorter_than=2)\n",
        "preproc5_smallerNadj.remove_common_tokens(df_threshold=.3)\n",
        "preproc5_smallerNadj.remove_uncommon_tokens(df_threshold=.00005)\n",
        "\n",
        "print(preproc5_smallerNadj.vocabulary_size)\n"
      ],
      "execution_count": 0,
      "outputs": [
        {
          "output_type": "stream",
          "text": [
            "7106\n"
          ],
          "name": "stdout"
        }
      ]
    },
    {
      "cell_type": "code",
      "metadata": {
        "colab_type": "code",
        "id": "zinANRUKHp-H",
        "colab": {}
      },
      "source": [
        "vocab_Nadj5 = np.array(preproc5_smallerNadj.vocabulary)\n"
      ],
      "execution_count": 0,
      "outputs": []
    },
    {
      "cell_type": "code",
      "metadata": {
        "colab_type": "code",
        "id": "G2lzGgN6Hp-J",
        "outputId": "f516a9a2-baab-4b7f-976d-369c6ead9e35",
        "colab": {
          "base_uri": "https://localhost:8080/",
          "height": 51
        }
      },
      "source": [
        "dtm_smNadj5 = preproc5_smallerNadj.dtm\n",
        "\n",
        "dtm_smNadj5"
      ],
      "execution_count": 0,
      "outputs": [
        {
          "output_type": "execute_result",
          "data": {
            "text/plain": [
              "<30370x7106 sparse matrix of type '<class 'numpy.int32'>'\n",
              "\twith 331511 stored elements in Compressed Sparse Row format>"
            ]
          },
          "metadata": {
            "tags": []
          },
          "execution_count": 75
        }
      ]
    },
    {
      "cell_type": "code",
      "metadata": {
        "colab_type": "code",
        "id": "eD8z-cHUHp-M",
        "outputId": "de68c575-88aa-4a3c-81fa-fdea7da731e1",
        "colab": {
          "base_uri": "https://localhost:8080/",
          "height": 411
        }
      },
      "source": [
        "!pip install tmtoolkit['lda'] # latent dialectic al\n",
        "\n",
        "import logging\n",
        "import warnings\n",
        "from tmtoolkit.topicmod.tm_lda import compute_models_parallel\n",
        "\n",
        "\n",
        "logger = logging.getLogger('lda')\n",
        "logger.addHandler(logging.NullHandler())\n",
        "logger.propagate = False\n",
        "warnings.filterwarnings('ignore')\n",
        "\n",
        "dtms5 = {\n",
        "    'nounsadj': dtm_smNadj5\n",
        "}\n",
        "\n",
        "lda_params = {\n",
        "    'n_topics': 25,\n",
        "    'eta': 0.15,\n",
        "    'n_iter': 1000,\n",
        "    'random_state': 20191122\n",
        "}\n",
        "\n",
        "models5 = compute_models_parallel(dtms5, constant_parameters=lda_params)"
      ],
      "execution_count": 0,
      "outputs": [
        {
          "output_type": "stream",
          "text": [
            "Requirement already satisfied: tmtoolkit[lda] in /usr/local/lib/python3.6/dist-packages (0.9.0)\n",
            "Requirement already satisfied: nltk>=3.4.0 in /usr/local/lib/python3.6/dist-packages (from tmtoolkit[lda]) (3.4.5)\n",
            "Requirement already satisfied: scipy>=1.3.0 in /usr/local/lib/python3.6/dist-packages (from tmtoolkit[lda]) (1.4.1)\n",
            "Requirement already satisfied: xlrd>=1.2.0 in /usr/local/lib/python3.6/dist-packages (from tmtoolkit[lda]) (1.2.0)\n",
            "Requirement already satisfied: matplotlib>=3.1.0 in /usr/local/lib/python3.6/dist-packages (from tmtoolkit[lda]) (3.1.3)\n",
            "Requirement already satisfied: pandas>=0.25.0 in /usr/local/lib/python3.6/dist-packages (from tmtoolkit[lda]) (0.25.3)\n",
            "Requirement already satisfied: germalemma>=0.1.3 in /usr/local/lib/python3.6/dist-packages (from tmtoolkit[lda]) (0.1.3)\n",
            "Requirement already satisfied: globre>=0.1.5 in /usr/local/lib/python3.6/dist-packages (from tmtoolkit[lda]) (0.1.5)\n",
            "Requirement already satisfied: numpy>=1.17.0 in /usr/local/lib/python3.6/dist-packages (from tmtoolkit[lda]) (1.17.5)\n",
            "Requirement already satisfied: deprecation>=2.0.0 in /usr/local/lib/python3.6/dist-packages (from tmtoolkit[lda]) (2.0.7)\n",
            "Requirement already satisfied: lda>=1.1.0; extra == \"lda\" in /usr/local/lib/python3.6/dist-packages (from tmtoolkit[lda]) (1.1.0)\n",
            "Requirement already satisfied: six in /usr/local/lib/python3.6/dist-packages (from nltk>=3.4.0->tmtoolkit[lda]) (1.12.0)\n",
            "Requirement already satisfied: kiwisolver>=1.0.1 in /usr/local/lib/python3.6/dist-packages (from matplotlib>=3.1.0->tmtoolkit[lda]) (1.1.0)\n",
            "Requirement already satisfied: cycler>=0.10 in /usr/local/lib/python3.6/dist-packages (from matplotlib>=3.1.0->tmtoolkit[lda]) (0.10.0)\n",
            "Requirement already satisfied: python-dateutil>=2.1 in /usr/local/lib/python3.6/dist-packages (from matplotlib>=3.1.0->tmtoolkit[lda]) (2.6.1)\n",
            "Requirement already satisfied: pyparsing!=2.0.4,!=2.1.2,!=2.1.6,>=2.0.1 in /usr/local/lib/python3.6/dist-packages (from matplotlib>=3.1.0->tmtoolkit[lda]) (2.4.6)\n",
            "Requirement already satisfied: pytz>=2017.2 in /usr/local/lib/python3.6/dist-packages (from pandas>=0.25.0->tmtoolkit[lda]) (2018.9)\n",
            "Requirement already satisfied: Pyphen>=0.9.5 in /usr/local/lib/python3.6/dist-packages (from germalemma>=0.1.3->tmtoolkit[lda]) (0.9.5)\n",
            "Requirement already satisfied: PatternLite>=3.6 in /usr/local/lib/python3.6/dist-packages (from germalemma>=0.1.3->tmtoolkit[lda]) (3.6)\n",
            "Requirement already satisfied: packaging in /usr/local/lib/python3.6/dist-packages (from deprecation>=2.0.0->tmtoolkit[lda]) (20.1)\n",
            "Requirement already satisfied: pbr<4,>=0.6 in /usr/local/lib/python3.6/dist-packages (from lda>=1.1.0; extra == \"lda\"->tmtoolkit[lda]) (3.1.1)\n",
            "Requirement already satisfied: setuptools in /usr/local/lib/python3.6/dist-packages (from kiwisolver>=1.0.1->matplotlib>=3.1.0->tmtoolkit[lda]) (45.1.0)\n"
          ],
          "name": "stdout"
        }
      ]
    },
    {
      "cell_type": "code",
      "metadata": {
        "colab_type": "code",
        "id": "Ltd9jDZMHp-O",
        "outputId": "4b706060-0548-4ba1-afbb-0f7df6a35282",
        "colab": {
          "base_uri": "https://localhost:8080/",
          "height": 1000
        }
      },
      "source": [
        "\n",
        "model_Nadj5 = models5['nounsadj'][0][1]\n",
        "print_ldamodel_topic_words(model_Nadj5.topic_word_, vocab_Nadj5, top_n=8)"
      ],
      "execution_count": 0,
      "outputs": [
        {
          "output_type": "stream",
          "text": [
            "topic_1\n",
            "> #1. cute (0.074955)\n",
            "> #2. light (0.065596)\n",
            "> #3. super (0.049730)\n",
            "> #4. comfy (0.047756)\n",
            "> #5. color (0.042345)\n",
            "> #6. compliment (0.039640)\n",
            "> #7. great (0.031012)\n",
            "> #8. weight (0.030793)\n",
            "topic_2\n",
            "> #1. day (0.051496)\n",
            "> #2. foot (0.036636)\n",
            "> #3. sandal (0.033019)\n",
            "> #4. great (0.027430)\n",
            "> #5. trip (0.023879)\n",
            "> #6. pair (0.023024)\n",
            "> #7. time (0.019276)\n",
            "> #8. summer (0.019013)\n",
            "topic_3\n",
            "> #1. great (0.053538)\n",
            "> #2. casual (0.050027)\n",
            "> #3. dress (0.037374)\n",
            "> #4. jean (0.034657)\n",
            "> #5. short (0.028695)\n",
            "> #6. cute (0.025515)\n",
            "> #7. summer (0.022733)\n",
            "> #8. color (0.022402)\n",
            "topic_4\n",
            "> #1. color (0.113467)\n",
            "> #2. pair (0.061635)\n",
            "> #3. black (0.057820)\n",
            "> #4. brown (0.029264)\n",
            "> #5. one (0.029010)\n",
            "> #6. blue (0.022141)\n",
            "> #7. pink (0.018008)\n",
            "> #8. different (0.016672)\n",
            "topic_5\n",
            "> #1. foot (0.038739)\n",
            "> #2. sole (0.029456)\n",
            "> #3. soft (0.021532)\n",
            "> #4. good (0.019463)\n",
            "> #5. light (0.019344)\n",
            "> #6. nice (0.018635)\n",
            "> #7. little (0.017157)\n",
            "> #8. great (0.016033)\n",
            "topic_6\n",
            "> #1. foot (0.111839)\n",
            "> #2. wide (0.058610)\n",
            "> #3. strap (0.046750)\n",
            "> #4. little (0.034381)\n",
            "> #5. size (0.026876)\n",
            "> #6. fit (0.026506)\n",
            "> #7. toe (0.024421)\n",
            "> #8. narrow (0.023726)\n",
            "topic_7\n",
            "> #1. style (0.056190)\n",
            "> #2. croc (0.049316)\n",
            "> #3. comfort (0.035130)\n",
            "> #4. clog (0.034005)\n",
            "> #5. pair (0.025569)\n",
            "> #6. look (0.014945)\n",
            "> #7. year (0.012508)\n",
            "> #8. foot (0.011883)\n",
            "topic_8\n",
            "> #1. pair (0.076613)\n",
            "> #2. husband (0.054786)\n",
            "> #3. gift (0.047785)\n",
            "> #4. great (0.030653)\n",
            "> #5. happy (0.024969)\n",
            "> #6. christmas (0.023981)\n",
            "> #7. bought (0.022087)\n",
            "> #8. mom (0.021592)\n",
            "topic_9\n",
            "> #1. wet (0.033587)\n",
            "> #2. great (0.029080)\n",
            "> #3. foot (0.027381)\n",
            "> #4. good (0.026859)\n",
            "> #5. water (0.024311)\n",
            "> #6. hole (0.015492)\n",
            "> #7. bottom (0.014708)\n",
            "> #8. beach (0.013075)\n",
            "topic_10\n",
            "> #1. size (0.215542)\n",
            "> #2. fit (0.062502)\n",
            "> #3. true (0.042919)\n",
            "> #4. perfect (0.039359)\n",
            "> #5. foot (0.024196)\n",
            "> #6. order (0.021127)\n",
            "> #7. woman (0.019899)\n",
            "> #8. small (0.018671)\n",
            "topic_11\n",
            "> #1. foot (0.076180)\n",
            "> #2. little (0.036692)\n",
            "> #3. day (0.028234)\n",
            "> #4. flat (0.020259)\n",
            "> #5. toe (0.018809)\n",
            "> #6. bit (0.016489)\n",
            "> #7. first (0.016440)\n",
            "> #8. size (0.016295)\n",
            "topic_12\n",
            "> #1. pair (0.219828)\n",
            "> #2. year (0.084304)\n",
            "> #3. first (0.043109)\n",
            "> #4. last (0.042997)\n",
            "> #5. second (0.039298)\n",
            "> #6. time (0.035655)\n",
            "> #7. new (0.033637)\n",
            "> #8. one (0.021307)\n",
            "topic_13\n",
            "> #1. great (0.142541)\n",
            "> #2. fit (0.062219)\n",
            "> #3. love (0.043470)\n",
            "> #4. good (0.030520)\n",
            "> #5. perfect (0.020430)\n",
            "> #6. color (0.020033)\n",
            "> #7. price (0.019238)\n",
            "> #8. highly (0.018126)\n",
            "topic_14\n",
            "> #1. boot (0.094826)\n",
            "> #2. warm (0.068094)\n",
            "> #3. winter (0.040925)\n",
            "> #4. foot (0.038033)\n",
            "> #5. sock (0.037379)\n",
            "> #6. snow (0.023194)\n",
            "> #7. rain (0.021449)\n",
            "> #8. weather (0.020739)\n",
            "topic_15\n",
            "> #1. foot (0.100492)\n",
            "> #2. pain (0.040318)\n",
            "> #3. heel (0.037026)\n",
            "> #4. support (0.027678)\n",
            "> #5. problem (0.027094)\n",
            "> #6. day (0.020986)\n",
            "> #7. arch (0.018543)\n",
            "> #8. pair (0.015197)\n",
            "topic_16\n",
            "> #1. size (0.249511)\n",
            "> #2. big (0.064285)\n",
            "> #3. small (0.063368)\n",
            "> #4. little (0.045573)\n",
            "> #5. large (0.037269)\n",
            "> #6. order (0.032362)\n",
            "> #7. bit (0.030906)\n",
            "> #8. half (0.026754)\n",
            "topic_17\n",
            "> #1. foot (0.125158)\n",
            "> #2. day (0.100588)\n",
            "> #3. work (0.058292)\n",
            "> #4. hour (0.036335)\n",
            "> #5. great (0.017177)\n",
            "> #6. end (0.014938)\n",
            "> #7. long (0.014502)\n",
            "> #8. time (0.012698)\n",
            "topic_18\n",
            "> #1. old (0.076767)\n",
            "> #2. year (0.058715)\n",
            "> #3. son (0.053274)\n",
            "> #4. easy (0.042443)\n",
            "> #5. daughter (0.038486)\n",
            "> #6. little (0.032156)\n",
            "> #7. kid (0.026863)\n",
            "> #8. cute (0.018307)\n",
            "topic_19\n",
            "> #1. pair (0.065023)\n",
            "> #2. store (0.046633)\n",
            "> #3. amazon (0.041971)\n",
            "> #4. price (0.038992)\n",
            "> #5. croc (0.023321)\n",
            "> #6. good (0.022544)\n",
            "> #7. cheap (0.021314)\n",
            "> #8. color (0.019177)\n",
            "topic_20\n",
            "> #1. house (0.055347)\n",
            "> #2. easy (0.050046)\n",
            "> #3. great (0.046813)\n",
            "> #4. pair (0.030264)\n",
            "> #5. slipper (0.022119)\n",
            "> #6. yard (0.020438)\n",
            "> #7. perfect (0.019468)\n",
            "> #8. beach (0.019274)\n",
            "topic_21\n",
            "> #1. good (0.115538)\n",
            "> #2. great (0.066604)\n",
            "> #3. quality (0.055081)\n",
            "> #4. product (0.049020)\n",
            "> #5. nice (0.037872)\n",
            "> #6. color (0.034953)\n",
            "> #7. price (0.032110)\n",
            "> #8. fit (0.031138)\n",
            "topic_22\n",
            "> #1. flip (0.142562)\n",
            "> #2. flop (0.128166)\n",
            "> #3. support (0.044535)\n",
            "> #4. pair (0.037708)\n",
            "> #5. foot (0.029842)\n",
            "> #6. great (0.029249)\n",
            "> #7. arch (0.024277)\n",
            "> #8. sandal (0.023460)\n",
            "topic_23\n",
            "> #1. sandal (0.131678)\n",
            "> #2. pair (0.066461)\n",
            "> #3. color (0.051081)\n",
            "> #4. style (0.045111)\n",
            "> #5. croc (0.027135)\n",
            "> #6. different (0.023955)\n",
            "> #7. comfort (0.019283)\n",
            "> #8. stylish (0.016558)\n",
            "topic_24\n",
            "> #1. son (0.061958)\n",
            "> #2. muy (0.023923)\n",
            "> #3. la (0.019884)\n",
            "> #4. que (0.019043)\n",
            "> #5. para (0.015845)\n",
            "> #6. con (0.015509)\n",
            "> #7. mi (0.014330)\n",
            "> #8. producto (0.013152)\n",
            "topic_25\n",
            "> #1. great (0.057719)\n",
            "> #2. price (0.041633)\n",
            "> #3. product (0.037232)\n",
            "> #4. amazon (0.037016)\n",
            "> #5. shipping (0.026340)\n",
            "> #6. time (0.023383)\n",
            "> #7. good (0.019199)\n",
            "> #8. happy (0.018189)\n"
          ],
          "name": "stdout"
        }
      ]
    },
    {
      "cell_type": "code",
      "metadata": {
        "colab_type": "code",
        "outputId": "b3d09190-d393-4cf1-b830-9143bd1b6220",
        "id": "KnMmprJGHp-Q",
        "colab": {
          "base_uri": "https://localhost:8080/",
          "height": 71
        }
      },
      "source": [
        "const_params = {'n_iter' : 1000, 'eta' : 0.15, 'random_state': 20191122}\n",
        "ks = list(range(1,42,5))\n",
        "print(ks)\n",
        "varying_params = [dict(n_topics = k, alpha = 1/k) for k in ks]\n",
        "print(varying_params)"
      ],
      "execution_count": 0,
      "outputs": [
        {
          "output_type": "stream",
          "text": [
            "[1, 6, 11, 16, 21, 26, 31, 36, 41]\n",
            "[{'n_topics': 1, 'alpha': 1.0}, {'n_topics': 6, 'alpha': 0.16666666666666666}, {'n_topics': 11, 'alpha': 0.09090909090909091}, {'n_topics': 16, 'alpha': 0.0625}, {'n_topics': 21, 'alpha': 0.047619047619047616}, {'n_topics': 26, 'alpha': 0.038461538461538464}, {'n_topics': 31, 'alpha': 0.03225806451612903}, {'n_topics': 36, 'alpha': 0.027777777777777776}, {'n_topics': 41, 'alpha': 0.024390243902439025}]\n"
          ],
          "name": "stdout"
        }
      ]
    },
    {
      "cell_type": "code",
      "metadata": {
        "colab_type": "code",
        "id": "KN9AJ2VtHp-T",
        "colab": {}
      },
      "source": [
        "#eval_results5 = tm_lda.evaluate_topic_models(dtm_smNadj5, varying_params, const_params)"
      ],
      "execution_count": 0,
      "outputs": []
    },
    {
      "cell_type": "code",
      "metadata": {
        "colab_type": "code",
        "id": "gLCnN_LdHp-V",
        "colab": {}
      },
      "source": [
        "\n",
        "\n",
        "#results_by_n_topics5 = results_by_parameter(eval_results5, 'n_topics')\n",
        "#print(results_by_n_topics5)\n"
      ],
      "execution_count": 0,
      "outputs": []
    },
    {
      "cell_type": "code",
      "metadata": {
        "colab_type": "code",
        "id": "4E3x68cCHp-Z",
        "colab": {}
      },
      "source": [
        "#plot_eval_results(results_by_n_topics5)"
      ],
      "execution_count": 0,
      "outputs": []
    },
    {
      "cell_type": "markdown",
      "metadata": {
        "id": "BipW2vNdZixY",
        "colab_type": "text"
      },
      "source": [
        "# Topic Names and Classification"
      ]
    },
    {
      "cell_type": "code",
      "metadata": {
        "id": "NXRzJFmPZoQt",
        "colab_type": "code",
        "outputId": "4a037171-be4e-4007-cda1-af047d104c0d",
        "colab": {
          "base_uri": "https://localhost:8080/",
          "height": 68
        }
      },
      "source": [
        "from tmtoolkit.topicmod.model_io import ldamodel_top_doc_topics\n",
        "from tmtoolkit.bow.bow_stats import doc_lengths\n",
        "from tmtoolkit.topicmod.model_stats import generate_topic_labels_from_top_words\n",
        "print(model_Nadj)\n",
        "\n",
        "doc_topic = model_Nadj.doc_topic_\n",
        "doc_labels = np.array(preproc_smallerNadj.doc_labels)\n",
        "topic_words = model_Nadj.topic_word_\n",
        "\n",
        "doc_lengths_sm = doc_lengths(dtm_smNadj)\n",
        "\n",
        "doc_topic2 = model_Nadj2.doc_topic_\n",
        "doc_labels2 = np.array(preproc2_smallerNadj.doc_labels)\n",
        "topic_words2 = model_Nadj2.topic_word_\n",
        "\n",
        "doc_lengths_sm2 = doc_lengths(dtm_smNadj2)\n",
        "\n",
        "doc_topic3 = model_Nadj3.doc_topic_\n",
        "doc_labels3 = np.array(preproc3_smallerNadj.doc_labels)\n",
        "topic_words3 = model_Nadj3.topic_word_\n",
        "\n",
        "doc_lengths_sm3 = doc_lengths(dtm_smNadj3)\n",
        "\n",
        "doc_topic4 = model_Nadj4.doc_topic_\n",
        "doc_labels4 = np.array(preproc4_smallerNadj.doc_labels)\n",
        "topic_words4 = model_Nadj4.topic_word_\n",
        "\n",
        "doc_lengths_sm4 = doc_lengths(dtm_smNadj4)\n",
        "\n",
        "doc_topic5 = model_Nadj5.doc_topic_\n",
        "doc_labels5 = np.array(preproc5_smallerNadj.doc_labels)\n",
        "topic_words5 = model_Nadj5.topic_word_\n",
        "\n",
        "doc_lengths_sm5 = doc_lengths(dtm_smNadj5)\n",
        "\n",
        "\n",
        "print(len(doc_topic))\n",
        "print(len(doc_lengths_sm))\n",
        "\n",
        "#remove uncommon words processing\n",
        "topic_labels = generate_topic_labels_from_top_words(\n",
        "    topic_words,\n",
        "    doc_topic,\n",
        "    doc_lengths_sm,\n",
        "    vocab_Nadj,\n",
        "    lambda_ = .1\n",
        ")\n",
        "\n",
        "topic_labels2 = generate_topic_labels_from_top_words(\n",
        "    topic_words2,\n",
        "    doc_topic2,\n",
        "    doc_lengths_sm2,\n",
        "    vocab_Nadj2,\n",
        "    lambda_ = .1\n",
        ")\n",
        "\n",
        "topic_labels3 = generate_topic_labels_from_top_words(\n",
        "    topic_words3,\n",
        "    doc_topic3,\n",
        "    doc_lengths_sm3,\n",
        "    vocab_Nadj3,\n",
        "    lambda_ = .1\n",
        ")\n",
        "\n",
        "topic_labels4 = generate_topic_labels_from_top_words(\n",
        "    topic_words4,\n",
        "    doc_topic4,\n",
        "    doc_lengths_sm4,\n",
        "    vocab_Nadj4,\n",
        "    lambda_ = .1\n",
        ")\n",
        "\n",
        "topic_labels5 = generate_topic_labels_from_top_words(\n",
        "    topic_words5,\n",
        "    doc_topic5,\n",
        "    doc_lengths_sm5,\n",
        "    vocab_Nadj5,\n",
        "    lambda_ = .1\n",
        ")\n",
        "\n",
        "#lower lambda more words\n",
        "documentclassifications = ldamodel_top_doc_topics(doc_topic, doc_labels, top_n = 2, topic_labels=topic_labels)\n",
        "\n",
        "for index, arow in documentclassifications.iterrows():\n",
        "  documentclassifications.set_value(index, 'text', corpus1[index])\n",
        "\n",
        "documentclassifications2 = ldamodel_top_doc_topics(doc_topic2, doc_labels2, top_n = 2, topic_labels=topic_labels2)\n",
        "\n",
        "for index, arow in documentclassifications2.iterrows():\n",
        "  documentclassifications2.set_value(index, 'text', corpus2[index])  \n",
        "\n",
        "documentclassifications3 = ldamodel_top_doc_topics(doc_topic3, doc_labels3, top_n = 2, topic_labels=topic_labels3)\n",
        "\n",
        "for index, arow in documentclassifications3.iterrows():\n",
        "  documentclassifications3.set_value(index, 'text', corpus3[index])  \n",
        "\n",
        "documentclassifications4 = ldamodel_top_doc_topics(doc_topic4, doc_labels4, top_n = 2, topic_labels=topic_labels4)\n",
        "\n",
        "for index, arow in documentclassifications4.iterrows():\n",
        "  documentclassifications4.set_value(index, 'text', corpus4[index])  \n",
        "\n",
        "documentclassifications5 = ldamodel_top_doc_topics(doc_topic5, doc_labels5, top_n = 2, topic_labels=topic_labels5)\n",
        "\n",
        "for index, arow in documentclassifications5.iterrows():\n",
        "  documentclassifications5.set_value(index, 'text', corpus5[index]) \n"
      ],
      "execution_count": 0,
      "outputs": [
        {
          "output_type": "stream",
          "text": [
            "<lda.lda.LDA object at 0x7f4b0a8702b0>\n",
            "2048\n",
            "2048\n"
          ],
          "name": "stdout"
        }
      ]
    },
    {
      "cell_type": "code",
      "metadata": {
        "id": "vD0ftk1dcrOZ",
        "colab_type": "code",
        "outputId": "01b9643c-12f5-4762-8767-4f27922aae49",
        "colab": {
          "base_uri": "https://localhost:8080/",
          "height": 450
        }
      },
      "source": [
        "documentclassifications"
      ],
      "execution_count": 0,
      "outputs": [
        {
          "output_type": "execute_result",
          "data": {
            "text/html": [
              "<div>\n",
              "<style scoped>\n",
              "    .dataframe tbody tr th:only-of-type {\n",
              "        vertical-align: middle;\n",
              "    }\n",
              "\n",
              "    .dataframe tbody tr th {\n",
              "        vertical-align: top;\n",
              "    }\n",
              "\n",
              "    .dataframe thead th {\n",
              "        text-align: right;\n",
              "    }\n",
              "</style>\n",
              "<table border=\"1\" class=\"dataframe\">\n",
              "  <thead>\n",
              "    <tr style=\"text-align: right;\">\n",
              "      <th></th>\n",
              "      <th>rank_1</th>\n",
              "      <th>rank_2</th>\n",
              "      <th>text</th>\n",
              "    </tr>\n",
              "    <tr>\n",
              "      <th>document</th>\n",
              "      <th></th>\n",
              "      <th></th>\n",
              "      <th></th>\n",
              "    </tr>\n",
              "  </thead>\n",
              "  <tbody>\n",
              "    <tr>\n",
              "      <th>0</th>\n",
              "      <td>7_customer (0.3649)</td>\n",
              "      <td>4_size (0.3649)</td>\n",
              "      <td>I went to put my crocs on and could not fit in...</td>\n",
              "    </tr>\n",
              "    <tr>\n",
              "      <th>1</th>\n",
              "      <td>7_customer (0.698)</td>\n",
              "      <td>4_size (0.1535)</td>\n",
              "      <td>BUYER BEWARE: Unless you're never going to acc...</td>\n",
              "    </tr>\n",
              "    <tr>\n",
              "      <th>10</th>\n",
              "      <td>3_old (0.6302)</td>\n",
              "      <td>12_relief (0.1615)</td>\n",
              "      <td>I was very dissapointed with this product.  I ...</td>\n",
              "    </tr>\n",
              "    <tr>\n",
              "      <th>100</th>\n",
              "      <td>11_wide (0.3387)</td>\n",
              "      <td>8_flop (0.3387)</td>\n",
              "      <td>The button on the side popped off as soon as I...</td>\n",
              "    </tr>\n",
              "    <tr>\n",
              "      <th>1000</th>\n",
              "      <td>8_flop (0.8125)</td>\n",
              "      <td>6_hour (0.09821)</td>\n",
              "      <td>I have worn Crocs sandals for years, and loved...</td>\n",
              "    </tr>\n",
              "    <tr>\n",
              "      <th>...</th>\n",
              "      <td>...</td>\n",
              "      <td>...</td>\n",
              "      <td>...</td>\n",
              "    </tr>\n",
              "    <tr>\n",
              "      <th>995</th>\n",
              "      <td>8_flop (0.9225)</td>\n",
              "      <td>12_relief (0.007042)</td>\n",
              "      <td>I really liked these flip flops. They fit well...</td>\n",
              "    </tr>\n",
              "    <tr>\n",
              "      <th>996</th>\n",
              "      <td>8_flop (0.6287)</td>\n",
              "      <td>7_customer (0.261)</td>\n",
              "      <td>I have had 3 other pairs of Crocs Sandal (this...</td>\n",
              "    </tr>\n",
              "    <tr>\n",
              "      <th>997</th>\n",
              "      <td>3_old (0.936)</td>\n",
              "      <td>12_relief (0.005814)</td>\n",
              "      <td>On third day the strap broke. Am awaiting a re...</td>\n",
              "    </tr>\n",
              "    <tr>\n",
              "      <th>998</th>\n",
              "      <td>3_old (0.4296)</td>\n",
              "      <td>1_boot (0.3592)</td>\n",
              "      <td>I have had crocs for years with my family, but...</td>\n",
              "    </tr>\n",
              "    <tr>\n",
              "      <th>999</th>\n",
              "      <td>3_old (0.5694)</td>\n",
              "      <td>5_white (0.2917)</td>\n",
              "      <td>Mine fell apart within the first two weeks. Ve...</td>\n",
              "    </tr>\n",
              "  </tbody>\n",
              "</table>\n",
              "<p>2048 rows × 3 columns</p>\n",
              "</div>"
            ],
            "text/plain": [
              "                       rank_1  ...                                               text\n",
              "document                       ...                                                   \n",
              "0         7_customer (0.3649)  ...  I went to put my crocs on and could not fit in...\n",
              "1          7_customer (0.698)  ...  BUYER BEWARE: Unless you're never going to acc...\n",
              "10             3_old (0.6302)  ...  I was very dissapointed with this product.  I ...\n",
              "100          11_wide (0.3387)  ...  The button on the side popped off as soon as I...\n",
              "1000          8_flop (0.8125)  ...  I have worn Crocs sandals for years, and loved...\n",
              "...                       ...  ...                                                ...\n",
              "995           8_flop (0.9225)  ...  I really liked these flip flops. They fit well...\n",
              "996           8_flop (0.6287)  ...  I have had 3 other pairs of Crocs Sandal (this...\n",
              "997             3_old (0.936)  ...  On third day the strap broke. Am awaiting a re...\n",
              "998            3_old (0.4296)  ...  I have had crocs for years with my family, but...\n",
              "999            3_old (0.5694)  ...  Mine fell apart within the first two weeks. Ve...\n",
              "\n",
              "[2048 rows x 3 columns]"
            ]
          },
          "metadata": {
            "tags": []
          },
          "execution_count": 82
        }
      ]
    },
    {
      "cell_type": "code",
      "metadata": {
        "id": "BtK7txMluIei",
        "colab_type": "code",
        "outputId": "f6314ec3-3aa8-4bc2-9edd-31ffd1e53232",
        "colab": {
          "base_uri": "https://localhost:8080/",
          "height": 450
        }
      },
      "source": [
        "documentclassifications2"
      ],
      "execution_count": 0,
      "outputs": [
        {
          "output_type": "execute_result",
          "data": {
            "text/html": [
              "<div>\n",
              "<style scoped>\n",
              "    .dataframe tbody tr th:only-of-type {\n",
              "        vertical-align: middle;\n",
              "    }\n",
              "\n",
              "    .dataframe tbody tr th {\n",
              "        vertical-align: top;\n",
              "    }\n",
              "\n",
              "    .dataframe thead th {\n",
              "        text-align: right;\n",
              "    }\n",
              "</style>\n",
              "<table border=\"1\" class=\"dataframe\">\n",
              "  <thead>\n",
              "    <tr style=\"text-align: right;\">\n",
              "      <th></th>\n",
              "      <th>rank_1</th>\n",
              "      <th>rank_2</th>\n",
              "      <th>text</th>\n",
              "    </tr>\n",
              "    <tr>\n",
              "      <th>document</th>\n",
              "      <th></th>\n",
              "      <th></th>\n",
              "      <th></th>\n",
              "    </tr>\n",
              "  </thead>\n",
              "  <tbody>\n",
              "    <tr>\n",
              "      <th>0</th>\n",
              "      <td>5_flip (0.7495)</td>\n",
              "      <td>15_floor (0.1341)</td>\n",
              "      <td>I discovered today what many people apparently...</td>\n",
              "    </tr>\n",
              "    <tr>\n",
              "      <th>1</th>\n",
              "      <td>15_floor (0.6276)</td>\n",
              "      <td>9_left (0.2828)</td>\n",
              "      <td>I've had my pair for only three weeks. I went ...</td>\n",
              "    </tr>\n",
              "    <tr>\n",
              "      <th>10</th>\n",
              "      <td>8_blister (0.408)</td>\n",
              "      <td>15_floor (0.168)</td>\n",
              "      <td>I wore these shoes for 1 day working in the ga...</td>\n",
              "    </tr>\n",
              "    <tr>\n",
              "      <th>100</th>\n",
              "      <td>3_mexico (0.4519)</td>\n",
              "      <td>10_men (0.2296)</td>\n",
              "      <td>These Crocs are one size too big, very inconsi...</td>\n",
              "    </tr>\n",
              "    <tr>\n",
              "      <th>1000</th>\n",
              "      <td>9_left (0.6)</td>\n",
              "      <td>11_sandal (0.2471)</td>\n",
              "      <td>I was somewhat disappointed with this sandal. ...</td>\n",
              "    </tr>\n",
              "    <tr>\n",
              "      <th>...</th>\n",
              "      <td>...</td>\n",
              "      <td>...</td>\n",
              "      <td>...</td>\n",
              "    </tr>\n",
              "    <tr>\n",
              "      <th>995</th>\n",
              "      <td>12_color (0.8133)</td>\n",
              "      <td>15_floor (0.01333)</td>\n",
              "      <td>This product belongs on feet bigger than mine ...</td>\n",
              "    </tr>\n",
              "    <tr>\n",
              "      <th>996</th>\n",
              "      <td>2_front (0.4969)</td>\n",
              "      <td>8_blister (0.1876)</td>\n",
              "      <td>(This is my wife's review) These were tight ac...</td>\n",
              "    </tr>\n",
              "    <tr>\n",
              "      <th>997</th>\n",
              "      <td>15_floor (0.7043)</td>\n",
              "      <td>12_color (0.09565)</td>\n",
              "      <td>My wife has had 2 pair of Cleos that she wore ...</td>\n",
              "    </tr>\n",
              "    <tr>\n",
              "      <th>998</th>\n",
              "      <td>9_left (0.4233)</td>\n",
              "      <td>13_support (0.3302)</td>\n",
              "      <td>I should have believed the other reviews on th...</td>\n",
              "    </tr>\n",
              "    <tr>\n",
              "      <th>999</th>\n",
              "      <td>11_sandal (0.6)</td>\n",
              "      <td>15_floor (0.02857)</td>\n",
              "      <td>These sandals are pretty, but they aren't as c...</td>\n",
              "    </tr>\n",
              "  </tbody>\n",
              "</table>\n",
              "<p>2737 rows × 3 columns</p>\n",
              "</div>"
            ],
            "text/plain": [
              "                     rank_1  ...                                               text\n",
              "document                     ...                                                   \n",
              "0           5_flip (0.7495)  ...  I discovered today what many people apparently...\n",
              "1         15_floor (0.6276)  ...  I've had my pair for only three weeks. I went ...\n",
              "10        8_blister (0.408)  ...  I wore these shoes for 1 day working in the ga...\n",
              "100       3_mexico (0.4519)  ...  These Crocs are one size too big, very inconsi...\n",
              "1000           9_left (0.6)  ...  I was somewhat disappointed with this sandal. ...\n",
              "...                     ...  ...                                                ...\n",
              "995       12_color (0.8133)  ...  This product belongs on feet bigger than mine ...\n",
              "996        2_front (0.4969)  ...  (This is my wife's review) These were tight ac...\n",
              "997       15_floor (0.7043)  ...  My wife has had 2 pair of Cleos that she wore ...\n",
              "998         9_left (0.4233)  ...  I should have believed the other reviews on th...\n",
              "999         11_sandal (0.6)  ...  These sandals are pretty, but they aren't as c...\n",
              "\n",
              "[2737 rows x 3 columns]"
            ]
          },
          "metadata": {
            "tags": []
          },
          "execution_count": 83
        }
      ]
    },
    {
      "cell_type": "code",
      "metadata": {
        "id": "hNPkJ9pBdcvA",
        "colab_type": "code",
        "outputId": "82f9cab1-d35b-436e-ba33-0aa8d7b25fa0",
        "colab": {
          "base_uri": "https://localhost:8080/",
          "height": 71
        }
      },
      "source": [
        "print('Results:')\n",
        "lookup = documentclassifications[documentclassifications['text'].str.contains('sun')]\n",
        "print([lookup['text'].iloc[0], lookup['rank_1'].iloc[0]])\n",
        "\n",
        "#.36 cutoff"
      ],
      "execution_count": 0,
      "outputs": [
        {
          "output_type": "stream",
          "text": [
            "Results:\n",
            "[\"BUYER BEWARE: Unless you're never going to accidently leave these out in the sun or in your car on a hot day, don't buy them.  They shrink up like a wool sweater in the dryer. My pair shrunk almost 2 sizes. They're worthless to me now.I hope word of mouth spreads about this shrinkage problem and Crocs either improves their warranty or goes out of business.\", '7_customer (0.698)']\n"
          ],
          "name": "stdout"
        }
      ]
    },
    {
      "cell_type": "code",
      "metadata": {
        "id": "GAlZtlR8d2C7",
        "colab_type": "code",
        "colab": {}
      },
      "source": [
        "documentclassifications.to_excel('drive/My Drive/Colab Notebooks/Topic Modeling/crocstopic.documentclassifications1.xlsx')\n",
        "documentclassifications2.to_excel('drive/My Drive/Colab Notebooks/Topic Modeling/crocstopic.documentclassifications2.xlsx')\n",
        "documentclassifications3.to_excel('drive/My Drive/Colab Notebooks/Topic Modeling/crocstopic.documentclassifications3.xlsx')\n",
        "documentclassifications4.to_excel('drive/My Drive/Colab Notebooks/Topic Modeling/crocstopic.documentclassifications4.xlsx')\n",
        "documentclassifications5.to_excel('drive/My Drive/Colab Notebooks/Topic Modeling/crocstopic.documentclassifications5.xlsx')\n"
      ],
      "execution_count": 0,
      "outputs": []
    }
  ]
}