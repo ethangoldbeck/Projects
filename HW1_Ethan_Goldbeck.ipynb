{
  "nbformat": 4,
  "nbformat_minor": 0,
  "metadata": {
    "colab": {
      "name": "HW1 Ethan Goldbeck.ipynb",
      "provenance": [],
      "collapsed_sections": [],
      "include_colab_link": true
    },
    "kernelspec": {
      "name": "python3",
      "display_name": "Python 3"
    }
  },
  "cells": [
    {
      "cell_type": "markdown",
      "metadata": {
        "id": "view-in-github",
        "colab_type": "text"
      },
      "source": [
        "<a href=\"https://colab.research.google.com/github/ethangoldbeck/grit-hub/blob/master/HW1_Ethan_Goldbeck.ipynb\" target=\"_parent\"><img src=\"https://colab.research.google.com/assets/colab-badge.svg\" alt=\"Open In Colab\"/></a>"
      ]
    },
    {
      "cell_type": "code",
      "metadata": {
        "id": "P6HOodJeZ0fO",
        "colab_type": "code",
        "colab": {}
      },
      "source": [
        "import pandas as pd\n",
        "import seaborn as sns\n",
        "DATA_URL = 'http://128.138.93.164/aprd6342/data/TravelPonyFacebook.csv'\n",
        "df = pd.read_csv(DATA_URL)\n",
        "import statsmodels.api as sm\n",
        "import datetime"
      ],
      "execution_count": 0,
      "outputs": []
    },
    {
      "cell_type": "code",
      "metadata": {
        "id": "Jzb7vppiaLNa",
        "colab_type": "code",
        "outputId": "03448870-ee57-4252-c249-56e45c657e03",
        "colab": {
          "base_uri": "https://localhost:8080/",
          "height": 153
        }
      },
      "source": [
        "print( df[['Amount Spent (USD)','Reach','Frequency', 'Unique Clicks', 'Page Likes']].corr())"
      ],
      "execution_count": 0,
      "outputs": [
        {
          "output_type": "stream",
          "text": [
            "                    Amount Spent (USD)     Reach  ...  Unique Clicks  Page Likes\n",
            "Amount Spent (USD)            1.000000  0.703124  ...       0.882993    0.757612\n",
            "Reach                         0.703124  1.000000  ...       0.722249    0.304388\n",
            "Frequency                     0.130201  0.334101  ...       0.135103    0.000182\n",
            "Unique Clicks                 0.882993  0.722249  ...       1.000000    0.584614\n",
            "Page Likes                    0.757612  0.304388  ...       0.584614    1.000000\n",
            "\n",
            "[5 rows x 5 columns]\n"
          ],
          "name": "stdout"
        }
      ]
    },
    {
      "cell_type": "code",
      "metadata": {
        "id": "QmwzruAWe4OR",
        "colab_type": "code",
        "outputId": "d68db2dd-71ba-41d8-ed30-f54fb6ced027",
        "colab": {
          "base_uri": "https://localhost:8080/",
          "height": 164
        }
      },
      "source": [
        "df.head()"
      ],
      "execution_count": 0,
      "outputs": [
        {
          "output_type": "error",
          "ename": "NameError",
          "evalue": "ignored",
          "traceback": [
            "\u001b[0;31m---------------------------------------------------------------------------\u001b[0m",
            "\u001b[0;31mNameError\u001b[0m                                 Traceback (most recent call last)",
            "\u001b[0;32m<ipython-input-4-c42a15b2c7cf>\u001b[0m in \u001b[0;36m<module>\u001b[0;34m()\u001b[0m\n\u001b[0;32m----> 1\u001b[0;31m \u001b[0mdf\u001b[0m\u001b[0;34m.\u001b[0m\u001b[0mhead\u001b[0m\u001b[0;34m(\u001b[0m\u001b[0;34m)\u001b[0m\u001b[0;34m\u001b[0m\u001b[0;34m\u001b[0m\u001b[0m\n\u001b[0m",
            "\u001b[0;31mNameError\u001b[0m: name 'df' is not defined"
          ]
        }
      ]
    },
    {
      "cell_type": "code",
      "metadata": {
        "id": "Ens0w0e1gblp",
        "colab_type": "code",
        "colab": {}
      },
      "source": [
        "df['Cost Per Impression'] = df['Amount Spent (USD)']/df['Impressions']"
      ],
      "execution_count": 0,
      "outputs": []
    },
    {
      "cell_type": "code",
      "metadata": {
        "id": "7dIGwhUojMqw",
        "colab_type": "code",
        "outputId": "205022b9-e990-46e9-89e8-32e7a7322f60",
        "colab": {
          "base_uri": "https://localhost:8080/",
          "height": 164
        }
      },
      "source": [
        "df['Campaign Name']"
      ],
      "execution_count": 0,
      "outputs": [
        {
          "output_type": "error",
          "ename": "NameError",
          "evalue": "ignored",
          "traceback": [
            "\u001b[0;31m---------------------------------------------------------------------------\u001b[0m",
            "\u001b[0;31mNameError\u001b[0m                                 Traceback (most recent call last)",
            "\u001b[0;32m<ipython-input-3-72fd5ded6c30>\u001b[0m in \u001b[0;36m<module>\u001b[0;34m()\u001b[0m\n\u001b[0;32m----> 1\u001b[0;31m \u001b[0mdf\u001b[0m\u001b[0;34m[\u001b[0m\u001b[0;34m'Campaign Name'\u001b[0m\u001b[0;34m]\u001b[0m\u001b[0;34m\u001b[0m\u001b[0;34m\u001b[0m\u001b[0m\n\u001b[0m",
            "\u001b[0;31mNameError\u001b[0m: name 'df' is not defined"
          ]
        }
      ]
    },
    {
      "cell_type": "code",
      "metadata": {
        "id": "wIP3elKrhZHL",
        "colab_type": "code",
        "outputId": "f3c0e7dd-4d2d-4b1d-d748-4ccb5f04526b",
        "colab": {
          "base_uri": "https://localhost:8080/",
          "height": 102
        }
      },
      "source": [
        "for x in range(0,3705):\n",
        "  ts = pd.Timestamp(df['Start Date'][x])\n",
        "  df['DayName'][x] = ts.day_name()"
      ],
      "execution_count": 0,
      "outputs": [
        {
          "output_type": "stream",
          "text": [
            "/usr/local/lib/python3.6/dist-packages/ipykernel_launcher.py:3: SettingWithCopyWarning: \n",
            "A value is trying to be set on a copy of a slice from a DataFrame\n",
            "\n",
            "See the caveats in the documentation: http://pandas.pydata.org/pandas-docs/stable/user_guide/indexing.html#returning-a-view-versus-a-copy\n",
            "  This is separate from the ipykernel package so we can avoid doing imports until\n"
          ],
          "name": "stderr"
        }
      ]
    },
    {
      "cell_type": "code",
      "metadata": {
        "id": "WqrTKLHlk2x3",
        "colab_type": "code",
        "outputId": "71e80b48-b375-4017-ee52-2a15683aba05",
        "colab": {
          "base_uri": "https://localhost:8080/",
          "height": 394
        }
      },
      "source": [
        "df.head()"
      ],
      "execution_count": 0,
      "outputs": [
        {
          "output_type": "execute_result",
          "data": {
            "text/html": [
              "<div>\n",
              "<style scoped>\n",
              "    .dataframe tbody tr th:only-of-type {\n",
              "        vertical-align: middle;\n",
              "    }\n",
              "\n",
              "    .dataframe tbody tr th {\n",
              "        vertical-align: top;\n",
              "    }\n",
              "\n",
              "    .dataframe thead th {\n",
              "        text-align: right;\n",
              "    }\n",
              "</style>\n",
              "<table border=\"1\" class=\"dataframe\">\n",
              "  <thead>\n",
              "    <tr style=\"text-align: right;\">\n",
              "      <th></th>\n",
              "      <th>Start Date</th>\n",
              "      <th>End Date</th>\n",
              "      <th>Account</th>\n",
              "      <th>Campaign Name</th>\n",
              "      <th>Reach</th>\n",
              "      <th>Frequency</th>\n",
              "      <th>Impressions</th>\n",
              "      <th>Clicks</th>\n",
              "      <th>Unique Clicks</th>\n",
              "      <th>Amount Spent (USD)</th>\n",
              "      <th>Page Likes</th>\n",
              "      <th>Page Engagement</th>\n",
              "      <th>Post Engagement</th>\n",
              "      <th>Post Likes</th>\n",
              "      <th>Post Comments</th>\n",
              "      <th>Post Shares</th>\n",
              "      <th>Photo Views</th>\n",
              "      <th>Website Clicks</th>\n",
              "      <th>Cost per Page Like (USD)</th>\n",
              "      <th>Cost per Page Engagement (USD)</th>\n",
              "      <th>Cost Per Impression</th>\n",
              "      <th>DayName</th>\n",
              "    </tr>\n",
              "  </thead>\n",
              "  <tbody>\n",
              "    <tr>\n",
              "      <th>0</th>\n",
              "      <td>2013-12-02</td>\n",
              "      <td>2013-12-02</td>\n",
              "      <td>Bob Jackson</td>\n",
              "      <td>Cyber Weekend</td>\n",
              "      <td>278117</td>\n",
              "      <td>2.314303</td>\n",
              "      <td>643647</td>\n",
              "      <td>336</td>\n",
              "      <td>313</td>\n",
              "      <td>300.00</td>\n",
              "      <td>3</td>\n",
              "      <td>246</td>\n",
              "      <td>243</td>\n",
              "      <td>0</td>\n",
              "      <td>0</td>\n",
              "      <td>0</td>\n",
              "      <td>0</td>\n",
              "      <td>243</td>\n",
              "      <td>100.00</td>\n",
              "      <td>1.219512</td>\n",
              "      <td>0.000466</td>\n",
              "      <td>Monday</td>\n",
              "    </tr>\n",
              "    <tr>\n",
              "      <th>1</th>\n",
              "      <td>2013-12-01</td>\n",
              "      <td>2013-12-01</td>\n",
              "      <td>Bob Jackson</td>\n",
              "      <td>Cyber Weekend</td>\n",
              "      <td>221255</td>\n",
              "      <td>2.079090</td>\n",
              "      <td>460009</td>\n",
              "      <td>376</td>\n",
              "      <td>348</td>\n",
              "      <td>300.00</td>\n",
              "      <td>6</td>\n",
              "      <td>215</td>\n",
              "      <td>209</td>\n",
              "      <td>0</td>\n",
              "      <td>0</td>\n",
              "      <td>0</td>\n",
              "      <td>0</td>\n",
              "      <td>209</td>\n",
              "      <td>50.00</td>\n",
              "      <td>1.395349</td>\n",
              "      <td>0.000652</td>\n",
              "      <td>Sunday</td>\n",
              "    </tr>\n",
              "    <tr>\n",
              "      <th>2</th>\n",
              "      <td>2013-11-30</td>\n",
              "      <td>2013-11-30</td>\n",
              "      <td>Bob Jackson</td>\n",
              "      <td>Cyber Weekend</td>\n",
              "      <td>267915</td>\n",
              "      <td>2.499069</td>\n",
              "      <td>669538</td>\n",
              "      <td>383</td>\n",
              "      <td>345</td>\n",
              "      <td>300.00</td>\n",
              "      <td>2</td>\n",
              "      <td>252</td>\n",
              "      <td>250</td>\n",
              "      <td>0</td>\n",
              "      <td>0</td>\n",
              "      <td>0</td>\n",
              "      <td>0</td>\n",
              "      <td>250</td>\n",
              "      <td>150.00</td>\n",
              "      <td>1.190476</td>\n",
              "      <td>0.000448</td>\n",
              "      <td>Saturday</td>\n",
              "    </tr>\n",
              "    <tr>\n",
              "      <th>3</th>\n",
              "      <td>2013-11-29</td>\n",
              "      <td>2013-11-29</td>\n",
              "      <td>Bob Jackson</td>\n",
              "      <td>Cyber Weekend</td>\n",
              "      <td>280332</td>\n",
              "      <td>2.365406</td>\n",
              "      <td>663099</td>\n",
              "      <td>301</td>\n",
              "      <td>275</td>\n",
              "      <td>300.00</td>\n",
              "      <td>3</td>\n",
              "      <td>257</td>\n",
              "      <td>254</td>\n",
              "      <td>0</td>\n",
              "      <td>0</td>\n",
              "      <td>0</td>\n",
              "      <td>0</td>\n",
              "      <td>254</td>\n",
              "      <td>100.00</td>\n",
              "      <td>1.167315</td>\n",
              "      <td>0.000452</td>\n",
              "      <td>Friday</td>\n",
              "    </tr>\n",
              "    <tr>\n",
              "      <th>4</th>\n",
              "      <td>2013-11-22</td>\n",
              "      <td>2013-11-22</td>\n",
              "      <td>Bob Jackson</td>\n",
              "      <td>TravelPony: General Ads</td>\n",
              "      <td>14269</td>\n",
              "      <td>1.000420</td>\n",
              "      <td>14275</td>\n",
              "      <td>64</td>\n",
              "      <td>61</td>\n",
              "      <td>35.18</td>\n",
              "      <td>2</td>\n",
              "      <td>14</td>\n",
              "      <td>12</td>\n",
              "      <td>0</td>\n",
              "      <td>0</td>\n",
              "      <td>0</td>\n",
              "      <td>0</td>\n",
              "      <td>12</td>\n",
              "      <td>17.59</td>\n",
              "      <td>2.512857</td>\n",
              "      <td>0.002464</td>\n",
              "      <td>Friday</td>\n",
              "    </tr>\n",
              "  </tbody>\n",
              "</table>\n",
              "</div>"
            ],
            "text/plain": [
              "   Start Date    End Date  ... Cost Per Impression   DayName\n",
              "0  2013-12-02  2013-12-02  ...            0.000466    Monday\n",
              "1  2013-12-01  2013-12-01  ...            0.000652    Sunday\n",
              "2  2013-11-30  2013-11-30  ...            0.000448  Saturday\n",
              "3  2013-11-29  2013-11-29  ...            0.000452    Friday\n",
              "4  2013-11-22  2013-11-22  ...            0.002464    Friday\n",
              "\n",
              "[5 rows x 22 columns]"
            ]
          },
          "metadata": {
            "tags": []
          },
          "execution_count": 24
        }
      ]
    },
    {
      "cell_type": "code",
      "metadata": {
        "id": "zOQYdMWMbssh",
        "colab_type": "code",
        "colab": {}
      },
      "source": [
        "pivoteddata = df.pivot_table(index='DayName', aggfunc='mean')"
      ],
      "execution_count": 0,
      "outputs": []
    },
    {
      "cell_type": "code",
      "metadata": {
        "id": "531GdnFdivML",
        "colab_type": "code",
        "outputId": "74516fed-fca7-4078-9538-99c77e90a770",
        "colab": {
          "base_uri": "https://localhost:8080/",
          "height": 385
        }
      },
      "source": [
        "pivoteddata"
      ],
      "execution_count": 0,
      "outputs": [
        {
          "output_type": "execute_result",
          "data": {
            "text/html": [
              "<div>\n",
              "<style scoped>\n",
              "    .dataframe tbody tr th:only-of-type {\n",
              "        vertical-align: middle;\n",
              "    }\n",
              "\n",
              "    .dataframe tbody tr th {\n",
              "        vertical-align: top;\n",
              "    }\n",
              "\n",
              "    .dataframe thead th {\n",
              "        text-align: right;\n",
              "    }\n",
              "</style>\n",
              "<table border=\"1\" class=\"dataframe\">\n",
              "  <thead>\n",
              "    <tr style=\"text-align: right;\">\n",
              "      <th></th>\n",
              "      <th>Amount Spent (USD)</th>\n",
              "      <th>Clicks</th>\n",
              "      <th>Cost Per Impression</th>\n",
              "      <th>Cost per Page Engagement (USD)</th>\n",
              "      <th>Cost per Page Like (USD)</th>\n",
              "      <th>Frequency</th>\n",
              "      <th>Impressions</th>\n",
              "      <th>Page Engagement</th>\n",
              "      <th>Page Likes</th>\n",
              "      <th>Photo Views</th>\n",
              "      <th>Post Comments</th>\n",
              "      <th>Post Engagement</th>\n",
              "      <th>Post Likes</th>\n",
              "      <th>Post Shares</th>\n",
              "      <th>Reach</th>\n",
              "      <th>Unique Clicks</th>\n",
              "      <th>Website Clicks</th>\n",
              "    </tr>\n",
              "    <tr>\n",
              "      <th>DayName</th>\n",
              "      <th></th>\n",
              "      <th></th>\n",
              "      <th></th>\n",
              "      <th></th>\n",
              "      <th></th>\n",
              "      <th></th>\n",
              "      <th></th>\n",
              "      <th></th>\n",
              "      <th></th>\n",
              "      <th></th>\n",
              "      <th></th>\n",
              "      <th></th>\n",
              "      <th></th>\n",
              "      <th></th>\n",
              "      <th></th>\n",
              "      <th></th>\n",
              "      <th></th>\n",
              "    </tr>\n",
              "  </thead>\n",
              "  <tbody>\n",
              "    <tr>\n",
              "      <th>Friday</th>\n",
              "      <td>10.014741</td>\n",
              "      <td>10.147410</td>\n",
              "      <td>0.004097</td>\n",
              "      <td>0.476606</td>\n",
              "      <td>2.475714</td>\n",
              "      <td>1.012024</td>\n",
              "      <td>3037.984064</td>\n",
              "      <td>10.635458</td>\n",
              "      <td>0.844622</td>\n",
              "      <td>4.745020</td>\n",
              "      <td>0.051793</td>\n",
              "      <td>9.790837</td>\n",
              "      <td>1.424303</td>\n",
              "      <td>0.250996</td>\n",
              "      <td>2238.474104</td>\n",
              "      <td>8.848606</td>\n",
              "      <td>3.318725</td>\n",
              "    </tr>\n",
              "    <tr>\n",
              "      <th>Monday</th>\n",
              "      <td>7.427097</td>\n",
              "      <td>7.536503</td>\n",
              "      <td>0.002910</td>\n",
              "      <td>0.492924</td>\n",
              "      <td>2.273947</td>\n",
              "      <td>1.017603</td>\n",
              "      <td>2525.074703</td>\n",
              "      <td>7.634975</td>\n",
              "      <td>0.670628</td>\n",
              "      <td>2.994907</td>\n",
              "      <td>0.040747</td>\n",
              "      <td>6.964346</td>\n",
              "      <td>1.095076</td>\n",
              "      <td>0.225806</td>\n",
              "      <td>1842.864177</td>\n",
              "      <td>6.521222</td>\n",
              "      <td>2.607810</td>\n",
              "    </tr>\n",
              "    <tr>\n",
              "      <th>Saturday</th>\n",
              "      <td>9.625511</td>\n",
              "      <td>10.014028</td>\n",
              "      <td>0.002629</td>\n",
              "      <td>0.415395</td>\n",
              "      <td>2.650510</td>\n",
              "      <td>1.014517</td>\n",
              "      <td>3152.184369</td>\n",
              "      <td>9.573146</td>\n",
              "      <td>0.923848</td>\n",
              "      <td>3.595190</td>\n",
              "      <td>0.048096</td>\n",
              "      <td>8.649299</td>\n",
              "      <td>1.102204</td>\n",
              "      <td>0.212425</td>\n",
              "      <td>2281.755511</td>\n",
              "      <td>8.857715</td>\n",
              "      <td>3.691383</td>\n",
              "    </tr>\n",
              "    <tr>\n",
              "      <th>Sunday</th>\n",
              "      <td>9.676534</td>\n",
              "      <td>9.981092</td>\n",
              "      <td>0.003688</td>\n",
              "      <td>0.491080</td>\n",
              "      <td>2.475630</td>\n",
              "      <td>1.016073</td>\n",
              "      <td>2775.644958</td>\n",
              "      <td>8.794118</td>\n",
              "      <td>0.831933</td>\n",
              "      <td>3.220588</td>\n",
              "      <td>0.029412</td>\n",
              "      <td>7.960084</td>\n",
              "      <td>0.962185</td>\n",
              "      <td>0.218487</td>\n",
              "      <td>2203.596639</td>\n",
              "      <td>8.808824</td>\n",
              "      <td>3.529412</td>\n",
              "    </tr>\n",
              "    <tr>\n",
              "      <th>Thursday</th>\n",
              "      <td>7.640209</td>\n",
              "      <td>8.054007</td>\n",
              "      <td>0.003398</td>\n",
              "      <td>0.560598</td>\n",
              "      <td>2.230755</td>\n",
              "      <td>1.011668</td>\n",
              "      <td>1449.837979</td>\n",
              "      <td>8.634146</td>\n",
              "      <td>0.855401</td>\n",
              "      <td>4.012195</td>\n",
              "      <td>0.094077</td>\n",
              "      <td>7.778746</td>\n",
              "      <td>1.371080</td>\n",
              "      <td>0.200348</td>\n",
              "      <td>1413.081882</td>\n",
              "      <td>6.980836</td>\n",
              "      <td>2.101045</td>\n",
              "    </tr>\n",
              "    <tr>\n",
              "      <th>Tuesday</th>\n",
              "      <td>9.455084</td>\n",
              "      <td>9.419831</td>\n",
              "      <td>0.003040</td>\n",
              "      <td>0.592907</td>\n",
              "      <td>2.510189</td>\n",
              "      <td>1.012193</td>\n",
              "      <td>1926.738397</td>\n",
              "      <td>9.679325</td>\n",
              "      <td>1.094937</td>\n",
              "      <td>3.877637</td>\n",
              "      <td>0.065401</td>\n",
              "      <td>8.584388</td>\n",
              "      <td>1.280591</td>\n",
              "      <td>0.202532</td>\n",
              "      <td>1889.215190</td>\n",
              "      <td>8.151899</td>\n",
              "      <td>3.158228</td>\n",
              "    </tr>\n",
              "    <tr>\n",
              "      <th>Wednesday</th>\n",
              "      <td>7.956024</td>\n",
              "      <td>7.781726</td>\n",
              "      <td>0.002981</td>\n",
              "      <td>0.539237</td>\n",
              "      <td>2.067530</td>\n",
              "      <td>1.009059</td>\n",
              "      <td>1516.478849</td>\n",
              "      <td>8.131980</td>\n",
              "      <td>0.934010</td>\n",
              "      <td>3.225042</td>\n",
              "      <td>0.067682</td>\n",
              "      <td>7.197970</td>\n",
              "      <td>1.241963</td>\n",
              "      <td>0.187817</td>\n",
              "      <td>1494.235195</td>\n",
              "      <td>6.524535</td>\n",
              "      <td>2.475465</td>\n",
              "    </tr>\n",
              "  </tbody>\n",
              "</table>\n",
              "</div>"
            ],
            "text/plain": [
              "           Amount Spent (USD)     Clicks  ...  Unique Clicks  Website Clicks\n",
              "DayName                                   ...                               \n",
              "Friday              10.014741  10.147410  ...       8.848606        3.318725\n",
              "Monday               7.427097   7.536503  ...       6.521222        2.607810\n",
              "Saturday             9.625511  10.014028  ...       8.857715        3.691383\n",
              "Sunday               9.676534   9.981092  ...       8.808824        3.529412\n",
              "Thursday             7.640209   8.054007  ...       6.980836        2.101045\n",
              "Tuesday              9.455084   9.419831  ...       8.151899        3.158228\n",
              "Wednesday            7.956024   7.781726  ...       6.524535        2.475465\n",
              "\n",
              "[7 rows x 17 columns]"
            ]
          },
          "metadata": {
            "tags": []
          },
          "execution_count": 27
        }
      ]
    },
    {
      "cell_type": "code",
      "metadata": {
        "id": "x_6-eKnMbUYv",
        "colab_type": "code",
        "outputId": "08feace7-7983-401f-efe8-1cbc2cbbcbe7",
        "colab": {
          "base_uri": "https://localhost:8080/",
          "height": 476
        }
      },
      "source": [
        "target = df['Unique Clicks']\n",
        "dep = df[['Frequency','Reach']]\n",
        "\n",
        "mod = sm.OLS(target, dep)\n",
        "res = mod.fit()\n",
        "print(res.summary())"
      ],
      "execution_count": 0,
      "outputs": [
        {
          "output_type": "stream",
          "text": [
            "                                 OLS Regression Results                                \n",
            "=======================================================================================\n",
            "Dep. Variable:          Unique Clicks   R-squared (uncentered):                   0.557\n",
            "Model:                            OLS   Adj. R-squared (uncentered):              0.556\n",
            "Method:                 Least Squares   F-statistic:                              2325.\n",
            "Date:                Thu, 14 Nov 2019   Prob (F-statistic):                        0.00\n",
            "Time:                        01:43:17   Log-Likelihood:                         -15973.\n",
            "No. Observations:                3705   AIC:                                  3.195e+04\n",
            "Df Residuals:                    3703   BIC:                                  3.196e+04\n",
            "Df Model:                           2                                                  \n",
            "Covariance Type:            nonrobust                                                  \n",
            "==============================================================================\n",
            "                 coef    std err          t      P>|t|      [0.025      0.975]\n",
            "------------------------------------------------------------------------------\n",
            "Frequency      3.6139      0.298     12.109      0.000       3.029       4.199\n",
            "Reach          0.0019   3.12e-05     62.490      0.000       0.002       0.002\n",
            "==============================================================================\n",
            "Omnibus:                     5107.616   Durbin-Watson:                   0.803\n",
            "Prob(Omnibus):                  0.000   Jarque-Bera (JB):          5128392.747\n",
            "Skew:                           7.331   Prob(JB):                         0.00\n",
            "Kurtosis:                     184.674   Cond. No.                     9.84e+03\n",
            "==============================================================================\n",
            "\n",
            "Warnings:\n",
            "[1] Standard Errors assume that the covariance matrix of the errors is correctly specified.\n",
            "[2] The condition number is large, 9.84e+03. This might indicate that there are\n",
            "strong multicollinearity or other numerical problems.\n"
          ],
          "name": "stdout"
        }
      ]
    },
    {
      "cell_type": "code",
      "metadata": {
        "id": "HMRIx31idWT-",
        "colab_type": "code",
        "outputId": "9bdf0138-dc83-4adb-b290-f5b9d8e9b89e",
        "colab": {
          "base_uri": "https://localhost:8080/",
          "height": 425
        }
      },
      "source": [
        "target = df['Unique Clicks']\n",
        "dep = df[['Frequency']]\n",
        "\n",
        "mod = sm.OLS(target, dep)\n",
        "res = mod.fit()\n",
        "print(res.summary())"
      ],
      "execution_count": 0,
      "outputs": [
        {
          "output_type": "stream",
          "text": [
            "                                 OLS Regression Results                                \n",
            "=======================================================================================\n",
            "Dep. Variable:          Unique Clicks   R-squared (uncentered):                   0.089\n",
            "Model:                            OLS   Adj. R-squared (uncentered):              0.089\n",
            "Method:                 Least Squares   F-statistic:                              363.1\n",
            "Date:                Thu, 14 Nov 2019   Prob (F-statistic):                    2.64e-77\n",
            "Time:                        01:43:19   Log-Likelihood:                         -17307.\n",
            "No. Observations:                3705   AIC:                                  3.462e+04\n",
            "Df Residuals:                    3704   BIC:                                  3.462e+04\n",
            "Df Model:                           1                                                  \n",
            "Covariance Type:            nonrobust                                                  \n",
            "==============================================================================\n",
            "                 coef    std err          t      P>|t|      [0.025      0.975]\n",
            "------------------------------------------------------------------------------\n",
            "Frequency      7.9291      0.416     19.056      0.000       7.113       8.745\n",
            "==============================================================================\n",
            "Omnibus:                     5923.176   Durbin-Watson:                   0.694\n",
            "Prob(Omnibus):                  0.000   Jarque-Bera (JB):          3853539.229\n",
            "Skew:                          10.278   Prob(JB):                         0.00\n",
            "Kurtosis:                     159.651   Cond. No.                         1.00\n",
            "==============================================================================\n",
            "\n",
            "Warnings:\n",
            "[1] Standard Errors assume that the covariance matrix of the errors is correctly specified.\n"
          ],
          "name": "stdout"
        }
      ]
    },
    {
      "cell_type": "code",
      "metadata": {
        "id": "bMcl4MdZkcO2",
        "colab_type": "code",
        "outputId": "764f4c21-ecfc-41be-cc83-389dcfdda4d2",
        "colab": {
          "base_uri": "https://localhost:8080/",
          "height": 425
        }
      },
      "source": [
        "target = df['Unique Clicks']\n",
        "dep = df[['Reach']]\n",
        "\n",
        "mod = sm.OLS(target, dep)\n",
        "res = mod.fit()\n",
        "print(res.summary())"
      ],
      "execution_count": 0,
      "outputs": [
        {
          "output_type": "stream",
          "text": [
            "                                 OLS Regression Results                                \n",
            "=======================================================================================\n",
            "Dep. Variable:          Unique Clicks   R-squared (uncentered):                   0.539\n",
            "Model:                            OLS   Adj. R-squared (uncentered):              0.539\n",
            "Method:                 Least Squares   F-statistic:                              4334.\n",
            "Date:                Thu, 14 Nov 2019   Prob (F-statistic):                        0.00\n",
            "Time:                        01:43:22   Log-Likelihood:                         -16045.\n",
            "No. Observations:                3705   AIC:                                  3.209e+04\n",
            "Df Residuals:                    3704   BIC:                                  3.210e+04\n",
            "Df Model:                           1                                                  \n",
            "Covariance Type:            nonrobust                                                  \n",
            "==============================================================================\n",
            "                 coef    std err          t      P>|t|      [0.025      0.975]\n",
            "------------------------------------------------------------------------------\n",
            "Reach          0.0020   3.09e-05     65.832      0.000       0.002       0.002\n",
            "==============================================================================\n",
            "Omnibus:                     4800.065   Durbin-Watson:                   0.762\n",
            "Prob(Omnibus):                  0.000   Jarque-Bera (JB):          5192547.294\n",
            "Skew:                           6.420   Prob(JB):                         0.00\n",
            "Kurtosis:                     185.951   Cond. No.                         1.00\n",
            "==============================================================================\n",
            "\n",
            "Warnings:\n",
            "[1] Standard Errors assume that the covariance matrix of the errors is correctly specified.\n"
          ],
          "name": "stdout"
        }
      ]
    }
  ]
}